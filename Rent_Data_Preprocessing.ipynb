{
  "nbformat": 4,
  "nbformat_minor": 0,
  "metadata": {
    "colab": {
      "provenance": [],
      "toc_visible": true,
      "authorship_tag": "ABX9TyPQlTDC7zIU5/S5mQ7slWYf",
      "include_colab_link": true
    },
    "kernelspec": {
      "name": "python3",
      "display_name": "Python 3"
    },
    "language_info": {
      "name": "python"
    }
  },
  "cells": [
    {
      "cell_type": "markdown",
      "metadata": {
        "id": "view-in-github",
        "colab_type": "text"
      },
      "source": [
        "<a href=\"https://colab.research.google.com/github/jieun0441/DataScience/blob/master/Rent_Data_Preprocessing.ipynb\" target=\"_parent\"><img src=\"https://colab.research.google.com/assets/colab-badge.svg\" alt=\"Open In Colab\"/></a>"
      ]
    },
    {
      "cell_type": "markdown",
      "source": [
        "### Environment Setting"
      ],
      "metadata": {
        "id": "Ov_M3CpZ8uuJ"
      }
    },
    {
      "cell_type": "code",
      "source": [
        "# For Colab Use------------------------------------\n",
        "from google.colab import drive\n",
        "drive.mount('/content/drive')"
      ],
      "metadata": {
        "colab": {
          "base_uri": "https://localhost:8080/"
        },
        "id": "Sm8bBzQTplUC",
        "outputId": "92fefabb-da82-4f7d-bc83-87077509dc45"
      },
      "execution_count": 1,
      "outputs": [
        {
          "output_type": "stream",
          "name": "stdout",
          "text": [
            "Mounted at /content/drive\n"
          ]
        }
      ]
    },
    {
      "cell_type": "code",
      "source": [
        "import os\n",
        "# Move to directory we want to use: cd + path\n",
        "# 현재 경로 설정\n",
        "%cd /content/drive/MyDrive/PropertyGuru/Rent_preprocessed_1"
      ],
      "metadata": {
        "id": "qob2Hjmnt200",
        "colab": {
          "base_uri": "https://localhost:8080/"
        },
        "outputId": "197846b1-8536-4801-de81-a0714be69a3f"
      },
      "execution_count": null,
      "outputs": [
        {
          "output_type": "stream",
          "name": "stdout",
          "text": [
            "/content/drive/MyDrive/PropertyGuru/Rent_preprocessed_1\n"
          ]
        }
      ]
    },
    {
      "cell_type": "code",
      "source": [
        "#현재 경로를 알고싶다면\n",
        "print(os.getcwd())"
      ],
      "metadata": {
        "colab": {
          "base_uri": "https://localhost:8080/"
        },
        "id": "yrE3lhfouiW0",
        "outputId": "b73b3ad2-12af-46b7-ecaa-63b496799926"
      },
      "execution_count": null,
      "outputs": [
        {
          "output_type": "stream",
          "name": "stdout",
          "text": [
            "/content\n"
          ]
        }
      ]
    },
    {
      "cell_type": "code",
      "source": [
        "# install\n",
        "!pip install datatable"
      ],
      "metadata": {
        "colab": {
          "base_uri": "https://localhost:8080/"
        },
        "id": "ADfXXP2zqXxX",
        "outputId": "4b51390b-cfe1-4f03-b312-ca6c8a966b0a"
      },
      "execution_count": 2,
      "outputs": [
        {
          "output_type": "stream",
          "name": "stdout",
          "text": [
            "Looking in indexes: https://pypi.org/simple, https://us-python.pkg.dev/colab-wheels/public/simple/\n",
            "Collecting datatable\n",
            "  Downloading datatable-1.0.0-cp38-cp38-manylinux_2_12_x86_64.whl (96.6 MB)\n",
            "\u001b[2K     \u001b[90m━━━━━━━━━━━━━━━━━━━━━━━━━━━━━━━━━━━━━━━━\u001b[0m \u001b[32m96.6/96.6 MB\u001b[0m \u001b[31m10.7 MB/s\u001b[0m eta \u001b[36m0:00:00\u001b[0m\n",
            "\u001b[?25hInstalling collected packages: datatable\n",
            "Successfully installed datatable-1.0.0\n"
          ]
        }
      ]
    },
    {
      "cell_type": "code",
      "execution_count": 25,
      "metadata": {
        "id": "clVHHNHzoMM3"
      },
      "outputs": [],
      "source": [
        "# Package loading ===============================================\n",
        "import pandas as pd\n",
        "import numpy as np\n",
        "import datatable as dt\n",
        "# import missingno as msno\n",
        "# nltk.download(\"all\")\n",
        "# import matplotlib.pyplot as plt\n",
        "# %matplotlib inline\n",
        "# import matplotlib.font_manager as fm\n",
        "# import seaborn as sns"
      ]
    },
    {
      "cell_type": "code",
      "source": [
        "# to see the description with a wide column width\n",
        "pd.set_option('display.max_colwidth', 200)"
      ],
      "metadata": {
        "id": "P0mXeInSrrR9"
      },
      "execution_count": 4,
      "outputs": []
    },
    {
      "cell_type": "code",
      "source": [
        "# 경고 무시\n",
        "import warnings\n",
        "warnings.filterwarnings('ignore')"
      ],
      "metadata": {
        "id": "0DkFXA6Mrund"
      },
      "execution_count": 5,
      "outputs": []
    },
    {
      "cell_type": "code",
      "source": [
        "#현재 디렉토리 폴더 내 파일 리스트 반환\n",
        "os.listdir()"
      ],
      "metadata": {
        "colab": {
          "base_uri": "https://localhost:8080/"
        },
        "id": "dEYgvdCEvxYH",
        "outputId": "7981d409-9bef-4a59-c374-446b869e9877"
      },
      "execution_count": null,
      "outputs": [
        {
          "output_type": "execute_result",
          "data": {
            "text/plain": [
              "['.config', 'drive', 'sample_data']"
            ]
          },
          "metadata": {},
          "execution_count": 24
        }
      ]
    },
    {
      "cell_type": "code",
      "source": [
        "filename = \"/content/drive/MyDrive/PropertyGuru/original/property_data_20201102rent.csv\"\n",
        "df = dt.fread(filename)\n",
        "df = df.to_pandas()\n",
        "df.head()"
      ],
      "metadata": {
        "colab": {
          "base_uri": "https://localhost:8080/",
          "height": 490
        },
        "id": "UD945IPDn6Jc",
        "outputId": "1c8d41d3-3886-477c-af38-f4cd24930260"
      },
      "execution_count": 70,
      "outputs": [
        {
          "output_type": "execute_result",
          "data": {
            "text/plain": [
              "                                                                                                                                            listing_url  \\\n",
              "0  http://api.scraperapi.com/?api_key=b0560c3ca5b0704c0184a820d4e42d70&url=https://www.propertyguru.com.sg/listing/21989918/for-rent-duchess-residences   \n",
              "1  http://api.scraperapi.com/?api_key=b0560c3ca5b0704c0184a820d4e42d70&url=https://www.propertyguru.com.sg/listing/21989918/for-rent-duchess-residences   \n",
              "2  http://api.scraperapi.com/?api_key=b0560c3ca5b0704c0184a820d4e42d70&url=https://www.propertyguru.com.sg/listing/21989918/for-rent-duchess-residences   \n",
              "3  http://api.scraperapi.com/?api_key=b0560c3ca5b0704c0184a820d4e42d70&url=https://www.propertyguru.com.sg/listing/21989918/for-rent-duchess-residences   \n",
              "4  http://api.scraperapi.com/?api_key=b0560c3ca5b0704c0184a820d4e42d70&url=https://www.propertyguru.com.sg/listing/21989918/for-rent-duchess-residences   \n",
              "\n",
              "    agent.name              agent.license  \\\n",
              "0  Julian Zhuo  CEA: R042428I / L3008022J   \n",
              "1  Julian Zhuo  CEA: R042428I / L3008022J   \n",
              "2  Julian Zhuo  CEA: R042428I / L3008022J   \n",
              "3  Julian Zhuo  CEA: R042428I / L3008022J   \n",
              "4  Julian Zhuo  CEA: R042428I / L3008022J   \n",
              "\n",
              "                                              agent.url  \\\n",
              "0  https://propertyguru.com.sg/agent/julian-zhuo-455852   \n",
              "1  https://propertyguru.com.sg/agent/julian-zhuo-455852   \n",
              "2  https://propertyguru.com.sg/agent/julian-zhuo-455852   \n",
              "3  https://propertyguru.com.sg/agent/julian-zhuo-455852   \n",
              "4  https://propertyguru.com.sg/agent/julian-zhuo-455852   \n",
              "\n",
              "             agent.agency agent.phone_number listing_properties  \\\n",
              "0  PROPNEX REALTY PTE LTD      +65 8786 4499                b''   \n",
              "1  PROPNEX REALTY PTE LTD      +65 8786 4499                b''   \n",
              "2  PROPNEX REALTY PTE LTD      +65 8786 4499                b''   \n",
              "3  PROPNEX REALTY PTE LTD      +65 8786 4499                b''   \n",
              "4  PROPNEX REALTY PTE LTD      +65 8786 4499                b''   \n",
              "\n",
              "  listing_properties.Type listing_properties.Tenure  \\\n",
              "0    Condominium For Rent        999-year Leasehold   \n",
              "1    Condominium For Rent        999-year Leasehold   \n",
              "2    Condominium For Rent        999-year Leasehold   \n",
              "3    Condominium For Rent        999-year Leasehold   \n",
              "4    Condominium For Rent        999-year Leasehold   \n",
              "\n",
              "  listing_properties.Floor size  ... floor_size floor_size_unit   price  \\\n",
              "0                     3000 sqft  ...     3000.0            sqft  9494.0   \n",
              "1                     3000 sqft  ...     3000.0            sqft  9494.0   \n",
              "2                     3000 sqft  ...     3000.0            sqft  9494.0   \n",
              "3                     3000 sqft  ...     3000.0            sqft  9494.0   \n",
              "4                     3000 sqft  ...     3000.0            sqft  9494.0   \n",
              "\n",
              "  currency  \\\n",
              "0      SGD   \n",
              "1      SGD   \n",
              "2      SGD   \n",
              "3      SGD   \n",
              "4      SGD   \n",
              "\n",
              "                                                                                                                     image_urls  \\\n",
              "0  https://sg1-cdn.pgimgs.com/listing/21989918/UPHO.110700336.V800/Duchess-Residences-Tanglin-Holland-Bukit-Timah-Singapore.jpg   \n",
              "1  https://sg1-cdn.pgimgs.com/listing/21989918/UPHO.110700368.V800/Duchess-Residences-Tanglin-Holland-Bukit-Timah-Singapore.jpg   \n",
              "2  https://sg2-cdn.pgimgs.com/listing/21989918/UPHO.110700395.V800/Duchess-Residences-Tanglin-Holland-Bukit-Timah-Singapore.jpg   \n",
              "3  https://sg2-cdn.pgimgs.com/listing/21989918/UPHO.110700389.V800/Duchess-Residences-Tanglin-Holland-Bukit-Timah-Singapore.jpg   \n",
              "4  https://sg1-cdn.pgimgs.com/listing/21989918/UPHO.110700386.V800/Duchess-Residences-Tanglin-Holland-Bukit-Timah-Singapore.jpg   \n",
              "\n",
              "                  created_at  images  \\\n",
              "0 2020-11-02 08:55:53.259367     b''   \n",
              "1 2020-11-02 08:55:53.259367     b''   \n",
              "2 2020-11-02 08:55:53.259367     b''   \n",
              "3 2020-11-02 08:55:53.259367     b''   \n",
              "4 2020-11-02 08:55:53.259367     b''   \n",
              "\n",
              "                                                                                                                     images.url  \\\n",
              "0  https://sg1-cdn.pgimgs.com/listing/21989918/UPHO.110700336.V800/Duchess-Residences-Tanglin-Holland-Bukit-Timah-Singapore.jpg   \n",
              "1  https://sg1-cdn.pgimgs.com/listing/21989918/UPHO.110700368.V800/Duchess-Residences-Tanglin-Holland-Bukit-Timah-Singapore.jpg   \n",
              "2  https://sg2-cdn.pgimgs.com/listing/21989918/UPHO.110700395.V800/Duchess-Residences-Tanglin-Holland-Bukit-Timah-Singapore.jpg   \n",
              "3  https://sg2-cdn.pgimgs.com/listing/21989918/UPHO.110700389.V800/Duchess-Residences-Tanglin-Holland-Bukit-Timah-Singapore.jpg   \n",
              "4  https://sg1-cdn.pgimgs.com/listing/21989918/UPHO.110700386.V800/Duchess-Residences-Tanglin-Holland-Bukit-Timah-Singapore.jpg   \n",
              "\n",
              "                                         images.path  \\\n",
              "0  full/4c8344a363102f41c0b483a846bc48092e71fa48.jpg   \n",
              "1  full/9e62c2875e9954dbfd84bdc4268e562ab3b4d526.jpg   \n",
              "2  full/f165ec3a2c01d26a917c33c06911863083c33b1a.jpg   \n",
              "3  full/00eecb3b9f26c55a491bb9d4b1bc20d95678241c.jpg   \n",
              "4  full/b7d5384e7db26f86e9ce306c9133210c8acd9c95.jpg   \n",
              "\n",
              "                    images.checksum  \n",
              "0  c5efda1c084d057d1c03a91c4907c587  \n",
              "1  d6c319e818d4416ee8989db7e0e660cf  \n",
              "2  eb46fdff8f1d5408f53edc1252279515  \n",
              "3  657d7625dc72b8ed0aeab719ad62c468  \n",
              "4  3b40592385ba45cf59ddc4393f4e61b5  \n",
              "\n",
              "[5 rows x 160 columns]"
            ],
            "text/html": [
              "\n",
              "  <div id=\"df-fdaab758-587c-4041-bf64-08038b91a652\">\n",
              "    <div class=\"colab-df-container\">\n",
              "      <div>\n",
              "<style scoped>\n",
              "    .dataframe tbody tr th:only-of-type {\n",
              "        vertical-align: middle;\n",
              "    }\n",
              "\n",
              "    .dataframe tbody tr th {\n",
              "        vertical-align: top;\n",
              "    }\n",
              "\n",
              "    .dataframe thead th {\n",
              "        text-align: right;\n",
              "    }\n",
              "</style>\n",
              "<table border=\"1\" class=\"dataframe\">\n",
              "  <thead>\n",
              "    <tr style=\"text-align: right;\">\n",
              "      <th></th>\n",
              "      <th>listing_url</th>\n",
              "      <th>agent.name</th>\n",
              "      <th>agent.license</th>\n",
              "      <th>agent.url</th>\n",
              "      <th>agent.agency</th>\n",
              "      <th>agent.phone_number</th>\n",
              "      <th>listing_properties</th>\n",
              "      <th>listing_properties.Type</th>\n",
              "      <th>listing_properties.Tenure</th>\n",
              "      <th>listing_properties.Floor size</th>\n",
              "      <th>...</th>\n",
              "      <th>floor_size</th>\n",
              "      <th>floor_size_unit</th>\n",
              "      <th>price</th>\n",
              "      <th>currency</th>\n",
              "      <th>image_urls</th>\n",
              "      <th>created_at</th>\n",
              "      <th>images</th>\n",
              "      <th>images.url</th>\n",
              "      <th>images.path</th>\n",
              "      <th>images.checksum</th>\n",
              "    </tr>\n",
              "  </thead>\n",
              "  <tbody>\n",
              "    <tr>\n",
              "      <th>0</th>\n",
              "      <td>http://api.scraperapi.com/?api_key=b0560c3ca5b0704c0184a820d4e42d70&amp;url=https://www.propertyguru.com.sg/listing/21989918/for-rent-duchess-residences</td>\n",
              "      <td>Julian Zhuo</td>\n",
              "      <td>CEA: R042428I / L3008022J</td>\n",
              "      <td>https://propertyguru.com.sg/agent/julian-zhuo-455852</td>\n",
              "      <td>PROPNEX REALTY PTE LTD</td>\n",
              "      <td>+65 8786 4499</td>\n",
              "      <td>b''</td>\n",
              "      <td>Condominium For Rent</td>\n",
              "      <td>999-year Leasehold</td>\n",
              "      <td>3000 sqft</td>\n",
              "      <td>...</td>\n",
              "      <td>3000.0</td>\n",
              "      <td>sqft</td>\n",
              "      <td>9494.0</td>\n",
              "      <td>SGD</td>\n",
              "      <td>https://sg1-cdn.pgimgs.com/listing/21989918/UPHO.110700336.V800/Duchess-Residences-Tanglin-Holland-Bukit-Timah-Singapore.jpg</td>\n",
              "      <td>2020-11-02 08:55:53.259367</td>\n",
              "      <td>b''</td>\n",
              "      <td>https://sg1-cdn.pgimgs.com/listing/21989918/UPHO.110700336.V800/Duchess-Residences-Tanglin-Holland-Bukit-Timah-Singapore.jpg</td>\n",
              "      <td>full/4c8344a363102f41c0b483a846bc48092e71fa48.jpg</td>\n",
              "      <td>c5efda1c084d057d1c03a91c4907c587</td>\n",
              "    </tr>\n",
              "    <tr>\n",
              "      <th>1</th>\n",
              "      <td>http://api.scraperapi.com/?api_key=b0560c3ca5b0704c0184a820d4e42d70&amp;url=https://www.propertyguru.com.sg/listing/21989918/for-rent-duchess-residences</td>\n",
              "      <td>Julian Zhuo</td>\n",
              "      <td>CEA: R042428I / L3008022J</td>\n",
              "      <td>https://propertyguru.com.sg/agent/julian-zhuo-455852</td>\n",
              "      <td>PROPNEX REALTY PTE LTD</td>\n",
              "      <td>+65 8786 4499</td>\n",
              "      <td>b''</td>\n",
              "      <td>Condominium For Rent</td>\n",
              "      <td>999-year Leasehold</td>\n",
              "      <td>3000 sqft</td>\n",
              "      <td>...</td>\n",
              "      <td>3000.0</td>\n",
              "      <td>sqft</td>\n",
              "      <td>9494.0</td>\n",
              "      <td>SGD</td>\n",
              "      <td>https://sg1-cdn.pgimgs.com/listing/21989918/UPHO.110700368.V800/Duchess-Residences-Tanglin-Holland-Bukit-Timah-Singapore.jpg</td>\n",
              "      <td>2020-11-02 08:55:53.259367</td>\n",
              "      <td>b''</td>\n",
              "      <td>https://sg1-cdn.pgimgs.com/listing/21989918/UPHO.110700368.V800/Duchess-Residences-Tanglin-Holland-Bukit-Timah-Singapore.jpg</td>\n",
              "      <td>full/9e62c2875e9954dbfd84bdc4268e562ab3b4d526.jpg</td>\n",
              "      <td>d6c319e818d4416ee8989db7e0e660cf</td>\n",
              "    </tr>\n",
              "    <tr>\n",
              "      <th>2</th>\n",
              "      <td>http://api.scraperapi.com/?api_key=b0560c3ca5b0704c0184a820d4e42d70&amp;url=https://www.propertyguru.com.sg/listing/21989918/for-rent-duchess-residences</td>\n",
              "      <td>Julian Zhuo</td>\n",
              "      <td>CEA: R042428I / L3008022J</td>\n",
              "      <td>https://propertyguru.com.sg/agent/julian-zhuo-455852</td>\n",
              "      <td>PROPNEX REALTY PTE LTD</td>\n",
              "      <td>+65 8786 4499</td>\n",
              "      <td>b''</td>\n",
              "      <td>Condominium For Rent</td>\n",
              "      <td>999-year Leasehold</td>\n",
              "      <td>3000 sqft</td>\n",
              "      <td>...</td>\n",
              "      <td>3000.0</td>\n",
              "      <td>sqft</td>\n",
              "      <td>9494.0</td>\n",
              "      <td>SGD</td>\n",
              "      <td>https://sg2-cdn.pgimgs.com/listing/21989918/UPHO.110700395.V800/Duchess-Residences-Tanglin-Holland-Bukit-Timah-Singapore.jpg</td>\n",
              "      <td>2020-11-02 08:55:53.259367</td>\n",
              "      <td>b''</td>\n",
              "      <td>https://sg2-cdn.pgimgs.com/listing/21989918/UPHO.110700395.V800/Duchess-Residences-Tanglin-Holland-Bukit-Timah-Singapore.jpg</td>\n",
              "      <td>full/f165ec3a2c01d26a917c33c06911863083c33b1a.jpg</td>\n",
              "      <td>eb46fdff8f1d5408f53edc1252279515</td>\n",
              "    </tr>\n",
              "    <tr>\n",
              "      <th>3</th>\n",
              "      <td>http://api.scraperapi.com/?api_key=b0560c3ca5b0704c0184a820d4e42d70&amp;url=https://www.propertyguru.com.sg/listing/21989918/for-rent-duchess-residences</td>\n",
              "      <td>Julian Zhuo</td>\n",
              "      <td>CEA: R042428I / L3008022J</td>\n",
              "      <td>https://propertyguru.com.sg/agent/julian-zhuo-455852</td>\n",
              "      <td>PROPNEX REALTY PTE LTD</td>\n",
              "      <td>+65 8786 4499</td>\n",
              "      <td>b''</td>\n",
              "      <td>Condominium For Rent</td>\n",
              "      <td>999-year Leasehold</td>\n",
              "      <td>3000 sqft</td>\n",
              "      <td>...</td>\n",
              "      <td>3000.0</td>\n",
              "      <td>sqft</td>\n",
              "      <td>9494.0</td>\n",
              "      <td>SGD</td>\n",
              "      <td>https://sg2-cdn.pgimgs.com/listing/21989918/UPHO.110700389.V800/Duchess-Residences-Tanglin-Holland-Bukit-Timah-Singapore.jpg</td>\n",
              "      <td>2020-11-02 08:55:53.259367</td>\n",
              "      <td>b''</td>\n",
              "      <td>https://sg2-cdn.pgimgs.com/listing/21989918/UPHO.110700389.V800/Duchess-Residences-Tanglin-Holland-Bukit-Timah-Singapore.jpg</td>\n",
              "      <td>full/00eecb3b9f26c55a491bb9d4b1bc20d95678241c.jpg</td>\n",
              "      <td>657d7625dc72b8ed0aeab719ad62c468</td>\n",
              "    </tr>\n",
              "    <tr>\n",
              "      <th>4</th>\n",
              "      <td>http://api.scraperapi.com/?api_key=b0560c3ca5b0704c0184a820d4e42d70&amp;url=https://www.propertyguru.com.sg/listing/21989918/for-rent-duchess-residences</td>\n",
              "      <td>Julian Zhuo</td>\n",
              "      <td>CEA: R042428I / L3008022J</td>\n",
              "      <td>https://propertyguru.com.sg/agent/julian-zhuo-455852</td>\n",
              "      <td>PROPNEX REALTY PTE LTD</td>\n",
              "      <td>+65 8786 4499</td>\n",
              "      <td>b''</td>\n",
              "      <td>Condominium For Rent</td>\n",
              "      <td>999-year Leasehold</td>\n",
              "      <td>3000 sqft</td>\n",
              "      <td>...</td>\n",
              "      <td>3000.0</td>\n",
              "      <td>sqft</td>\n",
              "      <td>9494.0</td>\n",
              "      <td>SGD</td>\n",
              "      <td>https://sg1-cdn.pgimgs.com/listing/21989918/UPHO.110700386.V800/Duchess-Residences-Tanglin-Holland-Bukit-Timah-Singapore.jpg</td>\n",
              "      <td>2020-11-02 08:55:53.259367</td>\n",
              "      <td>b''</td>\n",
              "      <td>https://sg1-cdn.pgimgs.com/listing/21989918/UPHO.110700386.V800/Duchess-Residences-Tanglin-Holland-Bukit-Timah-Singapore.jpg</td>\n",
              "      <td>full/b7d5384e7db26f86e9ce306c9133210c8acd9c95.jpg</td>\n",
              "      <td>3b40592385ba45cf59ddc4393f4e61b5</td>\n",
              "    </tr>\n",
              "  </tbody>\n",
              "</table>\n",
              "<p>5 rows × 160 columns</p>\n",
              "</div>\n",
              "      <button class=\"colab-df-convert\" onclick=\"convertToInteractive('df-fdaab758-587c-4041-bf64-08038b91a652')\"\n",
              "              title=\"Convert this dataframe to an interactive table.\"\n",
              "              style=\"display:none;\">\n",
              "        \n",
              "  <svg xmlns=\"http://www.w3.org/2000/svg\" height=\"24px\"viewBox=\"0 0 24 24\"\n",
              "       width=\"24px\">\n",
              "    <path d=\"M0 0h24v24H0V0z\" fill=\"none\"/>\n",
              "    <path d=\"M18.56 5.44l.94 2.06.94-2.06 2.06-.94-2.06-.94-.94-2.06-.94 2.06-2.06.94zm-11 1L8.5 8.5l.94-2.06 2.06-.94-2.06-.94L8.5 2.5l-.94 2.06-2.06.94zm10 10l.94 2.06.94-2.06 2.06-.94-2.06-.94-.94-2.06-.94 2.06-2.06.94z\"/><path d=\"M17.41 7.96l-1.37-1.37c-.4-.4-.92-.59-1.43-.59-.52 0-1.04.2-1.43.59L10.3 9.45l-7.72 7.72c-.78.78-.78 2.05 0 2.83L4 21.41c.39.39.9.59 1.41.59.51 0 1.02-.2 1.41-.59l7.78-7.78 2.81-2.81c.8-.78.8-2.07 0-2.86zM5.41 20L4 18.59l7.72-7.72 1.47 1.35L5.41 20z\"/>\n",
              "  </svg>\n",
              "      </button>\n",
              "      \n",
              "  <style>\n",
              "    .colab-df-container {\n",
              "      display:flex;\n",
              "      flex-wrap:wrap;\n",
              "      gap: 12px;\n",
              "    }\n",
              "\n",
              "    .colab-df-convert {\n",
              "      background-color: #E8F0FE;\n",
              "      border: none;\n",
              "      border-radius: 50%;\n",
              "      cursor: pointer;\n",
              "      display: none;\n",
              "      fill: #1967D2;\n",
              "      height: 32px;\n",
              "      padding: 0 0 0 0;\n",
              "      width: 32px;\n",
              "    }\n",
              "\n",
              "    .colab-df-convert:hover {\n",
              "      background-color: #E2EBFA;\n",
              "      box-shadow: 0px 1px 2px rgba(60, 64, 67, 0.3), 0px 1px 3px 1px rgba(60, 64, 67, 0.15);\n",
              "      fill: #174EA6;\n",
              "    }\n",
              "\n",
              "    [theme=dark] .colab-df-convert {\n",
              "      background-color: #3B4455;\n",
              "      fill: #D2E3FC;\n",
              "    }\n",
              "\n",
              "    [theme=dark] .colab-df-convert:hover {\n",
              "      background-color: #434B5C;\n",
              "      box-shadow: 0px 1px 3px 1px rgba(0, 0, 0, 0.15);\n",
              "      filter: drop-shadow(0px 1px 2px rgba(0, 0, 0, 0.3));\n",
              "      fill: #FFFFFF;\n",
              "    }\n",
              "  </style>\n",
              "\n",
              "      <script>\n",
              "        const buttonEl =\n",
              "          document.querySelector('#df-fdaab758-587c-4041-bf64-08038b91a652 button.colab-df-convert');\n",
              "        buttonEl.style.display =\n",
              "          google.colab.kernel.accessAllowed ? 'block' : 'none';\n",
              "\n",
              "        async function convertToInteractive(key) {\n",
              "          const element = document.querySelector('#df-fdaab758-587c-4041-bf64-08038b91a652');\n",
              "          const dataTable =\n",
              "            await google.colab.kernel.invokeFunction('convertToInteractive',\n",
              "                                                     [key], {});\n",
              "          if (!dataTable) return;\n",
              "\n",
              "          const docLinkHtml = 'Like what you see? Visit the ' +\n",
              "            '<a target=\"_blank\" href=https://colab.research.google.com/notebooks/data_table.ipynb>data table notebook</a>'\n",
              "            + ' to learn more about interactive tables.';\n",
              "          element.innerHTML = '';\n",
              "          dataTable['output_type'] = 'display_data';\n",
              "          await google.colab.output.renderOutput(dataTable, element);\n",
              "          const docLink = document.createElement('div');\n",
              "          docLink.innerHTML = docLinkHtml;\n",
              "          element.appendChild(docLink);\n",
              "        }\n",
              "      </script>\n",
              "    </div>\n",
              "  </div>\n",
              "  "
            ]
          },
          "metadata": {},
          "execution_count": 70
        }
      ]
    },
    {
      "cell_type": "code",
      "source": [
        "df.info() \n",
        "# Rent\n",
        "# 2020.11.02 data: 241,117 rows\n",
        "\n",
        "# Sales\n",
        "# 2019.10.28 data: 1,345,989개의 rows\n",
        "# 2020.09.29 data: 1,084,241개의 데이터행\n",
        "# 2020.11.02 data: 560,188개의 데이터행\n",
        "# 2020/12/04 data : 941,897개의 데이터행\n",
        "# 2021/01/14 data : 746,092 rows\n",
        "# 2021/02/21 data : 119,661 rows\n",
        "# 2021/03/26 data : 270,614 rows\n",
        "# 2021/03/29 data : 261,308 rows\n",
        "# 2021/07/19 data : 200,000 rows"
      ],
      "metadata": {
        "colab": {
          "base_uri": "https://localhost:8080/"
        },
        "id": "EdQUXgGKrM2N",
        "outputId": "d57007bd-51de-4e41-8e48-8392dce86f2a"
      },
      "execution_count": 71,
      "outputs": [
        {
          "output_type": "stream",
          "name": "stdout",
          "text": [
            "<class 'pandas.core.frame.DataFrame'>\n",
            "RangeIndex: 241117 entries, 0 to 241116\n",
            "Columns: 160 entries, listing_url to images.checksum\n",
            "dtypes: datetime64[ns](1), float64(8), object(151)\n",
            "memory usage: 294.3+ MB\n"
          ]
        }
      ]
    },
    {
      "cell_type": "code",
      "source": [
        "df.columns"
      ],
      "metadata": {
        "colab": {
          "base_uri": "https://localhost:8080/"
        },
        "id": "u7zyOxHfoe_m",
        "outputId": "81aaee18-9c74-49ee-ec26-4d89ba805095"
      },
      "execution_count": 72,
      "outputs": [
        {
          "output_type": "execute_result",
          "data": {
            "text/plain": [
              "Index(['listing_url', 'agent.name', 'agent.license', 'agent.url',\n",
              "       'agent.agency', 'agent.phone_number', 'listing_properties',\n",
              "       'listing_properties.Type', 'listing_properties.Tenure',\n",
              "       'listing_properties.Floor size',\n",
              "       ...\n",
              "       'floor_size', 'floor_size_unit', 'price', 'currency', 'image_urls',\n",
              "       'created_at', 'images', 'images.url', 'images.path', 'images.checksum'],\n",
              "      dtype='object', length=160)"
            ]
          },
          "metadata": {},
          "execution_count": 72
        }
      ]
    },
    {
      "cell_type": "code",
      "source": [
        "#renaming column names\n",
        "df = df.rename(columns={'listing_url':'URL', 'listing_properties.Type': 'Type',\n",
        "                    'listing_properties.Tenure': 'Tenure', \n",
        "                    'listing_properties.Floor size': 'Floorsize',\n",
        "                    'listing_properties.Developer': 'Developer',\n",
        "                    'listing_properties.PSF': 'PSF', \n",
        "                    'listing_properties.Furnishing':'Furnishing',\n",
        "                    'listing_properties.TOP': 'TOP',\n",
        "                    'listing_properties.Floor Level':'Floor',\n",
        "                    'listing_properties.Listing ID': 'ListingID',\n",
        "                    'listing_properties.Currently Tenanted':'Tenanted',\n",
        "                    'listing_properties.Listed on':'Listed_on',\n",
        "                    'development_properties.Type':'properties.Type',\n",
        "                    'development_properties.TOP':'properties.TOP',\n",
        "                    'development_properties.Tenure':'properties.Tenure',\n",
        "                    'development_properties.Total Unit(s)':'Total Unit(s)',\n",
        "                    'development_properties.url':'properties.url',\n",
        "                    'development_properties.name':'properties.name',\n",
        "                    'amenities.Air-Conditioning':'Air-Conditioning',\n",
        "                    'amenities.Cooker Hob/Hood': 'Cooker Hood',\n",
        "                    'amenities.Water Heater': 'Water Heater',\n",
        "                    'address.latitude': 'latitude',\n",
        "                    'address.longitude': 'longitude',\n",
        "                    'number_of_rooms': 'rooms',\n",
        "                    'number_of_baths': 'bathrooms', \n",
        "                    \"free_text_description\": \"description\"\n",
        "                    })"
      ],
      "metadata": {
        "id": "xxhBxiiLr9b9"
      },
      "execution_count": 73,
      "outputs": []
    },
    {
      "cell_type": "code",
      "source": [
        "df['Type'].value_counts()"
      ],
      "metadata": {
        "colab": {
          "base_uri": "https://localhost:8080/"
        },
        "id": "eQaWC9vVonC7",
        "outputId": "fde01881-12a8-4afa-8020-a16d13084570"
      },
      "execution_count": 74,
      "outputs": [
        {
          "output_type": "execute_result",
          "data": {
            "text/plain": [
              "Condominium For Rent                  143234\n",
              "Apartment For Rent                     50705\n",
              "4A HDB For Rent                         6788\n",
              "Cluster House For Rent                  4447\n",
              "Semi-Detached House For Rent            3661\n",
              "5I HDB For Rent                         3105\n",
              "Bungalow House For Rent                 2788\n",
              "Terraced House For Rent                 2215\n",
              "3I (Improved) HDB For Rent              2208\n",
              "4NG (New Generation) HDB For Rent       2183\n",
              "5A HDB For Rent                         2144\n",
              "Conservation House For Rent             1927\n",
              "Detached House For Rent                 1618\n",
              "Executive Condominium For Rent          1569\n",
              "3NG (New Generation) HDB For Rent       1391\n",
              "Walk-up For Rent                        1194\n",
              "3A HDB For Rent                         1150\n",
              "4I (Improved) HDB For Rent              1017\n",
              "Shophouse For Rent                       854\n",
              "3NG (Modified) HDB For Rent              724\n",
              "EA (Exec Apartment) HDB For Rent         664\n",
              "4S (Simplified) HDB For Rent             648\n",
              "EM (Exec Maisonette) HDB For Rent        560\n",
              "Good Class Bungalow For Rent             534\n",
              "Corner Terrace For Rent                  521\n",
              "3S (Simplified) HDB For Rent             427\n",
              "Town House For Rent                      383\n",
              "3I (Modified) HDB For Rent               356\n",
              "4STD (Standard) HDB For Rent             312\n",
              "HDB For Rent                             311\n",
              "3A (Modified) HDB For Rent               301\n",
              "5S HDB For Rent                          242\n",
              "3STD (Standard) HDB For Rent             221\n",
              "1-Room / Studio HDB For Rent             219\n",
              "Jumbo HDB For Rent                       117\n",
              "2S (Standard) HDB For Rent                95\n",
              "                                          83\n",
              "2I (Improved) HDB For Rent                69\n",
              "2A HDB For Rent                           51\n",
              "MG (Multi-Generation) HDB For Rent        46\n",
              "Terrace HDB For Rent                      35\n",
              "Name: Type, dtype: int64"
            ]
          },
          "metadata": {},
          "execution_count": 74
        }
      ]
    },
    {
      "cell_type": "code",
      "source": [
        "# Description title trimming (because it's all same)\n",
        "# df['description'].head(1).to_excel(\"/content/drive/MyDrive/PropertyGuru/original/description.xlsx\")"
      ],
      "metadata": {
        "id": "4_26tpUbskMX"
      },
      "execution_count": 35,
      "outputs": []
    },
    {
      "cell_type": "code",
      "source": [
        "import re\n",
        "\n",
        "df['description'] = df['description'].str.replace(re.compile('<.*?>|\\n|h[35]|div class=|itemprop=|description|\"\"'), '')"
      ],
      "metadata": {
        "id": "RbtOCQFE1Q8D"
      },
      "execution_count": 76,
      "outputs": []
    },
    {
      "cell_type": "code",
      "source": [
        "df['description'] = df['description'].str.replace(\"<br>\", '')\n",
        "df['description'] = df['description'].str.replace(\"                                \", '')\n",
        "df['description'] = df['description'].str.replace(\"<\", '')\n",
        "df['description'] = df['description'].str.replace(\">\", '')\n",
        "df['description'] = df['description'].str.replace(\"h3\", '')\n",
        "df['description'] = df['description'].str.replace(\"h5\", '')\n",
        "df['description'] = df['description'].str.replace(\"/\", '')\n",
        "df['description'] = df['description'].str.replace(\"div class=\", '')\n",
        "df['description'] = df['description'].str.replace(\"\\n\", '')\n",
        "df['description'] = df['description'].str.replace(\"description\", '')\n",
        "df['description'] = df['description'].str.replace(\"Description\", '')\n",
        "df['description'] = df['description'].str.replace(\"itemprop=\", '')\n",
        "df['description'] = df['description'].str.replace('\"\"', '')\n",
        "df['description'] = df['description'].str.replace('a href=\"#show-more\" class=\"show-more\" title=\"Click to view the rest of the details\"Read Morea                            div', '')"
      ],
      "metadata": {
        "id": "-cag1738x-FB"
      },
      "execution_count": 77,
      "outputs": []
    },
    {
      "cell_type": "code",
      "source": [
        "# # simple code for above\n",
        "# to_replace = ['<br>', '                                ', '<', '>', 'h3', 'h5', '/', 'div class=', '\\n', 'description', 'Description', 'itemprop=', '\"\"']\n",
        "# df['description'] = df['description'].replace(to_replace, '', regex=True)\n",
        "\n",
        "# or\n",
        "# df['description'] = df['description'].apply(lambda x: x.replace('<br>','').replace('<','').replace('>','').replace('h3','').replace('h5','').replace('/','').replace('div class=','').replace('\\n','').replace('description','').replace('Description','').replace('itemprop=','').replace('\"\"',''))"
      ],
      "metadata": {
        "id": "I6zap_N6zk2l"
      },
      "execution_count": null,
      "outputs": []
    },
    {
      "cell_type": "code",
      "source": [
        "# df['description'].head(40).to_excel(\"/content/drive/MyDrive/PropertyGuru/original/description.xlsx\")"
      ],
      "metadata": {
        "id": "dEO0XVpwxxgU"
      },
      "execution_count": 56,
      "outputs": []
    },
    {
      "cell_type": "code",
      "source": [
        "df['description'].head()"
      ],
      "metadata": {
        "colab": {
          "base_uri": "https://localhost:8080/"
        },
        "id": "o5up5HEA4uwY",
        "outputId": "c3fd7621-e456-4bf6-ed0e-c03d4e72c2cb"
      },
      "execution_count": 80,
      "outputs": [
        {
          "output_type": "execute_result",
          "data": {
            "text/plain": [
              "0    Ground Floor, High Ceiling, Windy, Ideal for expat families    4 Bedroom Garden Maisonette for rent!1st Floor - Outdoor patio, Living area, dining area, Kitchen, service yard, bomb shelter, utilit...\n",
              "1                                                                                                                                                                                                           \n",
              "2                                                                                                                                                                                                           \n",
              "3                                                                                                                                                                                                           \n",
              "4                                                                                                                                                                                                           \n",
              "Name: description, dtype: object"
            ]
          },
          "metadata": {},
          "execution_count": 80
        }
      ]
    },
    {
      "cell_type": "code",
      "source": [
        "# number of images \n"
      ],
      "metadata": {
        "id": "3D-hrccU3GNM"
      },
      "execution_count": null,
      "outputs": []
    },
    {
      "cell_type": "code",
      "source": [
        "df.head()"
      ],
      "metadata": {
        "colab": {
          "base_uri": "https://localhost:8080/",
          "height": 473
        },
        "id": "tCNab27-32x5",
        "outputId": "eea5eca4-da9a-4743-c90b-4c69b2118ba8"
      },
      "execution_count": 81,
      "outputs": [
        {
          "output_type": "execute_result",
          "data": {
            "text/plain": [
              "                                                                                                                                                    URL  \\\n",
              "0  http://api.scraperapi.com/?api_key=b0560c3ca5b0704c0184a820d4e42d70&url=https://www.propertyguru.com.sg/listing/21989918/for-rent-duchess-residences   \n",
              "1  http://api.scraperapi.com/?api_key=b0560c3ca5b0704c0184a820d4e42d70&url=https://www.propertyguru.com.sg/listing/21989918/for-rent-duchess-residences   \n",
              "2  http://api.scraperapi.com/?api_key=b0560c3ca5b0704c0184a820d4e42d70&url=https://www.propertyguru.com.sg/listing/21989918/for-rent-duchess-residences   \n",
              "3  http://api.scraperapi.com/?api_key=b0560c3ca5b0704c0184a820d4e42d70&url=https://www.propertyguru.com.sg/listing/21989918/for-rent-duchess-residences   \n",
              "4  http://api.scraperapi.com/?api_key=b0560c3ca5b0704c0184a820d4e42d70&url=https://www.propertyguru.com.sg/listing/21989918/for-rent-duchess-residences   \n",
              "\n",
              "    agent.name              agent.license  \\\n",
              "0  Julian Zhuo  CEA: R042428I / L3008022J   \n",
              "1  Julian Zhuo  CEA: R042428I / L3008022J   \n",
              "2  Julian Zhuo  CEA: R042428I / L3008022J   \n",
              "3  Julian Zhuo  CEA: R042428I / L3008022J   \n",
              "4  Julian Zhuo  CEA: R042428I / L3008022J   \n",
              "\n",
              "                                              agent.url  \\\n",
              "0  https://propertyguru.com.sg/agent/julian-zhuo-455852   \n",
              "1  https://propertyguru.com.sg/agent/julian-zhuo-455852   \n",
              "2  https://propertyguru.com.sg/agent/julian-zhuo-455852   \n",
              "3  https://propertyguru.com.sg/agent/julian-zhuo-455852   \n",
              "4  https://propertyguru.com.sg/agent/julian-zhuo-455852   \n",
              "\n",
              "             agent.agency agent.phone_number listing_properties  \\\n",
              "0  PROPNEX REALTY PTE LTD      +65 8786 4499                b''   \n",
              "1  PROPNEX REALTY PTE LTD      +65 8786 4499                b''   \n",
              "2  PROPNEX REALTY PTE LTD      +65 8786 4499                b''   \n",
              "3  PROPNEX REALTY PTE LTD      +65 8786 4499                b''   \n",
              "4  PROPNEX REALTY PTE LTD      +65 8786 4499                b''   \n",
              "\n",
              "                   Type              Tenure  Floorsize  ... floor_size  \\\n",
              "0  Condominium For Rent  999-year Leasehold  3000 sqft  ...     3000.0   \n",
              "1  Condominium For Rent  999-year Leasehold  3000 sqft  ...     3000.0   \n",
              "2  Condominium For Rent  999-year Leasehold  3000 sqft  ...     3000.0   \n",
              "3  Condominium For Rent  999-year Leasehold  3000 sqft  ...     3000.0   \n",
              "4  Condominium For Rent  999-year Leasehold  3000 sqft  ...     3000.0   \n",
              "\n",
              "  floor_size_unit   price currency  \\\n",
              "0            sqft  9494.0      SGD   \n",
              "1            sqft  9494.0      SGD   \n",
              "2            sqft  9494.0      SGD   \n",
              "3            sqft  9494.0      SGD   \n",
              "4            sqft  9494.0      SGD   \n",
              "\n",
              "                                                                                                                     image_urls  \\\n",
              "0  https://sg1-cdn.pgimgs.com/listing/21989918/UPHO.110700336.V800/Duchess-Residences-Tanglin-Holland-Bukit-Timah-Singapore.jpg   \n",
              "1  https://sg1-cdn.pgimgs.com/listing/21989918/UPHO.110700368.V800/Duchess-Residences-Tanglin-Holland-Bukit-Timah-Singapore.jpg   \n",
              "2  https://sg2-cdn.pgimgs.com/listing/21989918/UPHO.110700395.V800/Duchess-Residences-Tanglin-Holland-Bukit-Timah-Singapore.jpg   \n",
              "3  https://sg2-cdn.pgimgs.com/listing/21989918/UPHO.110700389.V800/Duchess-Residences-Tanglin-Holland-Bukit-Timah-Singapore.jpg   \n",
              "4  https://sg1-cdn.pgimgs.com/listing/21989918/UPHO.110700386.V800/Duchess-Residences-Tanglin-Holland-Bukit-Timah-Singapore.jpg   \n",
              "\n",
              "                  created_at  images  \\\n",
              "0 2020-11-02 08:55:53.259367     b''   \n",
              "1 2020-11-02 08:55:53.259367     b''   \n",
              "2 2020-11-02 08:55:53.259367     b''   \n",
              "3 2020-11-02 08:55:53.259367     b''   \n",
              "4 2020-11-02 08:55:53.259367     b''   \n",
              "\n",
              "                                                                                                                     images.url  \\\n",
              "0  https://sg1-cdn.pgimgs.com/listing/21989918/UPHO.110700336.V800/Duchess-Residences-Tanglin-Holland-Bukit-Timah-Singapore.jpg   \n",
              "1  https://sg1-cdn.pgimgs.com/listing/21989918/UPHO.110700368.V800/Duchess-Residences-Tanglin-Holland-Bukit-Timah-Singapore.jpg   \n",
              "2  https://sg2-cdn.pgimgs.com/listing/21989918/UPHO.110700395.V800/Duchess-Residences-Tanglin-Holland-Bukit-Timah-Singapore.jpg   \n",
              "3  https://sg2-cdn.pgimgs.com/listing/21989918/UPHO.110700389.V800/Duchess-Residences-Tanglin-Holland-Bukit-Timah-Singapore.jpg   \n",
              "4  https://sg1-cdn.pgimgs.com/listing/21989918/UPHO.110700386.V800/Duchess-Residences-Tanglin-Holland-Bukit-Timah-Singapore.jpg   \n",
              "\n",
              "                                         images.path  \\\n",
              "0  full/4c8344a363102f41c0b483a846bc48092e71fa48.jpg   \n",
              "1  full/9e62c2875e9954dbfd84bdc4268e562ab3b4d526.jpg   \n",
              "2  full/f165ec3a2c01d26a917c33c06911863083c33b1a.jpg   \n",
              "3  full/00eecb3b9f26c55a491bb9d4b1bc20d95678241c.jpg   \n",
              "4  full/b7d5384e7db26f86e9ce306c9133210c8acd9c95.jpg   \n",
              "\n",
              "                    images.checksum  \n",
              "0  c5efda1c084d057d1c03a91c4907c587  \n",
              "1  d6c319e818d4416ee8989db7e0e660cf  \n",
              "2  eb46fdff8f1d5408f53edc1252279515  \n",
              "3  657d7625dc72b8ed0aeab719ad62c468  \n",
              "4  3b40592385ba45cf59ddc4393f4e61b5  \n",
              "\n",
              "[5 rows x 160 columns]"
            ],
            "text/html": [
              "\n",
              "  <div id=\"df-4d4f58f8-edc0-402e-81f0-ee4fc0c09e18\">\n",
              "    <div class=\"colab-df-container\">\n",
              "      <div>\n",
              "<style scoped>\n",
              "    .dataframe tbody tr th:only-of-type {\n",
              "        vertical-align: middle;\n",
              "    }\n",
              "\n",
              "    .dataframe tbody tr th {\n",
              "        vertical-align: top;\n",
              "    }\n",
              "\n",
              "    .dataframe thead th {\n",
              "        text-align: right;\n",
              "    }\n",
              "</style>\n",
              "<table border=\"1\" class=\"dataframe\">\n",
              "  <thead>\n",
              "    <tr style=\"text-align: right;\">\n",
              "      <th></th>\n",
              "      <th>URL</th>\n",
              "      <th>agent.name</th>\n",
              "      <th>agent.license</th>\n",
              "      <th>agent.url</th>\n",
              "      <th>agent.agency</th>\n",
              "      <th>agent.phone_number</th>\n",
              "      <th>listing_properties</th>\n",
              "      <th>Type</th>\n",
              "      <th>Tenure</th>\n",
              "      <th>Floorsize</th>\n",
              "      <th>...</th>\n",
              "      <th>floor_size</th>\n",
              "      <th>floor_size_unit</th>\n",
              "      <th>price</th>\n",
              "      <th>currency</th>\n",
              "      <th>image_urls</th>\n",
              "      <th>created_at</th>\n",
              "      <th>images</th>\n",
              "      <th>images.url</th>\n",
              "      <th>images.path</th>\n",
              "      <th>images.checksum</th>\n",
              "    </tr>\n",
              "  </thead>\n",
              "  <tbody>\n",
              "    <tr>\n",
              "      <th>0</th>\n",
              "      <td>http://api.scraperapi.com/?api_key=b0560c3ca5b0704c0184a820d4e42d70&amp;url=https://www.propertyguru.com.sg/listing/21989918/for-rent-duchess-residences</td>\n",
              "      <td>Julian Zhuo</td>\n",
              "      <td>CEA: R042428I / L3008022J</td>\n",
              "      <td>https://propertyguru.com.sg/agent/julian-zhuo-455852</td>\n",
              "      <td>PROPNEX REALTY PTE LTD</td>\n",
              "      <td>+65 8786 4499</td>\n",
              "      <td>b''</td>\n",
              "      <td>Condominium For Rent</td>\n",
              "      <td>999-year Leasehold</td>\n",
              "      <td>3000 sqft</td>\n",
              "      <td>...</td>\n",
              "      <td>3000.0</td>\n",
              "      <td>sqft</td>\n",
              "      <td>9494.0</td>\n",
              "      <td>SGD</td>\n",
              "      <td>https://sg1-cdn.pgimgs.com/listing/21989918/UPHO.110700336.V800/Duchess-Residences-Tanglin-Holland-Bukit-Timah-Singapore.jpg</td>\n",
              "      <td>2020-11-02 08:55:53.259367</td>\n",
              "      <td>b''</td>\n",
              "      <td>https://sg1-cdn.pgimgs.com/listing/21989918/UPHO.110700336.V800/Duchess-Residences-Tanglin-Holland-Bukit-Timah-Singapore.jpg</td>\n",
              "      <td>full/4c8344a363102f41c0b483a846bc48092e71fa48.jpg</td>\n",
              "      <td>c5efda1c084d057d1c03a91c4907c587</td>\n",
              "    </tr>\n",
              "    <tr>\n",
              "      <th>1</th>\n",
              "      <td>http://api.scraperapi.com/?api_key=b0560c3ca5b0704c0184a820d4e42d70&amp;url=https://www.propertyguru.com.sg/listing/21989918/for-rent-duchess-residences</td>\n",
              "      <td>Julian Zhuo</td>\n",
              "      <td>CEA: R042428I / L3008022J</td>\n",
              "      <td>https://propertyguru.com.sg/agent/julian-zhuo-455852</td>\n",
              "      <td>PROPNEX REALTY PTE LTD</td>\n",
              "      <td>+65 8786 4499</td>\n",
              "      <td>b''</td>\n",
              "      <td>Condominium For Rent</td>\n",
              "      <td>999-year Leasehold</td>\n",
              "      <td>3000 sqft</td>\n",
              "      <td>...</td>\n",
              "      <td>3000.0</td>\n",
              "      <td>sqft</td>\n",
              "      <td>9494.0</td>\n",
              "      <td>SGD</td>\n",
              "      <td>https://sg1-cdn.pgimgs.com/listing/21989918/UPHO.110700368.V800/Duchess-Residences-Tanglin-Holland-Bukit-Timah-Singapore.jpg</td>\n",
              "      <td>2020-11-02 08:55:53.259367</td>\n",
              "      <td>b''</td>\n",
              "      <td>https://sg1-cdn.pgimgs.com/listing/21989918/UPHO.110700368.V800/Duchess-Residences-Tanglin-Holland-Bukit-Timah-Singapore.jpg</td>\n",
              "      <td>full/9e62c2875e9954dbfd84bdc4268e562ab3b4d526.jpg</td>\n",
              "      <td>d6c319e818d4416ee8989db7e0e660cf</td>\n",
              "    </tr>\n",
              "    <tr>\n",
              "      <th>2</th>\n",
              "      <td>http://api.scraperapi.com/?api_key=b0560c3ca5b0704c0184a820d4e42d70&amp;url=https://www.propertyguru.com.sg/listing/21989918/for-rent-duchess-residences</td>\n",
              "      <td>Julian Zhuo</td>\n",
              "      <td>CEA: R042428I / L3008022J</td>\n",
              "      <td>https://propertyguru.com.sg/agent/julian-zhuo-455852</td>\n",
              "      <td>PROPNEX REALTY PTE LTD</td>\n",
              "      <td>+65 8786 4499</td>\n",
              "      <td>b''</td>\n",
              "      <td>Condominium For Rent</td>\n",
              "      <td>999-year Leasehold</td>\n",
              "      <td>3000 sqft</td>\n",
              "      <td>...</td>\n",
              "      <td>3000.0</td>\n",
              "      <td>sqft</td>\n",
              "      <td>9494.0</td>\n",
              "      <td>SGD</td>\n",
              "      <td>https://sg2-cdn.pgimgs.com/listing/21989918/UPHO.110700395.V800/Duchess-Residences-Tanglin-Holland-Bukit-Timah-Singapore.jpg</td>\n",
              "      <td>2020-11-02 08:55:53.259367</td>\n",
              "      <td>b''</td>\n",
              "      <td>https://sg2-cdn.pgimgs.com/listing/21989918/UPHO.110700395.V800/Duchess-Residences-Tanglin-Holland-Bukit-Timah-Singapore.jpg</td>\n",
              "      <td>full/f165ec3a2c01d26a917c33c06911863083c33b1a.jpg</td>\n",
              "      <td>eb46fdff8f1d5408f53edc1252279515</td>\n",
              "    </tr>\n",
              "    <tr>\n",
              "      <th>3</th>\n",
              "      <td>http://api.scraperapi.com/?api_key=b0560c3ca5b0704c0184a820d4e42d70&amp;url=https://www.propertyguru.com.sg/listing/21989918/for-rent-duchess-residences</td>\n",
              "      <td>Julian Zhuo</td>\n",
              "      <td>CEA: R042428I / L3008022J</td>\n",
              "      <td>https://propertyguru.com.sg/agent/julian-zhuo-455852</td>\n",
              "      <td>PROPNEX REALTY PTE LTD</td>\n",
              "      <td>+65 8786 4499</td>\n",
              "      <td>b''</td>\n",
              "      <td>Condominium For Rent</td>\n",
              "      <td>999-year Leasehold</td>\n",
              "      <td>3000 sqft</td>\n",
              "      <td>...</td>\n",
              "      <td>3000.0</td>\n",
              "      <td>sqft</td>\n",
              "      <td>9494.0</td>\n",
              "      <td>SGD</td>\n",
              "      <td>https://sg2-cdn.pgimgs.com/listing/21989918/UPHO.110700389.V800/Duchess-Residences-Tanglin-Holland-Bukit-Timah-Singapore.jpg</td>\n",
              "      <td>2020-11-02 08:55:53.259367</td>\n",
              "      <td>b''</td>\n",
              "      <td>https://sg2-cdn.pgimgs.com/listing/21989918/UPHO.110700389.V800/Duchess-Residences-Tanglin-Holland-Bukit-Timah-Singapore.jpg</td>\n",
              "      <td>full/00eecb3b9f26c55a491bb9d4b1bc20d95678241c.jpg</td>\n",
              "      <td>657d7625dc72b8ed0aeab719ad62c468</td>\n",
              "    </tr>\n",
              "    <tr>\n",
              "      <th>4</th>\n",
              "      <td>http://api.scraperapi.com/?api_key=b0560c3ca5b0704c0184a820d4e42d70&amp;url=https://www.propertyguru.com.sg/listing/21989918/for-rent-duchess-residences</td>\n",
              "      <td>Julian Zhuo</td>\n",
              "      <td>CEA: R042428I / L3008022J</td>\n",
              "      <td>https://propertyguru.com.sg/agent/julian-zhuo-455852</td>\n",
              "      <td>PROPNEX REALTY PTE LTD</td>\n",
              "      <td>+65 8786 4499</td>\n",
              "      <td>b''</td>\n",
              "      <td>Condominium For Rent</td>\n",
              "      <td>999-year Leasehold</td>\n",
              "      <td>3000 sqft</td>\n",
              "      <td>...</td>\n",
              "      <td>3000.0</td>\n",
              "      <td>sqft</td>\n",
              "      <td>9494.0</td>\n",
              "      <td>SGD</td>\n",
              "      <td>https://sg1-cdn.pgimgs.com/listing/21989918/UPHO.110700386.V800/Duchess-Residences-Tanglin-Holland-Bukit-Timah-Singapore.jpg</td>\n",
              "      <td>2020-11-02 08:55:53.259367</td>\n",
              "      <td>b''</td>\n",
              "      <td>https://sg1-cdn.pgimgs.com/listing/21989918/UPHO.110700386.V800/Duchess-Residences-Tanglin-Holland-Bukit-Timah-Singapore.jpg</td>\n",
              "      <td>full/b7d5384e7db26f86e9ce306c9133210c8acd9c95.jpg</td>\n",
              "      <td>3b40592385ba45cf59ddc4393f4e61b5</td>\n",
              "    </tr>\n",
              "  </tbody>\n",
              "</table>\n",
              "<p>5 rows × 160 columns</p>\n",
              "</div>\n",
              "      <button class=\"colab-df-convert\" onclick=\"convertToInteractive('df-4d4f58f8-edc0-402e-81f0-ee4fc0c09e18')\"\n",
              "              title=\"Convert this dataframe to an interactive table.\"\n",
              "              style=\"display:none;\">\n",
              "        \n",
              "  <svg xmlns=\"http://www.w3.org/2000/svg\" height=\"24px\"viewBox=\"0 0 24 24\"\n",
              "       width=\"24px\">\n",
              "    <path d=\"M0 0h24v24H0V0z\" fill=\"none\"/>\n",
              "    <path d=\"M18.56 5.44l.94 2.06.94-2.06 2.06-.94-2.06-.94-.94-2.06-.94 2.06-2.06.94zm-11 1L8.5 8.5l.94-2.06 2.06-.94-2.06-.94L8.5 2.5l-.94 2.06-2.06.94zm10 10l.94 2.06.94-2.06 2.06-.94-2.06-.94-.94-2.06-.94 2.06-2.06.94z\"/><path d=\"M17.41 7.96l-1.37-1.37c-.4-.4-.92-.59-1.43-.59-.52 0-1.04.2-1.43.59L10.3 9.45l-7.72 7.72c-.78.78-.78 2.05 0 2.83L4 21.41c.39.39.9.59 1.41.59.51 0 1.02-.2 1.41-.59l7.78-7.78 2.81-2.81c.8-.78.8-2.07 0-2.86zM5.41 20L4 18.59l7.72-7.72 1.47 1.35L5.41 20z\"/>\n",
              "  </svg>\n",
              "      </button>\n",
              "      \n",
              "  <style>\n",
              "    .colab-df-container {\n",
              "      display:flex;\n",
              "      flex-wrap:wrap;\n",
              "      gap: 12px;\n",
              "    }\n",
              "\n",
              "    .colab-df-convert {\n",
              "      background-color: #E8F0FE;\n",
              "      border: none;\n",
              "      border-radius: 50%;\n",
              "      cursor: pointer;\n",
              "      display: none;\n",
              "      fill: #1967D2;\n",
              "      height: 32px;\n",
              "      padding: 0 0 0 0;\n",
              "      width: 32px;\n",
              "    }\n",
              "\n",
              "    .colab-df-convert:hover {\n",
              "      background-color: #E2EBFA;\n",
              "      box-shadow: 0px 1px 2px rgba(60, 64, 67, 0.3), 0px 1px 3px 1px rgba(60, 64, 67, 0.15);\n",
              "      fill: #174EA6;\n",
              "    }\n",
              "\n",
              "    [theme=dark] .colab-df-convert {\n",
              "      background-color: #3B4455;\n",
              "      fill: #D2E3FC;\n",
              "    }\n",
              "\n",
              "    [theme=dark] .colab-df-convert:hover {\n",
              "      background-color: #434B5C;\n",
              "      box-shadow: 0px 1px 3px 1px rgba(0, 0, 0, 0.15);\n",
              "      filter: drop-shadow(0px 1px 2px rgba(0, 0, 0, 0.3));\n",
              "      fill: #FFFFFF;\n",
              "    }\n",
              "  </style>\n",
              "\n",
              "      <script>\n",
              "        const buttonEl =\n",
              "          document.querySelector('#df-4d4f58f8-edc0-402e-81f0-ee4fc0c09e18 button.colab-df-convert');\n",
              "        buttonEl.style.display =\n",
              "          google.colab.kernel.accessAllowed ? 'block' : 'none';\n",
              "\n",
              "        async function convertToInteractive(key) {\n",
              "          const element = document.querySelector('#df-4d4f58f8-edc0-402e-81f0-ee4fc0c09e18');\n",
              "          const dataTable =\n",
              "            await google.colab.kernel.invokeFunction('convertToInteractive',\n",
              "                                                     [key], {});\n",
              "          if (!dataTable) return;\n",
              "\n",
              "          const docLinkHtml = 'Like what you see? Visit the ' +\n",
              "            '<a target=\"_blank\" href=https://colab.research.google.com/notebooks/data_table.ipynb>data table notebook</a>'\n",
              "            + ' to learn more about interactive tables.';\n",
              "          element.innerHTML = '';\n",
              "          dataTable['output_type'] = 'display_data';\n",
              "          await google.colab.output.renderOutput(dataTable, element);\n",
              "          const docLink = document.createElement('div');\n",
              "          docLink.innerHTML = docLinkHtml;\n",
              "          element.appendChild(docLink);\n",
              "        }\n",
              "      </script>\n",
              "    </div>\n",
              "  </div>\n",
              "  "
            ]
          },
          "metadata": {},
          "execution_count": 81
        }
      ]
    },
    {
      "cell_type": "code",
      "source": [
        "# Use value_counts to count the number of duplicates\n",
        "counts = df['URL'].value_counts()\n",
        "\n",
        "counts"
      ],
      "metadata": {
        "colab": {
          "base_uri": "https://localhost:8080/"
        },
        "id": "xucv7m2u3qpu",
        "outputId": "fa253698-b5e7-4b97-b5cc-30bd5d58c2d5"
      },
      "execution_count": 82,
      "outputs": [
        {
          "output_type": "execute_result",
          "data": {
            "text/plain": [
              "http://api.scraperapi.com/?api_key=b0560c3ca5b0704c0184a820d4e42d70&url=https://www.propertyguru.com.sg/listing/20315367/for-rent-mon-jervois                  210\n",
              "http://api.scraperapi.com/?api_key=b0560c3ca5b0704c0184a820d4e42d70&url=https://www.propertyguru.com.sg/listing/3150339/for-rent-orchard-scotts                178\n",
              "http://api.scraperapi.com/?api_key=b0560c3ca5b0704c0184a820d4e42d70&url=https://www.propertyguru.com.sg/listing/22333500/for-rent-orchard-scotts               174\n",
              "http://api.scraperapi.com/?api_key=b0560c3ca5b0704c0184a820d4e42d70&url=https://www.propertyguru.com.sg/listing/15742980/for-rent-orchard-scotts               166\n",
              "http://api.scraperapi.com/?api_key=b0560c3ca5b0704c0184a820d4e42d70&url=https://www.propertyguru.com.sg/listing/20985795/for-rent-alex-residences              140\n",
              "                                                                                                                                                              ... \n",
              "http://api.scraperapi.com/?api_key=b0560c3ca5b0704c0184a820d4e42d70&url=https://www.propertyguru.com.sg/listing/21483434/for-rent-meyer-road                     1\n",
              "http://api.scraperapi.com/?api_key=b0560c3ca5b0704c0184a820d4e42d70&url=https://www.propertyguru.com.sg/listing/hdb-for-rent-3-tanjong-pagar-plaza-23269382      1\n",
              "http://api.scraperapi.com/?api_key=b0560c3ca5b0704c0184a820d4e42d70&url=https://www.propertyguru.com.sg/listing/23272457/for-rent-the-regalia                    1\n",
              "http://api.scraperapi.com/?api_key=b0560c3ca5b0704c0184a820d4e42d70&url=https://www.propertyguru.com.sg/listing/19706683/for-rent-parkway-view                   1\n",
              "http://api.scraperapi.com/?api_key=b0560c3ca5b0704c0184a820d4e42d70&url=https://www.propertyguru.com.sg/listing/23253103/for-rent-river-valley                   1\n",
              "Name: URL, Length: 14363, dtype: int64"
            ]
          },
          "metadata": {},
          "execution_count": 82
        }
      ]
    },
    {
      "cell_type": "code",
      "source": [
        "# Create a new column with the number of duplicates\n",
        "df['num_img'] = df['URL'].map(counts)\n",
        "\n",
        "print(df[['URL', 'num_img']])"
      ],
      "metadata": {
        "colab": {
          "base_uri": "https://localhost:8080/"
        },
        "id": "Irj1OKg-3yW0",
        "outputId": "cf9055f2-2ed3-48b7-e2ac-aeb1539ad56a"
      },
      "execution_count": 83,
      "outputs": [
        {
          "output_type": "stream",
          "name": "stdout",
          "text": [
            "                                                                                                                                                         URL  \\\n",
            "0       http://api.scraperapi.com/?api_key=b0560c3ca5b0704c0184a820d4e42d70&url=https://www.propertyguru.com.sg/listing/21989918/for-rent-duchess-residences   \n",
            "1       http://api.scraperapi.com/?api_key=b0560c3ca5b0704c0184a820d4e42d70&url=https://www.propertyguru.com.sg/listing/21989918/for-rent-duchess-residences   \n",
            "2       http://api.scraperapi.com/?api_key=b0560c3ca5b0704c0184a820d4e42d70&url=https://www.propertyguru.com.sg/listing/21989918/for-rent-duchess-residences   \n",
            "3       http://api.scraperapi.com/?api_key=b0560c3ca5b0704c0184a820d4e42d70&url=https://www.propertyguru.com.sg/listing/21989918/for-rent-duchess-residences   \n",
            "4       http://api.scraperapi.com/?api_key=b0560c3ca5b0704c0184a820d4e42d70&url=https://www.propertyguru.com.sg/listing/21989918/for-rent-duchess-residences   \n",
            "...                                                                                                                                                      ...   \n",
            "241112     http://api.scraperapi.com/?api_key=b0560c3ca5b0704c0184a820d4e42d70&url=https://www.propertyguru.com.sg/listing/23044774/for-rent-kensington-park   \n",
            "241113     http://api.scraperapi.com/?api_key=b0560c3ca5b0704c0184a820d4e42d70&url=https://www.propertyguru.com.sg/listing/23044774/for-rent-kensington-park   \n",
            "241114     http://api.scraperapi.com/?api_key=b0560c3ca5b0704c0184a820d4e42d70&url=https://www.propertyguru.com.sg/listing/23044774/for-rent-kensington-park   \n",
            "241115     http://api.scraperapi.com/?api_key=b0560c3ca5b0704c0184a820d4e42d70&url=https://www.propertyguru.com.sg/listing/23044774/for-rent-kensington-park   \n",
            "241116     http://api.scraperapi.com/?api_key=b0560c3ca5b0704c0184a820d4e42d70&url=https://www.propertyguru.com.sg/listing/23044774/for-rent-kensington-park   \n",
            "\n",
            "        num_img  \n",
            "0            34  \n",
            "1            34  \n",
            "2            34  \n",
            "3            34  \n",
            "4            34  \n",
            "...         ...  \n",
            "241112       19  \n",
            "241113       19  \n",
            "241114       19  \n",
            "241115       19  \n",
            "241116       19  \n",
            "\n",
            "[241117 rows x 2 columns]\n"
          ]
        }
      ]
    },
    {
      "cell_type": "code",
      "source": [
        "df.head()"
      ],
      "metadata": {
        "colab": {
          "base_uri": "https://localhost:8080/",
          "height": 473
        },
        "id": "J06Kh4vr51yB",
        "outputId": "49970fda-3db4-4859-e024-6419f5e6dbbd"
      },
      "execution_count": 85,
      "outputs": [
        {
          "output_type": "execute_result",
          "data": {
            "text/plain": [
              "                                                                                                                                                    URL  \\\n",
              "0  http://api.scraperapi.com/?api_key=b0560c3ca5b0704c0184a820d4e42d70&url=https://www.propertyguru.com.sg/listing/21989918/for-rent-duchess-residences   \n",
              "1  http://api.scraperapi.com/?api_key=b0560c3ca5b0704c0184a820d4e42d70&url=https://www.propertyguru.com.sg/listing/21989918/for-rent-duchess-residences   \n",
              "2  http://api.scraperapi.com/?api_key=b0560c3ca5b0704c0184a820d4e42d70&url=https://www.propertyguru.com.sg/listing/21989918/for-rent-duchess-residences   \n",
              "3  http://api.scraperapi.com/?api_key=b0560c3ca5b0704c0184a820d4e42d70&url=https://www.propertyguru.com.sg/listing/21989918/for-rent-duchess-residences   \n",
              "4  http://api.scraperapi.com/?api_key=b0560c3ca5b0704c0184a820d4e42d70&url=https://www.propertyguru.com.sg/listing/21989918/for-rent-duchess-residences   \n",
              "\n",
              "    agent.name              agent.license  \\\n",
              "0  Julian Zhuo  CEA: R042428I / L3008022J   \n",
              "1  Julian Zhuo  CEA: R042428I / L3008022J   \n",
              "2  Julian Zhuo  CEA: R042428I / L3008022J   \n",
              "3  Julian Zhuo  CEA: R042428I / L3008022J   \n",
              "4  Julian Zhuo  CEA: R042428I / L3008022J   \n",
              "\n",
              "                                              agent.url  \\\n",
              "0  https://propertyguru.com.sg/agent/julian-zhuo-455852   \n",
              "1  https://propertyguru.com.sg/agent/julian-zhuo-455852   \n",
              "2  https://propertyguru.com.sg/agent/julian-zhuo-455852   \n",
              "3  https://propertyguru.com.sg/agent/julian-zhuo-455852   \n",
              "4  https://propertyguru.com.sg/agent/julian-zhuo-455852   \n",
              "\n",
              "             agent.agency agent.phone_number listing_properties  \\\n",
              "0  PROPNEX REALTY PTE LTD      +65 8786 4499                b''   \n",
              "1  PROPNEX REALTY PTE LTD      +65 8786 4499                b''   \n",
              "2  PROPNEX REALTY PTE LTD      +65 8786 4499                b''   \n",
              "3  PROPNEX REALTY PTE LTD      +65 8786 4499                b''   \n",
              "4  PROPNEX REALTY PTE LTD      +65 8786 4499                b''   \n",
              "\n",
              "                   Type              Tenure  Floorsize  ... floor_size_unit  \\\n",
              "0  Condominium For Rent  999-year Leasehold  3000 sqft  ...            sqft   \n",
              "1  Condominium For Rent  999-year Leasehold  3000 sqft  ...            sqft   \n",
              "2  Condominium For Rent  999-year Leasehold  3000 sqft  ...            sqft   \n",
              "3  Condominium For Rent  999-year Leasehold  3000 sqft  ...            sqft   \n",
              "4  Condominium For Rent  999-year Leasehold  3000 sqft  ...            sqft   \n",
              "\n",
              "    price currency  \\\n",
              "0  9494.0      SGD   \n",
              "1  9494.0      SGD   \n",
              "2  9494.0      SGD   \n",
              "3  9494.0      SGD   \n",
              "4  9494.0      SGD   \n",
              "\n",
              "                                                                                                                     image_urls  \\\n",
              "0  https://sg1-cdn.pgimgs.com/listing/21989918/UPHO.110700336.V800/Duchess-Residences-Tanglin-Holland-Bukit-Timah-Singapore.jpg   \n",
              "1  https://sg1-cdn.pgimgs.com/listing/21989918/UPHO.110700368.V800/Duchess-Residences-Tanglin-Holland-Bukit-Timah-Singapore.jpg   \n",
              "2  https://sg2-cdn.pgimgs.com/listing/21989918/UPHO.110700395.V800/Duchess-Residences-Tanglin-Holland-Bukit-Timah-Singapore.jpg   \n",
              "3  https://sg2-cdn.pgimgs.com/listing/21989918/UPHO.110700389.V800/Duchess-Residences-Tanglin-Holland-Bukit-Timah-Singapore.jpg   \n",
              "4  https://sg1-cdn.pgimgs.com/listing/21989918/UPHO.110700386.V800/Duchess-Residences-Tanglin-Holland-Bukit-Timah-Singapore.jpg   \n",
              "\n",
              "                  created_at images  \\\n",
              "0 2020-11-02 08:55:53.259367    b''   \n",
              "1 2020-11-02 08:55:53.259367    b''   \n",
              "2 2020-11-02 08:55:53.259367    b''   \n",
              "3 2020-11-02 08:55:53.259367    b''   \n",
              "4 2020-11-02 08:55:53.259367    b''   \n",
              "\n",
              "                                                                                                                     images.url  \\\n",
              "0  https://sg1-cdn.pgimgs.com/listing/21989918/UPHO.110700336.V800/Duchess-Residences-Tanglin-Holland-Bukit-Timah-Singapore.jpg   \n",
              "1  https://sg1-cdn.pgimgs.com/listing/21989918/UPHO.110700368.V800/Duchess-Residences-Tanglin-Holland-Bukit-Timah-Singapore.jpg   \n",
              "2  https://sg2-cdn.pgimgs.com/listing/21989918/UPHO.110700395.V800/Duchess-Residences-Tanglin-Holland-Bukit-Timah-Singapore.jpg   \n",
              "3  https://sg2-cdn.pgimgs.com/listing/21989918/UPHO.110700389.V800/Duchess-Residences-Tanglin-Holland-Bukit-Timah-Singapore.jpg   \n",
              "4  https://sg1-cdn.pgimgs.com/listing/21989918/UPHO.110700386.V800/Duchess-Residences-Tanglin-Holland-Bukit-Timah-Singapore.jpg   \n",
              "\n",
              "                                         images.path  \\\n",
              "0  full/4c8344a363102f41c0b483a846bc48092e71fa48.jpg   \n",
              "1  full/9e62c2875e9954dbfd84bdc4268e562ab3b4d526.jpg   \n",
              "2  full/f165ec3a2c01d26a917c33c06911863083c33b1a.jpg   \n",
              "3  full/00eecb3b9f26c55a491bb9d4b1bc20d95678241c.jpg   \n",
              "4  full/b7d5384e7db26f86e9ce306c9133210c8acd9c95.jpg   \n",
              "\n",
              "                    images.checksum num_img  \n",
              "0  c5efda1c084d057d1c03a91c4907c587      34  \n",
              "1  d6c319e818d4416ee8989db7e0e660cf      34  \n",
              "2  eb46fdff8f1d5408f53edc1252279515      34  \n",
              "3  657d7625dc72b8ed0aeab719ad62c468      34  \n",
              "4  3b40592385ba45cf59ddc4393f4e61b5      34  \n",
              "\n",
              "[5 rows x 161 columns]"
            ],
            "text/html": [
              "\n",
              "  <div id=\"df-41e228fb-bfaa-4a0b-b748-d049440e1abc\">\n",
              "    <div class=\"colab-df-container\">\n",
              "      <div>\n",
              "<style scoped>\n",
              "    .dataframe tbody tr th:only-of-type {\n",
              "        vertical-align: middle;\n",
              "    }\n",
              "\n",
              "    .dataframe tbody tr th {\n",
              "        vertical-align: top;\n",
              "    }\n",
              "\n",
              "    .dataframe thead th {\n",
              "        text-align: right;\n",
              "    }\n",
              "</style>\n",
              "<table border=\"1\" class=\"dataframe\">\n",
              "  <thead>\n",
              "    <tr style=\"text-align: right;\">\n",
              "      <th></th>\n",
              "      <th>URL</th>\n",
              "      <th>agent.name</th>\n",
              "      <th>agent.license</th>\n",
              "      <th>agent.url</th>\n",
              "      <th>agent.agency</th>\n",
              "      <th>agent.phone_number</th>\n",
              "      <th>listing_properties</th>\n",
              "      <th>Type</th>\n",
              "      <th>Tenure</th>\n",
              "      <th>Floorsize</th>\n",
              "      <th>...</th>\n",
              "      <th>floor_size_unit</th>\n",
              "      <th>price</th>\n",
              "      <th>currency</th>\n",
              "      <th>image_urls</th>\n",
              "      <th>created_at</th>\n",
              "      <th>images</th>\n",
              "      <th>images.url</th>\n",
              "      <th>images.path</th>\n",
              "      <th>images.checksum</th>\n",
              "      <th>num_img</th>\n",
              "    </tr>\n",
              "  </thead>\n",
              "  <tbody>\n",
              "    <tr>\n",
              "      <th>0</th>\n",
              "      <td>http://api.scraperapi.com/?api_key=b0560c3ca5b0704c0184a820d4e42d70&amp;url=https://www.propertyguru.com.sg/listing/21989918/for-rent-duchess-residences</td>\n",
              "      <td>Julian Zhuo</td>\n",
              "      <td>CEA: R042428I / L3008022J</td>\n",
              "      <td>https://propertyguru.com.sg/agent/julian-zhuo-455852</td>\n",
              "      <td>PROPNEX REALTY PTE LTD</td>\n",
              "      <td>+65 8786 4499</td>\n",
              "      <td>b''</td>\n",
              "      <td>Condominium For Rent</td>\n",
              "      <td>999-year Leasehold</td>\n",
              "      <td>3000 sqft</td>\n",
              "      <td>...</td>\n",
              "      <td>sqft</td>\n",
              "      <td>9494.0</td>\n",
              "      <td>SGD</td>\n",
              "      <td>https://sg1-cdn.pgimgs.com/listing/21989918/UPHO.110700336.V800/Duchess-Residences-Tanglin-Holland-Bukit-Timah-Singapore.jpg</td>\n",
              "      <td>2020-11-02 08:55:53.259367</td>\n",
              "      <td>b''</td>\n",
              "      <td>https://sg1-cdn.pgimgs.com/listing/21989918/UPHO.110700336.V800/Duchess-Residences-Tanglin-Holland-Bukit-Timah-Singapore.jpg</td>\n",
              "      <td>full/4c8344a363102f41c0b483a846bc48092e71fa48.jpg</td>\n",
              "      <td>c5efda1c084d057d1c03a91c4907c587</td>\n",
              "      <td>34</td>\n",
              "    </tr>\n",
              "    <tr>\n",
              "      <th>1</th>\n",
              "      <td>http://api.scraperapi.com/?api_key=b0560c3ca5b0704c0184a820d4e42d70&amp;url=https://www.propertyguru.com.sg/listing/21989918/for-rent-duchess-residences</td>\n",
              "      <td>Julian Zhuo</td>\n",
              "      <td>CEA: R042428I / L3008022J</td>\n",
              "      <td>https://propertyguru.com.sg/agent/julian-zhuo-455852</td>\n",
              "      <td>PROPNEX REALTY PTE LTD</td>\n",
              "      <td>+65 8786 4499</td>\n",
              "      <td>b''</td>\n",
              "      <td>Condominium For Rent</td>\n",
              "      <td>999-year Leasehold</td>\n",
              "      <td>3000 sqft</td>\n",
              "      <td>...</td>\n",
              "      <td>sqft</td>\n",
              "      <td>9494.0</td>\n",
              "      <td>SGD</td>\n",
              "      <td>https://sg1-cdn.pgimgs.com/listing/21989918/UPHO.110700368.V800/Duchess-Residences-Tanglin-Holland-Bukit-Timah-Singapore.jpg</td>\n",
              "      <td>2020-11-02 08:55:53.259367</td>\n",
              "      <td>b''</td>\n",
              "      <td>https://sg1-cdn.pgimgs.com/listing/21989918/UPHO.110700368.V800/Duchess-Residences-Tanglin-Holland-Bukit-Timah-Singapore.jpg</td>\n",
              "      <td>full/9e62c2875e9954dbfd84bdc4268e562ab3b4d526.jpg</td>\n",
              "      <td>d6c319e818d4416ee8989db7e0e660cf</td>\n",
              "      <td>34</td>\n",
              "    </tr>\n",
              "    <tr>\n",
              "      <th>2</th>\n",
              "      <td>http://api.scraperapi.com/?api_key=b0560c3ca5b0704c0184a820d4e42d70&amp;url=https://www.propertyguru.com.sg/listing/21989918/for-rent-duchess-residences</td>\n",
              "      <td>Julian Zhuo</td>\n",
              "      <td>CEA: R042428I / L3008022J</td>\n",
              "      <td>https://propertyguru.com.sg/agent/julian-zhuo-455852</td>\n",
              "      <td>PROPNEX REALTY PTE LTD</td>\n",
              "      <td>+65 8786 4499</td>\n",
              "      <td>b''</td>\n",
              "      <td>Condominium For Rent</td>\n",
              "      <td>999-year Leasehold</td>\n",
              "      <td>3000 sqft</td>\n",
              "      <td>...</td>\n",
              "      <td>sqft</td>\n",
              "      <td>9494.0</td>\n",
              "      <td>SGD</td>\n",
              "      <td>https://sg2-cdn.pgimgs.com/listing/21989918/UPHO.110700395.V800/Duchess-Residences-Tanglin-Holland-Bukit-Timah-Singapore.jpg</td>\n",
              "      <td>2020-11-02 08:55:53.259367</td>\n",
              "      <td>b''</td>\n",
              "      <td>https://sg2-cdn.pgimgs.com/listing/21989918/UPHO.110700395.V800/Duchess-Residences-Tanglin-Holland-Bukit-Timah-Singapore.jpg</td>\n",
              "      <td>full/f165ec3a2c01d26a917c33c06911863083c33b1a.jpg</td>\n",
              "      <td>eb46fdff8f1d5408f53edc1252279515</td>\n",
              "      <td>34</td>\n",
              "    </tr>\n",
              "    <tr>\n",
              "      <th>3</th>\n",
              "      <td>http://api.scraperapi.com/?api_key=b0560c3ca5b0704c0184a820d4e42d70&amp;url=https://www.propertyguru.com.sg/listing/21989918/for-rent-duchess-residences</td>\n",
              "      <td>Julian Zhuo</td>\n",
              "      <td>CEA: R042428I / L3008022J</td>\n",
              "      <td>https://propertyguru.com.sg/agent/julian-zhuo-455852</td>\n",
              "      <td>PROPNEX REALTY PTE LTD</td>\n",
              "      <td>+65 8786 4499</td>\n",
              "      <td>b''</td>\n",
              "      <td>Condominium For Rent</td>\n",
              "      <td>999-year Leasehold</td>\n",
              "      <td>3000 sqft</td>\n",
              "      <td>...</td>\n",
              "      <td>sqft</td>\n",
              "      <td>9494.0</td>\n",
              "      <td>SGD</td>\n",
              "      <td>https://sg2-cdn.pgimgs.com/listing/21989918/UPHO.110700389.V800/Duchess-Residences-Tanglin-Holland-Bukit-Timah-Singapore.jpg</td>\n",
              "      <td>2020-11-02 08:55:53.259367</td>\n",
              "      <td>b''</td>\n",
              "      <td>https://sg2-cdn.pgimgs.com/listing/21989918/UPHO.110700389.V800/Duchess-Residences-Tanglin-Holland-Bukit-Timah-Singapore.jpg</td>\n",
              "      <td>full/00eecb3b9f26c55a491bb9d4b1bc20d95678241c.jpg</td>\n",
              "      <td>657d7625dc72b8ed0aeab719ad62c468</td>\n",
              "      <td>34</td>\n",
              "    </tr>\n",
              "    <tr>\n",
              "      <th>4</th>\n",
              "      <td>http://api.scraperapi.com/?api_key=b0560c3ca5b0704c0184a820d4e42d70&amp;url=https://www.propertyguru.com.sg/listing/21989918/for-rent-duchess-residences</td>\n",
              "      <td>Julian Zhuo</td>\n",
              "      <td>CEA: R042428I / L3008022J</td>\n",
              "      <td>https://propertyguru.com.sg/agent/julian-zhuo-455852</td>\n",
              "      <td>PROPNEX REALTY PTE LTD</td>\n",
              "      <td>+65 8786 4499</td>\n",
              "      <td>b''</td>\n",
              "      <td>Condominium For Rent</td>\n",
              "      <td>999-year Leasehold</td>\n",
              "      <td>3000 sqft</td>\n",
              "      <td>...</td>\n",
              "      <td>sqft</td>\n",
              "      <td>9494.0</td>\n",
              "      <td>SGD</td>\n",
              "      <td>https://sg1-cdn.pgimgs.com/listing/21989918/UPHO.110700386.V800/Duchess-Residences-Tanglin-Holland-Bukit-Timah-Singapore.jpg</td>\n",
              "      <td>2020-11-02 08:55:53.259367</td>\n",
              "      <td>b''</td>\n",
              "      <td>https://sg1-cdn.pgimgs.com/listing/21989918/UPHO.110700386.V800/Duchess-Residences-Tanglin-Holland-Bukit-Timah-Singapore.jpg</td>\n",
              "      <td>full/b7d5384e7db26f86e9ce306c9133210c8acd9c95.jpg</td>\n",
              "      <td>3b40592385ba45cf59ddc4393f4e61b5</td>\n",
              "      <td>34</td>\n",
              "    </tr>\n",
              "  </tbody>\n",
              "</table>\n",
              "<p>5 rows × 161 columns</p>\n",
              "</div>\n",
              "      <button class=\"colab-df-convert\" onclick=\"convertToInteractive('df-41e228fb-bfaa-4a0b-b748-d049440e1abc')\"\n",
              "              title=\"Convert this dataframe to an interactive table.\"\n",
              "              style=\"display:none;\">\n",
              "        \n",
              "  <svg xmlns=\"http://www.w3.org/2000/svg\" height=\"24px\"viewBox=\"0 0 24 24\"\n",
              "       width=\"24px\">\n",
              "    <path d=\"M0 0h24v24H0V0z\" fill=\"none\"/>\n",
              "    <path d=\"M18.56 5.44l.94 2.06.94-2.06 2.06-.94-2.06-.94-.94-2.06-.94 2.06-2.06.94zm-11 1L8.5 8.5l.94-2.06 2.06-.94-2.06-.94L8.5 2.5l-.94 2.06-2.06.94zm10 10l.94 2.06.94-2.06 2.06-.94-2.06-.94-.94-2.06-.94 2.06-2.06.94z\"/><path d=\"M17.41 7.96l-1.37-1.37c-.4-.4-.92-.59-1.43-.59-.52 0-1.04.2-1.43.59L10.3 9.45l-7.72 7.72c-.78.78-.78 2.05 0 2.83L4 21.41c.39.39.9.59 1.41.59.51 0 1.02-.2 1.41-.59l7.78-7.78 2.81-2.81c.8-.78.8-2.07 0-2.86zM5.41 20L4 18.59l7.72-7.72 1.47 1.35L5.41 20z\"/>\n",
              "  </svg>\n",
              "      </button>\n",
              "      \n",
              "  <style>\n",
              "    .colab-df-container {\n",
              "      display:flex;\n",
              "      flex-wrap:wrap;\n",
              "      gap: 12px;\n",
              "    }\n",
              "\n",
              "    .colab-df-convert {\n",
              "      background-color: #E8F0FE;\n",
              "      border: none;\n",
              "      border-radius: 50%;\n",
              "      cursor: pointer;\n",
              "      display: none;\n",
              "      fill: #1967D2;\n",
              "      height: 32px;\n",
              "      padding: 0 0 0 0;\n",
              "      width: 32px;\n",
              "    }\n",
              "\n",
              "    .colab-df-convert:hover {\n",
              "      background-color: #E2EBFA;\n",
              "      box-shadow: 0px 1px 2px rgba(60, 64, 67, 0.3), 0px 1px 3px 1px rgba(60, 64, 67, 0.15);\n",
              "      fill: #174EA6;\n",
              "    }\n",
              "\n",
              "    [theme=dark] .colab-df-convert {\n",
              "      background-color: #3B4455;\n",
              "      fill: #D2E3FC;\n",
              "    }\n",
              "\n",
              "    [theme=dark] .colab-df-convert:hover {\n",
              "      background-color: #434B5C;\n",
              "      box-shadow: 0px 1px 3px 1px rgba(0, 0, 0, 0.15);\n",
              "      filter: drop-shadow(0px 1px 2px rgba(0, 0, 0, 0.3));\n",
              "      fill: #FFFFFF;\n",
              "    }\n",
              "  </style>\n",
              "\n",
              "      <script>\n",
              "        const buttonEl =\n",
              "          document.querySelector('#df-41e228fb-bfaa-4a0b-b748-d049440e1abc button.colab-df-convert');\n",
              "        buttonEl.style.display =\n",
              "          google.colab.kernel.accessAllowed ? 'block' : 'none';\n",
              "\n",
              "        async function convertToInteractive(key) {\n",
              "          const element = document.querySelector('#df-41e228fb-bfaa-4a0b-b748-d049440e1abc');\n",
              "          const dataTable =\n",
              "            await google.colab.kernel.invokeFunction('convertToInteractive',\n",
              "                                                     [key], {});\n",
              "          if (!dataTable) return;\n",
              "\n",
              "          const docLinkHtml = 'Like what you see? Visit the ' +\n",
              "            '<a target=\"_blank\" href=https://colab.research.google.com/notebooks/data_table.ipynb>data table notebook</a>'\n",
              "            + ' to learn more about interactive tables.';\n",
              "          element.innerHTML = '';\n",
              "          dataTable['output_type'] = 'display_data';\n",
              "          await google.colab.output.renderOutput(dataTable, element);\n",
              "          const docLink = document.createElement('div');\n",
              "          docLink.innerHTML = docLinkHtml;\n",
              "          element.appendChild(docLink);\n",
              "        }\n",
              "      </script>\n",
              "    </div>\n",
              "  </div>\n",
              "  "
            ]
          },
          "metadata": {},
          "execution_count": 85
        }
      ]
    },
    {
      "cell_type": "code",
      "source": [
        "# 결측치 비율이 높은 컬럼 리스트를 추출\n",
        "# 컬럼 확인 가능한 데이터프레임 만들기. \n",
        "count_null = pd.DataFrame()\n",
        "\n",
        "# 변수 이름이 들어간 컬럼 생성\n",
        "count_null['variables'] = df.columns.values.tolist()\n",
        "\n",
        "# 컬럼별로 결측값 갯수 세어서 NaN이라는 컬럼에 넣기\n",
        "count_null['NaN'] = df.isnull().sum().tolist()\n",
        "\n",
        "# 결측치 비율 계산하기 % calculation by columns\n",
        "count_null['Nanperc'] = 100*(count_null['NaN']/len(df))\n",
        "count_null\n",
        "\n",
        "# 50% 이상이 결측치인 변수들의 리스트 구하기\n",
        "too_many_NaN = count_null[count_null['Nanperc']>50]\n",
        "will_erase = list(too_many_NaN['variables'])"
      ],
      "metadata": {
        "id": "KDnUBN8368dv"
      },
      "execution_count": 91,
      "outputs": []
    },
    {
      "cell_type": "code",
      "source": [],
      "metadata": {
        "id": "wFIve2217H1m"
      },
      "execution_count": null,
      "outputs": []
    },
    {
      "cell_type": "code",
      "source": [
        "will_erase"
      ],
      "metadata": {
        "id": "HoDU4J9WO5S2",
        "colab": {
          "base_uri": "https://localhost:8080/"
        },
        "outputId": "6f38228b-9b52-494e-c2e2-27118e0f56e2"
      },
      "execution_count": 92,
      "outputs": [
        {
          "output_type": "execute_result",
          "data": {
            "text/plain": [
              "['amenities.Bathtub',\n",
              " 'amenities.Dishwasher',\n",
              " 'amenities.Dryer',\n",
              " 'amenities.Ground Floor',\n",
              " 'amenities.Park / Greenery View',\n",
              " 'amenities.Intercom',\n",
              " 'amenities.Oven / Microwave',\n",
              " 'amenities.Outdoor Patio',\n",
              " 'amenities.Renovated',\n",
              " 'amenities.Walk-in-wardrobe',\n",
              " 'amenities.Covered car park',\n",
              " 'amenities.Jacuzzi',\n",
              " 'amenities.Lap pool',\n",
              " 'amenities.24 hours security',\n",
              " 'amenities.Wading pool',\n",
              " 'amenities.City View',\n",
              " 'amenities.High Floor',\n",
              " 'amenities.Car Park',\n",
              " 'amenities.Fitness corner',\n",
              " 'amenities.Balcony',\n",
              " 'amenities.Cable TV',\n",
              " 'amenities.Corner Unit',\n",
              " 'amenities.Internet Connection',\n",
              " 'amenities.Jacuzzi.0',\n",
              " 'amenities.Maidsroom',\n",
              " 'amenities.Swimming Pool View',\n",
              " 'amenities.Television',\n",
              " 'amenities.Clubhouse',\n",
              " 'amenities.Function room',\n",
              " 'amenities.Lounge',\n",
              " 'amenities.Pool Deck',\n",
              " 'amenities.Reflexology Path',\n",
              " 'amenities.Spa pool',\n",
              " 'amenities.Tennis courts',\n",
              " 'amenities.Playground',\n",
              " 'amenities.Audio System',\n",
              " 'amenities.Bombshelter',\n",
              " 'amenities.Garage',\n",
              " 'amenities.Private Garden',\n",
              " 'amenities.Private Pool',\n",
              " 'amenities.Penthouse',\n",
              " 'amenities.Basement car park',\n",
              " 'amenities.Drop Off Point',\n",
              " 'amenities.Lift lobby',\n",
              " 'amenities.Main entrance',\n",
              " 'amenities.Game room',\n",
              " 'amenities.Bed',\n",
              " 'amenities.Iron / Ironing Board',\n",
              " 'amenities.Living Room Furniture',\n",
              " 'amenities.Launderette',\n",
              " 'amenities.Library',\n",
              " 'amenities.Pavillion',\n",
              " 'amenities.Steam bath',\n",
              " 'amenities.Terrace',\n",
              " 'amenities.Fun pool',\n",
              " 'amenities.Original Condition',\n",
              " 'amenities.Adult Fitness Stations',\n",
              " 'amenities.Putting Green',\n",
              " 'amenities.Sauna',\n",
              " 'amenities.Squash court',\n",
              " 'amenities.Colonial Building',\n",
              " 'amenities.Billiards room',\n",
              " 'amenities.Mini-Mart',\n",
              " 'amenities.Multi-purpose hall',\n",
              " 'amenities.Karaoke',\n",
              " 'amenities.Jogging track',\n",
              " 'amenities.Low Floor',\n",
              " 'amenities.Multi-Storey Car Park',\n",
              " 'amenities.Dining Room Furniture',\n",
              " 'amenities.Roof Terrace',\n",
              " 'amenities.Kitchen Utensils',\n",
              " \"amenities.Children's Playground\",\n",
              " 'amenities.Sky Lounge',\n",
              " 'amenities.Sea View',\n",
              " 'amenities.Basketball court',\n",
              " 'amenities.Vacuum Cleaner',\n",
              " 'amenities.Aerobic pool',\n",
              " 'amenities.Cafes',\n",
              " 'amenities.Eateries',\n",
              " 'amenities.Open car park',\n",
              " 'amenities.Amphitheatre',\n",
              " 'amenities.Community Garden',\n",
              " 'amenities.Meeting room',\n",
              " 'amenities.Adventure park',\n",
              " 'amenities.Bowling alley',\n",
              " 'amenities.Aircon Facilities',\n",
              " 'amenities.DVD Player',\n",
              " 'amenities.Badminton hall',\n",
              " 'amenities.Hairdryer',\n",
              " 'amenities.Electrical Sub-Station',\n",
              " 'amenities.Elderly Wellness Stations',\n",
              " 'amenities.Precinct Pavilion',\n",
              " 'amenities.Driving range',\n",
              " 'amenities.Shelters',\n",
              " 'amenities.Lake View',\n",
              " 'amenities.Mini golf range',\n",
              " 'amenities.Existing Bus Stop',\n",
              " 'amenities.Covered Linkways',\n",
              " 'amenities.Pantry',\n",
              " 'amenities.Community Plaza',\n",
              " 'amenities.24-Hour Access',\n",
              " 'amenities.Car Parking',\n",
              " 'amenities.Utilities Center',\n",
              " 'amenities.Kitchen',\n",
              " 'amenities.Meeting Rooms',\n",
              " 'amenities.CCTV Security',\n",
              " 'amenities.Large Floor Plates']"
            ]
          },
          "metadata": {},
          "execution_count": 92
        }
      ]
    },
    {
      "cell_type": "code",
      "source": [
        "# slimming dataframe into df2 by erasing columns with more 50% missings\n",
        "df2 = df.drop(columns = will_erase)\n",
        "df2.info() # 53개 컬럼만 남았음. 행은 241,117개 존재."
      ],
      "metadata": {
        "id": "oqsvBC7okpPt",
        "colab": {
          "base_uri": "https://localhost:8080/"
        },
        "outputId": "11212241-108d-4649-d3c6-da8fe65cb0fa"
      },
      "execution_count": 93,
      "outputs": [
        {
          "output_type": "stream",
          "name": "stdout",
          "text": [
            "<class 'pandas.core.frame.DataFrame'>\n",
            "RangeIndex: 241117 entries, 0 to 241116\n",
            "Data columns (total 54 columns):\n",
            " #   Column                                  Non-Null Count   Dtype         \n",
            "---  ------                                  --------------   -----         \n",
            " 0   URL                                     241117 non-null  object        \n",
            " 1   agent.name                              241117 non-null  object        \n",
            " 2   agent.license                           241117 non-null  object        \n",
            " 3   agent.url                               241117 non-null  object        \n",
            " 4   agent.agency                            241117 non-null  object        \n",
            " 5   agent.phone_number                      241117 non-null  object        \n",
            " 6   listing_properties                      241117 non-null  object        \n",
            " 7   Type                                    241117 non-null  object        \n",
            " 8   Tenure                                  241117 non-null  object        \n",
            " 9   Floorsize                               241117 non-null  object        \n",
            " 10  Developer                               241117 non-null  object        \n",
            " 11  listing_properties.Land size            241117 non-null  object        \n",
            " 12  PSF                                     241117 non-null  object        \n",
            " 13  Furnishing                              241117 non-null  object        \n",
            " 14  TOP                                     241117 non-null  object        \n",
            " 15  Floor                                   241117 non-null  object        \n",
            " 16  ListingID                               241022 non-null  float64       \n",
            " 17  listing_properties.Availability         241117 non-null  object        \n",
            " 18  Listed_on                               241117 non-null  object        \n",
            " 19  listing_properties.Maintenance Fee      241117 non-null  object        \n",
            " 20  development_properties.Completion Year  217579 non-null  float64       \n",
            " 21  properties.Tenure                       241117 non-null  object        \n",
            " 22  Total Unit(s)                           192284 non-null  float64       \n",
            " 23  properties.url                          241117 non-null  object        \n",
            " 24  properties.name                         241117 non-null  object        \n",
            " 25  amenities                               241117 non-null  object        \n",
            " 26  Air-Conditioning                        190760 non-null  object        \n",
            " 27  Cooker Hood                             149848 non-null  object        \n",
            " 28  amenities.Fridge                        148593 non-null  object        \n",
            " 29  amenities.Washing Machine               146995 non-null  object        \n",
            " 30  Water Heater                            164914 non-null  object        \n",
            " 31  amenities.Gymnasium room                141216 non-null  object        \n",
            " 32  amenities.Barbeque Area                 122429 non-null  object        \n",
            " 33  amenities.Swimming pool                 130416 non-null  object        \n",
            " 34  description                             241117 non-null  object        \n",
            " 35  address.country                         241117 non-null  object        \n",
            " 36  address.street                          241117 non-null  object        \n",
            " 37  address.postal_code                     235025 non-null  float64       \n",
            " 38  address.locality                        241117 non-null  object        \n",
            " 39  latitude                                240422 non-null  float64       \n",
            " 40  longitude                               240422 non-null  float64       \n",
            " 41  rooms                                   241117 non-null  object        \n",
            " 42  bathrooms                               241117 non-null  object        \n",
            " 43  floor_size                              241034 non-null  float64       \n",
            " 44  floor_size_unit                         241117 non-null  object        \n",
            " 45  price                                   240961 non-null  float64       \n",
            " 46  currency                                241117 non-null  object        \n",
            " 47  image_urls                              241117 non-null  object        \n",
            " 48  created_at                              241117 non-null  datetime64[ns]\n",
            " 49  images                                  241117 non-null  object        \n",
            " 50  images.url                              241117 non-null  object        \n",
            " 51  images.path                             241117 non-null  object        \n",
            " 52  images.checksum                         241117 non-null  object        \n",
            " 53  num_img                                 241117 non-null  int64         \n",
            "dtypes: datetime64[ns](1), float64(8), int64(1), object(44)\n",
            "memory usage: 99.3+ MB\n"
          ]
        }
      ]
    },
    {
      "cell_type": "code",
      "source": [
        "df2['agent.license'].value_counts(dropna=False)"
      ],
      "metadata": {
        "colab": {
          "base_uri": "https://localhost:8080/"
        },
        "id": "CfcyCNKMZICe",
        "outputId": "c9f8c179-bc85-41a2-909a-ee6185b6c549"
      },
      "execution_count": 168,
      "outputs": [
        {
          "output_type": "execute_result",
          "data": {
            "text/plain": [
              "                             13169\n",
              "CEA: R046484A / L3009250K     1280\n",
              "CEA: R044190F / L3002382K     1132\n",
              "CEA: R044643F / L3009793I     1107\n",
              "CEA: R059242D / L3008022J      870\n",
              "                             ...  \n",
              "CEA: R026567I / L3002382K        1\n",
              "CEA: R051876C / L3008899K        1\n",
              "CEA: R020537D / L3009250K        1\n",
              "CEA: R011298H / L3008022J        1\n",
              "CEA: R002350J / L3008022J        1\n",
              "Name: agent.license, Length: 5462, dtype: int64"
            ]
          },
          "metadata": {},
          "execution_count": 168
        }
      ]
    },
    {
      "cell_type": "code",
      "source": [
        "df2.head()"
      ],
      "metadata": {
        "colab": {
          "base_uri": "https://localhost:8080/",
          "height": 473
        },
        "id": "kV-JL7aw_nqk",
        "outputId": "f2943eae-669f-4e07-aa18-103e8a2f8a0f"
      },
      "execution_count": 94,
      "outputs": [
        {
          "output_type": "execute_result",
          "data": {
            "text/plain": [
              "                                                                                                                                                    URL  \\\n",
              "0  http://api.scraperapi.com/?api_key=b0560c3ca5b0704c0184a820d4e42d70&url=https://www.propertyguru.com.sg/listing/21989918/for-rent-duchess-residences   \n",
              "1  http://api.scraperapi.com/?api_key=b0560c3ca5b0704c0184a820d4e42d70&url=https://www.propertyguru.com.sg/listing/21989918/for-rent-duchess-residences   \n",
              "2  http://api.scraperapi.com/?api_key=b0560c3ca5b0704c0184a820d4e42d70&url=https://www.propertyguru.com.sg/listing/21989918/for-rent-duchess-residences   \n",
              "3  http://api.scraperapi.com/?api_key=b0560c3ca5b0704c0184a820d4e42d70&url=https://www.propertyguru.com.sg/listing/21989918/for-rent-duchess-residences   \n",
              "4  http://api.scraperapi.com/?api_key=b0560c3ca5b0704c0184a820d4e42d70&url=https://www.propertyguru.com.sg/listing/21989918/for-rent-duchess-residences   \n",
              "\n",
              "    agent.name              agent.license  \\\n",
              "0  Julian Zhuo  CEA: R042428I / L3008022J   \n",
              "1  Julian Zhuo  CEA: R042428I / L3008022J   \n",
              "2  Julian Zhuo  CEA: R042428I / L3008022J   \n",
              "3  Julian Zhuo  CEA: R042428I / L3008022J   \n",
              "4  Julian Zhuo  CEA: R042428I / L3008022J   \n",
              "\n",
              "                                              agent.url  \\\n",
              "0  https://propertyguru.com.sg/agent/julian-zhuo-455852   \n",
              "1  https://propertyguru.com.sg/agent/julian-zhuo-455852   \n",
              "2  https://propertyguru.com.sg/agent/julian-zhuo-455852   \n",
              "3  https://propertyguru.com.sg/agent/julian-zhuo-455852   \n",
              "4  https://propertyguru.com.sg/agent/julian-zhuo-455852   \n",
              "\n",
              "             agent.agency agent.phone_number listing_properties  \\\n",
              "0  PROPNEX REALTY PTE LTD      +65 8786 4499                b''   \n",
              "1  PROPNEX REALTY PTE LTD      +65 8786 4499                b''   \n",
              "2  PROPNEX REALTY PTE LTD      +65 8786 4499                b''   \n",
              "3  PROPNEX REALTY PTE LTD      +65 8786 4499                b''   \n",
              "4  PROPNEX REALTY PTE LTD      +65 8786 4499                b''   \n",
              "\n",
              "                   Type              Tenure  Floorsize  ... floor_size_unit  \\\n",
              "0  Condominium For Rent  999-year Leasehold  3000 sqft  ...            sqft   \n",
              "1  Condominium For Rent  999-year Leasehold  3000 sqft  ...            sqft   \n",
              "2  Condominium For Rent  999-year Leasehold  3000 sqft  ...            sqft   \n",
              "3  Condominium For Rent  999-year Leasehold  3000 sqft  ...            sqft   \n",
              "4  Condominium For Rent  999-year Leasehold  3000 sqft  ...            sqft   \n",
              "\n",
              "    price currency  \\\n",
              "0  9494.0      SGD   \n",
              "1  9494.0      SGD   \n",
              "2  9494.0      SGD   \n",
              "3  9494.0      SGD   \n",
              "4  9494.0      SGD   \n",
              "\n",
              "                                                                                                                     image_urls  \\\n",
              "0  https://sg1-cdn.pgimgs.com/listing/21989918/UPHO.110700336.V800/Duchess-Residences-Tanglin-Holland-Bukit-Timah-Singapore.jpg   \n",
              "1  https://sg1-cdn.pgimgs.com/listing/21989918/UPHO.110700368.V800/Duchess-Residences-Tanglin-Holland-Bukit-Timah-Singapore.jpg   \n",
              "2  https://sg2-cdn.pgimgs.com/listing/21989918/UPHO.110700395.V800/Duchess-Residences-Tanglin-Holland-Bukit-Timah-Singapore.jpg   \n",
              "3  https://sg2-cdn.pgimgs.com/listing/21989918/UPHO.110700389.V800/Duchess-Residences-Tanglin-Holland-Bukit-Timah-Singapore.jpg   \n",
              "4  https://sg1-cdn.pgimgs.com/listing/21989918/UPHO.110700386.V800/Duchess-Residences-Tanglin-Holland-Bukit-Timah-Singapore.jpg   \n",
              "\n",
              "                  created_at images  \\\n",
              "0 2020-11-02 08:55:53.259367    b''   \n",
              "1 2020-11-02 08:55:53.259367    b''   \n",
              "2 2020-11-02 08:55:53.259367    b''   \n",
              "3 2020-11-02 08:55:53.259367    b''   \n",
              "4 2020-11-02 08:55:53.259367    b''   \n",
              "\n",
              "                                                                                                                     images.url  \\\n",
              "0  https://sg1-cdn.pgimgs.com/listing/21989918/UPHO.110700336.V800/Duchess-Residences-Tanglin-Holland-Bukit-Timah-Singapore.jpg   \n",
              "1  https://sg1-cdn.pgimgs.com/listing/21989918/UPHO.110700368.V800/Duchess-Residences-Tanglin-Holland-Bukit-Timah-Singapore.jpg   \n",
              "2  https://sg2-cdn.pgimgs.com/listing/21989918/UPHO.110700395.V800/Duchess-Residences-Tanglin-Holland-Bukit-Timah-Singapore.jpg   \n",
              "3  https://sg2-cdn.pgimgs.com/listing/21989918/UPHO.110700389.V800/Duchess-Residences-Tanglin-Holland-Bukit-Timah-Singapore.jpg   \n",
              "4  https://sg1-cdn.pgimgs.com/listing/21989918/UPHO.110700386.V800/Duchess-Residences-Tanglin-Holland-Bukit-Timah-Singapore.jpg   \n",
              "\n",
              "                                         images.path  \\\n",
              "0  full/4c8344a363102f41c0b483a846bc48092e71fa48.jpg   \n",
              "1  full/9e62c2875e9954dbfd84bdc4268e562ab3b4d526.jpg   \n",
              "2  full/f165ec3a2c01d26a917c33c06911863083c33b1a.jpg   \n",
              "3  full/00eecb3b9f26c55a491bb9d4b1bc20d95678241c.jpg   \n",
              "4  full/b7d5384e7db26f86e9ce306c9133210c8acd9c95.jpg   \n",
              "\n",
              "                    images.checksum num_img  \n",
              "0  c5efda1c084d057d1c03a91c4907c587      34  \n",
              "1  d6c319e818d4416ee8989db7e0e660cf      34  \n",
              "2  eb46fdff8f1d5408f53edc1252279515      34  \n",
              "3  657d7625dc72b8ed0aeab719ad62c468      34  \n",
              "4  3b40592385ba45cf59ddc4393f4e61b5      34  \n",
              "\n",
              "[5 rows x 54 columns]"
            ],
            "text/html": [
              "\n",
              "  <div id=\"df-bc7307eb-cc9b-421b-829a-f47094db792b\">\n",
              "    <div class=\"colab-df-container\">\n",
              "      <div>\n",
              "<style scoped>\n",
              "    .dataframe tbody tr th:only-of-type {\n",
              "        vertical-align: middle;\n",
              "    }\n",
              "\n",
              "    .dataframe tbody tr th {\n",
              "        vertical-align: top;\n",
              "    }\n",
              "\n",
              "    .dataframe thead th {\n",
              "        text-align: right;\n",
              "    }\n",
              "</style>\n",
              "<table border=\"1\" class=\"dataframe\">\n",
              "  <thead>\n",
              "    <tr style=\"text-align: right;\">\n",
              "      <th></th>\n",
              "      <th>URL</th>\n",
              "      <th>agent.name</th>\n",
              "      <th>agent.license</th>\n",
              "      <th>agent.url</th>\n",
              "      <th>agent.agency</th>\n",
              "      <th>agent.phone_number</th>\n",
              "      <th>listing_properties</th>\n",
              "      <th>Type</th>\n",
              "      <th>Tenure</th>\n",
              "      <th>Floorsize</th>\n",
              "      <th>...</th>\n",
              "      <th>floor_size_unit</th>\n",
              "      <th>price</th>\n",
              "      <th>currency</th>\n",
              "      <th>image_urls</th>\n",
              "      <th>created_at</th>\n",
              "      <th>images</th>\n",
              "      <th>images.url</th>\n",
              "      <th>images.path</th>\n",
              "      <th>images.checksum</th>\n",
              "      <th>num_img</th>\n",
              "    </tr>\n",
              "  </thead>\n",
              "  <tbody>\n",
              "    <tr>\n",
              "      <th>0</th>\n",
              "      <td>http://api.scraperapi.com/?api_key=b0560c3ca5b0704c0184a820d4e42d70&amp;url=https://www.propertyguru.com.sg/listing/21989918/for-rent-duchess-residences</td>\n",
              "      <td>Julian Zhuo</td>\n",
              "      <td>CEA: R042428I / L3008022J</td>\n",
              "      <td>https://propertyguru.com.sg/agent/julian-zhuo-455852</td>\n",
              "      <td>PROPNEX REALTY PTE LTD</td>\n",
              "      <td>+65 8786 4499</td>\n",
              "      <td>b''</td>\n",
              "      <td>Condominium For Rent</td>\n",
              "      <td>999-year Leasehold</td>\n",
              "      <td>3000 sqft</td>\n",
              "      <td>...</td>\n",
              "      <td>sqft</td>\n",
              "      <td>9494.0</td>\n",
              "      <td>SGD</td>\n",
              "      <td>https://sg1-cdn.pgimgs.com/listing/21989918/UPHO.110700336.V800/Duchess-Residences-Tanglin-Holland-Bukit-Timah-Singapore.jpg</td>\n",
              "      <td>2020-11-02 08:55:53.259367</td>\n",
              "      <td>b''</td>\n",
              "      <td>https://sg1-cdn.pgimgs.com/listing/21989918/UPHO.110700336.V800/Duchess-Residences-Tanglin-Holland-Bukit-Timah-Singapore.jpg</td>\n",
              "      <td>full/4c8344a363102f41c0b483a846bc48092e71fa48.jpg</td>\n",
              "      <td>c5efda1c084d057d1c03a91c4907c587</td>\n",
              "      <td>34</td>\n",
              "    </tr>\n",
              "    <tr>\n",
              "      <th>1</th>\n",
              "      <td>http://api.scraperapi.com/?api_key=b0560c3ca5b0704c0184a820d4e42d70&amp;url=https://www.propertyguru.com.sg/listing/21989918/for-rent-duchess-residences</td>\n",
              "      <td>Julian Zhuo</td>\n",
              "      <td>CEA: R042428I / L3008022J</td>\n",
              "      <td>https://propertyguru.com.sg/agent/julian-zhuo-455852</td>\n",
              "      <td>PROPNEX REALTY PTE LTD</td>\n",
              "      <td>+65 8786 4499</td>\n",
              "      <td>b''</td>\n",
              "      <td>Condominium For Rent</td>\n",
              "      <td>999-year Leasehold</td>\n",
              "      <td>3000 sqft</td>\n",
              "      <td>...</td>\n",
              "      <td>sqft</td>\n",
              "      <td>9494.0</td>\n",
              "      <td>SGD</td>\n",
              "      <td>https://sg1-cdn.pgimgs.com/listing/21989918/UPHO.110700368.V800/Duchess-Residences-Tanglin-Holland-Bukit-Timah-Singapore.jpg</td>\n",
              "      <td>2020-11-02 08:55:53.259367</td>\n",
              "      <td>b''</td>\n",
              "      <td>https://sg1-cdn.pgimgs.com/listing/21989918/UPHO.110700368.V800/Duchess-Residences-Tanglin-Holland-Bukit-Timah-Singapore.jpg</td>\n",
              "      <td>full/9e62c2875e9954dbfd84bdc4268e562ab3b4d526.jpg</td>\n",
              "      <td>d6c319e818d4416ee8989db7e0e660cf</td>\n",
              "      <td>34</td>\n",
              "    </tr>\n",
              "    <tr>\n",
              "      <th>2</th>\n",
              "      <td>http://api.scraperapi.com/?api_key=b0560c3ca5b0704c0184a820d4e42d70&amp;url=https://www.propertyguru.com.sg/listing/21989918/for-rent-duchess-residences</td>\n",
              "      <td>Julian Zhuo</td>\n",
              "      <td>CEA: R042428I / L3008022J</td>\n",
              "      <td>https://propertyguru.com.sg/agent/julian-zhuo-455852</td>\n",
              "      <td>PROPNEX REALTY PTE LTD</td>\n",
              "      <td>+65 8786 4499</td>\n",
              "      <td>b''</td>\n",
              "      <td>Condominium For Rent</td>\n",
              "      <td>999-year Leasehold</td>\n",
              "      <td>3000 sqft</td>\n",
              "      <td>...</td>\n",
              "      <td>sqft</td>\n",
              "      <td>9494.0</td>\n",
              "      <td>SGD</td>\n",
              "      <td>https://sg2-cdn.pgimgs.com/listing/21989918/UPHO.110700395.V800/Duchess-Residences-Tanglin-Holland-Bukit-Timah-Singapore.jpg</td>\n",
              "      <td>2020-11-02 08:55:53.259367</td>\n",
              "      <td>b''</td>\n",
              "      <td>https://sg2-cdn.pgimgs.com/listing/21989918/UPHO.110700395.V800/Duchess-Residences-Tanglin-Holland-Bukit-Timah-Singapore.jpg</td>\n",
              "      <td>full/f165ec3a2c01d26a917c33c06911863083c33b1a.jpg</td>\n",
              "      <td>eb46fdff8f1d5408f53edc1252279515</td>\n",
              "      <td>34</td>\n",
              "    </tr>\n",
              "    <tr>\n",
              "      <th>3</th>\n",
              "      <td>http://api.scraperapi.com/?api_key=b0560c3ca5b0704c0184a820d4e42d70&amp;url=https://www.propertyguru.com.sg/listing/21989918/for-rent-duchess-residences</td>\n",
              "      <td>Julian Zhuo</td>\n",
              "      <td>CEA: R042428I / L3008022J</td>\n",
              "      <td>https://propertyguru.com.sg/agent/julian-zhuo-455852</td>\n",
              "      <td>PROPNEX REALTY PTE LTD</td>\n",
              "      <td>+65 8786 4499</td>\n",
              "      <td>b''</td>\n",
              "      <td>Condominium For Rent</td>\n",
              "      <td>999-year Leasehold</td>\n",
              "      <td>3000 sqft</td>\n",
              "      <td>...</td>\n",
              "      <td>sqft</td>\n",
              "      <td>9494.0</td>\n",
              "      <td>SGD</td>\n",
              "      <td>https://sg2-cdn.pgimgs.com/listing/21989918/UPHO.110700389.V800/Duchess-Residences-Tanglin-Holland-Bukit-Timah-Singapore.jpg</td>\n",
              "      <td>2020-11-02 08:55:53.259367</td>\n",
              "      <td>b''</td>\n",
              "      <td>https://sg2-cdn.pgimgs.com/listing/21989918/UPHO.110700389.V800/Duchess-Residences-Tanglin-Holland-Bukit-Timah-Singapore.jpg</td>\n",
              "      <td>full/00eecb3b9f26c55a491bb9d4b1bc20d95678241c.jpg</td>\n",
              "      <td>657d7625dc72b8ed0aeab719ad62c468</td>\n",
              "      <td>34</td>\n",
              "    </tr>\n",
              "    <tr>\n",
              "      <th>4</th>\n",
              "      <td>http://api.scraperapi.com/?api_key=b0560c3ca5b0704c0184a820d4e42d70&amp;url=https://www.propertyguru.com.sg/listing/21989918/for-rent-duchess-residences</td>\n",
              "      <td>Julian Zhuo</td>\n",
              "      <td>CEA: R042428I / L3008022J</td>\n",
              "      <td>https://propertyguru.com.sg/agent/julian-zhuo-455852</td>\n",
              "      <td>PROPNEX REALTY PTE LTD</td>\n",
              "      <td>+65 8786 4499</td>\n",
              "      <td>b''</td>\n",
              "      <td>Condominium For Rent</td>\n",
              "      <td>999-year Leasehold</td>\n",
              "      <td>3000 sqft</td>\n",
              "      <td>...</td>\n",
              "      <td>sqft</td>\n",
              "      <td>9494.0</td>\n",
              "      <td>SGD</td>\n",
              "      <td>https://sg1-cdn.pgimgs.com/listing/21989918/UPHO.110700386.V800/Duchess-Residences-Tanglin-Holland-Bukit-Timah-Singapore.jpg</td>\n",
              "      <td>2020-11-02 08:55:53.259367</td>\n",
              "      <td>b''</td>\n",
              "      <td>https://sg1-cdn.pgimgs.com/listing/21989918/UPHO.110700386.V800/Duchess-Residences-Tanglin-Holland-Bukit-Timah-Singapore.jpg</td>\n",
              "      <td>full/b7d5384e7db26f86e9ce306c9133210c8acd9c95.jpg</td>\n",
              "      <td>3b40592385ba45cf59ddc4393f4e61b5</td>\n",
              "      <td>34</td>\n",
              "    </tr>\n",
              "  </tbody>\n",
              "</table>\n",
              "<p>5 rows × 54 columns</p>\n",
              "</div>\n",
              "      <button class=\"colab-df-convert\" onclick=\"convertToInteractive('df-bc7307eb-cc9b-421b-829a-f47094db792b')\"\n",
              "              title=\"Convert this dataframe to an interactive table.\"\n",
              "              style=\"display:none;\">\n",
              "        \n",
              "  <svg xmlns=\"http://www.w3.org/2000/svg\" height=\"24px\"viewBox=\"0 0 24 24\"\n",
              "       width=\"24px\">\n",
              "    <path d=\"M0 0h24v24H0V0z\" fill=\"none\"/>\n",
              "    <path d=\"M18.56 5.44l.94 2.06.94-2.06 2.06-.94-2.06-.94-.94-2.06-.94 2.06-2.06.94zm-11 1L8.5 8.5l.94-2.06 2.06-.94-2.06-.94L8.5 2.5l-.94 2.06-2.06.94zm10 10l.94 2.06.94-2.06 2.06-.94-2.06-.94-.94-2.06-.94 2.06-2.06.94z\"/><path d=\"M17.41 7.96l-1.37-1.37c-.4-.4-.92-.59-1.43-.59-.52 0-1.04.2-1.43.59L10.3 9.45l-7.72 7.72c-.78.78-.78 2.05 0 2.83L4 21.41c.39.39.9.59 1.41.59.51 0 1.02-.2 1.41-.59l7.78-7.78 2.81-2.81c.8-.78.8-2.07 0-2.86zM5.41 20L4 18.59l7.72-7.72 1.47 1.35L5.41 20z\"/>\n",
              "  </svg>\n",
              "      </button>\n",
              "      \n",
              "  <style>\n",
              "    .colab-df-container {\n",
              "      display:flex;\n",
              "      flex-wrap:wrap;\n",
              "      gap: 12px;\n",
              "    }\n",
              "\n",
              "    .colab-df-convert {\n",
              "      background-color: #E8F0FE;\n",
              "      border: none;\n",
              "      border-radius: 50%;\n",
              "      cursor: pointer;\n",
              "      display: none;\n",
              "      fill: #1967D2;\n",
              "      height: 32px;\n",
              "      padding: 0 0 0 0;\n",
              "      width: 32px;\n",
              "    }\n",
              "\n",
              "    .colab-df-convert:hover {\n",
              "      background-color: #E2EBFA;\n",
              "      box-shadow: 0px 1px 2px rgba(60, 64, 67, 0.3), 0px 1px 3px 1px rgba(60, 64, 67, 0.15);\n",
              "      fill: #174EA6;\n",
              "    }\n",
              "\n",
              "    [theme=dark] .colab-df-convert {\n",
              "      background-color: #3B4455;\n",
              "      fill: #D2E3FC;\n",
              "    }\n",
              "\n",
              "    [theme=dark] .colab-df-convert:hover {\n",
              "      background-color: #434B5C;\n",
              "      box-shadow: 0px 1px 3px 1px rgba(0, 0, 0, 0.15);\n",
              "      filter: drop-shadow(0px 1px 2px rgba(0, 0, 0, 0.3));\n",
              "      fill: #FFFFFF;\n",
              "    }\n",
              "  </style>\n",
              "\n",
              "      <script>\n",
              "        const buttonEl =\n",
              "          document.querySelector('#df-bc7307eb-cc9b-421b-829a-f47094db792b button.colab-df-convert');\n",
              "        buttonEl.style.display =\n",
              "          google.colab.kernel.accessAllowed ? 'block' : 'none';\n",
              "\n",
              "        async function convertToInteractive(key) {\n",
              "          const element = document.querySelector('#df-bc7307eb-cc9b-421b-829a-f47094db792b');\n",
              "          const dataTable =\n",
              "            await google.colab.kernel.invokeFunction('convertToInteractive',\n",
              "                                                     [key], {});\n",
              "          if (!dataTable) return;\n",
              "\n",
              "          const docLinkHtml = 'Like what you see? Visit the ' +\n",
              "            '<a target=\"_blank\" href=https://colab.research.google.com/notebooks/data_table.ipynb>data table notebook</a>'\n",
              "            + ' to learn more about interactive tables.';\n",
              "          element.innerHTML = '';\n",
              "          dataTable['output_type'] = 'display_data';\n",
              "          await google.colab.output.renderOutput(dataTable, element);\n",
              "          const docLink = document.createElement('div');\n",
              "          docLink.innerHTML = docLinkHtml;\n",
              "          element.appendChild(docLink);\n",
              "        }\n",
              "      </script>\n",
              "    </div>\n",
              "  </div>\n",
              "  "
            ]
          },
          "metadata": {},
          "execution_count": 94
        }
      ]
    },
    {
      "cell_type": "code",
      "source": [],
      "metadata": {
        "id": "HU3sep7UDuZf"
      },
      "execution_count": null,
      "outputs": []
    },
    {
      "cell_type": "code",
      "source": [
        "df2.columns"
      ],
      "metadata": {
        "colab": {
          "base_uri": "https://localhost:8080/"
        },
        "id": "IN-KjNjGDYS0",
        "outputId": "0b7144b9-12ae-4f67-b08d-4f3ee725551f"
      },
      "execution_count": 95,
      "outputs": [
        {
          "output_type": "execute_result",
          "data": {
            "text/plain": [
              "Index(['URL', 'agent.name', 'agent.license', 'agent.url', 'agent.agency',\n",
              "       'agent.phone_number', 'listing_properties', 'Type', 'Tenure',\n",
              "       'Floorsize', 'Developer', 'listing_properties.Land size', 'PSF',\n",
              "       'Furnishing', 'TOP', 'Floor', 'ListingID',\n",
              "       'listing_properties.Availability', 'Listed_on',\n",
              "       'listing_properties.Maintenance Fee',\n",
              "       'development_properties.Completion Year', 'properties.Tenure',\n",
              "       'Total Unit(s)', 'properties.url', 'properties.name', 'amenities',\n",
              "       'Air-Conditioning', 'Cooker Hood', 'amenities.Fridge',\n",
              "       'amenities.Washing Machine', 'Water Heater', 'amenities.Gymnasium room',\n",
              "       'amenities.Barbeque Area', 'amenities.Swimming pool', 'description',\n",
              "       'address.country', 'address.street', 'address.postal_code',\n",
              "       'address.locality', 'latitude', 'longitude', 'rooms', 'bathrooms',\n",
              "       'floor_size', 'floor_size_unit', 'price', 'currency', 'image_urls',\n",
              "       'created_at', 'images', 'images.url', 'images.path', 'images.checksum',\n",
              "       'num_img'],\n",
              "      dtype='object')"
            ]
          },
          "metadata": {},
          "execution_count": 95
        }
      ]
    },
    {
      "cell_type": "code",
      "source": [
        "df2[[  'price', 'currency', 'image_urls',\n",
        "       'created_at', 'images', 'images.url', 'images.path', 'images.checksum',\n",
        "       'num_img']].head()"
      ],
      "metadata": {
        "colab": {
          "base_uri": "https://localhost:8080/",
          "height": 444
        },
        "id": "-fBzb0RjD2wW",
        "outputId": "834b382a-037a-43c9-dd84-7da985dbb02f"
      },
      "execution_count": 101,
      "outputs": [
        {
          "output_type": "execute_result",
          "data": {
            "text/plain": [
              "    price currency  \\\n",
              "0  9494.0      SGD   \n",
              "1  9494.0      SGD   \n",
              "2  9494.0      SGD   \n",
              "3  9494.0      SGD   \n",
              "4  9494.0      SGD   \n",
              "\n",
              "                                                                                                                     image_urls  \\\n",
              "0  https://sg1-cdn.pgimgs.com/listing/21989918/UPHO.110700336.V800/Duchess-Residences-Tanglin-Holland-Bukit-Timah-Singapore.jpg   \n",
              "1  https://sg1-cdn.pgimgs.com/listing/21989918/UPHO.110700368.V800/Duchess-Residences-Tanglin-Holland-Bukit-Timah-Singapore.jpg   \n",
              "2  https://sg2-cdn.pgimgs.com/listing/21989918/UPHO.110700395.V800/Duchess-Residences-Tanglin-Holland-Bukit-Timah-Singapore.jpg   \n",
              "3  https://sg2-cdn.pgimgs.com/listing/21989918/UPHO.110700389.V800/Duchess-Residences-Tanglin-Holland-Bukit-Timah-Singapore.jpg   \n",
              "4  https://sg1-cdn.pgimgs.com/listing/21989918/UPHO.110700386.V800/Duchess-Residences-Tanglin-Holland-Bukit-Timah-Singapore.jpg   \n",
              "\n",
              "                  created_at images  \\\n",
              "0 2020-11-02 08:55:53.259367    b''   \n",
              "1 2020-11-02 08:55:53.259367    b''   \n",
              "2 2020-11-02 08:55:53.259367    b''   \n",
              "3 2020-11-02 08:55:53.259367    b''   \n",
              "4 2020-11-02 08:55:53.259367    b''   \n",
              "\n",
              "                                                                                                                     images.url  \\\n",
              "0  https://sg1-cdn.pgimgs.com/listing/21989918/UPHO.110700336.V800/Duchess-Residences-Tanglin-Holland-Bukit-Timah-Singapore.jpg   \n",
              "1  https://sg1-cdn.pgimgs.com/listing/21989918/UPHO.110700368.V800/Duchess-Residences-Tanglin-Holland-Bukit-Timah-Singapore.jpg   \n",
              "2  https://sg2-cdn.pgimgs.com/listing/21989918/UPHO.110700395.V800/Duchess-Residences-Tanglin-Holland-Bukit-Timah-Singapore.jpg   \n",
              "3  https://sg2-cdn.pgimgs.com/listing/21989918/UPHO.110700389.V800/Duchess-Residences-Tanglin-Holland-Bukit-Timah-Singapore.jpg   \n",
              "4  https://sg1-cdn.pgimgs.com/listing/21989918/UPHO.110700386.V800/Duchess-Residences-Tanglin-Holland-Bukit-Timah-Singapore.jpg   \n",
              "\n",
              "                                         images.path  \\\n",
              "0  full/4c8344a363102f41c0b483a846bc48092e71fa48.jpg   \n",
              "1  full/9e62c2875e9954dbfd84bdc4268e562ab3b4d526.jpg   \n",
              "2  full/f165ec3a2c01d26a917c33c06911863083c33b1a.jpg   \n",
              "3  full/00eecb3b9f26c55a491bb9d4b1bc20d95678241c.jpg   \n",
              "4  full/b7d5384e7db26f86e9ce306c9133210c8acd9c95.jpg   \n",
              "\n",
              "                    images.checksum  num_img  \n",
              "0  c5efda1c084d057d1c03a91c4907c587       34  \n",
              "1  d6c319e818d4416ee8989db7e0e660cf       34  \n",
              "2  eb46fdff8f1d5408f53edc1252279515       34  \n",
              "3  657d7625dc72b8ed0aeab719ad62c468       34  \n",
              "4  3b40592385ba45cf59ddc4393f4e61b5       34  "
            ],
            "text/html": [
              "\n",
              "  <div id=\"df-29965149-fa62-4e80-b81c-b4945a1d4979\">\n",
              "    <div class=\"colab-df-container\">\n",
              "      <div>\n",
              "<style scoped>\n",
              "    .dataframe tbody tr th:only-of-type {\n",
              "        vertical-align: middle;\n",
              "    }\n",
              "\n",
              "    .dataframe tbody tr th {\n",
              "        vertical-align: top;\n",
              "    }\n",
              "\n",
              "    .dataframe thead th {\n",
              "        text-align: right;\n",
              "    }\n",
              "</style>\n",
              "<table border=\"1\" class=\"dataframe\">\n",
              "  <thead>\n",
              "    <tr style=\"text-align: right;\">\n",
              "      <th></th>\n",
              "      <th>price</th>\n",
              "      <th>currency</th>\n",
              "      <th>image_urls</th>\n",
              "      <th>created_at</th>\n",
              "      <th>images</th>\n",
              "      <th>images.url</th>\n",
              "      <th>images.path</th>\n",
              "      <th>images.checksum</th>\n",
              "      <th>num_img</th>\n",
              "    </tr>\n",
              "  </thead>\n",
              "  <tbody>\n",
              "    <tr>\n",
              "      <th>0</th>\n",
              "      <td>9494.0</td>\n",
              "      <td>SGD</td>\n",
              "      <td>https://sg1-cdn.pgimgs.com/listing/21989918/UPHO.110700336.V800/Duchess-Residences-Tanglin-Holland-Bukit-Timah-Singapore.jpg</td>\n",
              "      <td>2020-11-02 08:55:53.259367</td>\n",
              "      <td>b''</td>\n",
              "      <td>https://sg1-cdn.pgimgs.com/listing/21989918/UPHO.110700336.V800/Duchess-Residences-Tanglin-Holland-Bukit-Timah-Singapore.jpg</td>\n",
              "      <td>full/4c8344a363102f41c0b483a846bc48092e71fa48.jpg</td>\n",
              "      <td>c5efda1c084d057d1c03a91c4907c587</td>\n",
              "      <td>34</td>\n",
              "    </tr>\n",
              "    <tr>\n",
              "      <th>1</th>\n",
              "      <td>9494.0</td>\n",
              "      <td>SGD</td>\n",
              "      <td>https://sg1-cdn.pgimgs.com/listing/21989918/UPHO.110700368.V800/Duchess-Residences-Tanglin-Holland-Bukit-Timah-Singapore.jpg</td>\n",
              "      <td>2020-11-02 08:55:53.259367</td>\n",
              "      <td>b''</td>\n",
              "      <td>https://sg1-cdn.pgimgs.com/listing/21989918/UPHO.110700368.V800/Duchess-Residences-Tanglin-Holland-Bukit-Timah-Singapore.jpg</td>\n",
              "      <td>full/9e62c2875e9954dbfd84bdc4268e562ab3b4d526.jpg</td>\n",
              "      <td>d6c319e818d4416ee8989db7e0e660cf</td>\n",
              "      <td>34</td>\n",
              "    </tr>\n",
              "    <tr>\n",
              "      <th>2</th>\n",
              "      <td>9494.0</td>\n",
              "      <td>SGD</td>\n",
              "      <td>https://sg2-cdn.pgimgs.com/listing/21989918/UPHO.110700395.V800/Duchess-Residences-Tanglin-Holland-Bukit-Timah-Singapore.jpg</td>\n",
              "      <td>2020-11-02 08:55:53.259367</td>\n",
              "      <td>b''</td>\n",
              "      <td>https://sg2-cdn.pgimgs.com/listing/21989918/UPHO.110700395.V800/Duchess-Residences-Tanglin-Holland-Bukit-Timah-Singapore.jpg</td>\n",
              "      <td>full/f165ec3a2c01d26a917c33c06911863083c33b1a.jpg</td>\n",
              "      <td>eb46fdff8f1d5408f53edc1252279515</td>\n",
              "      <td>34</td>\n",
              "    </tr>\n",
              "    <tr>\n",
              "      <th>3</th>\n",
              "      <td>9494.0</td>\n",
              "      <td>SGD</td>\n",
              "      <td>https://sg2-cdn.pgimgs.com/listing/21989918/UPHO.110700389.V800/Duchess-Residences-Tanglin-Holland-Bukit-Timah-Singapore.jpg</td>\n",
              "      <td>2020-11-02 08:55:53.259367</td>\n",
              "      <td>b''</td>\n",
              "      <td>https://sg2-cdn.pgimgs.com/listing/21989918/UPHO.110700389.V800/Duchess-Residences-Tanglin-Holland-Bukit-Timah-Singapore.jpg</td>\n",
              "      <td>full/00eecb3b9f26c55a491bb9d4b1bc20d95678241c.jpg</td>\n",
              "      <td>657d7625dc72b8ed0aeab719ad62c468</td>\n",
              "      <td>34</td>\n",
              "    </tr>\n",
              "    <tr>\n",
              "      <th>4</th>\n",
              "      <td>9494.0</td>\n",
              "      <td>SGD</td>\n",
              "      <td>https://sg1-cdn.pgimgs.com/listing/21989918/UPHO.110700386.V800/Duchess-Residences-Tanglin-Holland-Bukit-Timah-Singapore.jpg</td>\n",
              "      <td>2020-11-02 08:55:53.259367</td>\n",
              "      <td>b''</td>\n",
              "      <td>https://sg1-cdn.pgimgs.com/listing/21989918/UPHO.110700386.V800/Duchess-Residences-Tanglin-Holland-Bukit-Timah-Singapore.jpg</td>\n",
              "      <td>full/b7d5384e7db26f86e9ce306c9133210c8acd9c95.jpg</td>\n",
              "      <td>3b40592385ba45cf59ddc4393f4e61b5</td>\n",
              "      <td>34</td>\n",
              "    </tr>\n",
              "  </tbody>\n",
              "</table>\n",
              "</div>\n",
              "      <button class=\"colab-df-convert\" onclick=\"convertToInteractive('df-29965149-fa62-4e80-b81c-b4945a1d4979')\"\n",
              "              title=\"Convert this dataframe to an interactive table.\"\n",
              "              style=\"display:none;\">\n",
              "        \n",
              "  <svg xmlns=\"http://www.w3.org/2000/svg\" height=\"24px\"viewBox=\"0 0 24 24\"\n",
              "       width=\"24px\">\n",
              "    <path d=\"M0 0h24v24H0V0z\" fill=\"none\"/>\n",
              "    <path d=\"M18.56 5.44l.94 2.06.94-2.06 2.06-.94-2.06-.94-.94-2.06-.94 2.06-2.06.94zm-11 1L8.5 8.5l.94-2.06 2.06-.94-2.06-.94L8.5 2.5l-.94 2.06-2.06.94zm10 10l.94 2.06.94-2.06 2.06-.94-2.06-.94-.94-2.06-.94 2.06-2.06.94z\"/><path d=\"M17.41 7.96l-1.37-1.37c-.4-.4-.92-.59-1.43-.59-.52 0-1.04.2-1.43.59L10.3 9.45l-7.72 7.72c-.78.78-.78 2.05 0 2.83L4 21.41c.39.39.9.59 1.41.59.51 0 1.02-.2 1.41-.59l7.78-7.78 2.81-2.81c.8-.78.8-2.07 0-2.86zM5.41 20L4 18.59l7.72-7.72 1.47 1.35L5.41 20z\"/>\n",
              "  </svg>\n",
              "      </button>\n",
              "      \n",
              "  <style>\n",
              "    .colab-df-container {\n",
              "      display:flex;\n",
              "      flex-wrap:wrap;\n",
              "      gap: 12px;\n",
              "    }\n",
              "\n",
              "    .colab-df-convert {\n",
              "      background-color: #E8F0FE;\n",
              "      border: none;\n",
              "      border-radius: 50%;\n",
              "      cursor: pointer;\n",
              "      display: none;\n",
              "      fill: #1967D2;\n",
              "      height: 32px;\n",
              "      padding: 0 0 0 0;\n",
              "      width: 32px;\n",
              "    }\n",
              "\n",
              "    .colab-df-convert:hover {\n",
              "      background-color: #E2EBFA;\n",
              "      box-shadow: 0px 1px 2px rgba(60, 64, 67, 0.3), 0px 1px 3px 1px rgba(60, 64, 67, 0.15);\n",
              "      fill: #174EA6;\n",
              "    }\n",
              "\n",
              "    [theme=dark] .colab-df-convert {\n",
              "      background-color: #3B4455;\n",
              "      fill: #D2E3FC;\n",
              "    }\n",
              "\n",
              "    [theme=dark] .colab-df-convert:hover {\n",
              "      background-color: #434B5C;\n",
              "      box-shadow: 0px 1px 3px 1px rgba(0, 0, 0, 0.15);\n",
              "      filter: drop-shadow(0px 1px 2px rgba(0, 0, 0, 0.3));\n",
              "      fill: #FFFFFF;\n",
              "    }\n",
              "  </style>\n",
              "\n",
              "      <script>\n",
              "        const buttonEl =\n",
              "          document.querySelector('#df-29965149-fa62-4e80-b81c-b4945a1d4979 button.colab-df-convert');\n",
              "        buttonEl.style.display =\n",
              "          google.colab.kernel.accessAllowed ? 'block' : 'none';\n",
              "\n",
              "        async function convertToInteractive(key) {\n",
              "          const element = document.querySelector('#df-29965149-fa62-4e80-b81c-b4945a1d4979');\n",
              "          const dataTable =\n",
              "            await google.colab.kernel.invokeFunction('convertToInteractive',\n",
              "                                                     [key], {});\n",
              "          if (!dataTable) return;\n",
              "\n",
              "          const docLinkHtml = 'Like what you see? Visit the ' +\n",
              "            '<a target=\"_blank\" href=https://colab.research.google.com/notebooks/data_table.ipynb>data table notebook</a>'\n",
              "            + ' to learn more about interactive tables.';\n",
              "          element.innerHTML = '';\n",
              "          dataTable['output_type'] = 'display_data';\n",
              "          await google.colab.output.renderOutput(dataTable, element);\n",
              "          const docLink = document.createElement('div');\n",
              "          docLink.innerHTML = docLinkHtml;\n",
              "          element.appendChild(docLink);\n",
              "        }\n",
              "      </script>\n",
              "    </div>\n",
              "  </div>\n",
              "  "
            ]
          },
          "metadata": {},
          "execution_count": 101
        }
      ]
    },
    {
      "cell_type": "code",
      "source": [
        "df2['properties.name'].value_counts()"
      ],
      "metadata": {
        "colab": {
          "base_uri": "https://localhost:8080/"
        },
        "id": "2V9bqqBoEREw",
        "outputId": "23e1ad87-dfba-406f-c26d-bcc2b83fbd0b"
      },
      "execution_count": 100,
      "outputs": [
        {
          "output_type": "execute_result",
          "data": {
            "text/plain": [
              "b''    241117\n",
              "Name: properties.name, dtype: int64"
            ]
          },
          "metadata": {},
          "execution_count": 100
        }
      ]
    },
    {
      "cell_type": "code",
      "source": [
        "# 좀 더 불필요한 컬럼 더 잘라내 다듬기\n",
        "# don't need these columns, so will drop these\n",
        " # agent name은 오류 일으킬 수 있어 삭제(license와 중복정보) 'agent.license', 'agent.url', 'agent.agency', 'agent.phone_number'\n",
        " # 'address.street', 'address.postal_code' # 싱가포르는 공통이므로 삭제\n",
        "will_erase_noneed = ['agent.name','address.country', 'listing_properties', 'listing_properties.Land size', 'listing_properties.Maintenance Fee','properties.url','properties.name', 'amenities',\n",
        "       'Air-Conditioning', 'Cooker Hood', 'amenities.Fridge',\n",
        "       'amenities.Washing Machine', 'Water Heater', 'amenities.Gymnasium room',\n",
        "       'amenities.Barbeque Area', 'amenities.Swimming pool', \\\n",
        "                     'images', 'floor_size_unit', 'currency'] #모두 sqft, SGD인 것으로 볼 수 있어 불필요 \n",
        "\n",
        "# dropping the columns and creating slimmer dataset\n",
        "df3 = df2.drop(columns = will_erase_noneed)"
      ],
      "metadata": {
        "id": "2XYKO7yiBlfo"
      },
      "execution_count": 102,
      "outputs": []
    },
    {
      "cell_type": "code",
      "source": [
        "df3.info()"
      ],
      "metadata": {
        "colab": {
          "base_uri": "https://localhost:8080/"
        },
        "id": "MsIYeX8FFL1B",
        "outputId": "3dce63a7-7eec-44f8-a493-24107c2446ce"
      },
      "execution_count": 103,
      "outputs": [
        {
          "output_type": "stream",
          "name": "stdout",
          "text": [
            "<class 'pandas.core.frame.DataFrame'>\n",
            "RangeIndex: 241117 entries, 0 to 241116\n",
            "Data columns (total 35 columns):\n",
            " #   Column                                  Non-Null Count   Dtype         \n",
            "---  ------                                  --------------   -----         \n",
            " 0   URL                                     241117 non-null  object        \n",
            " 1   agent.license                           241117 non-null  object        \n",
            " 2   agent.url                               241117 non-null  object        \n",
            " 3   agent.agency                            241117 non-null  object        \n",
            " 4   agent.phone_number                      241117 non-null  object        \n",
            " 5   Type                                    241117 non-null  object        \n",
            " 6   Tenure                                  241117 non-null  object        \n",
            " 7   Floorsize                               241117 non-null  object        \n",
            " 8   Developer                               241117 non-null  object        \n",
            " 9   PSF                                     241117 non-null  object        \n",
            " 10  Furnishing                              241117 non-null  object        \n",
            " 11  TOP                                     241117 non-null  object        \n",
            " 12  Floor                                   241117 non-null  object        \n",
            " 13  ListingID                               241022 non-null  float64       \n",
            " 14  listing_properties.Availability         241117 non-null  object        \n",
            " 15  Listed_on                               241117 non-null  object        \n",
            " 16  development_properties.Completion Year  217579 non-null  float64       \n",
            " 17  properties.Tenure                       241117 non-null  object        \n",
            " 18  Total Unit(s)                           192284 non-null  float64       \n",
            " 19  description                             241117 non-null  object        \n",
            " 20  address.street                          241117 non-null  object        \n",
            " 21  address.postal_code                     235025 non-null  float64       \n",
            " 22  address.locality                        241117 non-null  object        \n",
            " 23  latitude                                240422 non-null  float64       \n",
            " 24  longitude                               240422 non-null  float64       \n",
            " 25  rooms                                   241117 non-null  object        \n",
            " 26  bathrooms                               241117 non-null  object        \n",
            " 27  floor_size                              241034 non-null  float64       \n",
            " 28  price                                   240961 non-null  float64       \n",
            " 29  image_urls                              241117 non-null  object        \n",
            " 30  created_at                              241117 non-null  datetime64[ns]\n",
            " 31  images.url                              241117 non-null  object        \n",
            " 32  images.path                             241117 non-null  object        \n",
            " 33  images.checksum                         241117 non-null  object        \n",
            " 34  num_img                                 241117 non-null  int64         \n",
            "dtypes: datetime64[ns](1), float64(8), int64(1), object(25)\n",
            "memory usage: 64.4+ MB\n"
          ]
        }
      ]
    },
    {
      "cell_type": "code",
      "source": [
        "# Type변수에서 특수한 주택유형에 해당하는 데이터 제거 작업 수행\n",
        "df3 = df3[~df3['Type'].str.contains(\"Bungalow|Land|Semi|Terraced|Detached\", na=False, case=False)]\n",
        "len(df3)"
      ],
      "metadata": {
        "colab": {
          "base_uri": "https://localhost:8080/"
        },
        "id": "LwymFZIhFcwr",
        "outputId": "1559a5e9-239b-4d33-a18f-2e9db03fcbd0"
      },
      "execution_count": 104,
      "outputs": [
        {
          "output_type": "execute_result",
          "data": {
            "text/plain": [
              "230301"
            ]
          },
          "metadata": {},
          "execution_count": 104
        }
      ]
    },
    {
      "cell_type": "code",
      "source": [
        "# 분석에 필수적인 변수가 결측인 경우 삭제\n",
        "important_vars = ['Listed_on', 'price', 'latitude', 'longitude']\n",
        "# drop the rows when important_vars column has missing\n",
        "df3 = df3.dropna(subset = important_vars)\n",
        "df3.info() #"
      ],
      "metadata": {
        "colab": {
          "base_uri": "https://localhost:8080/"
        },
        "id": "gKMrdL-1Fz7L",
        "outputId": "3cada301-5bc0-4a8a-cb22-903deaece33c"
      },
      "execution_count": 105,
      "outputs": [
        {
          "output_type": "stream",
          "name": "stdout",
          "text": [
            "<class 'pandas.core.frame.DataFrame'>\n",
            "Int64Index: 229718 entries, 0 to 241116\n",
            "Data columns (total 35 columns):\n",
            " #   Column                                  Non-Null Count   Dtype         \n",
            "---  ------                                  --------------   -----         \n",
            " 0   URL                                     229718 non-null  object        \n",
            " 1   agent.license                           229718 non-null  object        \n",
            " 2   agent.url                               229718 non-null  object        \n",
            " 3   agent.agency                            229718 non-null  object        \n",
            " 4   agent.phone_number                      229718 non-null  object        \n",
            " 5   Type                                    229718 non-null  object        \n",
            " 6   Tenure                                  229718 non-null  object        \n",
            " 7   Floorsize                               229718 non-null  object        \n",
            " 8   Developer                               229718 non-null  object        \n",
            " 9   PSF                                     229718 non-null  object        \n",
            " 10  Furnishing                              229718 non-null  object        \n",
            " 11  TOP                                     229718 non-null  object        \n",
            " 12  Floor                                   229718 non-null  object        \n",
            " 13  ListingID                               229718 non-null  float64       \n",
            " 14  listing_properties.Availability         229718 non-null  object        \n",
            " 15  Listed_on                               229718 non-null  object        \n",
            " 16  development_properties.Completion Year  215717 non-null  float64       \n",
            " 17  properties.Tenure                       229718 non-null  object        \n",
            " 18  Total Unit(s)                           191021 non-null  float64       \n",
            " 19  description                             229718 non-null  object        \n",
            " 20  address.street                          229718 non-null  object        \n",
            " 21  address.postal_code                     227086 non-null  float64       \n",
            " 22  address.locality                        229718 non-null  object        \n",
            " 23  latitude                                229718 non-null  float64       \n",
            " 24  longitude                               229718 non-null  float64       \n",
            " 25  rooms                                   229718 non-null  object        \n",
            " 26  bathrooms                               229718 non-null  object        \n",
            " 27  floor_size                              229718 non-null  float64       \n",
            " 28  price                                   229718 non-null  float64       \n",
            " 29  image_urls                              229718 non-null  object        \n",
            " 30  created_at                              229718 non-null  datetime64[ns]\n",
            " 31  images.url                              229718 non-null  object        \n",
            " 32  images.path                             229718 non-null  object        \n",
            " 33  images.checksum                         229718 non-null  object        \n",
            " 34  num_img                                 229718 non-null  int64         \n",
            "dtypes: datetime64[ns](1), float64(8), int64(1), object(25)\n",
            "memory usage: 63.1+ MB\n"
          ]
        }
      ]
    },
    {
      "cell_type": "code",
      "source": [
        "# 숫자 부분만 추출\n",
        "df3['Listed_on_num'] = df3['Listed_on'].str.split(' ').str.get(0)\n",
        "\n",
        "# 시간단위 부분만 추출\n",
        "df3['Listed_on_day'] = df3['Listed_on'].str.split(' ').str.get(1)\n",
        "\n",
        "# time unit -  list of lists\n",
        "posted = [['second', 'seconds','minute', 'minutes', 'hour', 'hours'], ['day','days'], ['week', 'weeks'], ['month', 'months'], ['year', 'years']]"
      ],
      "metadata": {
        "id": "44CNJgmoGHso"
      },
      "execution_count": 106,
      "outputs": []
    },
    {
      "cell_type": "code",
      "source": [
        "for idx, time in enumerate(posted):\n",
        "    df3['Listed_on_day'].replace(time, idx, inplace = True)\n",
        "# 2=week -> 7 days, 3=month -> 30 days, 4=year -> 365\n",
        "    df3['Listed_on_day'].replace(0, 0, inplace = True)\n",
        "    df3['Listed_on_day'].replace(1, 1, inplace = True)\n",
        "    df3['Listed_on_day'].replace(2, 7, inplace = True)\n",
        "    df3['Listed_on_day'].replace(3,30, inplace = True)\n",
        "    df3['Listed_on_day'].replace(4,365, inplace = True)"
      ],
      "metadata": {
        "id": "f_bgeFf1GUGg"
      },
      "execution_count": 107,
      "outputs": []
    },
    {
      "cell_type": "code",
      "source": [
        "df.columns"
      ],
      "metadata": {
        "colab": {
          "base_uri": "https://localhost:8080/"
        },
        "id": "BXnaaf_6Gibn",
        "outputId": "cba45777-f6f7-4457-85ea-3054a37c5efd"
      },
      "execution_count": 108,
      "outputs": [
        {
          "output_type": "execute_result",
          "data": {
            "text/plain": [
              "Index(['URL', 'agent.name', 'agent.license', 'agent.url', 'agent.agency',\n",
              "       'agent.phone_number', 'listing_properties', 'Type', 'Tenure',\n",
              "       'Floorsize',\n",
              "       ...\n",
              "       'floor_size_unit', 'price', 'currency', 'image_urls', 'created_at',\n",
              "       'images', 'images.url', 'images.path', 'images.checksum', 'num_img'],\n",
              "      dtype='object', length=161)"
            ]
          },
          "metadata": {},
          "execution_count": 108
        }
      ]
    },
    {
      "cell_type": "code",
      "source": [],
      "metadata": {
        "id": "-AgQetQSGlf_"
      },
      "execution_count": null,
      "outputs": []
    },
    {
      "cell_type": "code",
      "source": [
        "df3['Listed_on_num'].value_counts(dropna = False)"
      ],
      "metadata": {
        "id": "l31gbImlVO1q"
      },
      "execution_count": null,
      "outputs": []
    },
    {
      "cell_type": "code",
      "source": [
        "df3['Listed_on_day'].value_counts(dropna=False)"
      ],
      "metadata": {
        "id": "Mf0d_FMUU88R",
        "colab": {
          "base_uri": "https://localhost:8080/"
        },
        "outputId": "91bf6057-dc42-4fae-83d5-40fe2b7b98cb"
      },
      "execution_count": 111,
      "outputs": [
        {
          "output_type": "execute_result",
          "data": {
            "text/plain": [
              "1     102178\n",
              "7      90751\n",
              "0      29820\n",
              "30      6969\n",
              "Name: Listed_on_day, dtype: int64"
            ]
          },
          "metadata": {},
          "execution_count": 111
        }
      ]
    },
    {
      "cell_type": "code",
      "source": [
        "# df3['Listed_on'].isnull().sum()"
      ],
      "metadata": {
        "id": "dLGrmlRLWxBc"
      },
      "execution_count": null,
      "outputs": []
    },
    {
      "cell_type": "code",
      "source": [
        "# Listed_on_day가 결측인 행 확인\n",
        "df3[['Listed_on', 'Listed_on_day']][df3.Listed_on_day.isnull()].head(20)"
      ],
      "metadata": {
        "id": "lH6Iia9cW7gB",
        "colab": {
          "base_uri": "https://localhost:8080/",
          "height": 49
        },
        "outputId": "ac8983c5-1167-46c9-df5f-96e971a7ea8d"
      },
      "execution_count": 112,
      "outputs": [
        {
          "output_type": "execute_result",
          "data": {
            "text/plain": [
              "Empty DataFrame\n",
              "Columns: [Listed_on, Listed_on_day]\n",
              "Index: []"
            ],
            "text/html": [
              "\n",
              "  <div id=\"df-ee692500-8ea0-48b6-8039-39605ae25366\">\n",
              "    <div class=\"colab-df-container\">\n",
              "      <div>\n",
              "<style scoped>\n",
              "    .dataframe tbody tr th:only-of-type {\n",
              "        vertical-align: middle;\n",
              "    }\n",
              "\n",
              "    .dataframe tbody tr th {\n",
              "        vertical-align: top;\n",
              "    }\n",
              "\n",
              "    .dataframe thead th {\n",
              "        text-align: right;\n",
              "    }\n",
              "</style>\n",
              "<table border=\"1\" class=\"dataframe\">\n",
              "  <thead>\n",
              "    <tr style=\"text-align: right;\">\n",
              "      <th></th>\n",
              "      <th>Listed_on</th>\n",
              "      <th>Listed_on_day</th>\n",
              "    </tr>\n",
              "  </thead>\n",
              "  <tbody>\n",
              "  </tbody>\n",
              "</table>\n",
              "</div>\n",
              "      <button class=\"colab-df-convert\" onclick=\"convertToInteractive('df-ee692500-8ea0-48b6-8039-39605ae25366')\"\n",
              "              title=\"Convert this dataframe to an interactive table.\"\n",
              "              style=\"display:none;\">\n",
              "        \n",
              "  <svg xmlns=\"http://www.w3.org/2000/svg\" height=\"24px\"viewBox=\"0 0 24 24\"\n",
              "       width=\"24px\">\n",
              "    <path d=\"M0 0h24v24H0V0z\" fill=\"none\"/>\n",
              "    <path d=\"M18.56 5.44l.94 2.06.94-2.06 2.06-.94-2.06-.94-.94-2.06-.94 2.06-2.06.94zm-11 1L8.5 8.5l.94-2.06 2.06-.94-2.06-.94L8.5 2.5l-.94 2.06-2.06.94zm10 10l.94 2.06.94-2.06 2.06-.94-2.06-.94-.94-2.06-.94 2.06-2.06.94z\"/><path d=\"M17.41 7.96l-1.37-1.37c-.4-.4-.92-.59-1.43-.59-.52 0-1.04.2-1.43.59L10.3 9.45l-7.72 7.72c-.78.78-.78 2.05 0 2.83L4 21.41c.39.39.9.59 1.41.59.51 0 1.02-.2 1.41-.59l7.78-7.78 2.81-2.81c.8-.78.8-2.07 0-2.86zM5.41 20L4 18.59l7.72-7.72 1.47 1.35L5.41 20z\"/>\n",
              "  </svg>\n",
              "      </button>\n",
              "      \n",
              "  <style>\n",
              "    .colab-df-container {\n",
              "      display:flex;\n",
              "      flex-wrap:wrap;\n",
              "      gap: 12px;\n",
              "    }\n",
              "\n",
              "    .colab-df-convert {\n",
              "      background-color: #E8F0FE;\n",
              "      border: none;\n",
              "      border-radius: 50%;\n",
              "      cursor: pointer;\n",
              "      display: none;\n",
              "      fill: #1967D2;\n",
              "      height: 32px;\n",
              "      padding: 0 0 0 0;\n",
              "      width: 32px;\n",
              "    }\n",
              "\n",
              "    .colab-df-convert:hover {\n",
              "      background-color: #E2EBFA;\n",
              "      box-shadow: 0px 1px 2px rgba(60, 64, 67, 0.3), 0px 1px 3px 1px rgba(60, 64, 67, 0.15);\n",
              "      fill: #174EA6;\n",
              "    }\n",
              "\n",
              "    [theme=dark] .colab-df-convert {\n",
              "      background-color: #3B4455;\n",
              "      fill: #D2E3FC;\n",
              "    }\n",
              "\n",
              "    [theme=dark] .colab-df-convert:hover {\n",
              "      background-color: #434B5C;\n",
              "      box-shadow: 0px 1px 3px 1px rgba(0, 0, 0, 0.15);\n",
              "      filter: drop-shadow(0px 1px 2px rgba(0, 0, 0, 0.3));\n",
              "      fill: #FFFFFF;\n",
              "    }\n",
              "  </style>\n",
              "\n",
              "      <script>\n",
              "        const buttonEl =\n",
              "          document.querySelector('#df-ee692500-8ea0-48b6-8039-39605ae25366 button.colab-df-convert');\n",
              "        buttonEl.style.display =\n",
              "          google.colab.kernel.accessAllowed ? 'block' : 'none';\n",
              "\n",
              "        async function convertToInteractive(key) {\n",
              "          const element = document.querySelector('#df-ee692500-8ea0-48b6-8039-39605ae25366');\n",
              "          const dataTable =\n",
              "            await google.colab.kernel.invokeFunction('convertToInteractive',\n",
              "                                                     [key], {});\n",
              "          if (!dataTable) return;\n",
              "\n",
              "          const docLinkHtml = 'Like what you see? Visit the ' +\n",
              "            '<a target=\"_blank\" href=https://colab.research.google.com/notebooks/data_table.ipynb>data table notebook</a>'\n",
              "            + ' to learn more about interactive tables.';\n",
              "          element.innerHTML = '';\n",
              "          dataTable['output_type'] = 'display_data';\n",
              "          await google.colab.output.renderOutput(dataTable, element);\n",
              "          const docLink = document.createElement('div');\n",
              "          docLink.innerHTML = docLinkHtml;\n",
              "          element.appendChild(docLink);\n",
              "        }\n",
              "      </script>\n",
              "    </div>\n",
              "  </div>\n",
              "  "
            ]
          },
          "metadata": {},
          "execution_count": 112
        }
      ]
    },
    {
      "cell_type": "code",
      "source": [
        "# Listed_on_day가 결측인 행 제거\n",
        "df3 = df3.loc[~df3['Listed_on_day'].isnull()]\n"
      ],
      "metadata": {
        "id": "pol_wn1pb5NG"
      },
      "execution_count": 113,
      "outputs": []
    },
    {
      "cell_type": "code",
      "source": [
        "df3['days_past'] = df3['Listed_on_num'].astype('int64') * df3['Listed_on_day'].astype('int64')"
      ],
      "metadata": {
        "id": "SCnrUgC5ITiF"
      },
      "execution_count": null,
      "outputs": []
    },
    {
      "cell_type": "code",
      "source": [
        "# Listed_on column replacing to days\n",
        "\n",
        "df3[['Listed_on','days_past']].tail(5)"
      ],
      "metadata": {
        "colab": {
          "base_uri": "https://localhost:8080/",
          "height": 206
        },
        "id": "qh0s7dK4U6Kc",
        "outputId": "5a6dea29-2572-43d0-a87d-d0a73e70ac4f"
      },
      "execution_count": 117,
      "outputs": [
        {
          "output_type": "execute_result",
          "data": {
            "text/plain": [
              "          Listed_on  days_past\n",
              "241112  1 month ago         30\n",
              "241113  1 month ago         30\n",
              "241114  1 month ago         30\n",
              "241115  1 month ago         30\n",
              "241116  1 month ago         30"
            ],
            "text/html": [
              "\n",
              "  <div id=\"df-4c03ed42-4496-4cbc-905c-8bbedbe7bb59\">\n",
              "    <div class=\"colab-df-container\">\n",
              "      <div>\n",
              "<style scoped>\n",
              "    .dataframe tbody tr th:only-of-type {\n",
              "        vertical-align: middle;\n",
              "    }\n",
              "\n",
              "    .dataframe tbody tr th {\n",
              "        vertical-align: top;\n",
              "    }\n",
              "\n",
              "    .dataframe thead th {\n",
              "        text-align: right;\n",
              "    }\n",
              "</style>\n",
              "<table border=\"1\" class=\"dataframe\">\n",
              "  <thead>\n",
              "    <tr style=\"text-align: right;\">\n",
              "      <th></th>\n",
              "      <th>Listed_on</th>\n",
              "      <th>days_past</th>\n",
              "    </tr>\n",
              "  </thead>\n",
              "  <tbody>\n",
              "    <tr>\n",
              "      <th>241112</th>\n",
              "      <td>1 month ago</td>\n",
              "      <td>30</td>\n",
              "    </tr>\n",
              "    <tr>\n",
              "      <th>241113</th>\n",
              "      <td>1 month ago</td>\n",
              "      <td>30</td>\n",
              "    </tr>\n",
              "    <tr>\n",
              "      <th>241114</th>\n",
              "      <td>1 month ago</td>\n",
              "      <td>30</td>\n",
              "    </tr>\n",
              "    <tr>\n",
              "      <th>241115</th>\n",
              "      <td>1 month ago</td>\n",
              "      <td>30</td>\n",
              "    </tr>\n",
              "    <tr>\n",
              "      <th>241116</th>\n",
              "      <td>1 month ago</td>\n",
              "      <td>30</td>\n",
              "    </tr>\n",
              "  </tbody>\n",
              "</table>\n",
              "</div>\n",
              "      <button class=\"colab-df-convert\" onclick=\"convertToInteractive('df-4c03ed42-4496-4cbc-905c-8bbedbe7bb59')\"\n",
              "              title=\"Convert this dataframe to an interactive table.\"\n",
              "              style=\"display:none;\">\n",
              "        \n",
              "  <svg xmlns=\"http://www.w3.org/2000/svg\" height=\"24px\"viewBox=\"0 0 24 24\"\n",
              "       width=\"24px\">\n",
              "    <path d=\"M0 0h24v24H0V0z\" fill=\"none\"/>\n",
              "    <path d=\"M18.56 5.44l.94 2.06.94-2.06 2.06-.94-2.06-.94-.94-2.06-.94 2.06-2.06.94zm-11 1L8.5 8.5l.94-2.06 2.06-.94-2.06-.94L8.5 2.5l-.94 2.06-2.06.94zm10 10l.94 2.06.94-2.06 2.06-.94-2.06-.94-.94-2.06-.94 2.06-2.06.94z\"/><path d=\"M17.41 7.96l-1.37-1.37c-.4-.4-.92-.59-1.43-.59-.52 0-1.04.2-1.43.59L10.3 9.45l-7.72 7.72c-.78.78-.78 2.05 0 2.83L4 21.41c.39.39.9.59 1.41.59.51 0 1.02-.2 1.41-.59l7.78-7.78 2.81-2.81c.8-.78.8-2.07 0-2.86zM5.41 20L4 18.59l7.72-7.72 1.47 1.35L5.41 20z\"/>\n",
              "  </svg>\n",
              "      </button>\n",
              "      \n",
              "  <style>\n",
              "    .colab-df-container {\n",
              "      display:flex;\n",
              "      flex-wrap:wrap;\n",
              "      gap: 12px;\n",
              "    }\n",
              "\n",
              "    .colab-df-convert {\n",
              "      background-color: #E8F0FE;\n",
              "      border: none;\n",
              "      border-radius: 50%;\n",
              "      cursor: pointer;\n",
              "      display: none;\n",
              "      fill: #1967D2;\n",
              "      height: 32px;\n",
              "      padding: 0 0 0 0;\n",
              "      width: 32px;\n",
              "    }\n",
              "\n",
              "    .colab-df-convert:hover {\n",
              "      background-color: #E2EBFA;\n",
              "      box-shadow: 0px 1px 2px rgba(60, 64, 67, 0.3), 0px 1px 3px 1px rgba(60, 64, 67, 0.15);\n",
              "      fill: #174EA6;\n",
              "    }\n",
              "\n",
              "    [theme=dark] .colab-df-convert {\n",
              "      background-color: #3B4455;\n",
              "      fill: #D2E3FC;\n",
              "    }\n",
              "\n",
              "    [theme=dark] .colab-df-convert:hover {\n",
              "      background-color: #434B5C;\n",
              "      box-shadow: 0px 1px 3px 1px rgba(0, 0, 0, 0.15);\n",
              "      filter: drop-shadow(0px 1px 2px rgba(0, 0, 0, 0.3));\n",
              "      fill: #FFFFFF;\n",
              "    }\n",
              "  </style>\n",
              "\n",
              "      <script>\n",
              "        const buttonEl =\n",
              "          document.querySelector('#df-4c03ed42-4496-4cbc-905c-8bbedbe7bb59 button.colab-df-convert');\n",
              "        buttonEl.style.display =\n",
              "          google.colab.kernel.accessAllowed ? 'block' : 'none';\n",
              "\n",
              "        async function convertToInteractive(key) {\n",
              "          const element = document.querySelector('#df-4c03ed42-4496-4cbc-905c-8bbedbe7bb59');\n",
              "          const dataTable =\n",
              "            await google.colab.kernel.invokeFunction('convertToInteractive',\n",
              "                                                     [key], {});\n",
              "          if (!dataTable) return;\n",
              "\n",
              "          const docLinkHtml = 'Like what you see? Visit the ' +\n",
              "            '<a target=\"_blank\" href=https://colab.research.google.com/notebooks/data_table.ipynb>data table notebook</a>'\n",
              "            + ' to learn more about interactive tables.';\n",
              "          element.innerHTML = '';\n",
              "          dataTable['output_type'] = 'display_data';\n",
              "          await google.colab.output.renderOutput(dataTable, element);\n",
              "          const docLink = document.createElement('div');\n",
              "          docLink.innerHTML = docLinkHtml;\n",
              "          element.appendChild(docLink);\n",
              "        }\n",
              "      </script>\n",
              "    </div>\n",
              "  </div>\n",
              "  "
            ]
          },
          "metadata": {},
          "execution_count": 117
        }
      ]
    },
    {
      "cell_type": "code",
      "source": [
        "df3.days_past.max() # 가장 오래된 데이터?"
      ],
      "metadata": {
        "colab": {
          "base_uri": "https://localhost:8080/"
        },
        "id": "q_AGEWinIrP8",
        "outputId": "05c7fa05-2a30-4455-fe7e-cf974e244e91"
      },
      "execution_count": 118,
      "outputs": [
        {
          "output_type": "execute_result",
          "data": {
            "text/plain": [
              "30"
            ]
          },
          "metadata": {},
          "execution_count": 118
        }
      ]
    },
    {
      "cell_type": "code",
      "source": [
        "# created_at variable(2019-10-26 11:16:00.207427), converting year-month=day\n",
        "df3.loc[:,'date_created_at'] = pd.to_datetime(df3.loc[:,'created_at'].astype(str).str[:10])\n",
        "df3.loc[:,'date_created_at'].head(5)"
      ],
      "metadata": {
        "colab": {
          "base_uri": "https://localhost:8080/"
        },
        "id": "Q628YlkrcxHV",
        "outputId": "22625026-e027-4ec7-ecdd-e9fda267e300"
      },
      "execution_count": 119,
      "outputs": [
        {
          "output_type": "execute_result",
          "data": {
            "text/plain": [
              "0   2020-11-02\n",
              "1   2020-11-02\n",
              "2   2020-11-02\n",
              "3   2020-11-02\n",
              "4   2020-11-02\n",
              "Name: date_created_at, dtype: datetime64[ns]"
            ]
          },
          "metadata": {},
          "execution_count": 119
        }
      ]
    },
    {
      "cell_type": "code",
      "source": [
        "df3.loc[:,\"listed_date\"] = df3.loc[:,'date_created_at'] - pd.to_timedelta(df3.loc[:,'days_past'], unit = 'd')"
      ],
      "metadata": {
        "id": "ZtBEZSrAdBTd"
      },
      "execution_count": 120,
      "outputs": []
    },
    {
      "cell_type": "code",
      "source": [
        "df3[['date_created_at',\"Listed_on\", 'days_past', 'listed_date']]"
      ],
      "metadata": {
        "colab": {
          "base_uri": "https://localhost:8080/",
          "height": 424
        },
        "id": "KaUynsSeqJJA",
        "outputId": "8a387ca1-dabc-419e-e594-cfae1bf51306"
      },
      "execution_count": 121,
      "outputs": [
        {
          "output_type": "execute_result",
          "data": {
            "text/plain": [
              "       date_created_at    Listed_on  days_past listed_date\n",
              "0           2020-11-02  6 hours ago          0  2020-11-02\n",
              "1           2020-11-02  6 hours ago          0  2020-11-02\n",
              "2           2020-11-02  6 hours ago          0  2020-11-02\n",
              "3           2020-11-02  6 hours ago          0  2020-11-02\n",
              "4           2020-11-02  6 hours ago          0  2020-11-02\n",
              "...                ...          ...        ...         ...\n",
              "241112      2020-11-03  1 month ago         30  2020-10-04\n",
              "241113      2020-11-03  1 month ago         30  2020-10-04\n",
              "241114      2020-11-03  1 month ago         30  2020-10-04\n",
              "241115      2020-11-03  1 month ago         30  2020-10-04\n",
              "241116      2020-11-03  1 month ago         30  2020-10-04\n",
              "\n",
              "[229718 rows x 4 columns]"
            ],
            "text/html": [
              "\n",
              "  <div id=\"df-61f61221-d426-426b-b947-c7479a598135\">\n",
              "    <div class=\"colab-df-container\">\n",
              "      <div>\n",
              "<style scoped>\n",
              "    .dataframe tbody tr th:only-of-type {\n",
              "        vertical-align: middle;\n",
              "    }\n",
              "\n",
              "    .dataframe tbody tr th {\n",
              "        vertical-align: top;\n",
              "    }\n",
              "\n",
              "    .dataframe thead th {\n",
              "        text-align: right;\n",
              "    }\n",
              "</style>\n",
              "<table border=\"1\" class=\"dataframe\">\n",
              "  <thead>\n",
              "    <tr style=\"text-align: right;\">\n",
              "      <th></th>\n",
              "      <th>date_created_at</th>\n",
              "      <th>Listed_on</th>\n",
              "      <th>days_past</th>\n",
              "      <th>listed_date</th>\n",
              "    </tr>\n",
              "  </thead>\n",
              "  <tbody>\n",
              "    <tr>\n",
              "      <th>0</th>\n",
              "      <td>2020-11-02</td>\n",
              "      <td>6 hours ago</td>\n",
              "      <td>0</td>\n",
              "      <td>2020-11-02</td>\n",
              "    </tr>\n",
              "    <tr>\n",
              "      <th>1</th>\n",
              "      <td>2020-11-02</td>\n",
              "      <td>6 hours ago</td>\n",
              "      <td>0</td>\n",
              "      <td>2020-11-02</td>\n",
              "    </tr>\n",
              "    <tr>\n",
              "      <th>2</th>\n",
              "      <td>2020-11-02</td>\n",
              "      <td>6 hours ago</td>\n",
              "      <td>0</td>\n",
              "      <td>2020-11-02</td>\n",
              "    </tr>\n",
              "    <tr>\n",
              "      <th>3</th>\n",
              "      <td>2020-11-02</td>\n",
              "      <td>6 hours ago</td>\n",
              "      <td>0</td>\n",
              "      <td>2020-11-02</td>\n",
              "    </tr>\n",
              "    <tr>\n",
              "      <th>4</th>\n",
              "      <td>2020-11-02</td>\n",
              "      <td>6 hours ago</td>\n",
              "      <td>0</td>\n",
              "      <td>2020-11-02</td>\n",
              "    </tr>\n",
              "    <tr>\n",
              "      <th>...</th>\n",
              "      <td>...</td>\n",
              "      <td>...</td>\n",
              "      <td>...</td>\n",
              "      <td>...</td>\n",
              "    </tr>\n",
              "    <tr>\n",
              "      <th>241112</th>\n",
              "      <td>2020-11-03</td>\n",
              "      <td>1 month ago</td>\n",
              "      <td>30</td>\n",
              "      <td>2020-10-04</td>\n",
              "    </tr>\n",
              "    <tr>\n",
              "      <th>241113</th>\n",
              "      <td>2020-11-03</td>\n",
              "      <td>1 month ago</td>\n",
              "      <td>30</td>\n",
              "      <td>2020-10-04</td>\n",
              "    </tr>\n",
              "    <tr>\n",
              "      <th>241114</th>\n",
              "      <td>2020-11-03</td>\n",
              "      <td>1 month ago</td>\n",
              "      <td>30</td>\n",
              "      <td>2020-10-04</td>\n",
              "    </tr>\n",
              "    <tr>\n",
              "      <th>241115</th>\n",
              "      <td>2020-11-03</td>\n",
              "      <td>1 month ago</td>\n",
              "      <td>30</td>\n",
              "      <td>2020-10-04</td>\n",
              "    </tr>\n",
              "    <tr>\n",
              "      <th>241116</th>\n",
              "      <td>2020-11-03</td>\n",
              "      <td>1 month ago</td>\n",
              "      <td>30</td>\n",
              "      <td>2020-10-04</td>\n",
              "    </tr>\n",
              "  </tbody>\n",
              "</table>\n",
              "<p>229718 rows × 4 columns</p>\n",
              "</div>\n",
              "      <button class=\"colab-df-convert\" onclick=\"convertToInteractive('df-61f61221-d426-426b-b947-c7479a598135')\"\n",
              "              title=\"Convert this dataframe to an interactive table.\"\n",
              "              style=\"display:none;\">\n",
              "        \n",
              "  <svg xmlns=\"http://www.w3.org/2000/svg\" height=\"24px\"viewBox=\"0 0 24 24\"\n",
              "       width=\"24px\">\n",
              "    <path d=\"M0 0h24v24H0V0z\" fill=\"none\"/>\n",
              "    <path d=\"M18.56 5.44l.94 2.06.94-2.06 2.06-.94-2.06-.94-.94-2.06-.94 2.06-2.06.94zm-11 1L8.5 8.5l.94-2.06 2.06-.94-2.06-.94L8.5 2.5l-.94 2.06-2.06.94zm10 10l.94 2.06.94-2.06 2.06-.94-2.06-.94-.94-2.06-.94 2.06-2.06.94z\"/><path d=\"M17.41 7.96l-1.37-1.37c-.4-.4-.92-.59-1.43-.59-.52 0-1.04.2-1.43.59L10.3 9.45l-7.72 7.72c-.78.78-.78 2.05 0 2.83L4 21.41c.39.39.9.59 1.41.59.51 0 1.02-.2 1.41-.59l7.78-7.78 2.81-2.81c.8-.78.8-2.07 0-2.86zM5.41 20L4 18.59l7.72-7.72 1.47 1.35L5.41 20z\"/>\n",
              "  </svg>\n",
              "      </button>\n",
              "      \n",
              "  <style>\n",
              "    .colab-df-container {\n",
              "      display:flex;\n",
              "      flex-wrap:wrap;\n",
              "      gap: 12px;\n",
              "    }\n",
              "\n",
              "    .colab-df-convert {\n",
              "      background-color: #E8F0FE;\n",
              "      border: none;\n",
              "      border-radius: 50%;\n",
              "      cursor: pointer;\n",
              "      display: none;\n",
              "      fill: #1967D2;\n",
              "      height: 32px;\n",
              "      padding: 0 0 0 0;\n",
              "      width: 32px;\n",
              "    }\n",
              "\n",
              "    .colab-df-convert:hover {\n",
              "      background-color: #E2EBFA;\n",
              "      box-shadow: 0px 1px 2px rgba(60, 64, 67, 0.3), 0px 1px 3px 1px rgba(60, 64, 67, 0.15);\n",
              "      fill: #174EA6;\n",
              "    }\n",
              "\n",
              "    [theme=dark] .colab-df-convert {\n",
              "      background-color: #3B4455;\n",
              "      fill: #D2E3FC;\n",
              "    }\n",
              "\n",
              "    [theme=dark] .colab-df-convert:hover {\n",
              "      background-color: #434B5C;\n",
              "      box-shadow: 0px 1px 3px 1px rgba(0, 0, 0, 0.15);\n",
              "      filter: drop-shadow(0px 1px 2px rgba(0, 0, 0, 0.3));\n",
              "      fill: #FFFFFF;\n",
              "    }\n",
              "  </style>\n",
              "\n",
              "      <script>\n",
              "        const buttonEl =\n",
              "          document.querySelector('#df-61f61221-d426-426b-b947-c7479a598135 button.colab-df-convert');\n",
              "        buttonEl.style.display =\n",
              "          google.colab.kernel.accessAllowed ? 'block' : 'none';\n",
              "\n",
              "        async function convertToInteractive(key) {\n",
              "          const element = document.querySelector('#df-61f61221-d426-426b-b947-c7479a598135');\n",
              "          const dataTable =\n",
              "            await google.colab.kernel.invokeFunction('convertToInteractive',\n",
              "                                                     [key], {});\n",
              "          if (!dataTable) return;\n",
              "\n",
              "          const docLinkHtml = 'Like what you see? Visit the ' +\n",
              "            '<a target=\"_blank\" href=https://colab.research.google.com/notebooks/data_table.ipynb>data table notebook</a>'\n",
              "            + ' to learn more about interactive tables.';\n",
              "          element.innerHTML = '';\n",
              "          dataTable['output_type'] = 'display_data';\n",
              "          await google.colab.output.renderOutput(dataTable, element);\n",
              "          const docLink = document.createElement('div');\n",
              "          docLink.innerHTML = docLinkHtml;\n",
              "          element.appendChild(docLink);\n",
              "        }\n",
              "      </script>\n",
              "    </div>\n",
              "  </div>\n",
              "  "
            ]
          },
          "metadata": {},
          "execution_count": 121
        }
      ]
    },
    {
      "cell_type": "code",
      "source": [
        "df3.listed_date.min()"
      ],
      "metadata": {
        "colab": {
          "base_uri": "https://localhost:8080/"
        },
        "id": "m9WGV_lpPYSE",
        "outputId": "40ad9e4d-2c9a-432c-ee51-7057b9912dbc"
      },
      "execution_count": 122,
      "outputs": [
        {
          "output_type": "execute_result",
          "data": {
            "text/plain": [
              "Timestamp('2020-10-04 00:00:00')"
            ]
          },
          "metadata": {},
          "execution_count": 122
        }
      ]
    },
    {
      "cell_type": "code",
      "source": [
        "df3.listed_date.max()"
      ],
      "metadata": {
        "colab": {
          "base_uri": "https://localhost:8080/"
        },
        "id": "sHb0_m29Piid",
        "outputId": "0c868828-d4c6-4ee6-e82f-a44ab19f8fac"
      },
      "execution_count": 123,
      "outputs": [
        {
          "output_type": "execute_result",
          "data": {
            "text/plain": [
              "Timestamp('2020-11-03 00:00:00')"
            ]
          },
          "metadata": {},
          "execution_count": 123
        }
      ]
    },
    {
      "cell_type": "code",
      "source": [
        "max_year = df3.listed_year.max()\n",
        "max_year"
      ],
      "metadata": {
        "colab": {
          "base_uri": "https://localhost:8080/"
        },
        "id": "M-Hig7gpIy4h",
        "outputId": "602fff29-99ce-4c5b-b092-f2c279db475b"
      },
      "execution_count": 135,
      "outputs": [
        {
          "output_type": "execute_result",
          "data": {
            "text/plain": [
              "2020"
            ]
          },
          "metadata": {},
          "execution_count": 135
        }
      ]
    },
    {
      "cell_type": "code",
      "source": [
        "df3['listed_year'] = df3['listed_date'].dt.year"
      ],
      "metadata": {
        "id": "1Bw8xYkdzw6c"
      },
      "execution_count": 124,
      "outputs": []
    },
    {
      "cell_type": "markdown",
      "source": [
        "### 분양용 매물 제거"
      ],
      "metadata": {
        "id": "zYDHHk4I4gu-"
      }
    },
    {
      "cell_type": "code",
      "source": [
        "df3.columns"
      ],
      "metadata": {
        "colab": {
          "base_uri": "https://localhost:8080/"
        },
        "id": "E5cd_9NvJQTb",
        "outputId": "612f4b5d-0e50-4f95-b76c-a14423eac399"
      },
      "execution_count": 129,
      "outputs": [
        {
          "output_type": "execute_result",
          "data": {
            "text/plain": [
              "Index(['URL', 'agent.license', 'agent.url', 'agent.agency',\n",
              "       'agent.phone_number', 'Type', 'Tenure', 'Floorsize', 'Developer', 'PSF',\n",
              "       'Furnishing', 'TOP', 'Floor', 'ListingID',\n",
              "       'listing_properties.Availability', 'Listed_on',\n",
              "       'development_properties.Completion Year', 'properties.Tenure',\n",
              "       'Total Unit(s)', 'description', 'address.street', 'address.postal_code',\n",
              "       'address.locality', 'latitude', 'longitude', 'rooms', 'bathrooms',\n",
              "       'floor_size', 'price', 'image_urls', 'created_at', 'images.url',\n",
              "       'images.path', 'images.checksum', 'num_img', 'Listed_on_num',\n",
              "       'Listed_on_day', 'days_past', 'date_created_at', 'listed_date',\n",
              "       'listed_year'],\n",
              "      dtype='object')"
            ]
          },
          "metadata": {},
          "execution_count": 129
        }
      ]
    },
    {
      "cell_type": "code",
      "source": [
        "df3['TOP'].value_counts(dropna=False).to_excel(\"/content/drive/MyDrive/PropertyGuru/original/TOP.xlsx\")\n",
        "# 확인 결과, TOP에 N/A가 있었음 "
      ],
      "metadata": {
        "id": "qmaKwIdlJWR3"
      },
      "execution_count": 144,
      "outputs": []
    },
    {
      "cell_type": "code",
      "source": [
        "df3['TOP'].value_counts(dropna=False)"
      ],
      "metadata": {
        "colab": {
          "base_uri": "https://localhost:8080/"
        },
        "id": "H4InFM9xMM1c",
        "outputId": "22a939d3-bbe2-47b9-e685-e451dee1cefb"
      },
      "execution_count": 145,
      "outputs": [
        {
          "output_type": "execute_result",
          "data": {
            "text/plain": [
              "2014    18711\n",
              "2017    15876\n",
              "2016    15248\n",
              "2013    12867\n",
              "2015    12338\n",
              "        ...  \n",
              "2022       11\n",
              "1966        7\n",
              "1900        4\n",
              "1921        2\n",
              "1950        1\n",
              "Name: TOP, Length: 71, dtype: int64"
            ]
          },
          "metadata": {},
          "execution_count": 145
        }
      ]
    },
    {
      "cell_type": "code",
      "source": [
        "type(max_year)"
      ],
      "metadata": {
        "colab": {
          "base_uri": "https://localhost:8080/"
        },
        "id": "9weYfzaYKnWz",
        "outputId": "c9c7e134-dafa-40bd-b5a9-1ef20fbdc3a0"
      },
      "execution_count": 139,
      "outputs": [
        {
          "output_type": "execute_result",
          "data": {
            "text/plain": [
              "numpy.int64"
            ]
          },
          "metadata": {},
          "execution_count": 139
        }
      ]
    },
    {
      "cell_type": "code",
      "source": [
        "# Define a condition\n",
        "condition = (df3['TOP'] != \"2021\") & (df3['TOP'] != \"2022\")"
      ],
      "metadata": {
        "id": "UkSj0IP7Mzd9"
      },
      "execution_count": 149,
      "outputs": []
    },
    {
      "cell_type": "code",
      "source": [
        "# Apply the condition to the dataframe\n",
        "df3 = df3[condition]"
      ],
      "metadata": {
        "id": "PuSTfZdDN1Wa"
      },
      "execution_count": 150,
      "outputs": []
    },
    {
      "cell_type": "code",
      "source": [
        "len(df3)"
      ],
      "metadata": {
        "colab": {
          "base_uri": "https://localhost:8080/"
        },
        "id": "Ic3JK22PN5vj",
        "outputId": "937b3f10-0f97-4a2b-8190-fcb1e2f92a74"
      },
      "execution_count": 153,
      "outputs": [
        {
          "output_type": "execute_result",
          "data": {
            "text/plain": [
              "226655"
            ]
          },
          "metadata": {},
          "execution_count": 153
        }
      ]
    },
    {
      "cell_type": "markdown",
      "source": [
        "### 게시글별로 중복 제거"
      ],
      "metadata": {
        "id": "PzzO-D5_OPw_"
      }
    },
    {
      "cell_type": "code",
      "source": [
        "# 리스팅 'URL' 기준으로 중복행 제거\n",
        "df4 = df3.drop_duplicates(['URL'], keep='first', ignore_index=False)\n",
        "len(df4)"
      ],
      "metadata": {
        "colab": {
          "base_uri": "https://localhost:8080/"
        },
        "id": "mYNxGOAxOPdU",
        "outputId": "79d15bb8-db0a-4797-afde-54f720257f39"
      },
      "execution_count": 152,
      "outputs": [
        {
          "output_type": "execute_result",
          "data": {
            "text/plain": [
              "13269"
            ]
          },
          "metadata": {},
          "execution_count": 152
        }
      ]
    },
    {
      "cell_type": "markdown",
      "source": [
        "### HDB, Condo, Apartment 변수 생성"
      ],
      "metadata": {
        "id": "Ttzvvi0sQhGI"
      }
    },
    {
      "cell_type": "code",
      "source": [
        "df4['Type'].value_counts()"
      ],
      "metadata": {
        "colab": {
          "base_uri": "https://localhost:8080/"
        },
        "id": "pCzOUeuyQSUI",
        "outputId": "02ec43bc-0cc9-4d35-dc84-081be4d60e28"
      },
      "execution_count": 154,
      "outputs": [
        {
          "output_type": "execute_result",
          "data": {
            "text/plain": [
              "Condominium For Rent                  7071\n",
              "Apartment For Rent                    3036\n",
              "4A HDB For Rent                        718\n",
              "5I HDB For Rent                        280\n",
              "4NG (New Generation) HDB For Rent      228\n",
              "Cluster House For Rent                 222\n",
              "3I (Improved) HDB For Rent             189\n",
              "5A HDB For Rent                        186\n",
              "3NG (New Generation) HDB For Rent      140\n",
              "Conservation House For Rent            125\n",
              "3A HDB For Rent                        120\n",
              "Walk-up For Rent                       119\n",
              "Executive Condominium For Rent          97\n",
              "4I (Improved) HDB For Rent              86\n",
              "3NG (Modified) HDB For Rent             69\n",
              "4S (Simplified) HDB For Rent            69\n",
              "Shophouse For Rent                      67\n",
              "EA (Exec Apartment) HDB For Rent        59\n",
              "EM (Exec Maisonette) HDB For Rent       50\n",
              "Corner Terrace For Rent                 45\n",
              "4STD (Standard) HDB For Rent            39\n",
              "HDB For Rent                            36\n",
              "3S (Simplified) HDB For Rent            35\n",
              "3I (Modified) HDB For Rent              29\n",
              "Town House For Rent                     28\n",
              "3A (Modified) HDB For Rent              24\n",
              "3STD (Standard) HDB For Rent            22\n",
              "5S HDB For Rent                         21\n",
              "1-Room / Studio HDB For Rent            21\n",
              "Jumbo HDB For Rent                      10\n",
              "2S (Standard) HDB For Rent               8\n",
              "2A HDB For Rent                          7\n",
              "2I (Improved) HDB For Rent               7\n",
              "Terrace HDB For Rent                     3\n",
              "MG (Multi-Generation) HDB For Rent       3\n",
              "Name: Type, dtype: int64"
            ]
          },
          "metadata": {},
          "execution_count": 154
        }
      ]
    },
    {
      "cell_type": "code",
      "source": [
        "# Type 구분 컬럼 생성\n",
        "df4['HDB'] = df4['Type'].str.contains('HDB')\n",
        "df4['Condo'] = df4['Type'].str.contains('Condo')\n",
        "df4['Apartment'] = df4['Type'].str.contains('Apartment For Rent')\n",
        "df4[['Type','HDB', 'Condo', 'Apartment']].head(10)"
      ],
      "metadata": {
        "colab": {
          "base_uri": "https://localhost:8080/",
          "height": 363
        },
        "id": "BJWhklxlRCHf",
        "outputId": "f745ff75-4e9a-413b-c498-18fc08d05df7"
      },
      "execution_count": 155,
      "outputs": [
        {
          "output_type": "execute_result",
          "data": {
            "text/plain": [
              "                       Type    HDB  Condo  Apartment\n",
              "0      Condominium For Rent  False   True      False\n",
              "34     Condominium For Rent  False   True      False\n",
              "50     Condominium For Rent  False   True      False\n",
              "76     Condominium For Rent  False   True      False\n",
              "103  Cluster House For Rent  False  False      False\n",
              "123    Condominium For Rent  False   True      False\n",
              "139    Condominium For Rent  False   True      False\n",
              "159    Condominium For Rent  False   True      False\n",
              "206    Condominium For Rent  False   True      False\n",
              "247      Apartment For Rent  False  False       True"
            ],
            "text/html": [
              "\n",
              "  <div id=\"df-713e9839-97f2-48f3-83f2-071c2262169e\">\n",
              "    <div class=\"colab-df-container\">\n",
              "      <div>\n",
              "<style scoped>\n",
              "    .dataframe tbody tr th:only-of-type {\n",
              "        vertical-align: middle;\n",
              "    }\n",
              "\n",
              "    .dataframe tbody tr th {\n",
              "        vertical-align: top;\n",
              "    }\n",
              "\n",
              "    .dataframe thead th {\n",
              "        text-align: right;\n",
              "    }\n",
              "</style>\n",
              "<table border=\"1\" class=\"dataframe\">\n",
              "  <thead>\n",
              "    <tr style=\"text-align: right;\">\n",
              "      <th></th>\n",
              "      <th>Type</th>\n",
              "      <th>HDB</th>\n",
              "      <th>Condo</th>\n",
              "      <th>Apartment</th>\n",
              "    </tr>\n",
              "  </thead>\n",
              "  <tbody>\n",
              "    <tr>\n",
              "      <th>0</th>\n",
              "      <td>Condominium For Rent</td>\n",
              "      <td>False</td>\n",
              "      <td>True</td>\n",
              "      <td>False</td>\n",
              "    </tr>\n",
              "    <tr>\n",
              "      <th>34</th>\n",
              "      <td>Condominium For Rent</td>\n",
              "      <td>False</td>\n",
              "      <td>True</td>\n",
              "      <td>False</td>\n",
              "    </tr>\n",
              "    <tr>\n",
              "      <th>50</th>\n",
              "      <td>Condominium For Rent</td>\n",
              "      <td>False</td>\n",
              "      <td>True</td>\n",
              "      <td>False</td>\n",
              "    </tr>\n",
              "    <tr>\n",
              "      <th>76</th>\n",
              "      <td>Condominium For Rent</td>\n",
              "      <td>False</td>\n",
              "      <td>True</td>\n",
              "      <td>False</td>\n",
              "    </tr>\n",
              "    <tr>\n",
              "      <th>103</th>\n",
              "      <td>Cluster House For Rent</td>\n",
              "      <td>False</td>\n",
              "      <td>False</td>\n",
              "      <td>False</td>\n",
              "    </tr>\n",
              "    <tr>\n",
              "      <th>123</th>\n",
              "      <td>Condominium For Rent</td>\n",
              "      <td>False</td>\n",
              "      <td>True</td>\n",
              "      <td>False</td>\n",
              "    </tr>\n",
              "    <tr>\n",
              "      <th>139</th>\n",
              "      <td>Condominium For Rent</td>\n",
              "      <td>False</td>\n",
              "      <td>True</td>\n",
              "      <td>False</td>\n",
              "    </tr>\n",
              "    <tr>\n",
              "      <th>159</th>\n",
              "      <td>Condominium For Rent</td>\n",
              "      <td>False</td>\n",
              "      <td>True</td>\n",
              "      <td>False</td>\n",
              "    </tr>\n",
              "    <tr>\n",
              "      <th>206</th>\n",
              "      <td>Condominium For Rent</td>\n",
              "      <td>False</td>\n",
              "      <td>True</td>\n",
              "      <td>False</td>\n",
              "    </tr>\n",
              "    <tr>\n",
              "      <th>247</th>\n",
              "      <td>Apartment For Rent</td>\n",
              "      <td>False</td>\n",
              "      <td>False</td>\n",
              "      <td>True</td>\n",
              "    </tr>\n",
              "  </tbody>\n",
              "</table>\n",
              "</div>\n",
              "      <button class=\"colab-df-convert\" onclick=\"convertToInteractive('df-713e9839-97f2-48f3-83f2-071c2262169e')\"\n",
              "              title=\"Convert this dataframe to an interactive table.\"\n",
              "              style=\"display:none;\">\n",
              "        \n",
              "  <svg xmlns=\"http://www.w3.org/2000/svg\" height=\"24px\"viewBox=\"0 0 24 24\"\n",
              "       width=\"24px\">\n",
              "    <path d=\"M0 0h24v24H0V0z\" fill=\"none\"/>\n",
              "    <path d=\"M18.56 5.44l.94 2.06.94-2.06 2.06-.94-2.06-.94-.94-2.06-.94 2.06-2.06.94zm-11 1L8.5 8.5l.94-2.06 2.06-.94-2.06-.94L8.5 2.5l-.94 2.06-2.06.94zm10 10l.94 2.06.94-2.06 2.06-.94-2.06-.94-.94-2.06-.94 2.06-2.06.94z\"/><path d=\"M17.41 7.96l-1.37-1.37c-.4-.4-.92-.59-1.43-.59-.52 0-1.04.2-1.43.59L10.3 9.45l-7.72 7.72c-.78.78-.78 2.05 0 2.83L4 21.41c.39.39.9.59 1.41.59.51 0 1.02-.2 1.41-.59l7.78-7.78 2.81-2.81c.8-.78.8-2.07 0-2.86zM5.41 20L4 18.59l7.72-7.72 1.47 1.35L5.41 20z\"/>\n",
              "  </svg>\n",
              "      </button>\n",
              "      \n",
              "  <style>\n",
              "    .colab-df-container {\n",
              "      display:flex;\n",
              "      flex-wrap:wrap;\n",
              "      gap: 12px;\n",
              "    }\n",
              "\n",
              "    .colab-df-convert {\n",
              "      background-color: #E8F0FE;\n",
              "      border: none;\n",
              "      border-radius: 50%;\n",
              "      cursor: pointer;\n",
              "      display: none;\n",
              "      fill: #1967D2;\n",
              "      height: 32px;\n",
              "      padding: 0 0 0 0;\n",
              "      width: 32px;\n",
              "    }\n",
              "\n",
              "    .colab-df-convert:hover {\n",
              "      background-color: #E2EBFA;\n",
              "      box-shadow: 0px 1px 2px rgba(60, 64, 67, 0.3), 0px 1px 3px 1px rgba(60, 64, 67, 0.15);\n",
              "      fill: #174EA6;\n",
              "    }\n",
              "\n",
              "    [theme=dark] .colab-df-convert {\n",
              "      background-color: #3B4455;\n",
              "      fill: #D2E3FC;\n",
              "    }\n",
              "\n",
              "    [theme=dark] .colab-df-convert:hover {\n",
              "      background-color: #434B5C;\n",
              "      box-shadow: 0px 1px 3px 1px rgba(0, 0, 0, 0.15);\n",
              "      filter: drop-shadow(0px 1px 2px rgba(0, 0, 0, 0.3));\n",
              "      fill: #FFFFFF;\n",
              "    }\n",
              "  </style>\n",
              "\n",
              "      <script>\n",
              "        const buttonEl =\n",
              "          document.querySelector('#df-713e9839-97f2-48f3-83f2-071c2262169e button.colab-df-convert');\n",
              "        buttonEl.style.display =\n",
              "          google.colab.kernel.accessAllowed ? 'block' : 'none';\n",
              "\n",
              "        async function convertToInteractive(key) {\n",
              "          const element = document.querySelector('#df-713e9839-97f2-48f3-83f2-071c2262169e');\n",
              "          const dataTable =\n",
              "            await google.colab.kernel.invokeFunction('convertToInteractive',\n",
              "                                                     [key], {});\n",
              "          if (!dataTable) return;\n",
              "\n",
              "          const docLinkHtml = 'Like what you see? Visit the ' +\n",
              "            '<a target=\"_blank\" href=https://colab.research.google.com/notebooks/data_table.ipynb>data table notebook</a>'\n",
              "            + ' to learn more about interactive tables.';\n",
              "          element.innerHTML = '';\n",
              "          dataTable['output_type'] = 'display_data';\n",
              "          await google.colab.output.renderOutput(dataTable, element);\n",
              "          const docLink = document.createElement('div');\n",
              "          docLink.innerHTML = docLinkHtml;\n",
              "          element.appendChild(docLink);\n",
              "        }\n",
              "      </script>\n",
              "    </div>\n",
              "  </div>\n",
              "  "
            ]
          },
          "metadata": {},
          "execution_count": 155
        }
      ]
    },
    {
      "cell_type": "code",
      "source": [
        "len(df4)"
      ],
      "metadata": {
        "colab": {
          "base_uri": "https://localhost:8080/"
        },
        "id": "FLIavqmzRqka",
        "outputId": "f818f66d-28be-4e58-cba7-cf3a580900a1"
      },
      "execution_count": 156,
      "outputs": [
        {
          "output_type": "execute_result",
          "data": {
            "text/plain": [
              "13269"
            ]
          },
          "metadata": {},
          "execution_count": 156
        }
      ]
    },
    {
      "cell_type": "code",
      "source": [
        "df4.columns"
      ],
      "metadata": {
        "colab": {
          "base_uri": "https://localhost:8080/"
        },
        "id": "3gQnolq4S1s5",
        "outputId": "b88ac5ab-b16a-4647-8a8f-856b3b3742db"
      },
      "execution_count": 157,
      "outputs": [
        {
          "output_type": "execute_result",
          "data": {
            "text/plain": [
              "Index(['URL', 'agent.license', 'agent.url', 'agent.agency',\n",
              "       'agent.phone_number', 'Type', 'Tenure', 'Floorsize', 'Developer', 'PSF',\n",
              "       'Furnishing', 'TOP', 'Floor', 'ListingID',\n",
              "       'listing_properties.Availability', 'Listed_on',\n",
              "       'development_properties.Completion Year', 'properties.Tenure',\n",
              "       'Total Unit(s)', 'description', 'address.street', 'address.postal_code',\n",
              "       'address.locality', 'latitude', 'longitude', 'rooms', 'bathrooms',\n",
              "       'floor_size', 'price', 'image_urls', 'created_at', 'images.url',\n",
              "       'images.path', 'images.checksum', 'num_img', 'Listed_on_num',\n",
              "       'Listed_on_day', 'days_past', 'date_created_at', 'listed_date',\n",
              "       'listed_year', 'HDB', 'Condo', 'Apartment'],\n",
              "      dtype='object')"
            ]
          },
          "metadata": {},
          "execution_count": 157
        }
      ]
    },
    {
      "cell_type": "markdown",
      "source": [
        "### virtual_tour변수 생성"
      ],
      "metadata": {
        "id": "nwlA3ib3Swhi"
      }
    },
    {
      "cell_type": "code",
      "source": [
        "#@title 특정키워드 포함여부(Contains)\n",
        "#'Virtual' 뷰잉 가능여부 더미 생성\n",
        "\n",
        "# Create a new column 'contains_virtual' indicating whether the 'text' column contains the word 'virtual'\n",
        "df4['description_lower'] = df4['description'].str.casefold()\n",
        "search_str = df4['description_lower'].str.extract('(virtual|video|youtube|live tour|online tour|online viewing|360 tour)', expand=False)\n",
        "df4['contains_virtual'] = search_str.notna()"
      ],
      "metadata": {
        "id": "7o4jKk08SwD_"
      },
      "execution_count": 163,
      "outputs": []
    },
    {
      "cell_type": "code",
      "source": [
        "virtual_rows = df4[['description', 'contains_virtual']].loc[df4['contains_virtual'] == True]\n",
        "print(virtual_rows)"
      ],
      "metadata": {
        "colab": {
          "base_uri": "https://localhost:8080/"
        },
        "id": "iLoEGbYRUw-D",
        "outputId": "cb67c37a-b0fa-42f0-d76c-7062d572ea86"
      },
      "execution_count": 164,
      "outputs": [
        {
          "output_type": "stream",
          "name": "stdout",
          "text": [
            "                                                                                                                                                                                                    description  \\\n",
            "159     Brand new 2br premium for rent    Just TOP! BE the 1st tenant to move into this Morden, classy beautiful 2br 2 bath unit High floor Unblock panoramic view Door step to Kovan MRT Station Wet Market...   \n",
            "979     High floor spacious and private 1 bedder available for lease    *** ZOOM video viewing is available! ***Buzz Zhi Wei for an immediate viewing now.Visit my:Webpage | www.tanzhiwei.sgInstagram | www...   \n",
            "1072    High floor with almost brand new condition.    *** ZOOM video viewing is available! ***Buzz Zhi Wei for an immediate viewing now.Visit my:Webpage | www.tanzhiwei.sgInstagram | www.instagram.comtan...   \n",
            "1190    New listing Low floor pool facing. No pm sun. Call Thomas to view!    New Listing!Low floor pool facing with no afternoon sunCorner unitWatch my Virtual 360 tour to understand the spaciousness and...   \n",
            "1411    Duplex penthouse, immaculate condition    Rare and beautiful penthouse, lovingly kept by the owners. With a coveted North-South orientation, this bright unit is truly a gem in the East. Perfect fo...   \n",
            "...                                                                                                                                                                                                         ...   \n",
            "239240  Call now to enquire    NEW LISTING!High floor, extremely well designed and functional good sized one bedroom. Fully Furnished with unblocked view. Suitable for singles or couples for a city living...   \n",
            "239803  Brand New unit    SKYPARK @ SOMERSET for rent 4 bedroom single floor plate.  Big size unit 3348sf .Duplex double volume. 2 units per floor, currently both units are combine as one)*Total approx. 3...   \n",
            "240390  2 bed 3 bath. Price negot    Dover Parkview       (( New for Lease ))2 Bedrm + Utility roomFully furnishedGood conditionFull furnishedQuiet facing2 mins walk to amenites and Fairprice(Supermarket)...   \n",
            "240626  Award Winning Condo at Prime Location    ★ Enjoy Spectacular View of Singapore's famous Financial District★★Click on Virtual Tour★✔️Showflat unit with ID Decor✔️Full Furnishing✔️2 Bedroom + Balcon...   \n",
            "240763  Short walk to schools and shopping    Viewing via video virtual tour or zoom. Value for Money rental.Walking distance to shopping belt of Orchard RoadPinetree Condominium is low density condo situ...   \n",
            "\n",
            "        contains_virtual  \n",
            "159                 True  \n",
            "979                 True  \n",
            "1072                True  \n",
            "1190                True  \n",
            "1411                True  \n",
            "...                  ...  \n",
            "239240              True  \n",
            "239803              True  \n",
            "240390              True  \n",
            "240626              True  \n",
            "240763              True  \n",
            "\n",
            "[487 rows x 2 columns]\n"
          ]
        }
      ]
    },
    {
      "cell_type": "code",
      "source": [
        "len(df4)"
      ],
      "metadata": {
        "colab": {
          "base_uri": "https://localhost:8080/"
        },
        "id": "NkvUTXokVwtC",
        "outputId": "3bec6b1c-8eeb-42d4-be96-3dffb5e660e3"
      },
      "execution_count": 165,
      "outputs": [
        {
          "output_type": "execute_result",
          "data": {
            "text/plain": [
              "13269"
            ]
          },
          "metadata": {},
          "execution_count": 165
        }
      ]
    },
    {
      "cell_type": "code",
      "source": [
        "df4['Type'].value_counts()"
      ],
      "metadata": {
        "colab": {
          "base_uri": "https://localhost:8080/"
        },
        "id": "0xEHTfH7WcAH",
        "outputId": "9d08d029-8d02-495a-fae6-20b85b4c551a"
      },
      "execution_count": 166,
      "outputs": [
        {
          "output_type": "execute_result",
          "data": {
            "text/plain": [
              "Condominium For Rent                  7071\n",
              "Apartment For Rent                    3036\n",
              "4A HDB For Rent                        718\n",
              "5I HDB For Rent                        280\n",
              "4NG (New Generation) HDB For Rent      228\n",
              "Cluster House For Rent                 222\n",
              "3I (Improved) HDB For Rent             189\n",
              "5A HDB For Rent                        186\n",
              "3NG (New Generation) HDB For Rent      140\n",
              "Conservation House For Rent            125\n",
              "3A HDB For Rent                        120\n",
              "Walk-up For Rent                       119\n",
              "Executive Condominium For Rent          97\n",
              "4I (Improved) HDB For Rent              86\n",
              "3NG (Modified) HDB For Rent             69\n",
              "4S (Simplified) HDB For Rent            69\n",
              "Shophouse For Rent                      67\n",
              "EA (Exec Apartment) HDB For Rent        59\n",
              "EM (Exec Maisonette) HDB For Rent       50\n",
              "Corner Terrace For Rent                 45\n",
              "4STD (Standard) HDB For Rent            39\n",
              "HDB For Rent                            36\n",
              "3S (Simplified) HDB For Rent            35\n",
              "3I (Modified) HDB For Rent              29\n",
              "Town House For Rent                     28\n",
              "3A (Modified) HDB For Rent              24\n",
              "3STD (Standard) HDB For Rent            22\n",
              "5S HDB For Rent                         21\n",
              "1-Room / Studio HDB For Rent            21\n",
              "Jumbo HDB For Rent                      10\n",
              "2S (Standard) HDB For Rent               8\n",
              "2A HDB For Rent                          7\n",
              "2I (Improved) HDB For Rent               7\n",
              "Terrace HDB For Rent                     3\n",
              "MG (Multi-Generation) HDB For Rent       3\n",
              "Name: Type, dtype: int64"
            ]
          },
          "metadata": {},
          "execution_count": 166
        }
      ]
    },
    {
      "cell_type": "code",
      "source": [
        "df4[df4['Condo'] == True].to_excel(\"/content/drive/MyDrive/PropertyGuru/Rent_preprocessed_2/Condo_Rent_Listings_20201102.xlsx\")\n",
        "df4[df4['HDB'] == True].to_excel(\"/content/drive/MyDrive/PropertyGuru/Rent_preprocessed_2/HDB_Rent_Listings_20201102.xlsx\")\n",
        "df4[df4['Apartment'] == True].to_excel(\"/content/drive/MyDrive/PropertyGuru/Rent_preprocessed_2/Apt_Listings_20201102.xlsx\")"
      ],
      "metadata": {
        "id": "2QPWH21XXd1T"
      },
      "execution_count": 167,
      "outputs": []
    },
    {
      "cell_type": "markdown",
      "source": [
        "# 예전코드"
      ],
      "metadata": {
        "id": "nSGAUqK_XqTU"
      }
    },
    {
      "cell_type": "code",
      "source": [
        "#@title easy code\n",
        "\n",
        "filenames = os.listdir()\n",
        "\n",
        "df_1 = dt.fread(filenames[0])\n",
        "df_2 = dt.fread(filenames[1])\n",
        "df_3 = dt.fread(filenames[2])\n",
        "df_4 = dt.fread(filenames[3])\n",
        "df_5 = dt.fread(filenames[4])\n",
        "df_6 = dt.fread(filenames[5])\n",
        "df_7 = dt.fread(filenames[6])\n",
        "df_8 = dt.fread(filenames[7])\n",
        "df_9 = dt.fread(filenames[8])\n",
        "\n",
        "df_1 = df_1.to_pandas()\n",
        "df_2 = df_2.to_pandas()\n",
        "df_3 = df_3.to_pandas()\n",
        "df_4 = df_4.to_pandas()\n",
        "df_5 = df_5.to_pandas()\n",
        "df_6 = df_6.to_pandas()\n",
        "df_7 = df_7.to_pandas()\n",
        "df_8 = df_8.to_pandas()\n",
        "df_9 = df_9.to_pandas()\n",
        "\n",
        "df = pd.concat([df_1, df_2, df_3, df_4, df_5, df_6, df_7, df_8, df_9], axis = 0)"
      ],
      "metadata": {
        "cellView": "form",
        "id": "xTQ9N8xHrmO4"
      },
      "execution_count": null,
      "outputs": []
    },
    {
      "cell_type": "code",
      "source": [
        "#@title efficient data loading code\n",
        "import os\n",
        "import datatable as dt\n",
        "import pandas as pd\n",
        "\n",
        "filenames = os.listdir()\n",
        "dataframes = []\n",
        "\n",
        "for filename in filenames:\n",
        "    df = dt.fread(filename)\n",
        "    df = df.to_pandas()\n",
        "    dataframes.append(df)\n",
        "\n",
        "# 여러 데이터프레임 하나로 합치기 (위아래로 합치기)\n",
        "df_all = pd.concat(dataframes, axis=0)"
      ],
      "metadata": {
        "id": "8ZCSyHirz4zy"
      },
      "execution_count": null,
      "outputs": []
    },
    {
      "cell_type": "code",
      "source": [
        "df_all.info()"
      ],
      "metadata": {
        "id": "LHr62rPA7YRj"
      },
      "execution_count": null,
      "outputs": []
    },
    {
      "cell_type": "code",
      "source": [
        "#@title 쓰지 않을 컬럼 drop\n",
        "df_all.drop(columns = 'C0', inplace = True)\n",
        "df_all.columns"
      ],
      "metadata": {
        "colab": {
          "base_uri": "https://localhost:8080/"
        },
        "id": "wWzxcAv2ykR-",
        "outputId": "f90037f8-0b30-4db8-d73e-eb473e714e8a"
      },
      "execution_count": null,
      "outputs": [
        {
          "output_type": "execute_result",
          "data": {
            "text/plain": [
              "Index(['Type', 'Tenure', 'Floorsize', 'Developer', 'PSF', 'Furnishing', 'TOP',\n",
              "       'Floor', 'ListingID', 'listing_properties.Availability', 'Listed_on',\n",
              "       'properties.Type', 'properties.TOP', 'properties.Tenure',\n",
              "       'properties.url', 'properties.name', 'Total Unit(s)',\n",
              "       'free_text_description', 'address.street', 'address.postal_code',\n",
              "       'address.locality', 'latitude', 'longitude', 'rooms', 'bathrooms',\n",
              "       'floor_size', 'price', 'created_at', 'description', 'Listed_on_num',\n",
              "       'Listed_on_day', 'days_past', 'date_created_at', 'listed_date',\n",
              "       'pandemic', 'listed_year', 'agent.name',\n",
              "       'development_properties.Completion Year', 'amenities.Barbeque Area',\n",
              "       'amenities.Gymnasium room', 'amenities.Swimming pool', 'listing_url',\n",
              "       'amenities.24 hours security', 'image_urls', 'contains_virtual', 'HDB',\n",
              "       'Condo', 'Apartment'],\n",
              "      dtype='object')"
            ]
          },
          "metadata": {},
          "execution_count": 30
        }
      ]
    },
    {
      "cell_type": "markdown",
      "source": [
        "### Keyword of Interest"
      ],
      "metadata": {
        "id": "rsjrl-nm9RLk"
      }
    },
    {
      "cell_type": "code",
      "source": [
        "len(df_all)"
      ],
      "metadata": {
        "colab": {
          "base_uri": "https://localhost:8080/"
        },
        "id": "nFmPmGqUGHsZ",
        "outputId": "be7ca3d6-3193-4884-f3fd-b59176389f3d"
      },
      "execution_count": null,
      "outputs": [
        {
          "output_type": "execute_result",
          "data": {
            "text/plain": [
              "258699"
            ]
          },
          "metadata": {},
          "execution_count": 32
        }
      ]
    },
    {
      "cell_type": "code",
      "source": [],
      "metadata": {
        "colab": {
          "base_uri": "https://localhost:8080/"
        },
        "id": "uPc7qMg7zg7E",
        "outputId": "35f6bc11-0bff-43b3-9a01-775de7ac514d"
      },
      "execution_count": null,
      "outputs": [
        {
          "output_type": "stream",
          "name": "stdout",
          "text": [
            "                                                                                                                                                                                               description  \\\n",
            "0    Renovated & Clean Room. No owner. * Renovated and clean unit * Private as a corner unit * Air-con and furnished * Free WIFI * No landlord * No cooking * No restriction to the use of common items...   \n",
            "1  View to believe. You'd be willing to pay more than the asking price! ** New Listing **  Just renovated kitchen 1 year ago!  Huge master bedroom!  Unblocked view!  City & greenery view (view of the...   \n",
            "2  Near to many shops Master Room @ Punggol Dr BLK 637B!Cooking allowed! 5-room unit Staying with indian couple only! Friendly landlord Well-maintained room aircon($50/mth) Wifi available Cooking all...   \n",
            "3  Near to many shops 2 x Common Room @ West Coast Road BLK 703! Single female owner 4-room unit Staying with local chinese landlady Friendly landlord Well-maintained room aircon Wifi available no co...   \n",
            "4  Brand New Common Room Rent Brand New Common Room Near Punggol MRT / Sengakang Hospital  ~ Fully Furnished + Aircon + Fan ~ Spacioushi  Room ~ Wifi Available ~ Newly Painted and Renovated House ~ O...   \n",
            "\n",
            "   contains_virtual  \n",
            "0             False  \n",
            "1             False  \n",
            "2             False  \n",
            "3             False  \n",
            "4             False  \n"
          ]
        }
      ]
    },
    {
      "cell_type": "code",
      "source": [
        "#@title virtual 뷰잉 가능 Rent 리스팅 비율\n",
        "percent_virtual = df_all['contains_virtual'].mean() * 100\n",
        "print(percent_virtual)"
      ],
      "metadata": {
        "colab": {
          "base_uri": "https://localhost:8080/"
        },
        "id": "lHdunVrl_ayL",
        "outputId": "42a57fd4-5a61-4d0c-9379-bdcf1429edb2"
      },
      "execution_count": null,
      "outputs": [
        {
          "output_type": "stream",
          "name": "stdout",
          "text": [
            "0.7313518799840741\n"
          ]
        }
      ]
    },
    {
      "cell_type": "code",
      "source": [
        "df_all['Type'].unique()"
      ],
      "metadata": {
        "colab": {
          "base_uri": "https://localhost:8080/"
        },
        "id": "IHB1q5LGFYyJ",
        "outputId": "3d7da6eb-3442-49eb-a8c0-e48c19163b07"
      },
      "execution_count": null,
      "outputs": [
        {
          "output_type": "execute_result",
          "data": {
            "text/plain": [
              "array(['3I (Improved) HDB For Rent', 'Condominium For Rent',\n",
              "       'HDB Apartment For Rent', '3A HDB For Rent',\n",
              "       '4NG (New Generation) HDB For Rent', 'Apartment For Rent',\n",
              "       '4A HDB For Rent', '5I HDB For Rent', '5A HDB For Rent',\n",
              "       'EM (Exec Maisonette) HDB For Rent',\n",
              "       '4S (Simplified) HDB For Rent', 'Executive Condominium For Rent',\n",
              "       '4STD (Standard) HDB For Rent', '1-Room/Studio HDB For Rent',\n",
              "       '3NG (New Generation) HDB For Rent',\n",
              "       'EA (Exec Apartment) HDB For Rent', '3S (Simplified) HDB For Rent',\n",
              "       '4I (Improved) HDB For Rent', '3I (Modified) HDB For Rent',\n",
              "       '3NG (Modified) HDB For Rent', 'Jumbo HDB For Rent',\n",
              "       '3A (Modified) HDB For Rent', '3STD (Standard) HDB For Rent',\n",
              "       '2I (Improved) HDB For Rent', '5S HDB For Rent', '2A HDB For Rent',\n",
              "       '2S (Standard) HDB For Rent', 'HDB For Rent',\n",
              "       '1-Room / Studio HDB For Rent',\n",
              "       'MG (Multi-Generation) HDB For Rent', 'HDB Flat For Rent',\n",
              "       'Condominium For Sale'], dtype=object)"
            ]
          },
          "metadata": {},
          "execution_count": 35
        }
      ]
    },
    {
      "cell_type": "code",
      "source": [
        "len(df_all)"
      ],
      "metadata": {
        "colab": {
          "base_uri": "https://localhost:8080/"
        },
        "id": "m-Z-F26xF9Lz",
        "outputId": "406dbf7a-9998-47c8-efbd-bc897153305e"
      },
      "execution_count": null,
      "outputs": [
        {
          "output_type": "execute_result",
          "data": {
            "text/plain": [
              "258699"
            ]
          },
          "metadata": {},
          "execution_count": 36
        }
      ]
    },
    {
      "cell_type": "code",
      "source": [
        "df_all['Type'].value_counts()"
      ],
      "metadata": {
        "colab": {
          "base_uri": "https://localhost:8080/"
        },
        "id": "FQW5OybiF2TM",
        "outputId": "af62cd25-934f-4c3c-9ac5-e054b0c5645b"
      },
      "execution_count": null,
      "outputs": [
        {
          "output_type": "execute_result",
          "data": {
            "text/plain": [
              "Condominium For Rent                  133760\n",
              "Apartment For Rent                     56206\n",
              "4A HDB For Rent                        21902\n",
              "5I HDB For Rent                        11474\n",
              "4NG (New Generation) HDB For Rent       4280\n",
              "Jumbo HDB For Rent                      4106\n",
              "3I (Improved) HDB For Rent              3596\n",
              "5A HDB For Rent                         3346\n",
              "3A HDB For Rent                         3060\n",
              "3NG (New Generation) HDB For Rent       2718\n",
              "HDB Apartment For Rent                  2026\n",
              "Executive Condominium For Rent          1618\n",
              "4I (Improved) HDB For Rent              1562\n",
              "3NG (Modified) HDB For Rent             1384\n",
              "EA (Exec Apartment) HDB For Rent        1240\n",
              "4S (Simplified) HDB For Rent            1180\n",
              "EM (Exec Maisonette) HDB For Rent        986\n",
              "4STD (Standard) HDB For Rent             700\n",
              "HDB For Rent                             576\n",
              "3A (Modified) HDB For Rent               538\n",
              "3S (Simplified) HDB For Rent             494\n",
              "3STD (Standard) HDB For Rent             436\n",
              "3I (Modified) HDB For Rent               412\n",
              "5S HDB For Rent                          342\n",
              "1-Room / Studio HDB For Rent             288\n",
              "2I (Improved) HDB For Rent               124\n",
              "HDB Flat For Rent                         98\n",
              "1-Room/Studio HDB For Rent                92\n",
              "2S (Standard) HDB For Rent                72\n",
              "2A HDB For Rent                           60\n",
              "MG (Multi-Generation) HDB For Rent        22\n",
              "Condominium For Sale                       1\n",
              "Name: Type, dtype: int64"
            ]
          },
          "metadata": {},
          "execution_count": 37
        }
      ]
    },
    {
      "cell_type": "code",
      "source": [
        "# Condominium For Sale 행 제외\n",
        "# Create a Boolean mask indicating which rows have 'Type' == 'Sale'\n",
        "mask = df_all['Type'] == 'Condominium For Sale'\n",
        "\n",
        "# Use the mask to select only the rows that do not have 'Type' == 'Sale'\n",
        "df_all = df_all[~mask]\n",
        "df_all['Type'].value_counts()"
      ],
      "metadata": {
        "colab": {
          "base_uri": "https://localhost:8080/"
        },
        "id": "yW-_pVZRGy3F",
        "outputId": "c63ca9b4-8e5a-47f1-c5c2-326fbcde8392"
      },
      "execution_count": null,
      "outputs": [
        {
          "output_type": "execute_result",
          "data": {
            "text/plain": [
              "Condominium For Rent                  133760\n",
              "Apartment For Rent                     56206\n",
              "4A HDB For Rent                        21902\n",
              "5I HDB For Rent                        11474\n",
              "4NG (New Generation) HDB For Rent       4280\n",
              "Jumbo HDB For Rent                      4106\n",
              "3I (Improved) HDB For Rent              3596\n",
              "5A HDB For Rent                         3346\n",
              "3A HDB For Rent                         3060\n",
              "3NG (New Generation) HDB For Rent       2718\n",
              "HDB Apartment For Rent                  2026\n",
              "Executive Condominium For Rent          1618\n",
              "4I (Improved) HDB For Rent              1562\n",
              "3NG (Modified) HDB For Rent             1384\n",
              "EA (Exec Apartment) HDB For Rent        1240\n",
              "4S (Simplified) HDB For Rent            1180\n",
              "EM (Exec Maisonette) HDB For Rent        986\n",
              "4STD (Standard) HDB For Rent             700\n",
              "HDB For Rent                             576\n",
              "3A (Modified) HDB For Rent               538\n",
              "3S (Simplified) HDB For Rent             494\n",
              "3STD (Standard) HDB For Rent             436\n",
              "3I (Modified) HDB For Rent               412\n",
              "5S HDB For Rent                          342\n",
              "1-Room / Studio HDB For Rent             288\n",
              "2I (Improved) HDB For Rent               124\n",
              "HDB Flat For Rent                         98\n",
              "1-Room/Studio HDB For Rent                92\n",
              "2S (Standard) HDB For Rent                72\n",
              "2A HDB For Rent                           60\n",
              "MG (Multi-Generation) HDB For Rent        22\n",
              "Name: Type, dtype: int64"
            ]
          },
          "metadata": {},
          "execution_count": 38
        }
      ]
    },
    {
      "cell_type": "code",
      "source": [],
      "metadata": {
        "id": "kp1Aye9CBvrd"
      },
      "execution_count": null,
      "outputs": []
    },
    {
      "cell_type": "code",
      "source": [
        "# Type 구분 컬럼 생성\n",
        "df_all['HDB'] = df_all['Type'].str.contains('HDB')\n",
        "df_all['Condo'] = df_all['Type'].str.contains('Condo')\n",
        "df_all['Apartment'] = df_all['Type'].str.contains('Apartment For Rent')\n",
        "df_all[['Type','HDB', 'Condo', 'Apartment']].head(10)"
      ],
      "metadata": {
        "colab": {
          "base_uri": "https://localhost:8080/",
          "height": 363
        },
        "id": "lrYb6EtsH9X-",
        "outputId": "110bc3ae-f07d-4e4a-f795-b0016446e5d2"
      },
      "execution_count": null,
      "outputs": [
        {
          "output_type": "execute_result",
          "data": {
            "text/plain": [
              "                         Type    HDB  Condo  Apartment\n",
              "0  3I (Improved) HDB For Rent   True  False      False\n",
              "1        Condominium For Rent  False   True      False\n",
              "2      HDB Apartment For Rent   True  False       True\n",
              "3      HDB Apartment For Rent   True  False       True\n",
              "4             3A HDB For Rent   True  False      False\n",
              "5        Condominium For Rent  False   True      False\n",
              "6      HDB Apartment For Rent   True  False       True\n",
              "7      HDB Apartment For Rent   True  False       True\n",
              "8        Condominium For Rent  False   True      False\n",
              "9      HDB Apartment For Rent   True  False       True"
            ],
            "text/html": [
              "\n",
              "  <div id=\"df-e622b1ec-f7a5-49d4-871c-0216350a52e8\">\n",
              "    <div class=\"colab-df-container\">\n",
              "      <div>\n",
              "<style scoped>\n",
              "    .dataframe tbody tr th:only-of-type {\n",
              "        vertical-align: middle;\n",
              "    }\n",
              "\n",
              "    .dataframe tbody tr th {\n",
              "        vertical-align: top;\n",
              "    }\n",
              "\n",
              "    .dataframe thead th {\n",
              "        text-align: right;\n",
              "    }\n",
              "</style>\n",
              "<table border=\"1\" class=\"dataframe\">\n",
              "  <thead>\n",
              "    <tr style=\"text-align: right;\">\n",
              "      <th></th>\n",
              "      <th>Type</th>\n",
              "      <th>HDB</th>\n",
              "      <th>Condo</th>\n",
              "      <th>Apartment</th>\n",
              "    </tr>\n",
              "  </thead>\n",
              "  <tbody>\n",
              "    <tr>\n",
              "      <th>0</th>\n",
              "      <td>3I (Improved) HDB For Rent</td>\n",
              "      <td>True</td>\n",
              "      <td>False</td>\n",
              "      <td>False</td>\n",
              "    </tr>\n",
              "    <tr>\n",
              "      <th>1</th>\n",
              "      <td>Condominium For Rent</td>\n",
              "      <td>False</td>\n",
              "      <td>True</td>\n",
              "      <td>False</td>\n",
              "    </tr>\n",
              "    <tr>\n",
              "      <th>2</th>\n",
              "      <td>HDB Apartment For Rent</td>\n",
              "      <td>True</td>\n",
              "      <td>False</td>\n",
              "      <td>True</td>\n",
              "    </tr>\n",
              "    <tr>\n",
              "      <th>3</th>\n",
              "      <td>HDB Apartment For Rent</td>\n",
              "      <td>True</td>\n",
              "      <td>False</td>\n",
              "      <td>True</td>\n",
              "    </tr>\n",
              "    <tr>\n",
              "      <th>4</th>\n",
              "      <td>3A HDB For Rent</td>\n",
              "      <td>True</td>\n",
              "      <td>False</td>\n",
              "      <td>False</td>\n",
              "    </tr>\n",
              "    <tr>\n",
              "      <th>5</th>\n",
              "      <td>Condominium For Rent</td>\n",
              "      <td>False</td>\n",
              "      <td>True</td>\n",
              "      <td>False</td>\n",
              "    </tr>\n",
              "    <tr>\n",
              "      <th>6</th>\n",
              "      <td>HDB Apartment For Rent</td>\n",
              "      <td>True</td>\n",
              "      <td>False</td>\n",
              "      <td>True</td>\n",
              "    </tr>\n",
              "    <tr>\n",
              "      <th>7</th>\n",
              "      <td>HDB Apartment For Rent</td>\n",
              "      <td>True</td>\n",
              "      <td>False</td>\n",
              "      <td>True</td>\n",
              "    </tr>\n",
              "    <tr>\n",
              "      <th>8</th>\n",
              "      <td>Condominium For Rent</td>\n",
              "      <td>False</td>\n",
              "      <td>True</td>\n",
              "      <td>False</td>\n",
              "    </tr>\n",
              "    <tr>\n",
              "      <th>9</th>\n",
              "      <td>HDB Apartment For Rent</td>\n",
              "      <td>True</td>\n",
              "      <td>False</td>\n",
              "      <td>True</td>\n",
              "    </tr>\n",
              "  </tbody>\n",
              "</table>\n",
              "</div>\n",
              "      <button class=\"colab-df-convert\" onclick=\"convertToInteractive('df-e622b1ec-f7a5-49d4-871c-0216350a52e8')\"\n",
              "              title=\"Convert this dataframe to an interactive table.\"\n",
              "              style=\"display:none;\">\n",
              "        \n",
              "  <svg xmlns=\"http://www.w3.org/2000/svg\" height=\"24px\"viewBox=\"0 0 24 24\"\n",
              "       width=\"24px\">\n",
              "    <path d=\"M0 0h24v24H0V0z\" fill=\"none\"/>\n",
              "    <path d=\"M18.56 5.44l.94 2.06.94-2.06 2.06-.94-2.06-.94-.94-2.06-.94 2.06-2.06.94zm-11 1L8.5 8.5l.94-2.06 2.06-.94-2.06-.94L8.5 2.5l-.94 2.06-2.06.94zm10 10l.94 2.06.94-2.06 2.06-.94-2.06-.94-.94-2.06-.94 2.06-2.06.94z\"/><path d=\"M17.41 7.96l-1.37-1.37c-.4-.4-.92-.59-1.43-.59-.52 0-1.04.2-1.43.59L10.3 9.45l-7.72 7.72c-.78.78-.78 2.05 0 2.83L4 21.41c.39.39.9.59 1.41.59.51 0 1.02-.2 1.41-.59l7.78-7.78 2.81-2.81c.8-.78.8-2.07 0-2.86zM5.41 20L4 18.59l7.72-7.72 1.47 1.35L5.41 20z\"/>\n",
              "  </svg>\n",
              "      </button>\n",
              "      \n",
              "  <style>\n",
              "    .colab-df-container {\n",
              "      display:flex;\n",
              "      flex-wrap:wrap;\n",
              "      gap: 12px;\n",
              "    }\n",
              "\n",
              "    .colab-df-convert {\n",
              "      background-color: #E8F0FE;\n",
              "      border: none;\n",
              "      border-radius: 50%;\n",
              "      cursor: pointer;\n",
              "      display: none;\n",
              "      fill: #1967D2;\n",
              "      height: 32px;\n",
              "      padding: 0 0 0 0;\n",
              "      width: 32px;\n",
              "    }\n",
              "\n",
              "    .colab-df-convert:hover {\n",
              "      background-color: #E2EBFA;\n",
              "      box-shadow: 0px 1px 2px rgba(60, 64, 67, 0.3), 0px 1px 3px 1px rgba(60, 64, 67, 0.15);\n",
              "      fill: #174EA6;\n",
              "    }\n",
              "\n",
              "    [theme=dark] .colab-df-convert {\n",
              "      background-color: #3B4455;\n",
              "      fill: #D2E3FC;\n",
              "    }\n",
              "\n",
              "    [theme=dark] .colab-df-convert:hover {\n",
              "      background-color: #434B5C;\n",
              "      box-shadow: 0px 1px 3px 1px rgba(0, 0, 0, 0.15);\n",
              "      filter: drop-shadow(0px 1px 2px rgba(0, 0, 0, 0.3));\n",
              "      fill: #FFFFFF;\n",
              "    }\n",
              "  </style>\n",
              "\n",
              "      <script>\n",
              "        const buttonEl =\n",
              "          document.querySelector('#df-e622b1ec-f7a5-49d4-871c-0216350a52e8 button.colab-df-convert');\n",
              "        buttonEl.style.display =\n",
              "          google.colab.kernel.accessAllowed ? 'block' : 'none';\n",
              "\n",
              "        async function convertToInteractive(key) {\n",
              "          const element = document.querySelector('#df-e622b1ec-f7a5-49d4-871c-0216350a52e8');\n",
              "          const dataTable =\n",
              "            await google.colab.kernel.invokeFunction('convertToInteractive',\n",
              "                                                     [key], {});\n",
              "          if (!dataTable) return;\n",
              "\n",
              "          const docLinkHtml = 'Like what you see? Visit the ' +\n",
              "            '<a target=\"_blank\" href=https://colab.research.google.com/notebooks/data_table.ipynb>data table notebook</a>'\n",
              "            + ' to learn more about interactive tables.';\n",
              "          element.innerHTML = '';\n",
              "          dataTable['output_type'] = 'display_data';\n",
              "          await google.colab.output.renderOutput(dataTable, element);\n",
              "          const docLink = document.createElement('div');\n",
              "          docLink.innerHTML = docLinkHtml;\n",
              "          element.appendChild(docLink);\n",
              "        }\n",
              "      </script>\n",
              "    </div>\n",
              "  </div>\n",
              "  "
            ]
          },
          "metadata": {},
          "execution_count": 40
        }
      ]
    },
    {
      "cell_type": "code",
      "source": [
        "#@title HDB 렌트매물 중 Virtual 뷰잉 가능 리스팅 비율(%)\n",
        "mask_HDB = df_all['HDB'] == True\n",
        "percent_virtual_HDB = df_all[mask_HDB]['contains_virtual'].mean() * 100\n",
        "print(percent_virtual_HDB)"
      ],
      "metadata": {
        "colab": {
          "base_uri": "https://localhost:8080/"
        },
        "id": "t7VzaWTCBvqQ",
        "outputId": "8aed7134-2e08-4b11-8f7b-90b0d44d815e"
      },
      "execution_count": null,
      "outputs": [
        {
          "output_type": "stream",
          "name": "stdout",
          "text": [
            "0.1758202461483446\n"
          ]
        }
      ]
    },
    {
      "cell_type": "code",
      "source": [
        "#@title Condominium 렌트 매물 중 Virtual 뷰잉 가능 리스팅 비율(%)\n",
        "mask_Condo = df_all['Condo'] == True\n",
        "percent_virtual_condo = df_all[mask_Condo]['contains_virtual'].mean() * 100\n",
        "print(percent_virtual_condo)"
      ],
      "metadata": {
        "colab": {
          "base_uri": "https://localhost:8080/"
        },
        "id": "CN87t16vHzhn",
        "outputId": "5137a40f-b903-4d46-ee54-66c573352847"
      },
      "execution_count": null,
      "outputs": [
        {
          "output_type": "stream",
          "name": "stdout",
          "text": [
            "0.9514101257220523\n"
          ]
        }
      ]
    },
    {
      "cell_type": "code",
      "source": [
        "#@title Apartment 렌트 매물 중 Virtual 뷰잉 가능 리스팅 비율(%)\n",
        "mask_Apartment = df_all['Apartment'] == True\n",
        "percent_virtual_Apartment = df_all[mask_Apartment]['contains_virtual'].mean() * 100\n",
        "print(percent_virtual_Apartment)"
      ],
      "metadata": {
        "colab": {
          "base_uri": "https://localhost:8080/"
        },
        "id": "DANE6nSxIqdR",
        "outputId": "2a749aca-2ab1-4e36-8077-67a7520f3ccd"
      },
      "execution_count": null,
      "outputs": [
        {
          "output_type": "stream",
          "name": "stdout",
          "text": [
            "0.8380272015386729\n"
          ]
        }
      ]
    },
    {
      "cell_type": "markdown",
      "source": [
        "HDB보다는 Condominium과 Apartment에서 월등히 Virtual 뷰잉을 허용하는 비율이 높음을 알 수 있다. "
      ],
      "metadata": {
        "id": "hKZFvH3aJHXE"
      }
    },
    {
      "cell_type": "code",
      "source": [
        "#@title Condominium 또는 Apartment 렌트 매물 중에서 Virtual 뷰잉 가능 리스팅 비율(%)\n",
        "mask_condo_or_Apt = (df_all['Condo'] == True) | (df_all['Apartment'] == True)\n",
        "percent_virtual_condo_or_Apt = df_all[mask_condo_or_Apt]['contains_virtual'].mean()*100\n",
        "print(percent_virtual_condo_or_Apt)"
      ],
      "metadata": {
        "colab": {
          "base_uri": "https://localhost:8080/"
        },
        "id": "2u4hpGdJI2TS",
        "outputId": "e3b20600-5d40-4b79-c0e8-bf2ba16ab126"
      },
      "execution_count": null,
      "outputs": [
        {
          "output_type": "stream",
          "name": "stdout",
          "text": [
            "0.9173079902897576\n"
          ]
        }
      ]
    },
    {
      "cell_type": "markdown",
      "source": [
        "### Virtual Viewing이 코로나 이후 많아졌는가?"
      ],
      "metadata": {
        "id": "Y-Qh1Chjow-3"
      }
    },
    {
      "cell_type": "code",
      "source": [
        "df_all.head(5)"
      ],
      "metadata": {
        "colab": {
          "base_uri": "https://localhost:8080/",
          "height": 508
        },
        "id": "806QriqUqoSv",
        "outputId": "7be299f4-0343-46a7-9cbd-24472a30bfe2"
      },
      "execution_count": null,
      "outputs": [
        {
          "output_type": "execute_result",
          "data": {
            "text/plain": [
              "                         Type             Tenure  Floorsize  \\\n",
              "0  3I (Improved) HDB For Rent  99-year Leasehold   107 sqft   \n",
              "1        Condominium For Rent           Freehold  1711 sqft   \n",
              "2      HDB Apartment For Rent  99-year Leasehold   200 sqft   \n",
              "3      HDB Apartment For Rent  99-year Leasehold   150 sqft   \n",
              "4             3A HDB For Rent  99-year Leasehold   300 sqft   \n",
              "\n",
              "                           Developer          PSF           Furnishing  \\\n",
              "0  Housing & Development Board (HDB)  S$ 7.29 psf      Fully Furnished   \n",
              "1           City Development Limited  S$ 2.10 psf  Partially Furnished   \n",
              "2  Housing & Development Board (HDB)  S$ 3.50 psf                        \n",
              "3  Housing & Development Board (HDB)  S$ 5.33 psf                        \n",
              "4  Housing & Development Board (HDB)  S$ 1.17 psf      Fully Furnished   \n",
              "\n",
              "      TOP         Floor   ListingID listing_properties.Availability  ...  \\\n",
              "0  1970.0  Middle Floor  22083659.0                    22 Nov, 2019  ...   \n",
              "1  1997.0     Penthouse  21626289.0                    29 Dec, 2019  ...   \n",
              "2  2003.0                22083657.0                   Ready to move  ...   \n",
              "3  1979.0                22083655.0                   Ready to move  ...   \n",
              "4  2017.0                22048081.0                   Ready to move  ...   \n",
              "\n",
              "  amenities.Barbeque Area amenities.Gymnasium room  amenities.Swimming pool  \\\n",
              "0                     NaN                      NaN                      NaN   \n",
              "1                     NaN                      NaN                      NaN   \n",
              "2                     NaN                      NaN                      NaN   \n",
              "3                     NaN                      NaN                      NaN   \n",
              "4                     NaN                      NaN                      NaN   \n",
              "\n",
              "  listing_url amenities.24 hours security image_urls  contains_virtual    HDB  \\\n",
              "0         NaN                         NaN        NaN             False   True   \n",
              "1         NaN                         NaN        NaN             False  False   \n",
              "2         NaN                         NaN        NaN             False   True   \n",
              "3         NaN                         NaN        NaN             False   True   \n",
              "4         NaN                         NaN        NaN             False   True   \n",
              "\n",
              "   Condo  Apartment  \n",
              "0  False      False  \n",
              "1   True      False  \n",
              "2  False       True  \n",
              "3  False       True  \n",
              "4  False      False  \n",
              "\n",
              "[5 rows x 48 columns]"
            ],
            "text/html": [
              "\n",
              "  <div id=\"df-79d4e472-4555-494f-8218-0d48de136b43\">\n",
              "    <div class=\"colab-df-container\">\n",
              "      <div>\n",
              "<style scoped>\n",
              "    .dataframe tbody tr th:only-of-type {\n",
              "        vertical-align: middle;\n",
              "    }\n",
              "\n",
              "    .dataframe tbody tr th {\n",
              "        vertical-align: top;\n",
              "    }\n",
              "\n",
              "    .dataframe thead th {\n",
              "        text-align: right;\n",
              "    }\n",
              "</style>\n",
              "<table border=\"1\" class=\"dataframe\">\n",
              "  <thead>\n",
              "    <tr style=\"text-align: right;\">\n",
              "      <th></th>\n",
              "      <th>Type</th>\n",
              "      <th>Tenure</th>\n",
              "      <th>Floorsize</th>\n",
              "      <th>Developer</th>\n",
              "      <th>PSF</th>\n",
              "      <th>Furnishing</th>\n",
              "      <th>TOP</th>\n",
              "      <th>Floor</th>\n",
              "      <th>ListingID</th>\n",
              "      <th>listing_properties.Availability</th>\n",
              "      <th>...</th>\n",
              "      <th>amenities.Barbeque Area</th>\n",
              "      <th>amenities.Gymnasium room</th>\n",
              "      <th>amenities.Swimming pool</th>\n",
              "      <th>listing_url</th>\n",
              "      <th>amenities.24 hours security</th>\n",
              "      <th>image_urls</th>\n",
              "      <th>contains_virtual</th>\n",
              "      <th>HDB</th>\n",
              "      <th>Condo</th>\n",
              "      <th>Apartment</th>\n",
              "    </tr>\n",
              "  </thead>\n",
              "  <tbody>\n",
              "    <tr>\n",
              "      <th>0</th>\n",
              "      <td>3I (Improved) HDB For Rent</td>\n",
              "      <td>99-year Leasehold</td>\n",
              "      <td>107 sqft</td>\n",
              "      <td>Housing &amp; Development Board (HDB)</td>\n",
              "      <td>S$ 7.29 psf</td>\n",
              "      <td>Fully Furnished</td>\n",
              "      <td>1970.0</td>\n",
              "      <td>Middle Floor</td>\n",
              "      <td>22083659.0</td>\n",
              "      <td>22 Nov, 2019</td>\n",
              "      <td>...</td>\n",
              "      <td>NaN</td>\n",
              "      <td>NaN</td>\n",
              "      <td>NaN</td>\n",
              "      <td>NaN</td>\n",
              "      <td>NaN</td>\n",
              "      <td>NaN</td>\n",
              "      <td>False</td>\n",
              "      <td>True</td>\n",
              "      <td>False</td>\n",
              "      <td>False</td>\n",
              "    </tr>\n",
              "    <tr>\n",
              "      <th>1</th>\n",
              "      <td>Condominium For Rent</td>\n",
              "      <td>Freehold</td>\n",
              "      <td>1711 sqft</td>\n",
              "      <td>City Development Limited</td>\n",
              "      <td>S$ 2.10 psf</td>\n",
              "      <td>Partially Furnished</td>\n",
              "      <td>1997.0</td>\n",
              "      <td>Penthouse</td>\n",
              "      <td>21626289.0</td>\n",
              "      <td>29 Dec, 2019</td>\n",
              "      <td>...</td>\n",
              "      <td>NaN</td>\n",
              "      <td>NaN</td>\n",
              "      <td>NaN</td>\n",
              "      <td>NaN</td>\n",
              "      <td>NaN</td>\n",
              "      <td>NaN</td>\n",
              "      <td>False</td>\n",
              "      <td>False</td>\n",
              "      <td>True</td>\n",
              "      <td>False</td>\n",
              "    </tr>\n",
              "    <tr>\n",
              "      <th>2</th>\n",
              "      <td>HDB Apartment For Rent</td>\n",
              "      <td>99-year Leasehold</td>\n",
              "      <td>200 sqft</td>\n",
              "      <td>Housing &amp; Development Board (HDB)</td>\n",
              "      <td>S$ 3.50 psf</td>\n",
              "      <td></td>\n",
              "      <td>2003.0</td>\n",
              "      <td></td>\n",
              "      <td>22083657.0</td>\n",
              "      <td>Ready to move</td>\n",
              "      <td>...</td>\n",
              "      <td>NaN</td>\n",
              "      <td>NaN</td>\n",
              "      <td>NaN</td>\n",
              "      <td>NaN</td>\n",
              "      <td>NaN</td>\n",
              "      <td>NaN</td>\n",
              "      <td>False</td>\n",
              "      <td>True</td>\n",
              "      <td>False</td>\n",
              "      <td>True</td>\n",
              "    </tr>\n",
              "    <tr>\n",
              "      <th>3</th>\n",
              "      <td>HDB Apartment For Rent</td>\n",
              "      <td>99-year Leasehold</td>\n",
              "      <td>150 sqft</td>\n",
              "      <td>Housing &amp; Development Board (HDB)</td>\n",
              "      <td>S$ 5.33 psf</td>\n",
              "      <td></td>\n",
              "      <td>1979.0</td>\n",
              "      <td></td>\n",
              "      <td>22083655.0</td>\n",
              "      <td>Ready to move</td>\n",
              "      <td>...</td>\n",
              "      <td>NaN</td>\n",
              "      <td>NaN</td>\n",
              "      <td>NaN</td>\n",
              "      <td>NaN</td>\n",
              "      <td>NaN</td>\n",
              "      <td>NaN</td>\n",
              "      <td>False</td>\n",
              "      <td>True</td>\n",
              "      <td>False</td>\n",
              "      <td>True</td>\n",
              "    </tr>\n",
              "    <tr>\n",
              "      <th>4</th>\n",
              "      <td>3A HDB For Rent</td>\n",
              "      <td>99-year Leasehold</td>\n",
              "      <td>300 sqft</td>\n",
              "      <td>Housing &amp; Development Board (HDB)</td>\n",
              "      <td>S$ 1.17 psf</td>\n",
              "      <td>Fully Furnished</td>\n",
              "      <td>2017.0</td>\n",
              "      <td></td>\n",
              "      <td>22048081.0</td>\n",
              "      <td>Ready to move</td>\n",
              "      <td>...</td>\n",
              "      <td>NaN</td>\n",
              "      <td>NaN</td>\n",
              "      <td>NaN</td>\n",
              "      <td>NaN</td>\n",
              "      <td>NaN</td>\n",
              "      <td>NaN</td>\n",
              "      <td>False</td>\n",
              "      <td>True</td>\n",
              "      <td>False</td>\n",
              "      <td>False</td>\n",
              "    </tr>\n",
              "  </tbody>\n",
              "</table>\n",
              "<p>5 rows × 48 columns</p>\n",
              "</div>\n",
              "      <button class=\"colab-df-convert\" onclick=\"convertToInteractive('df-79d4e472-4555-494f-8218-0d48de136b43')\"\n",
              "              title=\"Convert this dataframe to an interactive table.\"\n",
              "              style=\"display:none;\">\n",
              "        \n",
              "  <svg xmlns=\"http://www.w3.org/2000/svg\" height=\"24px\"viewBox=\"0 0 24 24\"\n",
              "       width=\"24px\">\n",
              "    <path d=\"M0 0h24v24H0V0z\" fill=\"none\"/>\n",
              "    <path d=\"M18.56 5.44l.94 2.06.94-2.06 2.06-.94-2.06-.94-.94-2.06-.94 2.06-2.06.94zm-11 1L8.5 8.5l.94-2.06 2.06-.94-2.06-.94L8.5 2.5l-.94 2.06-2.06.94zm10 10l.94 2.06.94-2.06 2.06-.94-2.06-.94-.94-2.06-.94 2.06-2.06.94z\"/><path d=\"M17.41 7.96l-1.37-1.37c-.4-.4-.92-.59-1.43-.59-.52 0-1.04.2-1.43.59L10.3 9.45l-7.72 7.72c-.78.78-.78 2.05 0 2.83L4 21.41c.39.39.9.59 1.41.59.51 0 1.02-.2 1.41-.59l7.78-7.78 2.81-2.81c.8-.78.8-2.07 0-2.86zM5.41 20L4 18.59l7.72-7.72 1.47 1.35L5.41 20z\"/>\n",
              "  </svg>\n",
              "      </button>\n",
              "      \n",
              "  <style>\n",
              "    .colab-df-container {\n",
              "      display:flex;\n",
              "      flex-wrap:wrap;\n",
              "      gap: 12px;\n",
              "    }\n",
              "\n",
              "    .colab-df-convert {\n",
              "      background-color: #E8F0FE;\n",
              "      border: none;\n",
              "      border-radius: 50%;\n",
              "      cursor: pointer;\n",
              "      display: none;\n",
              "      fill: #1967D2;\n",
              "      height: 32px;\n",
              "      padding: 0 0 0 0;\n",
              "      width: 32px;\n",
              "    }\n",
              "\n",
              "    .colab-df-convert:hover {\n",
              "      background-color: #E2EBFA;\n",
              "      box-shadow: 0px 1px 2px rgba(60, 64, 67, 0.3), 0px 1px 3px 1px rgba(60, 64, 67, 0.15);\n",
              "      fill: #174EA6;\n",
              "    }\n",
              "\n",
              "    [theme=dark] .colab-df-convert {\n",
              "      background-color: #3B4455;\n",
              "      fill: #D2E3FC;\n",
              "    }\n",
              "\n",
              "    [theme=dark] .colab-df-convert:hover {\n",
              "      background-color: #434B5C;\n",
              "      box-shadow: 0px 1px 3px 1px rgba(0, 0, 0, 0.15);\n",
              "      filter: drop-shadow(0px 1px 2px rgba(0, 0, 0, 0.3));\n",
              "      fill: #FFFFFF;\n",
              "    }\n",
              "  </style>\n",
              "\n",
              "      <script>\n",
              "        const buttonEl =\n",
              "          document.querySelector('#df-79d4e472-4555-494f-8218-0d48de136b43 button.colab-df-convert');\n",
              "        buttonEl.style.display =\n",
              "          google.colab.kernel.accessAllowed ? 'block' : 'none';\n",
              "\n",
              "        async function convertToInteractive(key) {\n",
              "          const element = document.querySelector('#df-79d4e472-4555-494f-8218-0d48de136b43');\n",
              "          const dataTable =\n",
              "            await google.colab.kernel.invokeFunction('convertToInteractive',\n",
              "                                                     [key], {});\n",
              "          if (!dataTable) return;\n",
              "\n",
              "          const docLinkHtml = 'Like what you see? Visit the ' +\n",
              "            '<a target=\"_blank\" href=https://colab.research.google.com/notebooks/data_table.ipynb>data table notebook</a>'\n",
              "            + ' to learn more about interactive tables.';\n",
              "          element.innerHTML = '';\n",
              "          dataTable['output_type'] = 'display_data';\n",
              "          await google.colab.output.renderOutput(dataTable, element);\n",
              "          const docLink = document.createElement('div');\n",
              "          docLink.innerHTML = docLinkHtml;\n",
              "          element.appendChild(docLink);\n",
              "        }\n",
              "      </script>\n",
              "    </div>\n",
              "  </div>\n",
              "  "
            ]
          },
          "metadata": {},
          "execution_count": 46
        }
      ]
    },
    {
      "cell_type": "code",
      "source": [
        "df_all.columns"
      ],
      "metadata": {
        "colab": {
          "base_uri": "https://localhost:8080/"
        },
        "id": "_5--Y1g9rGZ2",
        "outputId": "4b9fdb98-8f10-45d2-8f91-7645f5f4d3e3"
      },
      "execution_count": null,
      "outputs": [
        {
          "output_type": "execute_result",
          "data": {
            "text/plain": [
              "Index(['Type', 'Tenure', 'Floorsize', 'Developer', 'PSF', 'Furnishing', 'TOP',\n",
              "       'Floor', 'ListingID', 'listing_properties.Availability', 'Listed_on',\n",
              "       'properties.Type', 'properties.TOP', 'properties.Tenure',\n",
              "       'properties.url', 'properties.name', 'Total Unit(s)',\n",
              "       'free_text_description', 'address.street', 'address.postal_code',\n",
              "       'address.locality', 'latitude', 'longitude', 'rooms', 'bathrooms',\n",
              "       'floor_size', 'price', 'created_at', 'description', 'Listed_on_num',\n",
              "       'Listed_on_day', 'days_past', 'date_created_at', 'listed_date',\n",
              "       'pandemic', 'listed_year', 'agent.name',\n",
              "       'development_properties.Completion Year', 'amenities.Barbeque Area',\n",
              "       'amenities.Gymnasium room', 'amenities.Swimming pool', 'listing_url',\n",
              "       'amenities.24 hours security', 'image_urls', 'contains_virtual', 'HDB',\n",
              "       'Condo', 'Apartment'],\n",
              "      dtype='object')"
            ]
          },
          "metadata": {},
          "execution_count": 47
        }
      ]
    },
    {
      "cell_type": "code",
      "source": [
        "df_all['listed_year'].value_counts()"
      ],
      "metadata": {
        "colab": {
          "base_uri": "https://localhost:8080/"
        },
        "id": "hQGmDUtUrcd1",
        "outputId": "c9c31c58-9f91-4359-b778-6173da8d237c"
      },
      "execution_count": null,
      "outputs": [
        {
          "output_type": "execute_result",
          "data": {
            "text/plain": [
              "2020    106890\n",
              "2019     79618\n",
              "2021     72190\n",
              "Name: listed_year, dtype: int64"
            ]
          },
          "metadata": {},
          "execution_count": 66
        }
      ]
    },
    {
      "cell_type": "code",
      "source": [
        "df_all[['listed_year', 'description', 'properties.Type']].head()"
      ],
      "metadata": {
        "colab": {
          "base_uri": "https://localhost:8080/",
          "height": 320
        },
        "id": "NsYVSwhvrm11",
        "outputId": "9bfb5930-289a-40f1-b869-0cecd62bac81"
      },
      "execution_count": null,
      "outputs": [
        {
          "output_type": "execute_result",
          "data": {
            "text/plain": [
              "   listed_year  \\\n",
              "0         2019   \n",
              "1         2019   \n",
              "2         2019   \n",
              "3         2019   \n",
              "4         2019   \n",
              "\n",
              "                                                                                                                                                                                               description  \\\n",
              "0    Renovated & Clean Room. No owner. * Renovated and clean unit * Private as a corner unit * Air-con and furnished * Free WIFI * No landlord * No cooking * No restriction to the use of common items...   \n",
              "1  View to believe. You'd be willing to pay more than the asking price! ** New Listing **  Just renovated kitchen 1 year ago!  Huge master bedroom!  Unblocked view!  City & greenery view (view of the...   \n",
              "2  Near to many shops Master Room @ Punggol Dr BLK 637B!Cooking allowed! 5-room unit Staying with indian couple only! Friendly landlord Well-maintained room aircon($50/mth) Wifi available Cooking all...   \n",
              "3  Near to many shops 2 x Common Room @ West Coast Road BLK 703! Single female owner 4-room unit Staying with local chinese landlady Friendly landlord Well-maintained room aircon Wifi available no co...   \n",
              "4  Brand New Common Room Rent Brand New Common Room Near Punggol MRT / Sengakang Hospital  ~ Fully Furnished + Aircon + Fan ~ Spacioushi  Room ~ Wifi Available ~ Newly Painted and Renovated House ~ O...   \n",
              "\n",
              "  properties.Type  \n",
              "0   HDB Apartment  \n",
              "1     Condominium  \n",
              "2   HDB Apartment  \n",
              "3   HDB Apartment  \n",
              "4   HDB Apartment  "
            ],
            "text/html": [
              "\n",
              "  <div id=\"df-2339c3e4-588b-4728-91f1-9bd44e283825\">\n",
              "    <div class=\"colab-df-container\">\n",
              "      <div>\n",
              "<style scoped>\n",
              "    .dataframe tbody tr th:only-of-type {\n",
              "        vertical-align: middle;\n",
              "    }\n",
              "\n",
              "    .dataframe tbody tr th {\n",
              "        vertical-align: top;\n",
              "    }\n",
              "\n",
              "    .dataframe thead th {\n",
              "        text-align: right;\n",
              "    }\n",
              "</style>\n",
              "<table border=\"1\" class=\"dataframe\">\n",
              "  <thead>\n",
              "    <tr style=\"text-align: right;\">\n",
              "      <th></th>\n",
              "      <th>listed_year</th>\n",
              "      <th>description</th>\n",
              "      <th>properties.Type</th>\n",
              "    </tr>\n",
              "  </thead>\n",
              "  <tbody>\n",
              "    <tr>\n",
              "      <th>0</th>\n",
              "      <td>2019</td>\n",
              "      <td>Renovated &amp; Clean Room. No owner. * Renovated and clean unit * Private as a corner unit * Air-con and furnished * Free WIFI * No landlord * No cooking * No restriction to the use of common items...</td>\n",
              "      <td>HDB Apartment</td>\n",
              "    </tr>\n",
              "    <tr>\n",
              "      <th>1</th>\n",
              "      <td>2019</td>\n",
              "      <td>View to believe. You'd be willing to pay more than the asking price! ** New Listing **  Just renovated kitchen 1 year ago!  Huge master bedroom!  Unblocked view!  City &amp; greenery view (view of the...</td>\n",
              "      <td>Condominium</td>\n",
              "    </tr>\n",
              "    <tr>\n",
              "      <th>2</th>\n",
              "      <td>2019</td>\n",
              "      <td>Near to many shops Master Room @ Punggol Dr BLK 637B!Cooking allowed! 5-room unit Staying with indian couple only! Friendly landlord Well-maintained room aircon($50/mth) Wifi available Cooking all...</td>\n",
              "      <td>HDB Apartment</td>\n",
              "    </tr>\n",
              "    <tr>\n",
              "      <th>3</th>\n",
              "      <td>2019</td>\n",
              "      <td>Near to many shops 2 x Common Room @ West Coast Road BLK 703! Single female owner 4-room unit Staying with local chinese landlady Friendly landlord Well-maintained room aircon Wifi available no co...</td>\n",
              "      <td>HDB Apartment</td>\n",
              "    </tr>\n",
              "    <tr>\n",
              "      <th>4</th>\n",
              "      <td>2019</td>\n",
              "      <td>Brand New Common Room Rent Brand New Common Room Near Punggol MRT / Sengakang Hospital  ~ Fully Furnished + Aircon + Fan ~ Spacioushi  Room ~ Wifi Available ~ Newly Painted and Renovated House ~ O...</td>\n",
              "      <td>HDB Apartment</td>\n",
              "    </tr>\n",
              "  </tbody>\n",
              "</table>\n",
              "</div>\n",
              "      <button class=\"colab-df-convert\" onclick=\"convertToInteractive('df-2339c3e4-588b-4728-91f1-9bd44e283825')\"\n",
              "              title=\"Convert this dataframe to an interactive table.\"\n",
              "              style=\"display:none;\">\n",
              "        \n",
              "  <svg xmlns=\"http://www.w3.org/2000/svg\" height=\"24px\"viewBox=\"0 0 24 24\"\n",
              "       width=\"24px\">\n",
              "    <path d=\"M0 0h24v24H0V0z\" fill=\"none\"/>\n",
              "    <path d=\"M18.56 5.44l.94 2.06.94-2.06 2.06-.94-2.06-.94-.94-2.06-.94 2.06-2.06.94zm-11 1L8.5 8.5l.94-2.06 2.06-.94-2.06-.94L8.5 2.5l-.94 2.06-2.06.94zm10 10l.94 2.06.94-2.06 2.06-.94-2.06-.94-.94-2.06-.94 2.06-2.06.94z\"/><path d=\"M17.41 7.96l-1.37-1.37c-.4-.4-.92-.59-1.43-.59-.52 0-1.04.2-1.43.59L10.3 9.45l-7.72 7.72c-.78.78-.78 2.05 0 2.83L4 21.41c.39.39.9.59 1.41.59.51 0 1.02-.2 1.41-.59l7.78-7.78 2.81-2.81c.8-.78.8-2.07 0-2.86zM5.41 20L4 18.59l7.72-7.72 1.47 1.35L5.41 20z\"/>\n",
              "  </svg>\n",
              "      </button>\n",
              "      \n",
              "  <style>\n",
              "    .colab-df-container {\n",
              "      display:flex;\n",
              "      flex-wrap:wrap;\n",
              "      gap: 12px;\n",
              "    }\n",
              "\n",
              "    .colab-df-convert {\n",
              "      background-color: #E8F0FE;\n",
              "      border: none;\n",
              "      border-radius: 50%;\n",
              "      cursor: pointer;\n",
              "      display: none;\n",
              "      fill: #1967D2;\n",
              "      height: 32px;\n",
              "      padding: 0 0 0 0;\n",
              "      width: 32px;\n",
              "    }\n",
              "\n",
              "    .colab-df-convert:hover {\n",
              "      background-color: #E2EBFA;\n",
              "      box-shadow: 0px 1px 2px rgba(60, 64, 67, 0.3), 0px 1px 3px 1px rgba(60, 64, 67, 0.15);\n",
              "      fill: #174EA6;\n",
              "    }\n",
              "\n",
              "    [theme=dark] .colab-df-convert {\n",
              "      background-color: #3B4455;\n",
              "      fill: #D2E3FC;\n",
              "    }\n",
              "\n",
              "    [theme=dark] .colab-df-convert:hover {\n",
              "      background-color: #434B5C;\n",
              "      box-shadow: 0px 1px 3px 1px rgba(0, 0, 0, 0.15);\n",
              "      filter: drop-shadow(0px 1px 2px rgba(0, 0, 0, 0.3));\n",
              "      fill: #FFFFFF;\n",
              "    }\n",
              "  </style>\n",
              "\n",
              "      <script>\n",
              "        const buttonEl =\n",
              "          document.querySelector('#df-2339c3e4-588b-4728-91f1-9bd44e283825 button.colab-df-convert');\n",
              "        buttonEl.style.display =\n",
              "          google.colab.kernel.accessAllowed ? 'block' : 'none';\n",
              "\n",
              "        async function convertToInteractive(key) {\n",
              "          const element = document.querySelector('#df-2339c3e4-588b-4728-91f1-9bd44e283825');\n",
              "          const dataTable =\n",
              "            await google.colab.kernel.invokeFunction('convertToInteractive',\n",
              "                                                     [key], {});\n",
              "          if (!dataTable) return;\n",
              "\n",
              "          const docLinkHtml = 'Like what you see? Visit the ' +\n",
              "            '<a target=\"_blank\" href=https://colab.research.google.com/notebooks/data_table.ipynb>data table notebook</a>'\n",
              "            + ' to learn more about interactive tables.';\n",
              "          element.innerHTML = '';\n",
              "          dataTable['output_type'] = 'display_data';\n",
              "          await google.colab.output.renderOutput(dataTable, element);\n",
              "          const docLink = document.createElement('div');\n",
              "          docLink.innerHTML = docLinkHtml;\n",
              "          element.appendChild(docLink);\n",
              "        }\n",
              "      </script>\n",
              "    </div>\n",
              "  </div>\n",
              "  "
            ]
          },
          "metadata": {},
          "execution_count": 49
        }
      ]
    },
    {
      "cell_type": "code",
      "source": [],
      "metadata": {
        "id": "apRGDxJVsXob"
      },
      "execution_count": null,
      "outputs": []
    },
    {
      "cell_type": "code",
      "source": [
        "# 유형별, 연도별 contains_virtual 평균 나타내기"
      ],
      "metadata": {
        "id": "JYgHwImlo4eH"
      },
      "execution_count": null,
      "outputs": []
    },
    {
      "cell_type": "code",
      "source": [
        "mask_condo_2019 = (df_all['Condo'] == True)&(df_all['listed_year'] == 2019)\n",
        "len(df_all[mask_condo_2019])"
      ],
      "metadata": {
        "colab": {
          "base_uri": "https://localhost:8080/"
        },
        "id": "TBHhXUczpIh0",
        "outputId": "43884ee9-8b38-41ce-a598-339f2ba07fba"
      },
      "execution_count": null,
      "outputs": [
        {
          "output_type": "execute_result",
          "data": {
            "text/plain": [
              "33800"
            ]
          },
          "metadata": {},
          "execution_count": 57
        }
      ]
    },
    {
      "cell_type": "code",
      "source": [
        "mask_condo_2020 = (df_all['Condo'] == True)&(df_all['listed_year'] == 2020)\n",
        "len(df_all[mask_condo_2020])"
      ],
      "metadata": {
        "colab": {
          "base_uri": "https://localhost:8080/"
        },
        "id": "N9bmUUF2zgaj",
        "outputId": "063141dd-408a-4e56-f5bf-d0d74aa2477a"
      },
      "execution_count": null,
      "outputs": [
        {
          "output_type": "execute_result",
          "data": {
            "text/plain": [
              "62160"
            ]
          },
          "metadata": {},
          "execution_count": 58
        }
      ]
    },
    {
      "cell_type": "code",
      "source": [
        "mask_condo_2021 = (df_all['Condo'] == True)&(df_all['listed_year'] == 2021)\n",
        "len(df_all[mask_condo_2021])"
      ],
      "metadata": {
        "colab": {
          "base_uri": "https://localhost:8080/"
        },
        "id": "1WDTp0-SzmI4",
        "outputId": "48605670-bd49-4888-dc58-174c51a95354"
      },
      "execution_count": null,
      "outputs": [
        {
          "output_type": "execute_result",
          "data": {
            "text/plain": [
              "39418"
            ]
          },
          "metadata": {},
          "execution_count": 59
        }
      ]
    },
    {
      "cell_type": "code",
      "source": [
        "mask_hdb_2019 = (df_all['HDB'] == True)&(df_all['listed_year']==2019)\n",
        "mask_hdb_2020 = (df_all['HDB'] == True)&(df_all['listed_year']==2020)\n",
        "mask_hdb_2021 = (df_all['HDB'] == True)&(df_all['listed_year']==2021)\n",
        "print(len(df_all[mask_hdb_2019]), len(df_all[mask_hdb_2020]), len(df_all[mask_hdb_2021]))"
      ],
      "metadata": {
        "colab": {
          "base_uri": "https://localhost:8080/"
        },
        "id": "RdUF_rZjzr2U",
        "outputId": "ffc24f3a-1968-4fa4-8132-4a310e1a756f"
      },
      "execution_count": null,
      "outputs": [
        {
          "output_type": "stream",
          "name": "stdout",
          "text": [
            "30646 20482 15986\n"
          ]
        }
      ]
    },
    {
      "cell_type": "code",
      "source": [
        "mask_apt_2019 = (df_all['Apartment'] == True)&(df_all['listed_year']==2019)\n",
        "mask_apt_2020 = (df_all['Apartment'] == True)&(df_all['listed_year']==2020)\n",
        "mask_apt_2021 = (df_all['Apartment'] == True)&(df_all['listed_year']==2021)\n",
        "print(len(df_all[mask_apt_2019]), len(df_all[mask_apt_2020]), len(df_all[mask_apt_2021]))"
      ],
      "metadata": {
        "colab": {
          "base_uri": "https://localhost:8080/"
        },
        "id": "sYdxcVES0hvY",
        "outputId": "0f1a7fd3-9d95-4f08-a18a-0841465b5b2e"
      },
      "execution_count": null,
      "outputs": [
        {
          "output_type": "stream",
          "name": "stdout",
          "text": [
            "17198 24248 16786\n"
          ]
        }
      ]
    },
    {
      "cell_type": "code",
      "source": [
        "# 2019년 유형별 합계가 2019년 리스팅 갯수랑 안맞아서 확인\n",
        "mask_apt_hdb = (df_all['Apartment']==True)&(df_all['HDB']==True)\n",
        "len(df_all[mask_apt_hdb])"
      ],
      "metadata": {
        "colab": {
          "base_uri": "https://localhost:8080/"
        },
        "id": "_mtriCvf0htY",
        "outputId": "7cc2d7f7-635c-45ac-dbe5-172c56dc0f38"
      },
      "execution_count": null,
      "outputs": [
        {
          "output_type": "execute_result",
          "data": {
            "text/plain": [
              "2026"
            ]
          },
          "metadata": {},
          "execution_count": 69
        }
      ]
    },
    {
      "cell_type": "code",
      "source": [
        "# hdb apartment 타입인 경우 apartment 컬럼을 False로 변경\n",
        "df_all.loc[mask_apt_hdb, 'Apartment'] = False"
      ],
      "metadata": {
        "id": "Rt89sKuL1t2U"
      },
      "execution_count": null,
      "outputs": []
    },
    {
      "cell_type": "code",
      "source": [
        "mask_apt_2019 = (df_all['Apartment'] == True)&(df_all['listed_year']==2019)\n",
        "mask_apt_2020 = (df_all['Apartment'] == True)&(df_all['listed_year']==2020)\n",
        "mask_apt_2021 = (df_all['Apartment'] == True)&(df_all['listed_year']==2021)\n",
        "print(len(df_all[mask_apt_2019]), len(df_all[mask_apt_2020]), len(df_all[mask_apt_2021]))"
      ],
      "metadata": {
        "colab": {
          "base_uri": "https://localhost:8080/"
        },
        "id": "uNQ5Q9Fg4ccH",
        "outputId": "bee59c61-ea3a-43df-f993-0258630fd7d9"
      },
      "execution_count": null,
      "outputs": [
        {
          "output_type": "stream",
          "name": "stdout",
          "text": [
            "15172 24248 16786\n"
          ]
        }
      ]
    },
    {
      "cell_type": "code",
      "source": [],
      "metadata": {
        "id": "wuW5n8roP7mo"
      },
      "execution_count": null,
      "outputs": []
    },
    {
      "cell_type": "markdown",
      "source": [
        "### condo listing 내보내기"
      ],
      "metadata": {
        "id": "_eIn10jvOrlU"
      }
    },
    {
      "cell_type": "code",
      "source": [],
      "metadata": {
        "id": "2Sk80xtxWxnN"
      },
      "execution_count": null,
      "outputs": []
    },
    {
      "cell_type": "code",
      "source": [
        "# 콘도 데이터\n",
        "df_all[df_all['Condo']==True].to_excel(\"/content/drive/MyDrive/PropertyGuru/Rent_preprocessed_1/Condo_Rent_Listings.xlsx\")"
      ],
      "metadata": {
        "id": "GAqnUEKl51Vf"
      },
      "execution_count": null,
      "outputs": []
    },
    {
      "cell_type": "code",
      "source": [
        "# HDB 데이터\n",
        "df_all[df_all['HDB']==True].to_excel(\"/content/drive/MyDrive/PropertyGuru/Rent_preprocessed_1/HDB_Rent_Listings.xlsx\")"
      ],
      "metadata": {
        "id": "9DoP4pqtBdhK"
      },
      "execution_count": null,
      "outputs": []
    },
    {
      "cell_type": "code",
      "source": [
        "# APT 데이터\n",
        "df_all[df_all['Apartment']==True].to_excel(\"/content/drive/MyDrive/PropertyGuru/Rent_preprocessed_1/Apartment_Rent_Listings.xlsx\")"
      ],
      "metadata": {
        "id": "NVTed2stBetg"
      },
      "execution_count": null,
      "outputs": []
    }
  ]
}