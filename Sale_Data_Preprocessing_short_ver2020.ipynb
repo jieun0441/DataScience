{
  "cells": [
    {
      "cell_type": "markdown",
      "metadata": {
        "id": "view-in-github",
        "colab_type": "text"
      },
      "source": [
        "<a href=\"https://colab.research.google.com/github/jieun0441/DataScience/blob/master/Sale_Data_Preprocessing_short_ver2020.ipynb\" target=\"_parent\"><img src=\"https://colab.research.google.com/assets/colab-badge.svg\" alt=\"Open In Colab\"/></a>"
      ]
    },
    {
      "cell_type": "markdown",
      "metadata": {
        "id": "Ov_M3CpZ8uuJ"
      },
      "source": [
        "### Environment Setting"
      ]
    },
    {
      "cell_type": "code",
      "execution_count": 1,
      "metadata": {
        "colab": {
          "base_uri": "https://localhost:8080/"
        },
        "id": "Sm8bBzQTplUC",
        "outputId": "18c2a12e-5a6a-4939-c225-a4a8817e8a66"
      },
      "outputs": [
        {
          "output_type": "stream",
          "name": "stdout",
          "text": [
            "Drive already mounted at /content/drive; to attempt to forcibly remount, call drive.mount(\"/content/drive\", force_remount=True).\n"
          ]
        }
      ],
      "source": [
        "# For Colab Use------------------------------------\n",
        "from google.colab import drive\n",
        "drive.mount('/content/drive')"
      ]
    },
    {
      "cell_type": "code",
      "execution_count": 9,
      "metadata": {
        "id": "qob2Hjmnt200"
      },
      "outputs": [],
      "source": [
        "import os\n"
      ]
    },
    {
      "cell_type": "code",
      "execution_count": 3,
      "metadata": {
        "colab": {
          "base_uri": "https://localhost:8080/"
        },
        "id": "yrE3lhfouiW0",
        "outputId": "c79e250f-f09a-4866-9792-07c65d24a4bf"
      },
      "outputs": [
        {
          "output_type": "stream",
          "name": "stdout",
          "text": [
            "/content\n"
          ]
        }
      ],
      "source": [
        "#현재 경로를 알고싶다면\n",
        "print(os.getcwd())"
      ]
    },
    {
      "cell_type": "code",
      "execution_count": 2,
      "metadata": {
        "colab": {
          "base_uri": "https://localhost:8080/"
        },
        "id": "ADfXXP2zqXxX",
        "outputId": "3b856704-5c97-4e03-e2c3-ed9e96872ee0"
      },
      "outputs": [
        {
          "output_type": "stream",
          "name": "stdout",
          "text": [
            "Looking in indexes: https://pypi.org/simple, https://us-python.pkg.dev/colab-wheels/public/simple/\n",
            "Collecting datatable\n",
            "  Downloading datatable-1.0.0-cp38-cp38-manylinux_2_12_x86_64.whl (96.6 MB)\n",
            "\u001b[2K     \u001b[90m━━━━━━━━━━━━━━━━━━━━━━━━━━━━━━━━━━━━━━━━\u001b[0m \u001b[32m96.6/96.6 MB\u001b[0m \u001b[31m9.7 MB/s\u001b[0m eta \u001b[36m0:00:00\u001b[0m\n",
            "\u001b[?25hInstalling collected packages: datatable\n",
            "Successfully installed datatable-1.0.0\n"
          ]
        }
      ],
      "source": [
        "# install\n",
        "!pip install datatable"
      ]
    },
    {
      "cell_type": "code",
      "execution_count": 3,
      "metadata": {
        "colab": {
          "base_uri": "https://localhost:8080/",
          "height": 17
        },
        "id": "clVHHNHzoMM3",
        "outputId": "72951ebd-3254-43bc-aa9b-73b41846516e"
      },
      "outputs": [
        {
          "output_type": "display_data",
          "data": {
            "text/plain": [
              "<IPython.core.display.HTML object>"
            ],
            "text/html": [
              "<style type='text/css'>\n",
              ".datatable table.frame { margin-bottom: 0; }\n",
              ".datatable table.frame thead { border-bottom: none; }\n",
              ".datatable table.frame tr.coltypes td {  color: #FFFFFF;  line-height: 6px;  padding: 0 0.5em;}\n",
              ".datatable .bool    { background: #DDDD99; }\n",
              ".datatable .object  { background: #565656; }\n",
              ".datatable .int     { background: #5D9E5D; }\n",
              ".datatable .float   { background: #4040CC; }\n",
              ".datatable .str     { background: #CC4040; }\n",
              ".datatable .time    { background: #40CC40; }\n",
              ".datatable .row_index {  background: var(--jp-border-color3);  border-right: 1px solid var(--jp-border-color0);  color: var(--jp-ui-font-color3);  font-size: 9px;}\n",
              ".datatable .frame tbody td { text-align: left; }\n",
              ".datatable .frame tr.coltypes .row_index {  background: var(--jp-border-color0);}\n",
              ".datatable th:nth-child(2) { padding-left: 12px; }\n",
              ".datatable .hellipsis {  color: var(--jp-cell-editor-border-color);}\n",
              ".datatable .vellipsis {  background: var(--jp-layout-color0);  color: var(--jp-cell-editor-border-color);}\n",
              ".datatable .na {  color: var(--jp-cell-editor-border-color);  font-size: 80%;}\n",
              ".datatable .sp {  opacity: 0.25;}\n",
              ".datatable .footer { font-size: 9px; }\n",
              ".datatable .frame_dimensions {  background: var(--jp-border-color3);  border-top: 1px solid var(--jp-border-color0);  color: var(--jp-ui-font-color3);  display: inline-block;  opacity: 0.6;  padding: 1px 10px 1px 5px;}\n",
              "</style>\n"
            ]
          },
          "metadata": {}
        }
      ],
      "source": [
        "# Package loading ===============================================\n",
        "import pandas as pd\n",
        "import numpy as np\n",
        "import datatable as dt\n",
        "# import missingno as msno\n",
        "# nltk.download(\"all\")\n",
        "# import matplotlib.pyplot as plt\n",
        "# %matplotlib inline\n",
        "# import matplotlib.font_manager as fm\n",
        "# import seaborn as sns"
      ]
    },
    {
      "cell_type": "code",
      "execution_count": 4,
      "metadata": {
        "id": "P0mXeInSrrR9"
      },
      "outputs": [],
      "source": [
        "# to see the description with a wide column width\n",
        "pd.set_option('display.max_colwidth', 200)"
      ]
    },
    {
      "cell_type": "code",
      "execution_count": 5,
      "metadata": {
        "id": "0DkFXA6Mrund"
      },
      "outputs": [],
      "source": [
        "# 경고 무시\n",
        "import warnings\n",
        "warnings.filterwarnings('ignore')"
      ]
    },
    {
      "cell_type": "code",
      "source": [
        "# Move to directory we want to use: cd + path\n",
        "# 현재 경로 설정\n",
        "%cd /content/drive/MyDrive/PropertyGuru/original_csv_sale\n",
        "# /content/drive/MyDrive/PropertyGuru/Sale_preprocessed"
      ],
      "metadata": {
        "colab": {
          "base_uri": "https://localhost:8080/"
        },
        "id": "-IQ-dn1r2NUn",
        "outputId": "26356d30-ee7b-4273-b803-d552297d6445"
      },
      "execution_count": 7,
      "outputs": [
        {
          "output_type": "stream",
          "name": "stdout",
          "text": [
            "/content/drive/MyDrive/PropertyGuru/original_csv_sale\n"
          ]
        }
      ]
    },
    {
      "cell_type": "code",
      "execution_count": 10,
      "metadata": {
        "id": "dEYgvdCEvxYH",
        "colab": {
          "base_uri": "https://localhost:8080/"
        },
        "outputId": "4132a6dc-972f-4d82-f48b-8a3b7659474e"
      },
      "outputs": [
        {
          "output_type": "execute_result",
          "data": {
            "text/plain": [
              "['property_sale_20191028.csv',\n",
              " 'property_sale_20200929.csv',\n",
              " 'property_sale_20201102.csv',\n",
              " 'property_sale_20201204.csv',\n",
              " 'property_sale_20210114.csv',\n",
              " 'property_sale_20210221.csv',\n",
              " 'property_sale_20210326.csv',\n",
              " 'property_sale_20210329.csv',\n",
              " 'property_sale_20210527.csv']"
            ]
          },
          "metadata": {},
          "execution_count": 10
        }
      ],
      "source": [
        "#현재 디렉토리 폴더 내 파일 리스트 반환\n",
        "os.listdir()"
      ]
    },
    {
      "cell_type": "code",
      "execution_count": null,
      "metadata": {
        "id": "40B3jjRVgcDQ"
      },
      "outputs": [],
      "source": [
        "# filenames to preprocess\n",
        "\n",
        "# /content/drive/MyDrive/PropertyGuru/original_csv_sale/property_sale_20191028.csv\n",
        "# /content/drive/MyDrive/PropertyGuru/original_csv_sale/property_sale_20200929.csv\n",
        "# /content/drive/MyDrive/PropertyGuru/original_csv_sale/property_sale_20201102.csv\n",
        "# /content/drive/MyDrive/PropertyGuru/original_csv_sale/property_sale_20201204.csv\n",
        "# /content/drive/MyDrive/PropertyGuru/original_csv_sale/property_sale_20210114.csv\n",
        "# /content/drive/MyDrive/PropertyGuru/original_csv_sale/property_sale_20210221.csv\n",
        "# /content/drive/MyDrive/PropertyGuru/original_csv_sale/property_sale_20210326.csv\n",
        "# /content/drive/MyDrive/PropertyGuru/original_csv_sale/property_sale_20210329.csv\n",
        "# /content/drive/MyDrive/PropertyGuru/original_csv_sale/property_sale_20210527.csv\n",
        "\n"
      ]
    },
    {
      "cell_type": "code",
      "execution_count": 11,
      "metadata": {
        "id": "UD945IPDn6Jc",
        "colab": {
          "base_uri": "https://localhost:8080/",
          "height": 473
        },
        "outputId": "03829593-dbd4-45c1-e7a1-635670a72ffc"
      },
      "outputs": [
        {
          "output_type": "execute_result",
          "data": {
            "text/plain": [
              "   C0  \\\n",
              "0   0   \n",
              "1   1   \n",
              "2   2   \n",
              "3   3   \n",
              "4   4   \n",
              "\n",
              "                                                                                                                                                     listing_url  \\\n",
              "0  http://api.scraperapi.com/?api_key=b0560c3ca5b0704c0184a820d4e42d70&url=https://www.propertyguru.com.sg/listing/hdb-for-sale-487b-tampines-street-45-22412011   \n",
              "1  http://api.scraperapi.com/?api_key=b0560c3ca5b0704c0184a820d4e42d70&url=https://www.propertyguru.com.sg/listing/hdb-for-sale-487b-tampines-street-45-22412011   \n",
              "2  http://api.scraperapi.com/?api_key=b0560c3ca5b0704c0184a820d4e42d70&url=https://www.propertyguru.com.sg/listing/hdb-for-sale-487b-tampines-street-45-22412011   \n",
              "3  http://api.scraperapi.com/?api_key=b0560c3ca5b0704c0184a820d4e42d70&url=https://www.propertyguru.com.sg/listing/hdb-for-sale-487b-tampines-street-45-22412011   \n",
              "4  http://api.scraperapi.com/?api_key=b0560c3ca5b0704c0184a820d4e42d70&url=https://www.propertyguru.com.sg/listing/hdb-for-sale-487b-tampines-street-45-22412011   \n",
              "\n",
              "           agent.name              agent.license  \\\n",
              "0  Mike Sek Kok Tiong  CEA: R044452B / L3008022J   \n",
              "1  Mike Sek Kok Tiong  CEA: R044452B / L3008022J   \n",
              "2  Mike Sek Kok Tiong  CEA: R044452B / L3008022J   \n",
              "3  Mike Sek Kok Tiong  CEA: R044452B / L3008022J   \n",
              "4  Mike Sek Kok Tiong  CEA: R044452B / L3008022J   \n",
              "\n",
              "                                                     agent.url  \\\n",
              "0  https://propertyguru.com.sg/agent/mike-sek-kok-tiong-201203   \n",
              "1  https://propertyguru.com.sg/agent/mike-sek-kok-tiong-201203   \n",
              "2  https://propertyguru.com.sg/agent/mike-sek-kok-tiong-201203   \n",
              "3  https://propertyguru.com.sg/agent/mike-sek-kok-tiong-201203   \n",
              "4  https://propertyguru.com.sg/agent/mike-sek-kok-tiong-201203   \n",
              "\n",
              "             agent.agency agent.phone_number listing_properties  \\\n",
              "0  PROPNEX REALTY PTE LTD      +65 9743 4343                b''   \n",
              "1  PROPNEX REALTY PTE LTD      +65 9743 4343                b''   \n",
              "2  PROPNEX REALTY PTE LTD      +65 9743 4343                b''   \n",
              "3  PROPNEX REALTY PTE LTD      +65 9743 4343                b''   \n",
              "4  PROPNEX REALTY PTE LTD      +65 9743 4343                b''   \n",
              "\n",
              "  listing_properties.Type listing_properties.Tenure  ... floor_size  \\\n",
              "0         4A HDB For Sale         99-year Leasehold  ...     1130.0   \n",
              "1         4A HDB For Sale         99-year Leasehold  ...     1130.0   \n",
              "2         4A HDB For Sale         99-year Leasehold  ...     1130.0   \n",
              "3         4A HDB For Sale         99-year Leasehold  ...     1130.0   \n",
              "4         4A HDB For Sale         99-year Leasehold  ...     1130.0   \n",
              "\n",
              "  floor_size_unit     price currency  \\\n",
              "0            sqft  420000.0      SGD   \n",
              "1            sqft  420000.0      SGD   \n",
              "2            sqft  420000.0      SGD   \n",
              "3            sqft  420000.0      SGD   \n",
              "4            sqft  420000.0      SGD   \n",
              "\n",
              "                                                                                                                 image_urls  \\\n",
              "0  https://sg2-cdn.pgimgs.com/listing/22412011/UPHO.124641539.V800/487B-Tampines-Street-45-Pasir-Ris-Tampines-Singapore.jpg   \n",
              "1  https://sg1-cdn.pgimgs.com/listing/22412011/UPHO.124641544.V800/487B-Tampines-Street-45-Pasir-Ris-Tampines-Singapore.jpg   \n",
              "2  https://sg2-cdn.pgimgs.com/listing/22412011/UPHO.124641555.V800/487B-Tampines-Street-45-Pasir-Ris-Tampines-Singapore.jpg   \n",
              "3  https://sg2-cdn.pgimgs.com/listing/22412011/UPHO.124641563.V800/487B-Tampines-Street-45-Pasir-Ris-Tampines-Singapore.jpg   \n",
              "4  https://sg1-cdn.pgimgs.com/listing/22412011/UPHO.124641576.V800/487B-Tampines-Street-45-Pasir-Ris-Tampines-Singapore.jpg   \n",
              "\n",
              "                  created_at images  \\\n",
              "0 2020-09-30 22:05:57.037205    b''   \n",
              "1 2020-09-30 22:05:57.037205    b''   \n",
              "2 2020-09-30 22:05:57.037205    b''   \n",
              "3 2020-09-30 22:05:57.037205    b''   \n",
              "4 2020-09-30 22:05:57.037205    b''   \n",
              "\n",
              "                                                                                                                 images.url  \\\n",
              "0  https://sg2-cdn.pgimgs.com/listing/22412011/UPHO.124641539.V800/487B-Tampines-Street-45-Pasir-Ris-Tampines-Singapore.jpg   \n",
              "1  https://sg1-cdn.pgimgs.com/listing/22412011/UPHO.124641544.V800/487B-Tampines-Street-45-Pasir-Ris-Tampines-Singapore.jpg   \n",
              "2  https://sg2-cdn.pgimgs.com/listing/22412011/UPHO.124641555.V800/487B-Tampines-Street-45-Pasir-Ris-Tampines-Singapore.jpg   \n",
              "3  https://sg2-cdn.pgimgs.com/listing/22412011/UPHO.124641563.V800/487B-Tampines-Street-45-Pasir-Ris-Tampines-Singapore.jpg   \n",
              "4  https://sg1-cdn.pgimgs.com/listing/22412011/UPHO.124641576.V800/487B-Tampines-Street-45-Pasir-Ris-Tampines-Singapore.jpg   \n",
              "\n",
              "                                         images.path  \\\n",
              "0  full/885636828e666e7ca4020b6b5f7195986021eb3d.jpg   \n",
              "1  full/4682a75692a1febb05290f12ae3a06a29adb2be3.jpg   \n",
              "2  full/4d5ba51636b8ebbd5b47b001c031611f2b8c2110.jpg   \n",
              "3  full/1cfb25d7bff011a9b73ab6ae797b73398aeba5e5.jpg   \n",
              "4  full/10d93449d019c908ccc70fef33ba166f58fedab1.jpg   \n",
              "\n",
              "                    images.checksum  \n",
              "0  ea71efdbef7ea6ced400b7d4014887c6  \n",
              "1  287534a0ab755377d5df9100273be1c9  \n",
              "2  afa6233498d9ae03f8894843af3f3364  \n",
              "3  c3786e7663a5c12cc963eaf39b4e60c9  \n",
              "4  70c6737b42be4e53b2639bfc86261433  \n",
              "\n",
              "[5 rows x 187 columns]"
            ],
            "text/html": [
              "\n",
              "  <div id=\"df-7849f525-bfdb-4a4e-a2a3-0793f9f9617f\">\n",
              "    <div class=\"colab-df-container\">\n",
              "      <div>\n",
              "<style scoped>\n",
              "    .dataframe tbody tr th:only-of-type {\n",
              "        vertical-align: middle;\n",
              "    }\n",
              "\n",
              "    .dataframe tbody tr th {\n",
              "        vertical-align: top;\n",
              "    }\n",
              "\n",
              "    .dataframe thead th {\n",
              "        text-align: right;\n",
              "    }\n",
              "</style>\n",
              "<table border=\"1\" class=\"dataframe\">\n",
              "  <thead>\n",
              "    <tr style=\"text-align: right;\">\n",
              "      <th></th>\n",
              "      <th>C0</th>\n",
              "      <th>listing_url</th>\n",
              "      <th>agent.name</th>\n",
              "      <th>agent.license</th>\n",
              "      <th>agent.url</th>\n",
              "      <th>agent.agency</th>\n",
              "      <th>agent.phone_number</th>\n",
              "      <th>listing_properties</th>\n",
              "      <th>listing_properties.Type</th>\n",
              "      <th>listing_properties.Tenure</th>\n",
              "      <th>...</th>\n",
              "      <th>floor_size</th>\n",
              "      <th>floor_size_unit</th>\n",
              "      <th>price</th>\n",
              "      <th>currency</th>\n",
              "      <th>image_urls</th>\n",
              "      <th>created_at</th>\n",
              "      <th>images</th>\n",
              "      <th>images.url</th>\n",
              "      <th>images.path</th>\n",
              "      <th>images.checksum</th>\n",
              "    </tr>\n",
              "  </thead>\n",
              "  <tbody>\n",
              "    <tr>\n",
              "      <th>0</th>\n",
              "      <td>0</td>\n",
              "      <td>http://api.scraperapi.com/?api_key=b0560c3ca5b0704c0184a820d4e42d70&amp;url=https://www.propertyguru.com.sg/listing/hdb-for-sale-487b-tampines-street-45-22412011</td>\n",
              "      <td>Mike Sek Kok Tiong</td>\n",
              "      <td>CEA: R044452B / L3008022J</td>\n",
              "      <td>https://propertyguru.com.sg/agent/mike-sek-kok-tiong-201203</td>\n",
              "      <td>PROPNEX REALTY PTE LTD</td>\n",
              "      <td>+65 9743 4343</td>\n",
              "      <td>b''</td>\n",
              "      <td>4A HDB For Sale</td>\n",
              "      <td>99-year Leasehold</td>\n",
              "      <td>...</td>\n",
              "      <td>1130.0</td>\n",
              "      <td>sqft</td>\n",
              "      <td>420000.0</td>\n",
              "      <td>SGD</td>\n",
              "      <td>https://sg2-cdn.pgimgs.com/listing/22412011/UPHO.124641539.V800/487B-Tampines-Street-45-Pasir-Ris-Tampines-Singapore.jpg</td>\n",
              "      <td>2020-09-30 22:05:57.037205</td>\n",
              "      <td>b''</td>\n",
              "      <td>https://sg2-cdn.pgimgs.com/listing/22412011/UPHO.124641539.V800/487B-Tampines-Street-45-Pasir-Ris-Tampines-Singapore.jpg</td>\n",
              "      <td>full/885636828e666e7ca4020b6b5f7195986021eb3d.jpg</td>\n",
              "      <td>ea71efdbef7ea6ced400b7d4014887c6</td>\n",
              "    </tr>\n",
              "    <tr>\n",
              "      <th>1</th>\n",
              "      <td>1</td>\n",
              "      <td>http://api.scraperapi.com/?api_key=b0560c3ca5b0704c0184a820d4e42d70&amp;url=https://www.propertyguru.com.sg/listing/hdb-for-sale-487b-tampines-street-45-22412011</td>\n",
              "      <td>Mike Sek Kok Tiong</td>\n",
              "      <td>CEA: R044452B / L3008022J</td>\n",
              "      <td>https://propertyguru.com.sg/agent/mike-sek-kok-tiong-201203</td>\n",
              "      <td>PROPNEX REALTY PTE LTD</td>\n",
              "      <td>+65 9743 4343</td>\n",
              "      <td>b''</td>\n",
              "      <td>4A HDB For Sale</td>\n",
              "      <td>99-year Leasehold</td>\n",
              "      <td>...</td>\n",
              "      <td>1130.0</td>\n",
              "      <td>sqft</td>\n",
              "      <td>420000.0</td>\n",
              "      <td>SGD</td>\n",
              "      <td>https://sg1-cdn.pgimgs.com/listing/22412011/UPHO.124641544.V800/487B-Tampines-Street-45-Pasir-Ris-Tampines-Singapore.jpg</td>\n",
              "      <td>2020-09-30 22:05:57.037205</td>\n",
              "      <td>b''</td>\n",
              "      <td>https://sg1-cdn.pgimgs.com/listing/22412011/UPHO.124641544.V800/487B-Tampines-Street-45-Pasir-Ris-Tampines-Singapore.jpg</td>\n",
              "      <td>full/4682a75692a1febb05290f12ae3a06a29adb2be3.jpg</td>\n",
              "      <td>287534a0ab755377d5df9100273be1c9</td>\n",
              "    </tr>\n",
              "    <tr>\n",
              "      <th>2</th>\n",
              "      <td>2</td>\n",
              "      <td>http://api.scraperapi.com/?api_key=b0560c3ca5b0704c0184a820d4e42d70&amp;url=https://www.propertyguru.com.sg/listing/hdb-for-sale-487b-tampines-street-45-22412011</td>\n",
              "      <td>Mike Sek Kok Tiong</td>\n",
              "      <td>CEA: R044452B / L3008022J</td>\n",
              "      <td>https://propertyguru.com.sg/agent/mike-sek-kok-tiong-201203</td>\n",
              "      <td>PROPNEX REALTY PTE LTD</td>\n",
              "      <td>+65 9743 4343</td>\n",
              "      <td>b''</td>\n",
              "      <td>4A HDB For Sale</td>\n",
              "      <td>99-year Leasehold</td>\n",
              "      <td>...</td>\n",
              "      <td>1130.0</td>\n",
              "      <td>sqft</td>\n",
              "      <td>420000.0</td>\n",
              "      <td>SGD</td>\n",
              "      <td>https://sg2-cdn.pgimgs.com/listing/22412011/UPHO.124641555.V800/487B-Tampines-Street-45-Pasir-Ris-Tampines-Singapore.jpg</td>\n",
              "      <td>2020-09-30 22:05:57.037205</td>\n",
              "      <td>b''</td>\n",
              "      <td>https://sg2-cdn.pgimgs.com/listing/22412011/UPHO.124641555.V800/487B-Tampines-Street-45-Pasir-Ris-Tampines-Singapore.jpg</td>\n",
              "      <td>full/4d5ba51636b8ebbd5b47b001c031611f2b8c2110.jpg</td>\n",
              "      <td>afa6233498d9ae03f8894843af3f3364</td>\n",
              "    </tr>\n",
              "    <tr>\n",
              "      <th>3</th>\n",
              "      <td>3</td>\n",
              "      <td>http://api.scraperapi.com/?api_key=b0560c3ca5b0704c0184a820d4e42d70&amp;url=https://www.propertyguru.com.sg/listing/hdb-for-sale-487b-tampines-street-45-22412011</td>\n",
              "      <td>Mike Sek Kok Tiong</td>\n",
              "      <td>CEA: R044452B / L3008022J</td>\n",
              "      <td>https://propertyguru.com.sg/agent/mike-sek-kok-tiong-201203</td>\n",
              "      <td>PROPNEX REALTY PTE LTD</td>\n",
              "      <td>+65 9743 4343</td>\n",
              "      <td>b''</td>\n",
              "      <td>4A HDB For Sale</td>\n",
              "      <td>99-year Leasehold</td>\n",
              "      <td>...</td>\n",
              "      <td>1130.0</td>\n",
              "      <td>sqft</td>\n",
              "      <td>420000.0</td>\n",
              "      <td>SGD</td>\n",
              "      <td>https://sg2-cdn.pgimgs.com/listing/22412011/UPHO.124641563.V800/487B-Tampines-Street-45-Pasir-Ris-Tampines-Singapore.jpg</td>\n",
              "      <td>2020-09-30 22:05:57.037205</td>\n",
              "      <td>b''</td>\n",
              "      <td>https://sg2-cdn.pgimgs.com/listing/22412011/UPHO.124641563.V800/487B-Tampines-Street-45-Pasir-Ris-Tampines-Singapore.jpg</td>\n",
              "      <td>full/1cfb25d7bff011a9b73ab6ae797b73398aeba5e5.jpg</td>\n",
              "      <td>c3786e7663a5c12cc963eaf39b4e60c9</td>\n",
              "    </tr>\n",
              "    <tr>\n",
              "      <th>4</th>\n",
              "      <td>4</td>\n",
              "      <td>http://api.scraperapi.com/?api_key=b0560c3ca5b0704c0184a820d4e42d70&amp;url=https://www.propertyguru.com.sg/listing/hdb-for-sale-487b-tampines-street-45-22412011</td>\n",
              "      <td>Mike Sek Kok Tiong</td>\n",
              "      <td>CEA: R044452B / L3008022J</td>\n",
              "      <td>https://propertyguru.com.sg/agent/mike-sek-kok-tiong-201203</td>\n",
              "      <td>PROPNEX REALTY PTE LTD</td>\n",
              "      <td>+65 9743 4343</td>\n",
              "      <td>b''</td>\n",
              "      <td>4A HDB For Sale</td>\n",
              "      <td>99-year Leasehold</td>\n",
              "      <td>...</td>\n",
              "      <td>1130.0</td>\n",
              "      <td>sqft</td>\n",
              "      <td>420000.0</td>\n",
              "      <td>SGD</td>\n",
              "      <td>https://sg1-cdn.pgimgs.com/listing/22412011/UPHO.124641576.V800/487B-Tampines-Street-45-Pasir-Ris-Tampines-Singapore.jpg</td>\n",
              "      <td>2020-09-30 22:05:57.037205</td>\n",
              "      <td>b''</td>\n",
              "      <td>https://sg1-cdn.pgimgs.com/listing/22412011/UPHO.124641576.V800/487B-Tampines-Street-45-Pasir-Ris-Tampines-Singapore.jpg</td>\n",
              "      <td>full/10d93449d019c908ccc70fef33ba166f58fedab1.jpg</td>\n",
              "      <td>70c6737b42be4e53b2639bfc86261433</td>\n",
              "    </tr>\n",
              "  </tbody>\n",
              "</table>\n",
              "<p>5 rows × 187 columns</p>\n",
              "</div>\n",
              "      <button class=\"colab-df-convert\" onclick=\"convertToInteractive('df-7849f525-bfdb-4a4e-a2a3-0793f9f9617f')\"\n",
              "              title=\"Convert this dataframe to an interactive table.\"\n",
              "              style=\"display:none;\">\n",
              "        \n",
              "  <svg xmlns=\"http://www.w3.org/2000/svg\" height=\"24px\"viewBox=\"0 0 24 24\"\n",
              "       width=\"24px\">\n",
              "    <path d=\"M0 0h24v24H0V0z\" fill=\"none\"/>\n",
              "    <path d=\"M18.56 5.44l.94 2.06.94-2.06 2.06-.94-2.06-.94-.94-2.06-.94 2.06-2.06.94zm-11 1L8.5 8.5l.94-2.06 2.06-.94-2.06-.94L8.5 2.5l-.94 2.06-2.06.94zm10 10l.94 2.06.94-2.06 2.06-.94-2.06-.94-.94-2.06-.94 2.06-2.06.94z\"/><path d=\"M17.41 7.96l-1.37-1.37c-.4-.4-.92-.59-1.43-.59-.52 0-1.04.2-1.43.59L10.3 9.45l-7.72 7.72c-.78.78-.78 2.05 0 2.83L4 21.41c.39.39.9.59 1.41.59.51 0 1.02-.2 1.41-.59l7.78-7.78 2.81-2.81c.8-.78.8-2.07 0-2.86zM5.41 20L4 18.59l7.72-7.72 1.47 1.35L5.41 20z\"/>\n",
              "  </svg>\n",
              "      </button>\n",
              "      \n",
              "  <style>\n",
              "    .colab-df-container {\n",
              "      display:flex;\n",
              "      flex-wrap:wrap;\n",
              "      gap: 12px;\n",
              "    }\n",
              "\n",
              "    .colab-df-convert {\n",
              "      background-color: #E8F0FE;\n",
              "      border: none;\n",
              "      border-radius: 50%;\n",
              "      cursor: pointer;\n",
              "      display: none;\n",
              "      fill: #1967D2;\n",
              "      height: 32px;\n",
              "      padding: 0 0 0 0;\n",
              "      width: 32px;\n",
              "    }\n",
              "\n",
              "    .colab-df-convert:hover {\n",
              "      background-color: #E2EBFA;\n",
              "      box-shadow: 0px 1px 2px rgba(60, 64, 67, 0.3), 0px 1px 3px 1px rgba(60, 64, 67, 0.15);\n",
              "      fill: #174EA6;\n",
              "    }\n",
              "\n",
              "    [theme=dark] .colab-df-convert {\n",
              "      background-color: #3B4455;\n",
              "      fill: #D2E3FC;\n",
              "    }\n",
              "\n",
              "    [theme=dark] .colab-df-convert:hover {\n",
              "      background-color: #434B5C;\n",
              "      box-shadow: 0px 1px 3px 1px rgba(0, 0, 0, 0.15);\n",
              "      filter: drop-shadow(0px 1px 2px rgba(0, 0, 0, 0.3));\n",
              "      fill: #FFFFFF;\n",
              "    }\n",
              "  </style>\n",
              "\n",
              "      <script>\n",
              "        const buttonEl =\n",
              "          document.querySelector('#df-7849f525-bfdb-4a4e-a2a3-0793f9f9617f button.colab-df-convert');\n",
              "        buttonEl.style.display =\n",
              "          google.colab.kernel.accessAllowed ? 'block' : 'none';\n",
              "\n",
              "        async function convertToInteractive(key) {\n",
              "          const element = document.querySelector('#df-7849f525-bfdb-4a4e-a2a3-0793f9f9617f');\n",
              "          const dataTable =\n",
              "            await google.colab.kernel.invokeFunction('convertToInteractive',\n",
              "                                                     [key], {});\n",
              "          if (!dataTable) return;\n",
              "\n",
              "          const docLinkHtml = 'Like what you see? Visit the ' +\n",
              "            '<a target=\"_blank\" href=https://colab.research.google.com/notebooks/data_table.ipynb>data table notebook</a>'\n",
              "            + ' to learn more about interactive tables.';\n",
              "          element.innerHTML = '';\n",
              "          dataTable['output_type'] = 'display_data';\n",
              "          await google.colab.output.renderOutput(dataTable, element);\n",
              "          const docLink = document.createElement('div');\n",
              "          docLink.innerHTML = docLinkHtml;\n",
              "          element.appendChild(docLink);\n",
              "        }\n",
              "      </script>\n",
              "    </div>\n",
              "  </div>\n",
              "  "
            ]
          },
          "metadata": {},
          "execution_count": 11
        }
      ],
      "source": [
        "filename = \"/content/drive/MyDrive/PropertyGuru/original_csv_sale/property_sale_20200929.csv\"\n",
        "df = dt.fread(filename)\n",
        "df = df.to_pandas()\n",
        "df.head()"
      ]
    },
    {
      "cell_type": "code",
      "execution_count": 12,
      "metadata": {
        "id": "EdQUXgGKrM2N",
        "colab": {
          "base_uri": "https://localhost:8080/"
        },
        "outputId": "63815a22-0376-4c35-d4ee-bd9c71659c67"
      },
      "outputs": [
        {
          "output_type": "stream",
          "name": "stdout",
          "text": [
            "<class 'pandas.core.frame.DataFrame'>\n",
            "RangeIndex: 1084242 entries, 0 to 1084241\n",
            "Columns: 187 entries, C0 to images.checksum\n",
            "dtypes: datetime64[ns](1), float64(9), int32(1), object(176)\n",
            "memory usage: 1.5+ GB\n"
          ]
        }
      ],
      "source": [
        "df.info() \n",
        "# Rent\n",
        "# 2019.10.28 daa: 640099 rows\n",
        "# 2020.09.29 daa: 418,814 rows\n",
        "# 2020.11.02 data: 241,117 rows\n",
        "# 2020.12.04 data: 330801 entries\n",
        "# 2021/01/14 data : 219856 entries\n",
        "# 2021/02/21 data : 140918 entries\n",
        "# 2021/03/26 data :197356 entries\n",
        "# 2021/03/29 data :61114 entries\n",
        "# 2021/05/27 data: 116447 entries\n",
        "# 2021/07/19 data : 211678 entries\n",
        "\n",
        "# Sales\n",
        "# 2019.10.28 data: 1,345,989 entries\n",
        "# 2020.09.29 data: 1,084,242 entries\n",
        "# 2020.11.02 data: 560,188개의 데이터행\n",
        "# 2020/12/04 data : 941,897개의 데이터행\n",
        "# 2021/01/14 data : 746,092 rows\n",
        "# 2021/02/21 data : 119,661 rows\n",
        "# 2021/03/26 data : 270,614 rows\n",
        "# 2021/03/29 data : 261,308 rows\n",
        "# 2021/07/19 data : 200,000 rows"
      ]
    },
    {
      "cell_type": "code",
      "execution_count": 13,
      "metadata": {
        "colab": {
          "base_uri": "https://localhost:8080/"
        },
        "id": "u7zyOxHfoe_m",
        "outputId": "54e3b545-4416-4cff-bb55-6e80922fb976"
      },
      "outputs": [
        {
          "output_type": "execute_result",
          "data": {
            "text/plain": [
              "Index(['C0', 'listing_url', 'agent.name', 'agent.license', 'agent.url',\n",
              "       'agent.agency', 'agent.phone_number', 'listing_properties',\n",
              "       'listing_properties.Type', 'listing_properties.Tenure',\n",
              "       ...\n",
              "       'floor_size', 'floor_size_unit', 'price', 'currency', 'image_urls',\n",
              "       'created_at', 'images', 'images.url', 'images.path', 'images.checksum'],\n",
              "      dtype='object', length=187)"
            ]
          },
          "metadata": {},
          "execution_count": 13
        }
      ],
      "source": [
        "df.columns"
      ]
    },
    {
      "cell_type": "code",
      "execution_count": 14,
      "metadata": {
        "id": "xxhBxiiLr9b9"
      },
      "outputs": [],
      "source": [
        "#renaming column names\n",
        "df = df.rename(columns={'listing_url':'URL', 'listing_properties.Type': 'Type',\n",
        "                    'listing_properties.Tenure': 'Tenure', \n",
        "                    'listing_properties.Floor size': 'Floorsize',\n",
        "                    'listing_properties.Developer': 'Developer',\n",
        "                    'listing_properties.PSF': 'PSF', \n",
        "                    'listing_properties.Furnishing':'Furnishing',\n",
        "                    'listing_properties.TOP': 'TOP',\n",
        "                    'listing_properties.Floor Level':'Floor',\n",
        "                    'listing_properties.Listing ID': 'ListingID',\n",
        "                    'listing_properties.Currently Tenanted':'Tenanted',\n",
        "                    'listing_properties.Listed on':'Listed_on',\n",
        "                    'development_properties.Type':'properties.Type',\n",
        "                    'development_properties.TOP':'properties.TOP',\n",
        "                    'development_properties.Tenure':'properties.Tenure',\n",
        "                    'development_properties.Total Unit(s)':'Total Unit(s)',\n",
        "                    'development_properties.url':'properties.url',\n",
        "                    'development_properties.name':'properties.name',\n",
        "                    'amenities.Air-Conditioning':'Air-Conditioning',\n",
        "                    'amenities.Cooker Hob/Hood': 'Cooker Hood',\n",
        "                    'amenities.Water Heater': 'Water Heater',\n",
        "                    'address.latitude': 'latitude',\n",
        "                    'address.longitude': 'longitude',\n",
        "                    'number_of_rooms': 'rooms',\n",
        "                    'number_of_baths': 'bathrooms', \n",
        "                    \"free_text_description\": \"description\"\n",
        "                    })"
      ]
    },
    {
      "cell_type": "code",
      "execution_count": null,
      "metadata": {
        "id": "4_26tpUbskMX"
      },
      "outputs": [],
      "source": [
        "# Description title trimming (because it's all same)\n",
        "# df['description'].head(1).to_excel(\"/content/drive/MyDrive/PropertyGuru/original/description.xlsx\")"
      ]
    },
    {
      "cell_type": "code",
      "source": [
        "df['description'].head(1)"
      ],
      "metadata": {
        "colab": {
          "base_uri": "https://localhost:8080/"
        },
        "id": "tvYNaeERPZts",
        "outputId": "98f27261-7938-447e-e20a-e4c3691c6a91"
      },
      "execution_count": 15,
      "outputs": [
        {
          "output_type": "execute_result",
          "data": {
            "text/plain": [
              "0     Description  Call now to enquire 487B Tampines St 45 Lease Start: 01st Nov 1989 Balance 68 years + 105SqM / 1130Sqft  **Only Chinese or Indian/Other Ethnic Group buyers eligible.  #MRT #Tampines ...\n",
              "Name: description, dtype: object"
            ]
          },
          "metadata": {},
          "execution_count": 15
        }
      ]
    },
    {
      "cell_type": "code",
      "execution_count": 16,
      "metadata": {
        "id": "RbtOCQFE1Q8D"
      },
      "outputs": [],
      "source": [
        "import re\n",
        "\n",
        "df['description'] = df['description'].str.replace(re.compile('<.*?>|\\n|h[35]|div class=|itemprop=|description|\"\"'), '')"
      ]
    },
    {
      "cell_type": "code",
      "source": [
        "df['description'].head(20)"
      ],
      "metadata": {
        "colab": {
          "base_uri": "https://localhost:8080/"
        },
        "id": "L1VtkEAC4Kic",
        "outputId": "75ce675a-64b8-408a-883e-4eaea296c63b"
      },
      "execution_count": 20,
      "outputs": [
        {
          "output_type": "execute_result",
          "data": {
            "text/plain": [
              "0        Call now to enquire 487B Tampines St 45 Lease Start: 01st Nov 1989 Balance 68 years + 105SqM  1130Sqft  **Only Chinese or IndianOther Ethnic Group buyers eligible.  #MRT #Tampines East #Origina...\n",
              "1                                                                                                                                                                                                            \n",
              "2                                                                                                                                                                                                            \n",
              "3                                                                                                                                                                                                            \n",
              "4                                                                                                                                                                                                            \n",
              "5                                                                                                                                                                                                            \n",
              "6                                                                                                                                                                                                            \n",
              "7                                                                                                                                                                                                            \n",
              "8                                                                                                                                                                                                            \n",
              "9                                                                                                                                                                                                            \n",
              "10                                                                                                                                                                                                           \n",
              "11                                                                                                                                                                                                           \n",
              "12                                                                                                                                                                                                           \n",
              "13      Virtual Tour Or Video Avail.Call To Zoom Now! *** Circuit Breaker Sale*** -------------------------------------------------- -- To View - Call Elliott Lim (+65) 94310199  -----------------------...\n",
              "14                                                                                                                                                                                                           \n",
              "15                                                                                                                                                                                                           \n",
              "16                                                                                                                                                                                                           \n",
              "17                                                                                                                                                                                                           \n",
              "18                                                                                                                                                                                                           \n",
              "19                                                                                                                                                                                                           \n",
              "Name: description, dtype: object"
            ]
          },
          "metadata": {},
          "execution_count": 20
        }
      ]
    },
    {
      "cell_type": "code",
      "execution_count": 17,
      "metadata": {
        "id": "-cag1738x-FB"
      },
      "outputs": [],
      "source": [
        "df['description'] = df['description'].str.replace(\"<br>\", '')\n",
        "df['description'] = df['description'].str.replace(\"                                \", '')\n",
        "df['description'] = df['description'].str.replace(\"<\", '')\n",
        "df['description'] = df['description'].str.replace(\">\", '')\n",
        "df['description'] = df['description'].str.replace(\"h3\", '')\n",
        "df['description'] = df['description'].str.replace(\"h5\", '')\n",
        "df['description'] = df['description'].str.replace(\"/\", '')\n",
        "df['description'] = df['description'].str.replace(\"div class=\", '')\n",
        "df['description'] = df['description'].str.replace(\"\\n\", '')\n",
        "df['description'] = df['description'].str.replace(\"description\", '')\n",
        "df['description'] = df['description'].str.replace(\"Description\", '')\n",
        "df['description'] = df['description'].str.replace(\"itemprop=\", '')\n",
        "df['description'] = df['description'].str.replace('\"\"', '')\n",
        "df['description'] = df['description'].str.replace('a href=\"#show-more\" class=\"show-more\" title=\"Click to view the rest of the details\"Read Morea                            div', '')"
      ]
    },
    {
      "cell_type": "code",
      "execution_count": null,
      "metadata": {
        "id": "I6zap_N6zk2l"
      },
      "outputs": [],
      "source": [
        "# # simple code for above\n",
        "# to_replace = ['<br>', '                                ', '<', '>', 'h3', 'h5', '/', 'div class=', '\\n', 'description', 'Description', 'itemprop=', '\"\"']\n",
        "# df['description'] = df['description'].replace(to_replace, '', regex=True)\n",
        "\n",
        "# or\n",
        "# df['description'] = df['description'].apply(lambda x: x.replace('<br>','').replace('<','').replace('>','').replace('h3','').replace('h5','').replace('/','').replace('div class=','').replace('\\n','').replace('description','').replace('Description','').replace('itemprop=','').replace('\"\"',''))"
      ]
    },
    {
      "cell_type": "code",
      "execution_count": null,
      "metadata": {
        "id": "dEO0XVpwxxgU"
      },
      "outputs": [],
      "source": [
        "# df['description'].head(40).to_excel(\"/content/drive/MyDrive/PropertyGuru/original/description.xlsx\")"
      ]
    },
    {
      "cell_type": "markdown",
      "metadata": {
        "id": "kR1YGlHE6xXQ"
      },
      "source": [
        "### number of images "
      ]
    },
    {
      "cell_type": "code",
      "execution_count": 21,
      "metadata": {
        "colab": {
          "base_uri": "https://localhost:8080/"
        },
        "id": "6-pKIXBelHpM",
        "outputId": "af67367a-5b7c-4cd6-ba1c-36a465de6fe7"
      },
      "outputs": [
        {
          "output_type": "execute_result",
          "data": {
            "text/plain": [
              "2020-10-02 21:14:17.841750    135\n",
              "2020-10-01 22:29:56.786075    107\n",
              "2020-10-01 22:26:12.249741    107\n",
              "2020-10-02 21:49:27.625813    101\n",
              "2020-10-02 21:35:30.186147    100\n",
              "                             ... \n",
              "2020-10-02 05:28:56.762128      1\n",
              "2020-10-02 02:35:34.069146      1\n",
              "2020-10-02 11:31:43.334684      1\n",
              "2020-09-30 23:47:23.359320      1\n",
              "2020-10-03 00:59:20.919563      1\n",
              "Name: created_at, Length: 68922, dtype: int64"
            ]
          },
          "metadata": {},
          "execution_count": 21
        }
      ],
      "source": [
        "# Use value_counts to count the number of duplicates\n",
        "counts2 = df['created_at'].value_counts()\n",
        "\n",
        "counts2"
      ]
    },
    {
      "cell_type": "code",
      "source": [
        "len(df)/len(counts2)"
      ],
      "metadata": {
        "colab": {
          "base_uri": "https://localhost:8080/"
        },
        "id": "f8JH3q5zQ9x1",
        "outputId": "7e07df2f-f6d1-4536-a28a-9c1a7f9b99d1"
      },
      "execution_count": 23,
      "outputs": [
        {
          "output_type": "execute_result",
          "data": {
            "text/plain": [
              "15.731435535823104"
            ]
          },
          "metadata": {},
          "execution_count": 23
        }
      ]
    },
    {
      "cell_type": "code",
      "execution_count": 24,
      "metadata": {
        "colab": {
          "base_uri": "https://localhost:8080/"
        },
        "id": "Irj1OKg-3yW0",
        "outputId": "87857371-d1b1-4c92-9b55-2a2e76b366bc"
      },
      "outputs": [
        {
          "output_type": "stream",
          "name": "stdout",
          "text": [
            "                        created_at  num_img\n",
            "0       2020-09-30 22:05:57.037205       13\n",
            "1       2020-09-30 22:05:57.037205       13\n",
            "2       2020-09-30 22:05:57.037205       13\n",
            "3       2020-09-30 22:05:57.037205       13\n",
            "4       2020-09-30 22:05:57.037205       13\n",
            "...                            ...      ...\n",
            "1084237 2020-10-03 02:33:13.362110       15\n",
            "1084238 2020-10-03 02:33:13.362110       15\n",
            "1084239 2020-10-03 02:33:13.362110       15\n",
            "1084240 2020-10-03 02:33:13.362110       15\n",
            "1084241 2020-10-03 02:33:13.362110       15\n",
            "\n",
            "[1084242 rows x 2 columns]\n"
          ]
        }
      ],
      "source": [
        "# Create a new column with the number of duplicates\n",
        "df['num_img'] = df['created_at'].map(counts2)\n",
        "\n",
        "print(df[['created_at', 'num_img']])"
      ]
    },
    {
      "cell_type": "code",
      "execution_count": 25,
      "metadata": {
        "id": "KDnUBN8368dv"
      },
      "outputs": [],
      "source": [
        "# 결측치 비율이 높은 컬럼 리스트를 추출\n",
        "# 컬럼 확인 가능한 데이터프레임 만들기. \n",
        "count_null = pd.DataFrame()\n",
        "\n",
        "# 변수 이름이 들어간 컬럼 생성\n",
        "count_null['variables'] = df.columns.values.tolist()\n",
        "\n",
        "# 컬럼별로 결측값 갯수 세어서 NaN이라는 컬럼에 넣기\n",
        "count_null['NaN'] = df.isnull().sum().tolist()\n",
        "\n",
        "# 결측치 비율 계산하기 % calculation by columns\n",
        "count_null['Nanperc'] = 100*(count_null['NaN']/len(df))\n",
        "count_null\n",
        "\n",
        "# 50% 이상이 결측치인 변수들의 리스트 구하기\n",
        "too_many_NaN = count_null[count_null['Nanperc']>50]\n",
        "will_erase = list(too_many_NaN['variables'])"
      ]
    },
    {
      "cell_type": "code",
      "execution_count": null,
      "metadata": {
        "id": "HoDU4J9WO5S2"
      },
      "outputs": [],
      "source": [
        "# will_erase"
      ]
    },
    {
      "cell_type": "code",
      "execution_count": 26,
      "metadata": {
        "colab": {
          "base_uri": "https://localhost:8080/"
        },
        "id": "oqsvBC7okpPt",
        "outputId": "744ea616-eb41-4615-f7c6-1167f7888fe9"
      },
      "outputs": [
        {
          "output_type": "stream",
          "name": "stdout",
          "text": [
            "<class 'pandas.core.frame.DataFrame'>\n",
            "RangeIndex: 1084242 entries, 0 to 1084241\n",
            "Data columns (total 53 columns):\n",
            " #   Column                                  Non-Null Count    Dtype         \n",
            "---  ------                                  --------------    -----         \n",
            " 0   C0                                      1084242 non-null  int32         \n",
            " 1   URL                                     1084242 non-null  object        \n",
            " 2   agent.name                              1084242 non-null  object        \n",
            " 3   agent.license                           1084242 non-null  object        \n",
            " 4   agent.url                               1084242 non-null  object        \n",
            " 5   agent.agency                            1084242 non-null  object        \n",
            " 6   agent.phone_number                      1084242 non-null  object        \n",
            " 7   listing_properties                      1084242 non-null  object        \n",
            " 8   Type                                    1084242 non-null  object        \n",
            " 9   Tenure                                  1084242 non-null  object        \n",
            " 10  Floorsize                               1084242 non-null  object        \n",
            " 11  Developer                               1084242 non-null  object        \n",
            " 12  listing_properties.Land size            1084242 non-null  object        \n",
            " 13  PSF                                     1084242 non-null  object        \n",
            " 14  Furnishing                              1084242 non-null  object        \n",
            " 15  TOP                                     996423 non-null   float64       \n",
            " 16  Floor                                   1084242 non-null  object        \n",
            " 17  ListingID                               1084188 non-null  float64       \n",
            " 18  Tenanted                                1084242 non-null  object        \n",
            " 19  Listed_on                               1084242 non-null  object        \n",
            " 20  listing_properties.Maintenance Fee      1084242 non-null  object        \n",
            " 21  listing_properties.Availability         1083389 non-null  object        \n",
            " 22  development_properties.Completion Year  952632 non-null   float64       \n",
            " 23  properties.Tenure                       1084242 non-null  object        \n",
            " 24  properties.url                          1084242 non-null  object        \n",
            " 25  properties.name                         1084242 non-null  object        \n",
            " 26  Total Unit(s)                           838009 non-null   float64       \n",
            " 27  amenities                               1084242 non-null  object        \n",
            " 28  Air-Conditioning                        845303 non-null   object        \n",
            " 29  Cooker Hood                             679311 non-null   object        \n",
            " 30  Water Heater                            680184 non-null   object        \n",
            " 31  amenities.Gymnasium room                567186 non-null   object        \n",
            " 32  amenities.Balcony                       628703 non-null   object        \n",
            " 33  description                             1084242 non-null  object        \n",
            " 34  address.country                         1084242 non-null  object        \n",
            " 35  address.street                          1084242 non-null  object        \n",
            " 36  address.postal_code                     1042857 non-null  float64       \n",
            " 37  address.locality                        1084242 non-null  object        \n",
            " 38  latitude                                1080823 non-null  float64       \n",
            " 39  longitude                               1080823 non-null  float64       \n",
            " 40  rooms                                   1084242 non-null  object        \n",
            " 41  bathrooms                               1084242 non-null  object        \n",
            " 42  floor_size                              1084201 non-null  float64       \n",
            " 43  floor_size_unit                         1084242 non-null  object        \n",
            " 44  price                                   1082634 non-null  float64       \n",
            " 45  currency                                1084242 non-null  object        \n",
            " 46  image_urls                              1084242 non-null  object        \n",
            " 47  created_at                              1084242 non-null  datetime64[ns]\n",
            " 48  images                                  1084242 non-null  object        \n",
            " 49  images.url                              1084242 non-null  object        \n",
            " 50  images.path                             1084242 non-null  object        \n",
            " 51  images.checksum                         1084242 non-null  object        \n",
            " 52  num_img                                 1084242 non-null  int64         \n",
            "dtypes: datetime64[ns](1), float64(9), int32(1), int64(1), object(41)\n",
            "memory usage: 434.3+ MB\n"
          ]
        }
      ],
      "source": [
        "# slimming dataframe into df2 by erasing columns with more 50% missings\n",
        "df2 = df.drop(columns = will_erase)\n",
        "df2.info() # 51개 컬럼만 남았음. 행은 1345989개 존재."
      ]
    },
    {
      "cell_type": "code",
      "execution_count": 28,
      "metadata": {
        "id": "CfcyCNKMZICe",
        "colab": {
          "base_uri": "https://localhost:8080/"
        },
        "outputId": "7f0aa3e5-47e8-4165-861f-ff27c0c766ba"
      },
      "outputs": [
        {
          "output_type": "execute_result",
          "data": {
            "text/plain": [
              "                             70940\n",
              "CEA: R008420H / L3008899K    12212\n",
              "CEA: R027596H / L3002382K     2975\n",
              "CEA: R016421Z / L3002382K     2837\n",
              "CEA: R028982I / L3009387E     2681\n",
              "                             ...  \n",
              "CEA: R018577B / L3008022J        1\n",
              "CEA: R014586Z / L3002382K        1\n",
              "CEA: R019870Z / L3009250K        1\n",
              "CEA: R019606E / L3009484F        1\n",
              "CEA: R023899Z / L3002382K        1\n",
              "Name: agent.license, Length: 10067, dtype: int64"
            ]
          },
          "metadata": {},
          "execution_count": 28
        }
      ],
      "source": [
        "df2['agent.license'].value_counts(dropna=False)"
      ]
    },
    {
      "cell_type": "code",
      "execution_count": 27,
      "metadata": {
        "colab": {
          "base_uri": "https://localhost:8080/"
        },
        "id": "45cWVt6gqaUB",
        "outputId": "5b4d35a2-aba5-4df0-dcad-79b8f72af00c"
      },
      "outputs": [
        {
          "output_type": "execute_result",
          "data": {
            "text/plain": [
              "                 57215\n",
              "+65 8838 1388    12212\n",
              "+65 9048 0660     4090\n",
              "+65 9898 9991     2837\n",
              "+65 9685 5190     2681\n",
              "                 ...  \n",
              "+65 9144 4068        1\n",
              "+65 9100 9239        1\n",
              "+65 9062 8928        1\n",
              "+65 9119 0222        1\n",
              "+65 9830 6478        1\n",
              "Name: agent.phone_number, Length: 10168, dtype: int64"
            ]
          },
          "metadata": {},
          "execution_count": 27
        }
      ],
      "source": [
        "df2['agent.phone_number'].value_counts(dropna=False)"
      ]
    },
    {
      "cell_type": "code",
      "source": [],
      "metadata": {
        "id": "z2aPhFhISDsL"
      },
      "execution_count": null,
      "outputs": []
    },
    {
      "cell_type": "code",
      "execution_count": 29,
      "metadata": {
        "colab": {
          "base_uri": "https://localhost:8080/"
        },
        "id": "2V9bqqBoEREw",
        "outputId": "c372e17b-0536-41a2-aa50-af668c875c52"
      },
      "outputs": [
        {
          "output_type": "execute_result",
          "data": {
            "text/plain": [
              "b''    1084242\n",
              "Name: properties.name, dtype: int64"
            ]
          },
          "metadata": {},
          "execution_count": 29
        }
      ],
      "source": [
        "df2['properties.name'].value_counts()"
      ]
    },
    {
      "cell_type": "code",
      "source": [
        "df2.info()"
      ],
      "metadata": {
        "id": "MXCmGqp75FtS"
      },
      "execution_count": null,
      "outputs": []
    },
    {
      "cell_type": "code",
      "source": [
        "df2.columns"
      ],
      "metadata": {
        "colab": {
          "base_uri": "https://localhost:8080/"
        },
        "id": "Stj3kCYW5T6Y",
        "outputId": "9dab27c7-f260-4a47-8e24-fd9b1ecc2651"
      },
      "execution_count": 32,
      "outputs": [
        {
          "output_type": "execute_result",
          "data": {
            "text/plain": [
              "Index(['C0', 'URL', 'agent.name', 'agent.license', 'agent.url', 'agent.agency',\n",
              "       'agent.phone_number', 'listing_properties', 'Type', 'Tenure',\n",
              "       'Floorsize', 'Developer', 'listing_properties.Land size', 'PSF',\n",
              "       'Furnishing', 'TOP', 'Floor', 'ListingID', 'Tenanted', 'Listed_on',\n",
              "       'listing_properties.Maintenance Fee', 'listing_properties.Availability',\n",
              "       'development_properties.Completion Year', 'properties.Tenure',\n",
              "       'properties.url', 'properties.name', 'Total Unit(s)', 'amenities',\n",
              "       'Air-Conditioning', 'Cooker Hood', 'Water Heater',\n",
              "       'amenities.Gymnasium room', 'amenities.Balcony', 'description',\n",
              "       'address.country', 'address.street', 'address.postal_code',\n",
              "       'address.locality', 'latitude', 'longitude', 'rooms', 'bathrooms',\n",
              "       'floor_size', 'floor_size_unit', 'price', 'currency', 'image_urls',\n",
              "       'created_at', 'images', 'images.url', 'images.path', 'images.checksum',\n",
              "       'num_img'],\n",
              "      dtype='object')"
            ]
          },
          "metadata": {},
          "execution_count": 32
        }
      ]
    },
    {
      "cell_type": "code",
      "execution_count": 31,
      "metadata": {
        "id": "2XYKO7yiBlfo"
      },
      "outputs": [],
      "source": [
        "# 좀 더 불필요한 컬럼 더 잘라내 다듬기 - sale data 에서 쓴 것\n",
        "# don't need these columns, so will drop these\n",
        " # agent name은 오류 일으킬 수 있어 삭제(license와 중복정보) 'agent.license', 'agent.url', 'agent.agency', 'agent.phone_number'\n",
        " # 'address.street', 'address.postal_code' # 싱가포르는 공통이므로 삭제\n",
        "will_erase_noneed = ['agent.name','agent.license','address.country', 'listing_properties', 'listing_properties.Land size', 'listing_properties.Maintenance Fee','properties.url','properties.name', 'amenities',\n",
        "       'Air-Conditioning', 'Cooker Hood', 'Water Heater', 'images', 'floor_size_unit', 'currency'] #모두 sqft, SGD인 것으로 볼 수 있어 불필요 "
      ]
    },
    {
      "cell_type": "code",
      "source": [],
      "metadata": {
        "id": "sePcNJDISkHZ"
      },
      "execution_count": null,
      "outputs": []
    },
    {
      "cell_type": "code",
      "execution_count": null,
      "metadata": {
        "id": "bnCI9af33PSK",
        "cellView": "form"
      },
      "outputs": [],
      "source": [
        "#@title\n",
        "# 좀 더 불필요한 컬럼 더 잘라내 다듬기 - rent data에서 쓴 것\n",
        "# don't need these columns, so will drop these\n",
        " # agent name은 오류 일으킬 수 있어 삭제(license와 중복정보) 'agent.license', 'agent.url', 'agent.agency', 'agent.phone_number'\n",
        " # 'address.street', 'address.postal_code' # 싱가포르는 공통이므로 삭제\n",
        "will_erase_noneed = ['agent.name','agent.license','address.country', 'listing_properties', 'listing_properties.Land size', 'listing_properties.Maintenance Fee','properties.url','properties.name', 'amenities',\n",
        "       'Air-Conditioning', 'Cooker Hood', 'amenities.Fridge',\n",
        "       'amenities.Washing Machine', 'Water Heater','images', 'floor_size_unit', 'currency'] #모두 sqft, SGD인 것으로 볼 수 있어 불필요 \n",
        "\n"
      ]
    },
    {
      "cell_type": "code",
      "execution_count": null,
      "metadata": {
        "id": "1TYR9sSX8_oo",
        "cellView": "form"
      },
      "outputs": [],
      "source": [
        "#@title\n",
        "# 좀 더 불필요한 컬럼 더 잘라내 다듬기 2020-12-04 - rent data에서 쓴 것 ver2\n",
        "# don't need these columns, so will drop these\n",
        " # agent name은 오류 일으킬 수 있어 삭제(license와 중복정보) 'agent.license', 'agent.url', 'agent.agency', 'agent.phone_number'\n",
        " # 'address.street', 'address.postal_code' # 싱가포르는 공통이므로 삭제\n",
        "will_erase_noneed = ['agent.name','agent.license','address.country', 'listing_properties', 'listing_properties.Land size', 'listing_properties.Maintenance Fee','properties.url','properties.name', 'amenities',\n",
        "       'Air-Conditioning', 'Cooker Hood', 'amenities.Fridge',\n",
        "       'amenities.Washing Machine', 'Water Heater', 'amenities.Gymnasium room',\n",
        "       'amenities.Swimming pool', \\\n",
        "                     'images', 'floor_size_unit', 'currency'] #모두 sqft, SGD인 것으로 볼 수 있어 불필요 "
      ]
    },
    {
      "cell_type": "code",
      "execution_count": null,
      "metadata": {
        "id": "Gy22ZvvnDJcp",
        "cellView": "form"
      },
      "outputs": [],
      "source": [
        "#@title\n",
        "# 좀 더 불필요한 컬럼 더 잘라내 다듬기 - rent data에서 쓴 것 - ver3\n",
        "# don't need these columns, so will drop these\n",
        " # agent name은 오류 일으킬 수 있어 삭제(license와 중복정보) 'agent.license', 'agent.url', 'agent.agency', 'agent.phone_number'\n",
        " # 'address.street', 'address.postal_code' # 싱가포르는 공통이므로 삭제\n",
        "will_erase_noneed = ['agent.name','agent.license','address.country', 'listing_properties', 'listing_properties.Land size', 'listing_properties.Maintenance Fee','properties.url','properties.name', 'amenities',\n",
        "       'Air-Conditioning', 'Cooker Hood', 'amenities.Fridge',\n",
        "       'amenities.Washing Machine', 'Water Heater', 'amenities.Gymnasium room',\n",
        "       'amenities.Barbeque Area','images', 'floor_size_unit', 'currency'] #모두 sqft, SGD인 것으로 볼 수 있어 불필요 "
      ]
    },
    {
      "cell_type": "code",
      "execution_count": 33,
      "metadata": {
        "id": "ZO3aa9a67TL-"
      },
      "outputs": [],
      "source": [
        "# dropping the columns and creating slimmer dataset\n",
        "df3 = df2.drop(columns = will_erase_noneed)"
      ]
    },
    {
      "cell_type": "code",
      "execution_count": 34,
      "metadata": {
        "colab": {
          "base_uri": "https://localhost:8080/"
        },
        "id": "MsIYeX8FFL1B",
        "outputId": "2b3f24dc-cbc3-4225-c93f-64142024acdd"
      },
      "outputs": [
        {
          "output_type": "stream",
          "name": "stdout",
          "text": [
            "<class 'pandas.core.frame.DataFrame'>\n",
            "RangeIndex: 1084242 entries, 0 to 1084241\n",
            "Data columns (total 38 columns):\n",
            " #   Column                                  Non-Null Count    Dtype         \n",
            "---  ------                                  --------------    -----         \n",
            " 0   C0                                      1084242 non-null  int32         \n",
            " 1   URL                                     1084242 non-null  object        \n",
            " 2   agent.url                               1084242 non-null  object        \n",
            " 3   agent.agency                            1084242 non-null  object        \n",
            " 4   agent.phone_number                      1084242 non-null  object        \n",
            " 5   Type                                    1084242 non-null  object        \n",
            " 6   Tenure                                  1084242 non-null  object        \n",
            " 7   Floorsize                               1084242 non-null  object        \n",
            " 8   Developer                               1084242 non-null  object        \n",
            " 9   PSF                                     1084242 non-null  object        \n",
            " 10  Furnishing                              1084242 non-null  object        \n",
            " 11  TOP                                     996423 non-null   float64       \n",
            " 12  Floor                                   1084242 non-null  object        \n",
            " 13  ListingID                               1084188 non-null  float64       \n",
            " 14  Tenanted                                1084242 non-null  object        \n",
            " 15  Listed_on                               1084242 non-null  object        \n",
            " 16  listing_properties.Availability         1083389 non-null  object        \n",
            " 17  development_properties.Completion Year  952632 non-null   float64       \n",
            " 18  properties.Tenure                       1084242 non-null  object        \n",
            " 19  Total Unit(s)                           838009 non-null   float64       \n",
            " 20  amenities.Gymnasium room                567186 non-null   object        \n",
            " 21  amenities.Balcony                       628703 non-null   object        \n",
            " 22  description                             1084242 non-null  object        \n",
            " 23  address.street                          1084242 non-null  object        \n",
            " 24  address.postal_code                     1042857 non-null  float64       \n",
            " 25  address.locality                        1084242 non-null  object        \n",
            " 26  latitude                                1080823 non-null  float64       \n",
            " 27  longitude                               1080823 non-null  float64       \n",
            " 28  rooms                                   1084242 non-null  object        \n",
            " 29  bathrooms                               1084242 non-null  object        \n",
            " 30  floor_size                              1084201 non-null  float64       \n",
            " 31  price                                   1082634 non-null  float64       \n",
            " 32  image_urls                              1084242 non-null  object        \n",
            " 33  created_at                              1084242 non-null  datetime64[ns]\n",
            " 34  images.url                              1084242 non-null  object        \n",
            " 35  images.path                             1084242 non-null  object        \n",
            " 36  images.checksum                         1084242 non-null  object        \n",
            " 37  num_img                                 1084242 non-null  int64         \n",
            "dtypes: datetime64[ns](1), float64(9), int32(1), int64(1), object(26)\n",
            "memory usage: 310.2+ MB\n"
          ]
        }
      ],
      "source": [
        "df3.info()"
      ]
    },
    {
      "cell_type": "code",
      "execution_count": 35,
      "metadata": {
        "colab": {
          "base_uri": "https://localhost:8080/"
        },
        "id": "LwymFZIhFcwr",
        "outputId": "78620443-4d58-4a58-9732-753d8818de22"
      },
      "outputs": [
        {
          "output_type": "execute_result",
          "data": {
            "text/plain": [
              "975236"
            ]
          },
          "metadata": {},
          "execution_count": 35
        }
      ],
      "source": [
        "# Type변수에서 특수한 주택유형에 해당하는 데이터 제거 작업 수행\n",
        "df3 = df3[~df3['Type'].str.contains(\"Bungalow|Land|Semi|Terrace|Detached\", na=False, case=False)]\n",
        "len(df3)"
      ]
    },
    {
      "cell_type": "code",
      "execution_count": 36,
      "metadata": {
        "id": "gKMrdL-1Fz7L"
      },
      "outputs": [],
      "source": [
        "# 분석에 필수적인 변수가 결측인 경우 삭제\n",
        "important_vars = ['Listed_on', 'price', 'latitude', 'longitude']\n",
        "# drop the rows when important_vars column has missing\n",
        "df3 = df3.dropna(subset = important_vars)\n",
        "# df3.info() #"
      ]
    },
    {
      "cell_type": "code",
      "source": [
        "len(df3)"
      ],
      "metadata": {
        "colab": {
          "base_uri": "https://localhost:8080/"
        },
        "id": "9USUsJ5ES_wl",
        "outputId": "d0ad2c23-b3a5-4c28-9d5b-dfac8e9fae86"
      },
      "execution_count": 37,
      "outputs": [
        {
          "output_type": "execute_result",
          "data": {
            "text/plain": [
              "973143"
            ]
          },
          "metadata": {},
          "execution_count": 37
        }
      ]
    },
    {
      "cell_type": "code",
      "source": [
        "df3['Listed_on'].head()"
      ],
      "metadata": {
        "colab": {
          "base_uri": "https://localhost:8080/"
        },
        "id": "z7EXlPSbTOEt",
        "outputId": "4404c688-1a97-4fb2-d791-5236d10e3038"
      },
      "execution_count": 41,
      "outputs": [
        {
          "output_type": "execute_result",
          "data": {
            "text/plain": [
              "0    10 hours ago\n",
              "1    10 hours ago\n",
              "2    10 hours ago\n",
              "3    10 hours ago\n",
              "4    10 hours ago\n",
              "Name: Listed_on, dtype: object"
            ]
          },
          "metadata": {},
          "execution_count": 41
        }
      ]
    },
    {
      "cell_type": "code",
      "execution_count": 42,
      "metadata": {
        "id": "44CNJgmoGHso"
      },
      "outputs": [],
      "source": [
        "# 숫자 부분만 추출\n",
        "df3['Listed_on_num'] = df3['Listed_on'].str.split(' ').str.get(0)\n",
        "\n",
        "# 시간단위 부분만 추출\n",
        "df3['Listed_on_day'] = df3['Listed_on'].str.split(' ').str.get(1)\n",
        "\n",
        "# time unit -  list of lists\n",
        "posted = [['second', 'seconds','minute', 'minutes', 'hour', 'hours'], ['day','days'], ['week', 'weeks'], ['month', 'months'], ['year', 'years']]"
      ]
    },
    {
      "cell_type": "code",
      "execution_count": 43,
      "metadata": {
        "id": "f_bgeFf1GUGg"
      },
      "outputs": [],
      "source": [
        "for idx, time in enumerate(posted):\n",
        "    df3['Listed_on_day'].replace(time, idx, inplace = True)\n",
        "# 2=week -> 7 days, 3=month -> 30 days, 4=year -> 365\n",
        "    df3['Listed_on_day'].replace(0, 0, inplace = True)\n",
        "    df3['Listed_on_day'].replace(1, 1, inplace = True)\n",
        "    df3['Listed_on_day'].replace(2, 7, inplace = True)\n",
        "    df3['Listed_on_day'].replace(3,30, inplace = True)\n",
        "    df3['Listed_on_day'].replace(4,365, inplace = True)"
      ]
    },
    {
      "cell_type": "code",
      "execution_count": 44,
      "metadata": {
        "id": "SCnrUgC5ITiF"
      },
      "outputs": [],
      "source": [
        "df3['days_past'] = df3['Listed_on_num'].astype('int64') * df3['Listed_on_day'].astype('int64')"
      ]
    },
    {
      "cell_type": "code",
      "execution_count": 45,
      "metadata": {
        "colab": {
          "base_uri": "https://localhost:8080/",
          "height": 206
        },
        "id": "qh0s7dK4U6Kc",
        "outputId": "6700abb2-bb3b-4a7f-b181-476d6e2e64a6"
      },
      "outputs": [
        {
          "output_type": "execute_result",
          "data": {
            "text/plain": [
              "            Listed_on  days_past\n",
              "1084222  7 months ago        210\n",
              "1084223  7 months ago        210\n",
              "1084224  7 months ago        210\n",
              "1084225  7 months ago        210\n",
              "1084226  7 months ago        210"
            ],
            "text/html": [
              "\n",
              "  <div id=\"df-d5a18b50-c96c-4929-ab95-8de37f802f1a\">\n",
              "    <div class=\"colab-df-container\">\n",
              "      <div>\n",
              "<style scoped>\n",
              "    .dataframe tbody tr th:only-of-type {\n",
              "        vertical-align: middle;\n",
              "    }\n",
              "\n",
              "    .dataframe tbody tr th {\n",
              "        vertical-align: top;\n",
              "    }\n",
              "\n",
              "    .dataframe thead th {\n",
              "        text-align: right;\n",
              "    }\n",
              "</style>\n",
              "<table border=\"1\" class=\"dataframe\">\n",
              "  <thead>\n",
              "    <tr style=\"text-align: right;\">\n",
              "      <th></th>\n",
              "      <th>Listed_on</th>\n",
              "      <th>days_past</th>\n",
              "    </tr>\n",
              "  </thead>\n",
              "  <tbody>\n",
              "    <tr>\n",
              "      <th>1084222</th>\n",
              "      <td>7 months ago</td>\n",
              "      <td>210</td>\n",
              "    </tr>\n",
              "    <tr>\n",
              "      <th>1084223</th>\n",
              "      <td>7 months ago</td>\n",
              "      <td>210</td>\n",
              "    </tr>\n",
              "    <tr>\n",
              "      <th>1084224</th>\n",
              "      <td>7 months ago</td>\n",
              "      <td>210</td>\n",
              "    </tr>\n",
              "    <tr>\n",
              "      <th>1084225</th>\n",
              "      <td>7 months ago</td>\n",
              "      <td>210</td>\n",
              "    </tr>\n",
              "    <tr>\n",
              "      <th>1084226</th>\n",
              "      <td>7 months ago</td>\n",
              "      <td>210</td>\n",
              "    </tr>\n",
              "  </tbody>\n",
              "</table>\n",
              "</div>\n",
              "      <button class=\"colab-df-convert\" onclick=\"convertToInteractive('df-d5a18b50-c96c-4929-ab95-8de37f802f1a')\"\n",
              "              title=\"Convert this dataframe to an interactive table.\"\n",
              "              style=\"display:none;\">\n",
              "        \n",
              "  <svg xmlns=\"http://www.w3.org/2000/svg\" height=\"24px\"viewBox=\"0 0 24 24\"\n",
              "       width=\"24px\">\n",
              "    <path d=\"M0 0h24v24H0V0z\" fill=\"none\"/>\n",
              "    <path d=\"M18.56 5.44l.94 2.06.94-2.06 2.06-.94-2.06-.94-.94-2.06-.94 2.06-2.06.94zm-11 1L8.5 8.5l.94-2.06 2.06-.94-2.06-.94L8.5 2.5l-.94 2.06-2.06.94zm10 10l.94 2.06.94-2.06 2.06-.94-2.06-.94-.94-2.06-.94 2.06-2.06.94z\"/><path d=\"M17.41 7.96l-1.37-1.37c-.4-.4-.92-.59-1.43-.59-.52 0-1.04.2-1.43.59L10.3 9.45l-7.72 7.72c-.78.78-.78 2.05 0 2.83L4 21.41c.39.39.9.59 1.41.59.51 0 1.02-.2 1.41-.59l7.78-7.78 2.81-2.81c.8-.78.8-2.07 0-2.86zM5.41 20L4 18.59l7.72-7.72 1.47 1.35L5.41 20z\"/>\n",
              "  </svg>\n",
              "      </button>\n",
              "      \n",
              "  <style>\n",
              "    .colab-df-container {\n",
              "      display:flex;\n",
              "      flex-wrap:wrap;\n",
              "      gap: 12px;\n",
              "    }\n",
              "\n",
              "    .colab-df-convert {\n",
              "      background-color: #E8F0FE;\n",
              "      border: none;\n",
              "      border-radius: 50%;\n",
              "      cursor: pointer;\n",
              "      display: none;\n",
              "      fill: #1967D2;\n",
              "      height: 32px;\n",
              "      padding: 0 0 0 0;\n",
              "      width: 32px;\n",
              "    }\n",
              "\n",
              "    .colab-df-convert:hover {\n",
              "      background-color: #E2EBFA;\n",
              "      box-shadow: 0px 1px 2px rgba(60, 64, 67, 0.3), 0px 1px 3px 1px rgba(60, 64, 67, 0.15);\n",
              "      fill: #174EA6;\n",
              "    }\n",
              "\n",
              "    [theme=dark] .colab-df-convert {\n",
              "      background-color: #3B4455;\n",
              "      fill: #D2E3FC;\n",
              "    }\n",
              "\n",
              "    [theme=dark] .colab-df-convert:hover {\n",
              "      background-color: #434B5C;\n",
              "      box-shadow: 0px 1px 3px 1px rgba(0, 0, 0, 0.15);\n",
              "      filter: drop-shadow(0px 1px 2px rgba(0, 0, 0, 0.3));\n",
              "      fill: #FFFFFF;\n",
              "    }\n",
              "  </style>\n",
              "\n",
              "      <script>\n",
              "        const buttonEl =\n",
              "          document.querySelector('#df-d5a18b50-c96c-4929-ab95-8de37f802f1a button.colab-df-convert');\n",
              "        buttonEl.style.display =\n",
              "          google.colab.kernel.accessAllowed ? 'block' : 'none';\n",
              "\n",
              "        async function convertToInteractive(key) {\n",
              "          const element = document.querySelector('#df-d5a18b50-c96c-4929-ab95-8de37f802f1a');\n",
              "          const dataTable =\n",
              "            await google.colab.kernel.invokeFunction('convertToInteractive',\n",
              "                                                     [key], {});\n",
              "          if (!dataTable) return;\n",
              "\n",
              "          const docLinkHtml = 'Like what you see? Visit the ' +\n",
              "            '<a target=\"_blank\" href=https://colab.research.google.com/notebooks/data_table.ipynb>data table notebook</a>'\n",
              "            + ' to learn more about interactive tables.';\n",
              "          element.innerHTML = '';\n",
              "          dataTable['output_type'] = 'display_data';\n",
              "          await google.colab.output.renderOutput(dataTable, element);\n",
              "          const docLink = document.createElement('div');\n",
              "          docLink.innerHTML = docLinkHtml;\n",
              "          element.appendChild(docLink);\n",
              "        }\n",
              "      </script>\n",
              "    </div>\n",
              "  </div>\n",
              "  "
            ]
          },
          "metadata": {},
          "execution_count": 45
        }
      ],
      "source": [
        "# Listed_on column replacing to days\n",
        "\n",
        "df3[['Listed_on','days_past']].tail(5)"
      ]
    },
    {
      "cell_type": "code",
      "execution_count": 46,
      "metadata": {
        "colab": {
          "base_uri": "https://localhost:8080/"
        },
        "id": "Q628YlkrcxHV",
        "outputId": "957fb0b6-ba79-42c6-f365-5a4b78bbb2c7"
      },
      "outputs": [
        {
          "output_type": "execute_result",
          "data": {
            "text/plain": [
              "0   2020-09-30\n",
              "1   2020-09-30\n",
              "2   2020-09-30\n",
              "3   2020-09-30\n",
              "4   2020-09-30\n",
              "Name: date_created_at, dtype: datetime64[ns]"
            ]
          },
          "metadata": {},
          "execution_count": 46
        }
      ],
      "source": [
        "# created_at variable(2019-10-26 11:16:00.207427), converting year-month=day\n",
        "df3.loc[:,'date_created_at'] = pd.to_datetime(df3.loc[:,'created_at'].astype(str).str[:10])\n",
        "df3.loc[:,'date_created_at'].head(5)"
      ]
    },
    {
      "cell_type": "code",
      "execution_count": 47,
      "metadata": {
        "id": "ZtBEZSrAdBTd"
      },
      "outputs": [],
      "source": [
        "df3.loc[:,\"listed_date\"] = df3.loc[:,'date_created_at'] - pd.to_timedelta(df3.loc[:,'days_past'], unit = 'd')"
      ]
    },
    {
      "cell_type": "code",
      "execution_count": 48,
      "metadata": {
        "colab": {
          "base_uri": "https://localhost:8080/",
          "height": 423
        },
        "id": "KaUynsSeqJJA",
        "outputId": "187817e7-8f8c-4359-a51a-11af142fdbc6"
      },
      "outputs": [
        {
          "output_type": "execute_result",
          "data": {
            "text/plain": [
              "        date_created_at     Listed_on  days_past listed_date\n",
              "0            2020-09-30  10 hours ago          0  2020-09-30\n",
              "1            2020-09-30  10 hours ago          0  2020-09-30\n",
              "2            2020-09-30  10 hours ago          0  2020-09-30\n",
              "3            2020-09-30  10 hours ago          0  2020-09-30\n",
              "4            2020-09-30  10 hours ago          0  2020-09-30\n",
              "...                 ...           ...        ...         ...\n",
              "1084222      2020-10-03  7 months ago        210  2020-03-07\n",
              "1084223      2020-10-03  7 months ago        210  2020-03-07\n",
              "1084224      2020-10-03  7 months ago        210  2020-03-07\n",
              "1084225      2020-10-03  7 months ago        210  2020-03-07\n",
              "1084226      2020-10-03  7 months ago        210  2020-03-07\n",
              "\n",
              "[973143 rows x 4 columns]"
            ],
            "text/html": [
              "\n",
              "  <div id=\"df-706ae76d-9e78-470f-acf4-09ead5e01b16\">\n",
              "    <div class=\"colab-df-container\">\n",
              "      <div>\n",
              "<style scoped>\n",
              "    .dataframe tbody tr th:only-of-type {\n",
              "        vertical-align: middle;\n",
              "    }\n",
              "\n",
              "    .dataframe tbody tr th {\n",
              "        vertical-align: top;\n",
              "    }\n",
              "\n",
              "    .dataframe thead th {\n",
              "        text-align: right;\n",
              "    }\n",
              "</style>\n",
              "<table border=\"1\" class=\"dataframe\">\n",
              "  <thead>\n",
              "    <tr style=\"text-align: right;\">\n",
              "      <th></th>\n",
              "      <th>date_created_at</th>\n",
              "      <th>Listed_on</th>\n",
              "      <th>days_past</th>\n",
              "      <th>listed_date</th>\n",
              "    </tr>\n",
              "  </thead>\n",
              "  <tbody>\n",
              "    <tr>\n",
              "      <th>0</th>\n",
              "      <td>2020-09-30</td>\n",
              "      <td>10 hours ago</td>\n",
              "      <td>0</td>\n",
              "      <td>2020-09-30</td>\n",
              "    </tr>\n",
              "    <tr>\n",
              "      <th>1</th>\n",
              "      <td>2020-09-30</td>\n",
              "      <td>10 hours ago</td>\n",
              "      <td>0</td>\n",
              "      <td>2020-09-30</td>\n",
              "    </tr>\n",
              "    <tr>\n",
              "      <th>2</th>\n",
              "      <td>2020-09-30</td>\n",
              "      <td>10 hours ago</td>\n",
              "      <td>0</td>\n",
              "      <td>2020-09-30</td>\n",
              "    </tr>\n",
              "    <tr>\n",
              "      <th>3</th>\n",
              "      <td>2020-09-30</td>\n",
              "      <td>10 hours ago</td>\n",
              "      <td>0</td>\n",
              "      <td>2020-09-30</td>\n",
              "    </tr>\n",
              "    <tr>\n",
              "      <th>4</th>\n",
              "      <td>2020-09-30</td>\n",
              "      <td>10 hours ago</td>\n",
              "      <td>0</td>\n",
              "      <td>2020-09-30</td>\n",
              "    </tr>\n",
              "    <tr>\n",
              "      <th>...</th>\n",
              "      <td>...</td>\n",
              "      <td>...</td>\n",
              "      <td>...</td>\n",
              "      <td>...</td>\n",
              "    </tr>\n",
              "    <tr>\n",
              "      <th>1084222</th>\n",
              "      <td>2020-10-03</td>\n",
              "      <td>7 months ago</td>\n",
              "      <td>210</td>\n",
              "      <td>2020-03-07</td>\n",
              "    </tr>\n",
              "    <tr>\n",
              "      <th>1084223</th>\n",
              "      <td>2020-10-03</td>\n",
              "      <td>7 months ago</td>\n",
              "      <td>210</td>\n",
              "      <td>2020-03-07</td>\n",
              "    </tr>\n",
              "    <tr>\n",
              "      <th>1084224</th>\n",
              "      <td>2020-10-03</td>\n",
              "      <td>7 months ago</td>\n",
              "      <td>210</td>\n",
              "      <td>2020-03-07</td>\n",
              "    </tr>\n",
              "    <tr>\n",
              "      <th>1084225</th>\n",
              "      <td>2020-10-03</td>\n",
              "      <td>7 months ago</td>\n",
              "      <td>210</td>\n",
              "      <td>2020-03-07</td>\n",
              "    </tr>\n",
              "    <tr>\n",
              "      <th>1084226</th>\n",
              "      <td>2020-10-03</td>\n",
              "      <td>7 months ago</td>\n",
              "      <td>210</td>\n",
              "      <td>2020-03-07</td>\n",
              "    </tr>\n",
              "  </tbody>\n",
              "</table>\n",
              "<p>973143 rows × 4 columns</p>\n",
              "</div>\n",
              "      <button class=\"colab-df-convert\" onclick=\"convertToInteractive('df-706ae76d-9e78-470f-acf4-09ead5e01b16')\"\n",
              "              title=\"Convert this dataframe to an interactive table.\"\n",
              "              style=\"display:none;\">\n",
              "        \n",
              "  <svg xmlns=\"http://www.w3.org/2000/svg\" height=\"24px\"viewBox=\"0 0 24 24\"\n",
              "       width=\"24px\">\n",
              "    <path d=\"M0 0h24v24H0V0z\" fill=\"none\"/>\n",
              "    <path d=\"M18.56 5.44l.94 2.06.94-2.06 2.06-.94-2.06-.94-.94-2.06-.94 2.06-2.06.94zm-11 1L8.5 8.5l.94-2.06 2.06-.94-2.06-.94L8.5 2.5l-.94 2.06-2.06.94zm10 10l.94 2.06.94-2.06 2.06-.94-2.06-.94-.94-2.06-.94 2.06-2.06.94z\"/><path d=\"M17.41 7.96l-1.37-1.37c-.4-.4-.92-.59-1.43-.59-.52 0-1.04.2-1.43.59L10.3 9.45l-7.72 7.72c-.78.78-.78 2.05 0 2.83L4 21.41c.39.39.9.59 1.41.59.51 0 1.02-.2 1.41-.59l7.78-7.78 2.81-2.81c.8-.78.8-2.07 0-2.86zM5.41 20L4 18.59l7.72-7.72 1.47 1.35L5.41 20z\"/>\n",
              "  </svg>\n",
              "      </button>\n",
              "      \n",
              "  <style>\n",
              "    .colab-df-container {\n",
              "      display:flex;\n",
              "      flex-wrap:wrap;\n",
              "      gap: 12px;\n",
              "    }\n",
              "\n",
              "    .colab-df-convert {\n",
              "      background-color: #E8F0FE;\n",
              "      border: none;\n",
              "      border-radius: 50%;\n",
              "      cursor: pointer;\n",
              "      display: none;\n",
              "      fill: #1967D2;\n",
              "      height: 32px;\n",
              "      padding: 0 0 0 0;\n",
              "      width: 32px;\n",
              "    }\n",
              "\n",
              "    .colab-df-convert:hover {\n",
              "      background-color: #E2EBFA;\n",
              "      box-shadow: 0px 1px 2px rgba(60, 64, 67, 0.3), 0px 1px 3px 1px rgba(60, 64, 67, 0.15);\n",
              "      fill: #174EA6;\n",
              "    }\n",
              "\n",
              "    [theme=dark] .colab-df-convert {\n",
              "      background-color: #3B4455;\n",
              "      fill: #D2E3FC;\n",
              "    }\n",
              "\n",
              "    [theme=dark] .colab-df-convert:hover {\n",
              "      background-color: #434B5C;\n",
              "      box-shadow: 0px 1px 3px 1px rgba(0, 0, 0, 0.15);\n",
              "      filter: drop-shadow(0px 1px 2px rgba(0, 0, 0, 0.3));\n",
              "      fill: #FFFFFF;\n",
              "    }\n",
              "  </style>\n",
              "\n",
              "      <script>\n",
              "        const buttonEl =\n",
              "          document.querySelector('#df-706ae76d-9e78-470f-acf4-09ead5e01b16 button.colab-df-convert');\n",
              "        buttonEl.style.display =\n",
              "          google.colab.kernel.accessAllowed ? 'block' : 'none';\n",
              "\n",
              "        async function convertToInteractive(key) {\n",
              "          const element = document.querySelector('#df-706ae76d-9e78-470f-acf4-09ead5e01b16');\n",
              "          const dataTable =\n",
              "            await google.colab.kernel.invokeFunction('convertToInteractive',\n",
              "                                                     [key], {});\n",
              "          if (!dataTable) return;\n",
              "\n",
              "          const docLinkHtml = 'Like what you see? Visit the ' +\n",
              "            '<a target=\"_blank\" href=https://colab.research.google.com/notebooks/data_table.ipynb>data table notebook</a>'\n",
              "            + ' to learn more about interactive tables.';\n",
              "          element.innerHTML = '';\n",
              "          dataTable['output_type'] = 'display_data';\n",
              "          await google.colab.output.renderOutput(dataTable, element);\n",
              "          const docLink = document.createElement('div');\n",
              "          docLink.innerHTML = docLinkHtml;\n",
              "          element.appendChild(docLink);\n",
              "        }\n",
              "      </script>\n",
              "    </div>\n",
              "  </div>\n",
              "  "
            ]
          },
          "metadata": {},
          "execution_count": 48
        }
      ],
      "source": [
        "df3[['date_created_at',\"Listed_on\", 'days_past', 'listed_date']]"
      ]
    },
    {
      "cell_type": "code",
      "execution_count": 49,
      "metadata": {
        "colab": {
          "base_uri": "https://localhost:8080/"
        },
        "id": "m9WGV_lpPYSE",
        "outputId": "4b4dab13-6ecd-41a8-bb87-1ba6f63bdbe2"
      },
      "outputs": [
        {
          "output_type": "execute_result",
          "data": {
            "text/plain": [
              "Timestamp('2020-03-07 00:00:00')"
            ]
          },
          "metadata": {},
          "execution_count": 49
        }
      ],
      "source": [
        "df3.listed_date.min()"
      ]
    },
    {
      "cell_type": "code",
      "execution_count": 50,
      "metadata": {
        "colab": {
          "base_uri": "https://localhost:8080/"
        },
        "id": "sHb0_m29Piid",
        "outputId": "f02dca93-a600-43e2-f401-87388dea8546"
      },
      "outputs": [
        {
          "output_type": "execute_result",
          "data": {
            "text/plain": [
              "Timestamp('2020-10-03 00:00:00')"
            ]
          },
          "metadata": {},
          "execution_count": 50
        }
      ],
      "source": [
        "df3.listed_date.max()"
      ]
    },
    {
      "cell_type": "code",
      "execution_count": 51,
      "metadata": {
        "id": "1Bw8xYkdzw6c"
      },
      "outputs": [],
      "source": [
        "df3['listed_year'] = df3['listed_date'].dt.year"
      ]
    },
    {
      "cell_type": "code",
      "execution_count": 52,
      "metadata": {
        "colab": {
          "base_uri": "https://localhost:8080/"
        },
        "id": "M-Hig7gpIy4h",
        "outputId": "3edc6a9b-e10b-4772-a9d8-2bb2c0fa8155"
      },
      "outputs": [
        {
          "output_type": "execute_result",
          "data": {
            "text/plain": [
              "2020"
            ]
          },
          "metadata": {},
          "execution_count": 52
        }
      ],
      "source": [
        "max_year = df3.listed_year.max()\n",
        "max_year"
      ]
    },
    {
      "cell_type": "markdown",
      "metadata": {
        "id": "zYDHHk4I4gu-"
      },
      "source": [
        "### 분양용 매물 제거"
      ]
    },
    {
      "cell_type": "code",
      "execution_count": null,
      "metadata": {
        "id": "qmaKwIdlJWR3"
      },
      "outputs": [],
      "source": [
        "# df3['TOP'].value_counts(dropna=False).to_excel(\"/content/drive/MyDrive/PropertyGuru/original/TOP.xlsx\")\n",
        "# 확인 결과, TOP에 N/A가 있었음 "
      ]
    },
    {
      "cell_type": "code",
      "execution_count": 53,
      "metadata": {
        "id": "UkSj0IP7Mzd9"
      },
      "outputs": [],
      "source": [
        "# Define a condition\n",
        "# condition = (df3['TOP'] != \"2020\") & (df3['TOP'] != \"2021\") & (df3['TOP'] != \"2022\") #2019\n",
        "condition = (df3['TOP'] != \"2021\") & (df3['TOP'] != \"2022\") #2020\n",
        "# condition = (df3['TOP'] != \"2022\") #2021"
      ]
    },
    {
      "cell_type": "code",
      "execution_count": 54,
      "metadata": {
        "id": "PuSTfZdDN1Wa"
      },
      "outputs": [],
      "source": [
        "# Apply the condition to the dataframe\n",
        "df3 = df3[condition]"
      ]
    },
    {
      "cell_type": "code",
      "execution_count": 55,
      "metadata": {
        "colab": {
          "base_uri": "https://localhost:8080/"
        },
        "id": "Ic3JK22PN5vj",
        "outputId": "bb328135-4b01-446f-c5c2-e8dc83c5c65f"
      },
      "outputs": [
        {
          "output_type": "execute_result",
          "data": {
            "text/plain": [
              "973143"
            ]
          },
          "metadata": {},
          "execution_count": 55
        }
      ],
      "source": [
        "len(df3)"
      ]
    },
    {
      "cell_type": "markdown",
      "metadata": {
        "id": "PzzO-D5_OPw_"
      },
      "source": [
        "### 게시글별로 중복 제거"
      ]
    },
    {
      "cell_type": "code",
      "execution_count": null,
      "metadata": {
        "colab": {
          "base_uri": "https://localhost:8080/"
        },
        "id": "fHWPr7IIslu2",
        "outputId": "c99ed542-5835-43e7-f3e8-c5250b8d2284"
      },
      "outputs": [
        {
          "output_type": "execute_result",
          "data": {
            "text/plain": [
              "Index(['C0', 'URL', 'agent.url', 'agent.agency', 'agent.phone_number', 'Type',\n",
              "       'Tenure', 'Floorsize', 'Developer', 'PSF', 'Furnishing', 'TOP', 'Floor',\n",
              "       'ListingID', 'Tenanted', 'Listed_on', 'properties.Type',\n",
              "       'properties.TOP', 'properties.Tenure', 'Total Unit(s)', 'description',\n",
              "       'address.street', 'address.postal_code', 'address.locality', 'latitude',\n",
              "       'longitude', 'rooms', 'bathrooms', 'floor_size', 'price', 'image_urls',\n",
              "       'created_at', 'images.url', 'images.path', 'images.checksum', 'num_img',\n",
              "       'Listed_on_num', 'Listed_on_day', 'days_past', 'date_created_at',\n",
              "       'listed_date', 'listed_year'],\n",
              "      dtype='object')"
            ]
          },
          "metadata": {},
          "execution_count": 48
        }
      ],
      "source": [
        "df3.columns"
      ]
    },
    {
      "cell_type": "code",
      "execution_count": 56,
      "metadata": {
        "colab": {
          "base_uri": "https://localhost:8080/"
        },
        "id": "mYNxGOAxOPdU",
        "outputId": "16f6dff6-eca6-4a0f-bffa-63c7c8d8cf3d"
      },
      "outputs": [
        {
          "output_type": "execute_result",
          "data": {
            "text/plain": [
              "58170"
            ]
          },
          "metadata": {},
          "execution_count": 56
        }
      ],
      "source": [
        "# 리스팅 'created_at' 기준으로 중복행 제거\n",
        "df4 = df3.drop_duplicates(['created_at'], keep='first', ignore_index=False)\n",
        "len(df4)"
      ]
    },
    {
      "cell_type": "markdown",
      "metadata": {
        "id": "Ttzvvi0sQhGI"
      },
      "source": [
        "### HDB, Condo, Apartment 변수 생성"
      ]
    },
    {
      "cell_type": "code",
      "execution_count": 57,
      "metadata": {
        "colab": {
          "base_uri": "https://localhost:8080/"
        },
        "id": "pCzOUeuyQSUI",
        "outputId": "f6e2023d-2308-430a-926f-02fe262bb525"
      },
      "outputs": [
        {
          "output_type": "execute_result",
          "data": {
            "text/plain": [
              "Condominium For Sale                  37147\n",
              "Apartment For Sale                     7522\n",
              "4A HDB For Sale                        3706\n",
              "5I HDB For Sale                        2500\n",
              "Executive Condominium For Sale         1486\n",
              "5A HDB For Sale                         795\n",
              "Cluster House For Sale                  616\n",
              "4NG (New Generation) HDB For Sale       615\n",
              "EA (Exec Apartment) HDB For Sale        538\n",
              "3I (Improved) HDB For Sale              479\n",
              "3A HDB For Sale                         422\n",
              "EM (Exec Maisonette) HDB For Sale       420\n",
              "3NG (New Generation) HDB For Sale       264\n",
              "4I (Improved) HDB For Sale              249\n",
              "4S (Simplified) HDB For Sale            210\n",
              "5S HDB For Sale                         185\n",
              "Walk-up For Sale                        124\n",
              "3NG (Modified) HDB For Sale             116\n",
              "Conservation House For Sale             105\n",
              "4STD (Standard) HDB For Sale             83\n",
              "3I (Modified) HDB For Sale               77\n",
              "3STD (Standard) HDB For Sale             74\n",
              "3S (Simplified) HDB For Sale             73\n",
              "3A (Modified) HDB For Sale               57\n",
              "Town House For Sale                      48\n",
              "2A HDB For Sale                          45\n",
              "Jumbo HDB For Sale                       44\n",
              "HDB For Sale                             36\n",
              "Shophouse For Sale                       34\n",
              "2S (Standard) HDB For Sale               27\n",
              "MG (Multi-Generation) HDB For Sale       27\n",
              "2I (Improved) HDB For Sale               17\n",
              "Condominium For Rent                     16\n",
              "1-Room / Studio HDB For Sale              9\n",
              "Apartment For Rent                        3\n",
              "3I (Improved) HDB For Rent                1\n",
              "Name: Type, dtype: int64"
            ]
          },
          "metadata": {},
          "execution_count": 57
        }
      ],
      "source": [
        "df4['Type'].value_counts()"
      ]
    },
    {
      "cell_type": "code",
      "execution_count": 58,
      "metadata": {
        "colab": {
          "base_uri": "https://localhost:8080/",
          "height": 363
        },
        "id": "BJWhklxlRCHf",
        "outputId": "68d35b61-3873-4be6-cf27-18a114d0bdd8"
      },
      "outputs": [
        {
          "output_type": "execute_result",
          "data": {
            "text/plain": [
              "                     Type    HDB  Condo  Apartment\n",
              "0         4A HDB For Sale   True  False      False\n",
              "13   Condominium For Sale  False   True      False\n",
              "28   Condominium For Sale  False   True      False\n",
              "95   Condominium For Sale  False   True      False\n",
              "110    Apartment For Sale  False  False       True\n",
              "134  Condominium For Sale  False   True      False\n",
              "155  Condominium For Sale  False   True      False\n",
              "166  Condominium For Sale  False   True      False\n",
              "194  Condominium For Sale  False   True      False\n",
              "204       4A HDB For Sale   True  False      False"
            ],
            "text/html": [
              "\n",
              "  <div id=\"df-a348867b-22fa-4d99-9973-31c9cb3d3371\">\n",
              "    <div class=\"colab-df-container\">\n",
              "      <div>\n",
              "<style scoped>\n",
              "    .dataframe tbody tr th:only-of-type {\n",
              "        vertical-align: middle;\n",
              "    }\n",
              "\n",
              "    .dataframe tbody tr th {\n",
              "        vertical-align: top;\n",
              "    }\n",
              "\n",
              "    .dataframe thead th {\n",
              "        text-align: right;\n",
              "    }\n",
              "</style>\n",
              "<table border=\"1\" class=\"dataframe\">\n",
              "  <thead>\n",
              "    <tr style=\"text-align: right;\">\n",
              "      <th></th>\n",
              "      <th>Type</th>\n",
              "      <th>HDB</th>\n",
              "      <th>Condo</th>\n",
              "      <th>Apartment</th>\n",
              "    </tr>\n",
              "  </thead>\n",
              "  <tbody>\n",
              "    <tr>\n",
              "      <th>0</th>\n",
              "      <td>4A HDB For Sale</td>\n",
              "      <td>True</td>\n",
              "      <td>False</td>\n",
              "      <td>False</td>\n",
              "    </tr>\n",
              "    <tr>\n",
              "      <th>13</th>\n",
              "      <td>Condominium For Sale</td>\n",
              "      <td>False</td>\n",
              "      <td>True</td>\n",
              "      <td>False</td>\n",
              "    </tr>\n",
              "    <tr>\n",
              "      <th>28</th>\n",
              "      <td>Condominium For Sale</td>\n",
              "      <td>False</td>\n",
              "      <td>True</td>\n",
              "      <td>False</td>\n",
              "    </tr>\n",
              "    <tr>\n",
              "      <th>95</th>\n",
              "      <td>Condominium For Sale</td>\n",
              "      <td>False</td>\n",
              "      <td>True</td>\n",
              "      <td>False</td>\n",
              "    </tr>\n",
              "    <tr>\n",
              "      <th>110</th>\n",
              "      <td>Apartment For Sale</td>\n",
              "      <td>False</td>\n",
              "      <td>False</td>\n",
              "      <td>True</td>\n",
              "    </tr>\n",
              "    <tr>\n",
              "      <th>134</th>\n",
              "      <td>Condominium For Sale</td>\n",
              "      <td>False</td>\n",
              "      <td>True</td>\n",
              "      <td>False</td>\n",
              "    </tr>\n",
              "    <tr>\n",
              "      <th>155</th>\n",
              "      <td>Condominium For Sale</td>\n",
              "      <td>False</td>\n",
              "      <td>True</td>\n",
              "      <td>False</td>\n",
              "    </tr>\n",
              "    <tr>\n",
              "      <th>166</th>\n",
              "      <td>Condominium For Sale</td>\n",
              "      <td>False</td>\n",
              "      <td>True</td>\n",
              "      <td>False</td>\n",
              "    </tr>\n",
              "    <tr>\n",
              "      <th>194</th>\n",
              "      <td>Condominium For Sale</td>\n",
              "      <td>False</td>\n",
              "      <td>True</td>\n",
              "      <td>False</td>\n",
              "    </tr>\n",
              "    <tr>\n",
              "      <th>204</th>\n",
              "      <td>4A HDB For Sale</td>\n",
              "      <td>True</td>\n",
              "      <td>False</td>\n",
              "      <td>False</td>\n",
              "    </tr>\n",
              "  </tbody>\n",
              "</table>\n",
              "</div>\n",
              "      <button class=\"colab-df-convert\" onclick=\"convertToInteractive('df-a348867b-22fa-4d99-9973-31c9cb3d3371')\"\n",
              "              title=\"Convert this dataframe to an interactive table.\"\n",
              "              style=\"display:none;\">\n",
              "        \n",
              "  <svg xmlns=\"http://www.w3.org/2000/svg\" height=\"24px\"viewBox=\"0 0 24 24\"\n",
              "       width=\"24px\">\n",
              "    <path d=\"M0 0h24v24H0V0z\" fill=\"none\"/>\n",
              "    <path d=\"M18.56 5.44l.94 2.06.94-2.06 2.06-.94-2.06-.94-.94-2.06-.94 2.06-2.06.94zm-11 1L8.5 8.5l.94-2.06 2.06-.94-2.06-.94L8.5 2.5l-.94 2.06-2.06.94zm10 10l.94 2.06.94-2.06 2.06-.94-2.06-.94-.94-2.06-.94 2.06-2.06.94z\"/><path d=\"M17.41 7.96l-1.37-1.37c-.4-.4-.92-.59-1.43-.59-.52 0-1.04.2-1.43.59L10.3 9.45l-7.72 7.72c-.78.78-.78 2.05 0 2.83L4 21.41c.39.39.9.59 1.41.59.51 0 1.02-.2 1.41-.59l7.78-7.78 2.81-2.81c.8-.78.8-2.07 0-2.86zM5.41 20L4 18.59l7.72-7.72 1.47 1.35L5.41 20z\"/>\n",
              "  </svg>\n",
              "      </button>\n",
              "      \n",
              "  <style>\n",
              "    .colab-df-container {\n",
              "      display:flex;\n",
              "      flex-wrap:wrap;\n",
              "      gap: 12px;\n",
              "    }\n",
              "\n",
              "    .colab-df-convert {\n",
              "      background-color: #E8F0FE;\n",
              "      border: none;\n",
              "      border-radius: 50%;\n",
              "      cursor: pointer;\n",
              "      display: none;\n",
              "      fill: #1967D2;\n",
              "      height: 32px;\n",
              "      padding: 0 0 0 0;\n",
              "      width: 32px;\n",
              "    }\n",
              "\n",
              "    .colab-df-convert:hover {\n",
              "      background-color: #E2EBFA;\n",
              "      box-shadow: 0px 1px 2px rgba(60, 64, 67, 0.3), 0px 1px 3px 1px rgba(60, 64, 67, 0.15);\n",
              "      fill: #174EA6;\n",
              "    }\n",
              "\n",
              "    [theme=dark] .colab-df-convert {\n",
              "      background-color: #3B4455;\n",
              "      fill: #D2E3FC;\n",
              "    }\n",
              "\n",
              "    [theme=dark] .colab-df-convert:hover {\n",
              "      background-color: #434B5C;\n",
              "      box-shadow: 0px 1px 3px 1px rgba(0, 0, 0, 0.15);\n",
              "      filter: drop-shadow(0px 1px 2px rgba(0, 0, 0, 0.3));\n",
              "      fill: #FFFFFF;\n",
              "    }\n",
              "  </style>\n",
              "\n",
              "      <script>\n",
              "        const buttonEl =\n",
              "          document.querySelector('#df-a348867b-22fa-4d99-9973-31c9cb3d3371 button.colab-df-convert');\n",
              "        buttonEl.style.display =\n",
              "          google.colab.kernel.accessAllowed ? 'block' : 'none';\n",
              "\n",
              "        async function convertToInteractive(key) {\n",
              "          const element = document.querySelector('#df-a348867b-22fa-4d99-9973-31c9cb3d3371');\n",
              "          const dataTable =\n",
              "            await google.colab.kernel.invokeFunction('convertToInteractive',\n",
              "                                                     [key], {});\n",
              "          if (!dataTable) return;\n",
              "\n",
              "          const docLinkHtml = 'Like what you see? Visit the ' +\n",
              "            '<a target=\"_blank\" href=https://colab.research.google.com/notebooks/data_table.ipynb>data table notebook</a>'\n",
              "            + ' to learn more about interactive tables.';\n",
              "          element.innerHTML = '';\n",
              "          dataTable['output_type'] = 'display_data';\n",
              "          await google.colab.output.renderOutput(dataTable, element);\n",
              "          const docLink = document.createElement('div');\n",
              "          docLink.innerHTML = docLinkHtml;\n",
              "          element.appendChild(docLink);\n",
              "        }\n",
              "      </script>\n",
              "    </div>\n",
              "  </div>\n",
              "  "
            ]
          },
          "metadata": {},
          "execution_count": 58
        }
      ],
      "source": [
        "# Type 구분 컬럼 생성\n",
        "df4['HDB'] = df4['Type'].str.contains('HDB')\n",
        "df4['Condo'] = df4['Type'].str.contains('Condominium For Sale')\n",
        "df4['Apartment'] = df4['Type'].str.contains('Apartment For Sale')\n",
        "df4[['Type','HDB', 'Condo', 'Apartment']].head(10)"
      ]
    },
    {
      "cell_type": "code",
      "execution_count": 59,
      "metadata": {
        "colab": {
          "base_uri": "https://localhost:8080/"
        },
        "id": "FLIavqmzRqka",
        "outputId": "c4772608-6091-4f46-d0f2-7dcf00f73103"
      },
      "outputs": [
        {
          "output_type": "execute_result",
          "data": {
            "text/plain": [
              "58170"
            ]
          },
          "metadata": {},
          "execution_count": 59
        }
      ],
      "source": [
        "len(df4)"
      ]
    },
    {
      "cell_type": "code",
      "execution_count": 60,
      "metadata": {
        "colab": {
          "base_uri": "https://localhost:8080/"
        },
        "id": "3gQnolq4S1s5",
        "outputId": "9b2f01a0-33b2-40a1-c758-993b4afa93ef"
      },
      "outputs": [
        {
          "output_type": "execute_result",
          "data": {
            "text/plain": [
              "Index(['C0', 'URL', 'agent.url', 'agent.agency', 'agent.phone_number', 'Type',\n",
              "       'Tenure', 'Floorsize', 'Developer', 'PSF', 'Furnishing', 'TOP', 'Floor',\n",
              "       'ListingID', 'Tenanted', 'Listed_on', 'listing_properties.Availability',\n",
              "       'development_properties.Completion Year', 'properties.Tenure',\n",
              "       'Total Unit(s)', 'amenities.Gymnasium room', 'amenities.Balcony',\n",
              "       'description', 'address.street', 'address.postal_code',\n",
              "       'address.locality', 'latitude', 'longitude', 'rooms', 'bathrooms',\n",
              "       'floor_size', 'price', 'image_urls', 'created_at', 'images.url',\n",
              "       'images.path', 'images.checksum', 'num_img', 'Listed_on_num',\n",
              "       'Listed_on_day', 'days_past', 'date_created_at', 'listed_date',\n",
              "       'listed_year', 'HDB', 'Condo', 'Apartment'],\n",
              "      dtype='object')"
            ]
          },
          "metadata": {},
          "execution_count": 60
        }
      ],
      "source": [
        "df4.columns"
      ]
    },
    {
      "cell_type": "markdown",
      "metadata": {
        "id": "nwlA3ib3Swhi"
      },
      "source": [
        "### virtual_tour변수 생성"
      ]
    },
    {
      "cell_type": "code",
      "execution_count": 61,
      "metadata": {
        "id": "7o4jKk08SwD_"
      },
      "outputs": [],
      "source": [
        "#@title 특정키워드 포함여부(Contains)\n",
        "#'Virtual' 뷰잉 가능여부 더미 생성\n",
        "\n",
        "# Create a new column 'contains_virtual' indicating whether the 'text' column contains the word 'virtual'\n",
        "df4['description_lower'] = df4['description'].str.casefold()\n",
        "search_str = df4['description_lower'].str.extract('(virtual|video|youtube|live tour|online tour|online viewing|360 tour)', expand=False)\n",
        "df4['contains_virtual'] = search_str.notna()"
      ]
    },
    {
      "cell_type": "code",
      "execution_count": 62,
      "metadata": {
        "colab": {
          "base_uri": "https://localhost:8080/"
        },
        "id": "iLoEGbYRUw-D",
        "outputId": "28ab855e-f1f9-41af-89db-35ec96c3aaa2"
      },
      "outputs": [
        {
          "output_type": "stream",
          "name": "stdout",
          "text": [
            "                                                                                                                                                                                                     description  \\\n",
            "13         Virtual Tour Or Video Avail.Call To Zoom Now! *** Circuit Breaker Sale*** -------------------------------------------------- -- To View - Call Elliott Lim (+65) 94310199  -----------------------...   \n",
            "225         Freehold, gorgeous full featured smart home To View - Call Elliott Lim (+65) 94310199  -------------------------------------------------- ☎  Looking for a full modern renovated unit to move in ...   \n",
            "275         A high return and low risk investment **Virtual Live Viewing is available!**  Undoubtedly the best buy along Bukit Timah! Buying at D21 price but enjoy the prime D10 location.  Some salient rea...   \n",
            "284         Essentially a 2bedroom at a superb price **Virtual Live Viewing is available!**  Buy a 2bedroom at a 1+study pricing. Call me to understand why choosing the right unit is so important. Undoubte...   \n",
            "323        TOP in 1 year time **Virtual Live Viewing is available!**  Brand New Undervalued Property. The Garden Residences  Why this 4bedroom + Study? - Take key and move in soon - Attractive price - Unbl...   \n",
            "...                                                                                                                                                                                                          ...   \n",
            "1081919     Unique 2-Bedroom Penthouse Kindly contact 9630 3817  6708 9360 for zoom meeting video viewing during circuit breaker period or appointment after circuit breaker.  在视讯咨询3D VR全景看房，请联络 9630 3817  ...   \n",
            "1081931     Spacious 3-Bedroom Unit Kindly contact 9630 3817  6708 9360 for zoom meeting video viewing during circuit breaker period or appointment after circuit breaker.  在线视讯咨询3D VR全景看房，请联络 9630 3817  67...   \n",
            "1081945     Luxurious 3-Bedroom Unit with Space Efficient Layout Kindly contact 9630 3817  6708 9360 for zoom meeting video viewing during circuit breaker period or appointment after circuit breaker.  在线视讯...   \n",
            "1081965     Premium 3-bedroom with private lift Kindly contact 9630 3817  6708 9360 for zoom meeting video viewing during circuit breaker period or appointment after circuit breaker.  在线视讯咨询3D VR全景看房，请联络 9...   \n",
            "1082113     Freehold, low quantum, near greater southern waterfront transformation 1 bedder for sale  sell vacant!  well maintained  quiet facing  good layout  apps me for a virtual 360 tour!  contact Luca...   \n",
            "\n",
            "         contains_virtual  \n",
            "13                   True  \n",
            "225                  True  \n",
            "275                  True  \n",
            "284                  True  \n",
            "323                  True  \n",
            "...                   ...  \n",
            "1081919              True  \n",
            "1081931              True  \n",
            "1081945              True  \n",
            "1081965              True  \n",
            "1082113              True  \n",
            "\n",
            "[4214 rows x 2 columns]\n"
          ]
        }
      ],
      "source": [
        "virtual_rows = df4[['description', 'contains_virtual']].loc[df4['contains_virtual'] == True]\n",
        "print(virtual_rows)"
      ]
    },
    {
      "cell_type": "code",
      "execution_count": 63,
      "metadata": {
        "colab": {
          "base_uri": "https://localhost:8080/"
        },
        "id": "NkvUTXokVwtC",
        "outputId": "08169685-d800-4181-d807-21e2d3617f64"
      },
      "outputs": [
        {
          "output_type": "execute_result",
          "data": {
            "text/plain": [
              "58170"
            ]
          },
          "metadata": {},
          "execution_count": 63
        }
      ],
      "source": [
        "len(df4)"
      ]
    },
    {
      "cell_type": "code",
      "execution_count": null,
      "metadata": {
        "colab": {
          "base_uri": "https://localhost:8080/"
        },
        "id": "0xEHTfH7WcAH",
        "outputId": "b54d1599-d967-43f0-9b48-34ef05c684da"
      },
      "outputs": [
        {
          "output_type": "execute_result",
          "data": {
            "text/plain": [
              "Condominium For Sale                  36623\n",
              "Apartment For Sale                     8479\n",
              "4A HDB For Sale                        7908\n",
              "5I HDB For Sale                        6964\n",
              "4NG (New Generation) HDB For Sale      2257\n",
              "EA (Exec Apartment) HDB For Sale       2018\n",
              "5A HDB For Sale                        1900\n",
              "3I (Improved) HDB For Sale             1874\n",
              "3NG (New Generation) HDB For Sale      1535\n",
              "3A HDB For Sale                        1530\n",
              "EM (Exec Maisonette) HDB For Sale      1520\n",
              "HDB Apartment For Sale                 1479\n",
              "Executive Condominium For Sale         1018\n",
              "4S (Simplified) HDB For Sale            959\n",
              "3NG (Modified) HDB For Sale             878\n",
              "Cluster House For Sale                  780\n",
              "4I (Improved) HDB For Sale              647\n",
              "5S HDB For Sale                         477\n",
              "3S (Simplified) HDB For Sale            414\n",
              "Jumbo HDB For Sale                      339\n",
              "3STD (Standard) HDB For Sale            318\n",
              "3A (Modified) HDB For Sale              281\n",
              "2A HDB For Sale                         248\n",
              "3I (Modified) HDB For Sale              202\n",
              "4STD (Standard) HDB For Sale            181\n",
              "2I (Improved) HDB For Sale              134\n",
              "Conservation House For Sale             133\n",
              "Walk-up For Sale                        131\n",
              "2S (Standard) HDB For Sale               72\n",
              "Town House For Sale                      60\n",
              "Shophouse For Sale                       51\n",
              "MG (Multi-Generation) HDB For Sale       50\n",
              "1-Room/Studio HDB For Sale               18\n",
              "Name: Type, dtype: int64"
            ]
          },
          "metadata": {},
          "execution_count": 57
        }
      ],
      "source": [
        "df4['Type'].value_counts()"
      ]
    },
    {
      "cell_type": "code",
      "source": [
        "df4.columns"
      ],
      "metadata": {
        "colab": {
          "base_uri": "https://localhost:8080/"
        },
        "id": "VvgHQHwB7aH0",
        "outputId": "88f57c32-71f4-4688-8325-dbf334dd1eb4"
      },
      "execution_count": null,
      "outputs": [
        {
          "output_type": "execute_result",
          "data": {
            "text/plain": [
              "Index(['C0', 'URL', 'agent.url', 'agent.agency', 'agent.phone_number', 'Type',\n",
              "       'Tenure', 'Floorsize', 'Developer', 'PSF', 'Furnishing', 'TOP', 'Floor',\n",
              "       'ListingID', 'Tenanted', 'Listed_on', 'properties.Type',\n",
              "       'properties.TOP', 'properties.Tenure', 'Total Unit(s)', 'description',\n",
              "       'address.street', 'address.postal_code', 'address.locality', 'latitude',\n",
              "       'longitude', 'rooms', 'bathrooms', 'floor_size', 'price', 'image_urls',\n",
              "       'created_at', 'images.url', 'images.path', 'images.checksum', 'num_img',\n",
              "       'Listed_on_num', 'Listed_on_day', 'days_past', 'date_created_at',\n",
              "       'listed_date', 'listed_year', 'HDB', 'Condo', 'Apartment',\n",
              "       'description_lower', 'contains_virtual'],\n",
              "      dtype='object')"
            ]
          },
          "metadata": {},
          "execution_count": 59
        }
      ]
    },
    {
      "cell_type": "code",
      "execution_count": 64,
      "metadata": {
        "id": "Y1Sh3-eVFB1M"
      },
      "outputs": [],
      "source": [
        "df4 = df4[['URL', 'agent.url', 'agent.agency', 'agent.phone_number', 'Type',\n",
        "       'Tenure', 'Floorsize', 'Developer', 'PSF', 'Furnishing', 'TOP', 'Floor',\n",
        "       'ListingID', 'Listed_on', 'properties.Tenure',\n",
        "       'Total Unit(s)','description', 'address.street',\n",
        "       'address.postal_code', 'address.locality', 'latitude', 'longitude',\n",
        "       'rooms', 'bathrooms', 'floor_size', 'price', 'image_urls', 'created_at',\n",
        "       'num_img', 'Listed_on_num', 'Listed_on_day', 'days_past',\n",
        "       'date_created_at', 'listed_date', 'listed_year', 'HDB', 'Condo',\n",
        "       'Apartment']]"
      ]
    },
    {
      "cell_type": "code",
      "execution_count": 65,
      "metadata": {
        "id": "2QPWH21XXd1T"
      },
      "outputs": [],
      "source": [
        "df4[df4['Condo'] == True].to_excel(\"/content/drive/MyDrive/PropertyGuru/Sale_preprocessed/Condo_Sale_Listings_20200929.xlsx\")\n",
        "df4[df4['HDB'] == True].to_excel(\"/content/drive/MyDrive/PropertyGuru/Sale_preprocessed/HDB_Sale_Listings_20200929.xlsx\")\n",
        "df4[df4['Apartment'] == True].to_excel(\"/content/drive/MyDrive/PropertyGuru/Sale_preprocessed/Apt_Sale_Listings_20200929.xlsx\")"
      ]
    },
    {
      "cell_type": "code",
      "execution_count": null,
      "metadata": {
        "id": "vsLtvFCm_QhB"
      },
      "outputs": [],
      "source": [
        "# filenames to preprocess\n",
        "# /content/drive/MyDrive/PropertyGuru/original/property_rent_data_20191028.csv\n",
        "# /content/drive/MyDrive/PropertyGuru/original/property_rent_data_20200929.csv\n",
        "# /content/drive/MyDrive/PropertyGuru/original/property_rent_data_20201102.csv\n",
        "# /content/drive/MyDrive/PropertyGuru/original/property_rent_data_20201204.csv\n",
        "# /content/drive/MyDrive/PropertyGuru/original/property_rent_data_20210114.csv\n",
        "# /content/drive/MyDrive/PropertyGuru/original/property_rent_data_20210221.csv\n",
        "# /content/drive/MyDrive/PropertyGuru/original/property_rent_data_20210326.csv\n",
        "# /content/drive/MyDrive/PropertyGuru/original/property_rent_data_20210329.csv\n",
        "# /content/drive/MyDrive/PropertyGuru/original/property_rent_data_20210527.csv\n",
        "# /content/drive/MyDrive/PropertyGuru/original/property_rent_data_20210719.csv\n",
        "# /content/drive/MyDrive/PropertyGuru/original/property_rent_data_20210907.csv"
      ]
    },
    {
      "cell_type": "markdown",
      "metadata": {
        "id": "Ahrw7v9VMx0B"
      },
      "source": [
        "## dataframe combining"
      ]
    },
    {
      "cell_type": "code",
      "execution_count": null,
      "metadata": {
        "colab": {
          "base_uri": "https://localhost:8080/"
        },
        "id": "9P1PhIguNSla",
        "outputId": "91126a19-b9ae-4925-ce31-a3fc67918a45"
      },
      "outputs": [
        {
          "name": "stdout",
          "output_type": "stream",
          "text": [
            "/content/drive/MyDrive/PropertyGuru/Rent_preprocessed_2/condo\n"
          ]
        }
      ],
      "source": [
        "# Move to directory we want to use: cd + path\n",
        "# 현재 경로 설정\n",
        "%cd /content/drive/MyDrive/PropertyGuru/Rent_preprocessed_2/condo"
      ]
    },
    {
      "cell_type": "code",
      "execution_count": null,
      "metadata": {
        "colab": {
          "base_uri": "https://localhost:8080/",
          "height": 17
        },
        "id": "BoZOg3iaM18j",
        "outputId": "93babc78-8c27-4e17-fb30-66a7fcc5129a"
      },
      "outputs": [
        {
          "data": {
            "text/html": [
              "<style type='text/css'>\n",
              ".datatable table.frame { margin-bottom: 0; }\n",
              ".datatable table.frame thead { border-bottom: none; }\n",
              ".datatable table.frame tr.coltypes td {  color: #FFFFFF;  line-height: 6px;  padding: 0 0.5em;}\n",
              ".datatable .bool    { background: #DDDD99; }\n",
              ".datatable .object  { background: #565656; }\n",
              ".datatable .int     { background: #5D9E5D; }\n",
              ".datatable .float   { background: #4040CC; }\n",
              ".datatable .str     { background: #CC4040; }\n",
              ".datatable .time    { background: #40CC40; }\n",
              ".datatable .row_index {  background: var(--jp-border-color3);  border-right: 1px solid var(--jp-border-color0);  color: var(--jp-ui-font-color3);  font-size: 9px;}\n",
              ".datatable .frame tbody td { text-align: left; }\n",
              ".datatable .frame tr.coltypes .row_index {  background: var(--jp-border-color0);}\n",
              ".datatable th:nth-child(2) { padding-left: 12px; }\n",
              ".datatable .hellipsis {  color: var(--jp-cell-editor-border-color);}\n",
              ".datatable .vellipsis {  background: var(--jp-layout-color0);  color: var(--jp-cell-editor-border-color);}\n",
              ".datatable .na {  color: var(--jp-cell-editor-border-color);  font-size: 80%;}\n",
              ".datatable .sp {  opacity: 0.25;}\n",
              ".datatable .footer { font-size: 9px; }\n",
              ".datatable .frame_dimensions {  background: var(--jp-border-color3);  border-top: 1px solid var(--jp-border-color0);  color: var(--jp-ui-font-color3);  display: inline-block;  opacity: 0.6;  padding: 1px 10px 1px 5px;}\n",
              "</style>\n"
            ],
            "text/plain": [
              "<IPython.core.display.HTML object>"
            ]
          },
          "metadata": {},
          "output_type": "display_data"
        }
      ],
      "source": [
        "#@title efficient data loading code\n",
        "import os\n",
        "import datatable as dt\n",
        "import pandas as pd\n",
        "\n",
        "filenames = os.listdir()\n",
        "dataframes = []\n",
        "\n",
        "for filename in filenames:\n",
        "    df = dt.fread(filename)\n",
        "    df = df.to_pandas()\n",
        "    dataframes.append(df)\n",
        "\n",
        "# 여러 데이터프레임 하나로 합치기 (위아래로 합치기)\n",
        "df_all = pd.concat(dataframes, axis=0)"
      ]
    },
    {
      "cell_type": "code",
      "execution_count": null,
      "metadata": {
        "colab": {
          "base_uri": "https://localhost:8080/"
        },
        "id": "IXPTPKvAON9k",
        "outputId": "605e8bde-3064-4ae0-c212-1814f8cc834a"
      },
      "outputs": [
        {
          "name": "stdout",
          "output_type": "stream",
          "text": [
            "<class 'pandas.core.frame.DataFrame'>\n",
            "Int64Index: 69732 entries, 0 to 12876\n",
            "Data columns (total 52 columns):\n",
            " #   Column                                  Non-Null Count  Dtype  \n",
            "---  ------                                  --------------  -----  \n",
            " 0   C0                                      69732 non-null  int32  \n",
            " 1   URL                                     69732 non-null  object \n",
            " 2   agent.url                               69732 non-null  object \n",
            " 3   agent.agency                            59471 non-null  object \n",
            " 4   agent.phone_number                      60814 non-null  object \n",
            " 5   Type                                    69732 non-null  object \n",
            " 6   Tenure                                  69732 non-null  object \n",
            " 7   Floorsize                               69732 non-null  object \n",
            " 8   Developer                               69732 non-null  object \n",
            " 9   PSF                                     69732 non-null  object \n",
            " 10  Furnishing                              69732 non-null  object \n",
            " 11  TOP                                     69732 non-null  object \n",
            " 12  Floor                                   69732 non-null  object \n",
            " 13  ListingID                               69732 non-null  int32  \n",
            " 14  listing_properties.Availability         59455 non-null  object \n",
            " 15  Listed_on                               69732 non-null  object \n",
            " 16  development_properties.Completion Year  50748 non-null  object \n",
            " 17  properties.Tenure                       66368 non-null  object \n",
            " 18  Total Unit(s)                           65314 non-null  float64\n",
            " 19  description                             69732 non-null  object \n",
            " 20  address.street                          67289 non-null  object \n",
            " 21  address.postal_code                     67830 non-null  float64\n",
            " 22  address.locality                        69732 non-null  object \n",
            " 23  latitude                                69732 non-null  float64\n",
            " 24  longitude                               69732 non-null  float64\n",
            " 25  rooms                                   69732 non-null  object \n",
            " 26  bathrooms                               69732 non-null  object \n",
            " 27  floor_size                              69732 non-null  int32  \n",
            " 28  price                                   69732 non-null  int32  \n",
            " 29  image_urls                              69573 non-null  object \n",
            " 30  created_at                              69732 non-null  object \n",
            " 31  num_img                                 59594 non-null  float64\n",
            " 32  Listed_on_num                           69732 non-null  object \n",
            " 33  Listed_on_day                           69732 non-null  int32  \n",
            " 34  days_past                               69732 non-null  int32  \n",
            " 35  date_created_at                         69732 non-null  object \n",
            " 36  listed_date                             69732 non-null  object \n",
            " 37  listed_year                             69732 non-null  int32  \n",
            " 38  HDB                                     69732 non-null  bool   \n",
            " 39  Condo                                   69732 non-null  bool   \n",
            " 40  Apartment                               69732 non-null  bool   \n",
            " 41  images.url                              37818 non-null  object \n",
            " 42  images.path                             37818 non-null  object \n",
            " 43  images.checksum                         37818 non-null  object \n",
            " 44  description_lower                       62014 non-null  object \n",
            " 45  contains_virtual                        62014 non-null  object \n",
            " 46  listing_properties.Electricity          1 non-null      object \n",
            " 47  amenities.24 hours security             14228 non-null  object \n",
            " 48  Tenanted                                1 non-null      object \n",
            " 49  listing_properties.Parking Spaces       1 non-null      object \n",
            " 50  properties.Type                         14740 non-null  object \n",
            " 51  properties.TOP                          14594 non-null  float64\n",
            "dtypes: bool(3), float64(6), int32(7), object(36)\n",
            "memory usage: 24.9+ MB\n"
          ]
        }
      ],
      "source": [
        "df_all.info()"
      ]
    },
    {
      "cell_type": "code",
      "execution_count": null,
      "metadata": {
        "colab": {
          "base_uri": "https://localhost:8080/"
        },
        "id": "j_zbvKBYO27H",
        "outputId": "4b4139ff-f2e9-4ea5-a540-29eccd120c55"
      },
      "outputs": [
        {
          "data": {
            "text/plain": [
              "Index(['C0', 'URL', 'agent.url', 'agent.agency', 'agent.phone_number', 'Type',\n",
              "       'Tenure', 'Floorsize', 'Developer', 'PSF', 'Furnishing', 'TOP', 'Floor',\n",
              "       'ListingID', 'listing_properties.Availability', 'Listed_on',\n",
              "       'development_properties.Completion Year', 'properties.Tenure',\n",
              "       'Total Unit(s)', 'description', 'address.street', 'address.postal_code',\n",
              "       'address.locality', 'latitude', 'longitude', 'rooms', 'bathrooms',\n",
              "       'floor_size', 'price', 'image_urls', 'created_at', 'num_img',\n",
              "       'Listed_on_num', 'Listed_on_day', 'days_past', 'date_created_at',\n",
              "       'listed_date', 'listed_year', 'HDB', 'Condo', 'Apartment', 'images.url',\n",
              "       'images.path', 'images.checksum', 'description_lower',\n",
              "       'contains_virtual', 'listing_properties.Electricity',\n",
              "       'amenities.24 hours security', 'Tenanted',\n",
              "       'listing_properties.Parking Spaces', 'properties.Type',\n",
              "       'properties.TOP'],\n",
              "      dtype='object')"
            ]
          },
          "execution_count": 4,
          "metadata": {},
          "output_type": "execute_result"
        }
      ],
      "source": [
        "df_all.columns"
      ]
    },
    {
      "cell_type": "code",
      "execution_count": null,
      "metadata": {
        "id": "ieZJuZOnOamN"
      },
      "outputs": [],
      "source": [
        "df_all.drop(columns = ['listing_properties.Electricity',\n",
        "       'amenities.24 hours security', 'Tenanted',\n",
        "       'listing_properties.Parking Spaces', 'properties.Type',\n",
        "       'properties.TOP' ], inplace = True)"
      ]
    },
    {
      "cell_type": "code",
      "execution_count": null,
      "metadata": {
        "colab": {
          "base_uri": "https://localhost:8080/"
        },
        "id": "Kh5aGuxbPHnF",
        "outputId": "15f38369-9c2c-4984-f5b7-080cd0deb491"
      },
      "outputs": [
        {
          "data": {
            "text/plain": [
              "Index(['C0', 'URL', 'agent.url', 'agent.agency', 'agent.phone_number', 'Type',\n",
              "       'Tenure', 'Floorsize', 'Developer', 'PSF', 'Furnishing', 'TOP', 'Floor',\n",
              "       'ListingID', 'listing_properties.Availability', 'Listed_on',\n",
              "       'development_properties.Completion Year', 'properties.Tenure',\n",
              "       'Total Unit(s)', 'description', 'address.street', 'address.postal_code',\n",
              "       'address.locality', 'latitude', 'longitude', 'rooms', 'bathrooms',\n",
              "       'floor_size', 'price', 'image_urls', 'created_at', 'num_img',\n",
              "       'Listed_on_num', 'Listed_on_day', 'days_past', 'date_created_at',\n",
              "       'listed_date', 'listed_year', 'HDB', 'Condo', 'Apartment', 'images.url',\n",
              "       'images.path', 'images.checksum', 'description_lower',\n",
              "       'contains_virtual'],\n",
              "      dtype='object')"
            ]
          },
          "execution_count": 9,
          "metadata": {},
          "output_type": "execute_result"
        }
      ],
      "source": [
        "df_all.columns"
      ]
    },
    {
      "cell_type": "code",
      "execution_count": null,
      "metadata": {
        "colab": {
          "base_uri": "https://localhost:8080/"
        },
        "id": "3J5Ewq1rPVlL",
        "outputId": "aaa86c37-b9e0-4463-b32f-9e9c2c71b209"
      },
      "outputs": [
        {
          "data": {
            "text/plain": [
              "Condominium For Rent              68801\n",
              "Executive Condominium For Rent      930\n",
              "Condominium For Sale                  1\n",
              "Name: Type, dtype: int64"
            ]
          },
          "execution_count": 10,
          "metadata": {},
          "output_type": "execute_result"
        }
      ],
      "source": [
        "df_all.Type.value_counts()"
      ]
    },
    {
      "cell_type": "code",
      "execution_count": null,
      "metadata": {
        "colab": {
          "base_uri": "https://localhost:8080/"
        },
        "id": "galGZPcfRPxp",
        "outputId": "d43f4f74-5dc4-4dcf-f5f3-31a764251b68"
      },
      "outputs": [
        {
          "data": {
            "text/plain": [
              "Condominium For Rent              68801\n",
              "Executive Condominium For Rent      930\n",
              "Name: Type, dtype: int64"
            ]
          },
          "execution_count": 11,
          "metadata": {},
          "output_type": "execute_result"
        }
      ],
      "source": [
        "# Condominium For Sale 행 제외\n",
        "# Create a Boolean mask indicating which rows have 'Type' == 'Sale'\n",
        "mask = df_all['Type'] == 'Condominium For Sale'\n",
        "\n",
        "# Use the mask to select only the rows that do not have 'Type' == 'Sale'\n",
        "df_all = df_all[~mask]\n",
        "df_all['Type'].value_counts()"
      ]
    },
    {
      "cell_type": "code",
      "execution_count": null,
      "metadata": {
        "id": "Q2Ue8uxcRkKJ"
      },
      "outputs": [],
      "source": [
        "df_all.to_excel(\"/content/drive/MyDrive/PropertyGuru/Rent_preprocessed_2/condo_executivecondo_included.xlsx\")"
      ]
    },
    {
      "cell_type": "code",
      "execution_count": null,
      "metadata": {
        "colab": {
          "base_uri": "https://localhost:8080/"
        },
        "id": "-OVcAuiXRtIY",
        "outputId": "137c3279-ca6d-4c0b-b697-0bd4fb343c8c"
      },
      "outputs": [
        {
          "data": {
            "text/plain": [
              "Condominium For Rent    68801\n",
              "Name: Type, dtype: int64"
            ]
          },
          "execution_count": 13,
          "metadata": {},
          "output_type": "execute_result"
        }
      ],
      "source": [
        "# Executive Condominium 제외\n",
        "# Create a Boolean mask indicating which rows have 'Type' == 'Sale'\n",
        "mask = df_all['Type'] == 'Executive Condominium For Rent'\n",
        "\n",
        "# Use the mask to select only the rows that do not have 'Type' == 'Sale'\n",
        "df_all = df_all[~mask]\n",
        "df_all['Type'].value_counts()"
      ]
    },
    {
      "cell_type": "code",
      "execution_count": null,
      "metadata": {
        "id": "tb-cAhPkSKBy"
      },
      "outputs": [],
      "source": [
        "df_all.to_excel(\"/content/drive/MyDrive/PropertyGuru/Rent_preprocessed_2/condominium_for_rent_only.xlsx\")"
      ]
    },
    {
      "cell_type": "markdown",
      "metadata": {
        "id": "nSGAUqK_XqTU"
      },
      "source": [
        "# 예전코드"
      ]
    },
    {
      "cell_type": "code",
      "execution_count": null,
      "metadata": {
        "cellView": "form",
        "id": "xTQ9N8xHrmO4"
      },
      "outputs": [],
      "source": [
        "#@title easy code\n",
        "\n",
        "filenames = os.listdir()\n",
        "\n",
        "df_1 = dt.fread(filenames[0])\n",
        "df_2 = dt.fread(filenames[1])\n",
        "df_3 = dt.fread(filenames[2])\n",
        "df_4 = dt.fread(filenames[3])\n",
        "df_5 = dt.fread(filenames[4])\n",
        "df_6 = dt.fread(filenames[5])\n",
        "df_7 = dt.fread(filenames[6])\n",
        "df_8 = dt.fread(filenames[7])\n",
        "df_9 = dt.fread(filenames[8])\n",
        "\n",
        "df_1 = df_1.to_pandas()\n",
        "df_2 = df_2.to_pandas()\n",
        "df_3 = df_3.to_pandas()\n",
        "df_4 = df_4.to_pandas()\n",
        "df_5 = df_5.to_pandas()\n",
        "df_6 = df_6.to_pandas()\n",
        "df_7 = df_7.to_pandas()\n",
        "df_8 = df_8.to_pandas()\n",
        "df_9 = df_9.to_pandas()\n",
        "\n",
        "df = pd.concat([df_1, df_2, df_3, df_4, df_5, df_6, df_7, df_8, df_9], axis = 0)"
      ]
    },
    {
      "cell_type": "code",
      "execution_count": null,
      "metadata": {
        "id": "8ZCSyHirz4zy"
      },
      "outputs": [],
      "source": []
    },
    {
      "cell_type": "code",
      "execution_count": null,
      "metadata": {
        "id": "LHr62rPA7YRj"
      },
      "outputs": [],
      "source": [
        "df_all.info()"
      ]
    },
    {
      "cell_type": "code",
      "execution_count": null,
      "metadata": {
        "colab": {
          "base_uri": "https://localhost:8080/"
        },
        "id": "wWzxcAv2ykR-",
        "outputId": "f90037f8-0b30-4db8-d73e-eb473e714e8a"
      },
      "outputs": [
        {
          "data": {
            "text/plain": [
              "Index(['Type', 'Tenure', 'Floorsize', 'Developer', 'PSF', 'Furnishing', 'TOP',\n",
              "       'Floor', 'ListingID', 'listing_properties.Availability', 'Listed_on',\n",
              "       'properties.Type', 'properties.TOP', 'properties.Tenure',\n",
              "       'properties.url', 'properties.name', 'Total Unit(s)',\n",
              "       'free_text_description', 'address.street', 'address.postal_code',\n",
              "       'address.locality', 'latitude', 'longitude', 'rooms', 'bathrooms',\n",
              "       'floor_size', 'price', 'created_at', 'description', 'Listed_on_num',\n",
              "       'Listed_on_day', 'days_past', 'date_created_at', 'listed_date',\n",
              "       'pandemic', 'listed_year', 'agent.name',\n",
              "       'development_properties.Completion Year', 'amenities.Barbeque Area',\n",
              "       'amenities.Gymnasium room', 'amenities.Swimming pool', 'listing_url',\n",
              "       'amenities.24 hours security', 'image_urls', 'contains_virtual', 'HDB',\n",
              "       'Condo', 'Apartment'],\n",
              "      dtype='object')"
            ]
          },
          "execution_count": 30,
          "metadata": {},
          "output_type": "execute_result"
        }
      ],
      "source": [
        "#@title 쓰지 않을 컬럼 drop\n",
        "df_all.drop(columns = 'C0', inplace = True)\n",
        "df_all.columns"
      ]
    },
    {
      "cell_type": "markdown",
      "metadata": {
        "id": "rsjrl-nm9RLk"
      },
      "source": [
        "### Keyword of Interest"
      ]
    },
    {
      "cell_type": "code",
      "execution_count": null,
      "metadata": {
        "colab": {
          "base_uri": "https://localhost:8080/"
        },
        "id": "nFmPmGqUGHsZ",
        "outputId": "be7ca3d6-3193-4884-f3fd-b59176389f3d"
      },
      "outputs": [
        {
          "data": {
            "text/plain": [
              "258699"
            ]
          },
          "execution_count": 32,
          "metadata": {},
          "output_type": "execute_result"
        }
      ],
      "source": [
        "len(df_all)"
      ]
    },
    {
      "cell_type": "code",
      "execution_count": null,
      "metadata": {
        "colab": {
          "base_uri": "https://localhost:8080/"
        },
        "id": "lHdunVrl_ayL",
        "outputId": "42a57fd4-5a61-4d0c-9379-bdcf1429edb2"
      },
      "outputs": [
        {
          "name": "stdout",
          "output_type": "stream",
          "text": [
            "0.7313518799840741\n"
          ]
        }
      ],
      "source": [
        "#@title virtual 뷰잉 가능 Rent 리스팅 비율\n",
        "percent_virtual = df_all['contains_virtual'].mean() * 100\n",
        "print(percent_virtual)"
      ]
    },
    {
      "cell_type": "code",
      "execution_count": null,
      "metadata": {
        "colab": {
          "base_uri": "https://localhost:8080/"
        },
        "id": "IHB1q5LGFYyJ",
        "outputId": "3d7da6eb-3442-49eb-a8c0-e48c19163b07"
      },
      "outputs": [
        {
          "data": {
            "text/plain": [
              "array(['3I (Improved) HDB For Rent', 'Condominium For Rent',\n",
              "       'HDB Apartment For Rent', '3A HDB For Rent',\n",
              "       '4NG (New Generation) HDB For Rent', 'Apartment For Rent',\n",
              "       '4A HDB For Rent', '5I HDB For Rent', '5A HDB For Rent',\n",
              "       'EM (Exec Maisonette) HDB For Rent',\n",
              "       '4S (Simplified) HDB For Rent', 'Executive Condominium For Rent',\n",
              "       '4STD (Standard) HDB For Rent', '1-Room/Studio HDB For Rent',\n",
              "       '3NG (New Generation) HDB For Rent',\n",
              "       'EA (Exec Apartment) HDB For Rent', '3S (Simplified) HDB For Rent',\n",
              "       '4I (Improved) HDB For Rent', '3I (Modified) HDB For Rent',\n",
              "       '3NG (Modified) HDB For Rent', 'Jumbo HDB For Rent',\n",
              "       '3A (Modified) HDB For Rent', '3STD (Standard) HDB For Rent',\n",
              "       '2I (Improved) HDB For Rent', '5S HDB For Rent', '2A HDB For Rent',\n",
              "       '2S (Standard) HDB For Rent', 'HDB For Rent',\n",
              "       '1-Room / Studio HDB For Rent',\n",
              "       'MG (Multi-Generation) HDB For Rent', 'HDB Flat For Rent',\n",
              "       'Condominium For Sale'], dtype=object)"
            ]
          },
          "execution_count": 35,
          "metadata": {},
          "output_type": "execute_result"
        }
      ],
      "source": [
        "df_all['Type'].unique()"
      ]
    },
    {
      "cell_type": "code",
      "execution_count": null,
      "metadata": {
        "colab": {
          "base_uri": "https://localhost:8080/"
        },
        "id": "m-Z-F26xF9Lz",
        "outputId": "406dbf7a-9998-47c8-efbd-bc897153305e"
      },
      "outputs": [
        {
          "data": {
            "text/plain": [
              "258699"
            ]
          },
          "execution_count": 36,
          "metadata": {},
          "output_type": "execute_result"
        }
      ],
      "source": [
        "len(df_all)"
      ]
    },
    {
      "cell_type": "code",
      "execution_count": null,
      "metadata": {
        "colab": {
          "base_uri": "https://localhost:8080/"
        },
        "id": "FQW5OybiF2TM",
        "outputId": "af62cd25-934f-4c3c-9ac5-e054b0c5645b"
      },
      "outputs": [
        {
          "data": {
            "text/plain": [
              "Condominium For Rent                  133760\n",
              "Apartment For Rent                     56206\n",
              "4A HDB For Rent                        21902\n",
              "5I HDB For Rent                        11474\n",
              "4NG (New Generation) HDB For Rent       4280\n",
              "Jumbo HDB For Rent                      4106\n",
              "3I (Improved) HDB For Rent              3596\n",
              "5A HDB For Rent                         3346\n",
              "3A HDB For Rent                         3060\n",
              "3NG (New Generation) HDB For Rent       2718\n",
              "HDB Apartment For Rent                  2026\n",
              "Executive Condominium For Rent          1618\n",
              "4I (Improved) HDB For Rent              1562\n",
              "3NG (Modified) HDB For Rent             1384\n",
              "EA (Exec Apartment) HDB For Rent        1240\n",
              "4S (Simplified) HDB For Rent            1180\n",
              "EM (Exec Maisonette) HDB For Rent        986\n",
              "4STD (Standard) HDB For Rent             700\n",
              "HDB For Rent                             576\n",
              "3A (Modified) HDB For Rent               538\n",
              "3S (Simplified) HDB For Rent             494\n",
              "3STD (Standard) HDB For Rent             436\n",
              "3I (Modified) HDB For Rent               412\n",
              "5S HDB For Rent                          342\n",
              "1-Room / Studio HDB For Rent             288\n",
              "2I (Improved) HDB For Rent               124\n",
              "HDB Flat For Rent                         98\n",
              "1-Room/Studio HDB For Rent                92\n",
              "2S (Standard) HDB For Rent                72\n",
              "2A HDB For Rent                           60\n",
              "MG (Multi-Generation) HDB For Rent        22\n",
              "Condominium For Sale                       1\n",
              "Name: Type, dtype: int64"
            ]
          },
          "execution_count": 37,
          "metadata": {},
          "output_type": "execute_result"
        }
      ],
      "source": [
        "df_all['Type'].value_counts()"
      ]
    },
    {
      "cell_type": "code",
      "execution_count": null,
      "metadata": {
        "colab": {
          "base_uri": "https://localhost:8080/"
        },
        "id": "yW-_pVZRGy3F",
        "outputId": "c63ca9b4-8e5a-47f1-c5c2-326fbcde8392"
      },
      "outputs": [
        {
          "data": {
            "text/plain": [
              "Condominium For Rent                  133760\n",
              "Apartment For Rent                     56206\n",
              "4A HDB For Rent                        21902\n",
              "5I HDB For Rent                        11474\n",
              "4NG (New Generation) HDB For Rent       4280\n",
              "Jumbo HDB For Rent                      4106\n",
              "3I (Improved) HDB For Rent              3596\n",
              "5A HDB For Rent                         3346\n",
              "3A HDB For Rent                         3060\n",
              "3NG (New Generation) HDB For Rent       2718\n",
              "HDB Apartment For Rent                  2026\n",
              "Executive Condominium For Rent          1618\n",
              "4I (Improved) HDB For Rent              1562\n",
              "3NG (Modified) HDB For Rent             1384\n",
              "EA (Exec Apartment) HDB For Rent        1240\n",
              "4S (Simplified) HDB For Rent            1180\n",
              "EM (Exec Maisonette) HDB For Rent        986\n",
              "4STD (Standard) HDB For Rent             700\n",
              "HDB For Rent                             576\n",
              "3A (Modified) HDB For Rent               538\n",
              "3S (Simplified) HDB For Rent             494\n",
              "3STD (Standard) HDB For Rent             436\n",
              "3I (Modified) HDB For Rent               412\n",
              "5S HDB For Rent                          342\n",
              "1-Room / Studio HDB For Rent             288\n",
              "2I (Improved) HDB For Rent               124\n",
              "HDB Flat For Rent                         98\n",
              "1-Room/Studio HDB For Rent                92\n",
              "2S (Standard) HDB For Rent                72\n",
              "2A HDB For Rent                           60\n",
              "MG (Multi-Generation) HDB For Rent        22\n",
              "Name: Type, dtype: int64"
            ]
          },
          "execution_count": 38,
          "metadata": {},
          "output_type": "execute_result"
        }
      ],
      "source": []
    },
    {
      "cell_type": "code",
      "execution_count": null,
      "metadata": {
        "id": "kp1Aye9CBvrd"
      },
      "outputs": [],
      "source": []
    },
    {
      "cell_type": "code",
      "execution_count": null,
      "metadata": {
        "colab": {
          "base_uri": "https://localhost:8080/",
          "height": 363
        },
        "id": "lrYb6EtsH9X-",
        "outputId": "110bc3ae-f07d-4e4a-f795-b0016446e5d2"
      },
      "outputs": [
        {
          "data": {
            "text/html": [
              "\n",
              "  <div id=\"df-e622b1ec-f7a5-49d4-871c-0216350a52e8\">\n",
              "    <div class=\"colab-df-container\">\n",
              "      <div>\n",
              "<style scoped>\n",
              "    .dataframe tbody tr th:only-of-type {\n",
              "        vertical-align: middle;\n",
              "    }\n",
              "\n",
              "    .dataframe tbody tr th {\n",
              "        vertical-align: top;\n",
              "    }\n",
              "\n",
              "    .dataframe thead th {\n",
              "        text-align: right;\n",
              "    }\n",
              "</style>\n",
              "<table border=\"1\" class=\"dataframe\">\n",
              "  <thead>\n",
              "    <tr style=\"text-align: right;\">\n",
              "      <th></th>\n",
              "      <th>Type</th>\n",
              "      <th>HDB</th>\n",
              "      <th>Condo</th>\n",
              "      <th>Apartment</th>\n",
              "    </tr>\n",
              "  </thead>\n",
              "  <tbody>\n",
              "    <tr>\n",
              "      <th>0</th>\n",
              "      <td>3I (Improved) HDB For Rent</td>\n",
              "      <td>True</td>\n",
              "      <td>False</td>\n",
              "      <td>False</td>\n",
              "    </tr>\n",
              "    <tr>\n",
              "      <th>1</th>\n",
              "      <td>Condominium For Rent</td>\n",
              "      <td>False</td>\n",
              "      <td>True</td>\n",
              "      <td>False</td>\n",
              "    </tr>\n",
              "    <tr>\n",
              "      <th>2</th>\n",
              "      <td>HDB Apartment For Rent</td>\n",
              "      <td>True</td>\n",
              "      <td>False</td>\n",
              "      <td>True</td>\n",
              "    </tr>\n",
              "    <tr>\n",
              "      <th>3</th>\n",
              "      <td>HDB Apartment For Rent</td>\n",
              "      <td>True</td>\n",
              "      <td>False</td>\n",
              "      <td>True</td>\n",
              "    </tr>\n",
              "    <tr>\n",
              "      <th>4</th>\n",
              "      <td>3A HDB For Rent</td>\n",
              "      <td>True</td>\n",
              "      <td>False</td>\n",
              "      <td>False</td>\n",
              "    </tr>\n",
              "    <tr>\n",
              "      <th>5</th>\n",
              "      <td>Condominium For Rent</td>\n",
              "      <td>False</td>\n",
              "      <td>True</td>\n",
              "      <td>False</td>\n",
              "    </tr>\n",
              "    <tr>\n",
              "      <th>6</th>\n",
              "      <td>HDB Apartment For Rent</td>\n",
              "      <td>True</td>\n",
              "      <td>False</td>\n",
              "      <td>True</td>\n",
              "    </tr>\n",
              "    <tr>\n",
              "      <th>7</th>\n",
              "      <td>HDB Apartment For Rent</td>\n",
              "      <td>True</td>\n",
              "      <td>False</td>\n",
              "      <td>True</td>\n",
              "    </tr>\n",
              "    <tr>\n",
              "      <th>8</th>\n",
              "      <td>Condominium For Rent</td>\n",
              "      <td>False</td>\n",
              "      <td>True</td>\n",
              "      <td>False</td>\n",
              "    </tr>\n",
              "    <tr>\n",
              "      <th>9</th>\n",
              "      <td>HDB Apartment For Rent</td>\n",
              "      <td>True</td>\n",
              "      <td>False</td>\n",
              "      <td>True</td>\n",
              "    </tr>\n",
              "  </tbody>\n",
              "</table>\n",
              "</div>\n",
              "      <button class=\"colab-df-convert\" onclick=\"convertToInteractive('df-e622b1ec-f7a5-49d4-871c-0216350a52e8')\"\n",
              "              title=\"Convert this dataframe to an interactive table.\"\n",
              "              style=\"display:none;\">\n",
              "        \n",
              "  <svg xmlns=\"http://www.w3.org/2000/svg\" height=\"24px\"viewBox=\"0 0 24 24\"\n",
              "       width=\"24px\">\n",
              "    <path d=\"M0 0h24v24H0V0z\" fill=\"none\"/>\n",
              "    <path d=\"M18.56 5.44l.94 2.06.94-2.06 2.06-.94-2.06-.94-.94-2.06-.94 2.06-2.06.94zm-11 1L8.5 8.5l.94-2.06 2.06-.94-2.06-.94L8.5 2.5l-.94 2.06-2.06.94zm10 10l.94 2.06.94-2.06 2.06-.94-2.06-.94-.94-2.06-.94 2.06-2.06.94z\"/><path d=\"M17.41 7.96l-1.37-1.37c-.4-.4-.92-.59-1.43-.59-.52 0-1.04.2-1.43.59L10.3 9.45l-7.72 7.72c-.78.78-.78 2.05 0 2.83L4 21.41c.39.39.9.59 1.41.59.51 0 1.02-.2 1.41-.59l7.78-7.78 2.81-2.81c.8-.78.8-2.07 0-2.86zM5.41 20L4 18.59l7.72-7.72 1.47 1.35L5.41 20z\"/>\n",
              "  </svg>\n",
              "      </button>\n",
              "      \n",
              "  <style>\n",
              "    .colab-df-container {\n",
              "      display:flex;\n",
              "      flex-wrap:wrap;\n",
              "      gap: 12px;\n",
              "    }\n",
              "\n",
              "    .colab-df-convert {\n",
              "      background-color: #E8F0FE;\n",
              "      border: none;\n",
              "      border-radius: 50%;\n",
              "      cursor: pointer;\n",
              "      display: none;\n",
              "      fill: #1967D2;\n",
              "      height: 32px;\n",
              "      padding: 0 0 0 0;\n",
              "      width: 32px;\n",
              "    }\n",
              "\n",
              "    .colab-df-convert:hover {\n",
              "      background-color: #E2EBFA;\n",
              "      box-shadow: 0px 1px 2px rgba(60, 64, 67, 0.3), 0px 1px 3px 1px rgba(60, 64, 67, 0.15);\n",
              "      fill: #174EA6;\n",
              "    }\n",
              "\n",
              "    [theme=dark] .colab-df-convert {\n",
              "      background-color: #3B4455;\n",
              "      fill: #D2E3FC;\n",
              "    }\n",
              "\n",
              "    [theme=dark] .colab-df-convert:hover {\n",
              "      background-color: #434B5C;\n",
              "      box-shadow: 0px 1px 3px 1px rgba(0, 0, 0, 0.15);\n",
              "      filter: drop-shadow(0px 1px 2px rgba(0, 0, 0, 0.3));\n",
              "      fill: #FFFFFF;\n",
              "    }\n",
              "  </style>\n",
              "\n",
              "      <script>\n",
              "        const buttonEl =\n",
              "          document.querySelector('#df-e622b1ec-f7a5-49d4-871c-0216350a52e8 button.colab-df-convert');\n",
              "        buttonEl.style.display =\n",
              "          google.colab.kernel.accessAllowed ? 'block' : 'none';\n",
              "\n",
              "        async function convertToInteractive(key) {\n",
              "          const element = document.querySelector('#df-e622b1ec-f7a5-49d4-871c-0216350a52e8');\n",
              "          const dataTable =\n",
              "            await google.colab.kernel.invokeFunction('convertToInteractive',\n",
              "                                                     [key], {});\n",
              "          if (!dataTable) return;\n",
              "\n",
              "          const docLinkHtml = 'Like what you see? Visit the ' +\n",
              "            '<a target=\"_blank\" href=https://colab.research.google.com/notebooks/data_table.ipynb>data table notebook</a>'\n",
              "            + ' to learn more about interactive tables.';\n",
              "          element.innerHTML = '';\n",
              "          dataTable['output_type'] = 'display_data';\n",
              "          await google.colab.output.renderOutput(dataTable, element);\n",
              "          const docLink = document.createElement('div');\n",
              "          docLink.innerHTML = docLinkHtml;\n",
              "          element.appendChild(docLink);\n",
              "        }\n",
              "      </script>\n",
              "    </div>\n",
              "  </div>\n",
              "  "
            ],
            "text/plain": [
              "                         Type    HDB  Condo  Apartment\n",
              "0  3I (Improved) HDB For Rent   True  False      False\n",
              "1        Condominium For Rent  False   True      False\n",
              "2      HDB Apartment For Rent   True  False       True\n",
              "3      HDB Apartment For Rent   True  False       True\n",
              "4             3A HDB For Rent   True  False      False\n",
              "5        Condominium For Rent  False   True      False\n",
              "6      HDB Apartment For Rent   True  False       True\n",
              "7      HDB Apartment For Rent   True  False       True\n",
              "8        Condominium For Rent  False   True      False\n",
              "9      HDB Apartment For Rent   True  False       True"
            ]
          },
          "execution_count": 40,
          "metadata": {},
          "output_type": "execute_result"
        }
      ],
      "source": [
        "# Type 구분 컬럼 생성\n",
        "df_all['HDB'] = df_all['Type'].str.contains('HDB')\n",
        "df_all['Condo'] = df_all['Type'].str.contains('Condo')\n",
        "df_all['Apartment'] = df_all['Type'].str.contains('Apartment For Rent')\n",
        "df_all[['Type','HDB', 'Condo', 'Apartment']].head(10)"
      ]
    },
    {
      "cell_type": "code",
      "execution_count": null,
      "metadata": {
        "colab": {
          "base_uri": "https://localhost:8080/"
        },
        "id": "t7VzaWTCBvqQ",
        "outputId": "8aed7134-2e08-4b11-8f7b-90b0d44d815e"
      },
      "outputs": [
        {
          "name": "stdout",
          "output_type": "stream",
          "text": [
            "0.1758202461483446\n"
          ]
        }
      ],
      "source": [
        "#@title HDB 렌트매물 중 Virtual 뷰잉 가능 리스팅 비율(%)\n",
        "mask_HDB = df_all['HDB'] == True\n",
        "percent_virtual_HDB = df_all[mask_HDB]['contains_virtual'].mean() * 100\n",
        "print(percent_virtual_HDB)"
      ]
    },
    {
      "cell_type": "code",
      "execution_count": null,
      "metadata": {
        "colab": {
          "base_uri": "https://localhost:8080/"
        },
        "id": "CN87t16vHzhn",
        "outputId": "5137a40f-b903-4d46-ee54-66c573352847"
      },
      "outputs": [
        {
          "name": "stdout",
          "output_type": "stream",
          "text": [
            "0.9514101257220523\n"
          ]
        }
      ],
      "source": [
        "#@title Condominium 렌트 매물 중 Virtual 뷰잉 가능 리스팅 비율(%)\n",
        "mask_Condo = df_all['Condo'] == True\n",
        "percent_virtual_condo = df_all[mask_Condo]['contains_virtual'].mean() * 100\n",
        "print(percent_virtual_condo)"
      ]
    },
    {
      "cell_type": "code",
      "execution_count": null,
      "metadata": {
        "colab": {
          "base_uri": "https://localhost:8080/"
        },
        "id": "DANE6nSxIqdR",
        "outputId": "2a749aca-2ab1-4e36-8077-67a7520f3ccd"
      },
      "outputs": [
        {
          "name": "stdout",
          "output_type": "stream",
          "text": [
            "0.8380272015386729\n"
          ]
        }
      ],
      "source": [
        "#@title Apartment 렌트 매물 중 Virtual 뷰잉 가능 리스팅 비율(%)\n",
        "mask_Apartment = df_all['Apartment'] == True\n",
        "percent_virtual_Apartment = df_all[mask_Apartment]['contains_virtual'].mean() * 100\n",
        "print(percent_virtual_Apartment)"
      ]
    },
    {
      "cell_type": "markdown",
      "metadata": {
        "id": "hKZFvH3aJHXE"
      },
      "source": [
        "HDB보다는 Condominium과 Apartment에서 월등히 Virtual 뷰잉을 허용하는 비율이 높음을 알 수 있다. "
      ]
    },
    {
      "cell_type": "code",
      "execution_count": null,
      "metadata": {
        "colab": {
          "base_uri": "https://localhost:8080/"
        },
        "id": "2u4hpGdJI2TS",
        "outputId": "e3b20600-5d40-4b79-c0e8-bf2ba16ab126"
      },
      "outputs": [
        {
          "name": "stdout",
          "output_type": "stream",
          "text": [
            "0.9173079902897576\n"
          ]
        }
      ],
      "source": [
        "#@title Condominium 또는 Apartment 렌트 매물 중에서 Virtual 뷰잉 가능 리스팅 비율(%)\n",
        "mask_condo_or_Apt = (df_all['Condo'] == True) | (df_all['Apartment'] == True)\n",
        "percent_virtual_condo_or_Apt = df_all[mask_condo_or_Apt]['contains_virtual'].mean()*100\n",
        "print(percent_virtual_condo_or_Apt)"
      ]
    },
    {
      "cell_type": "markdown",
      "metadata": {
        "id": "Y-Qh1Chjow-3"
      },
      "source": [
        "### Virtual Viewing이 코로나 이후 많아졌는가?"
      ]
    },
    {
      "cell_type": "code",
      "execution_count": null,
      "metadata": {
        "colab": {
          "base_uri": "https://localhost:8080/",
          "height": 508
        },
        "id": "806QriqUqoSv",
        "outputId": "7be299f4-0343-46a7-9cbd-24472a30bfe2"
      },
      "outputs": [
        {
          "data": {
            "text/html": [
              "\n",
              "  <div id=\"df-79d4e472-4555-494f-8218-0d48de136b43\">\n",
              "    <div class=\"colab-df-container\">\n",
              "      <div>\n",
              "<style scoped>\n",
              "    .dataframe tbody tr th:only-of-type {\n",
              "        vertical-align: middle;\n",
              "    }\n",
              "\n",
              "    .dataframe tbody tr th {\n",
              "        vertical-align: top;\n",
              "    }\n",
              "\n",
              "    .dataframe thead th {\n",
              "        text-align: right;\n",
              "    }\n",
              "</style>\n",
              "<table border=\"1\" class=\"dataframe\">\n",
              "  <thead>\n",
              "    <tr style=\"text-align: right;\">\n",
              "      <th></th>\n",
              "      <th>Type</th>\n",
              "      <th>Tenure</th>\n",
              "      <th>Floorsize</th>\n",
              "      <th>Developer</th>\n",
              "      <th>PSF</th>\n",
              "      <th>Furnishing</th>\n",
              "      <th>TOP</th>\n",
              "      <th>Floor</th>\n",
              "      <th>ListingID</th>\n",
              "      <th>listing_properties.Availability</th>\n",
              "      <th>...</th>\n",
              "      <th>amenities.Barbeque Area</th>\n",
              "      <th>amenities.Gymnasium room</th>\n",
              "      <th>amenities.Swimming pool</th>\n",
              "      <th>listing_url</th>\n",
              "      <th>amenities.24 hours security</th>\n",
              "      <th>image_urls</th>\n",
              "      <th>contains_virtual</th>\n",
              "      <th>HDB</th>\n",
              "      <th>Condo</th>\n",
              "      <th>Apartment</th>\n",
              "    </tr>\n",
              "  </thead>\n",
              "  <tbody>\n",
              "    <tr>\n",
              "      <th>0</th>\n",
              "      <td>3I (Improved) HDB For Rent</td>\n",
              "      <td>99-year Leasehold</td>\n",
              "      <td>107 sqft</td>\n",
              "      <td>Housing &amp; Development Board (HDB)</td>\n",
              "      <td>S$ 7.29 psf</td>\n",
              "      <td>Fully Furnished</td>\n",
              "      <td>1970.0</td>\n",
              "      <td>Middle Floor</td>\n",
              "      <td>22083659.0</td>\n",
              "      <td>22 Nov, 2019</td>\n",
              "      <td>...</td>\n",
              "      <td>NaN</td>\n",
              "      <td>NaN</td>\n",
              "      <td>NaN</td>\n",
              "      <td>NaN</td>\n",
              "      <td>NaN</td>\n",
              "      <td>NaN</td>\n",
              "      <td>False</td>\n",
              "      <td>True</td>\n",
              "      <td>False</td>\n",
              "      <td>False</td>\n",
              "    </tr>\n",
              "    <tr>\n",
              "      <th>1</th>\n",
              "      <td>Condominium For Rent</td>\n",
              "      <td>Freehold</td>\n",
              "      <td>1711 sqft</td>\n",
              "      <td>City Development Limited</td>\n",
              "      <td>S$ 2.10 psf</td>\n",
              "      <td>Partially Furnished</td>\n",
              "      <td>1997.0</td>\n",
              "      <td>Penthouse</td>\n",
              "      <td>21626289.0</td>\n",
              "      <td>29 Dec, 2019</td>\n",
              "      <td>...</td>\n",
              "      <td>NaN</td>\n",
              "      <td>NaN</td>\n",
              "      <td>NaN</td>\n",
              "      <td>NaN</td>\n",
              "      <td>NaN</td>\n",
              "      <td>NaN</td>\n",
              "      <td>False</td>\n",
              "      <td>False</td>\n",
              "      <td>True</td>\n",
              "      <td>False</td>\n",
              "    </tr>\n",
              "    <tr>\n",
              "      <th>2</th>\n",
              "      <td>HDB Apartment For Rent</td>\n",
              "      <td>99-year Leasehold</td>\n",
              "      <td>200 sqft</td>\n",
              "      <td>Housing &amp; Development Board (HDB)</td>\n",
              "      <td>S$ 3.50 psf</td>\n",
              "      <td></td>\n",
              "      <td>2003.0</td>\n",
              "      <td></td>\n",
              "      <td>22083657.0</td>\n",
              "      <td>Ready to move</td>\n",
              "      <td>...</td>\n",
              "      <td>NaN</td>\n",
              "      <td>NaN</td>\n",
              "      <td>NaN</td>\n",
              "      <td>NaN</td>\n",
              "      <td>NaN</td>\n",
              "      <td>NaN</td>\n",
              "      <td>False</td>\n",
              "      <td>True</td>\n",
              "      <td>False</td>\n",
              "      <td>True</td>\n",
              "    </tr>\n",
              "    <tr>\n",
              "      <th>3</th>\n",
              "      <td>HDB Apartment For Rent</td>\n",
              "      <td>99-year Leasehold</td>\n",
              "      <td>150 sqft</td>\n",
              "      <td>Housing &amp; Development Board (HDB)</td>\n",
              "      <td>S$ 5.33 psf</td>\n",
              "      <td></td>\n",
              "      <td>1979.0</td>\n",
              "      <td></td>\n",
              "      <td>22083655.0</td>\n",
              "      <td>Ready to move</td>\n",
              "      <td>...</td>\n",
              "      <td>NaN</td>\n",
              "      <td>NaN</td>\n",
              "      <td>NaN</td>\n",
              "      <td>NaN</td>\n",
              "      <td>NaN</td>\n",
              "      <td>NaN</td>\n",
              "      <td>False</td>\n",
              "      <td>True</td>\n",
              "      <td>False</td>\n",
              "      <td>True</td>\n",
              "    </tr>\n",
              "    <tr>\n",
              "      <th>4</th>\n",
              "      <td>3A HDB For Rent</td>\n",
              "      <td>99-year Leasehold</td>\n",
              "      <td>300 sqft</td>\n",
              "      <td>Housing &amp; Development Board (HDB)</td>\n",
              "      <td>S$ 1.17 psf</td>\n",
              "      <td>Fully Furnished</td>\n",
              "      <td>2017.0</td>\n",
              "      <td></td>\n",
              "      <td>22048081.0</td>\n",
              "      <td>Ready to move</td>\n",
              "      <td>...</td>\n",
              "      <td>NaN</td>\n",
              "      <td>NaN</td>\n",
              "      <td>NaN</td>\n",
              "      <td>NaN</td>\n",
              "      <td>NaN</td>\n",
              "      <td>NaN</td>\n",
              "      <td>False</td>\n",
              "      <td>True</td>\n",
              "      <td>False</td>\n",
              "      <td>False</td>\n",
              "    </tr>\n",
              "  </tbody>\n",
              "</table>\n",
              "<p>5 rows × 48 columns</p>\n",
              "</div>\n",
              "      <button class=\"colab-df-convert\" onclick=\"convertToInteractive('df-79d4e472-4555-494f-8218-0d48de136b43')\"\n",
              "              title=\"Convert this dataframe to an interactive table.\"\n",
              "              style=\"display:none;\">\n",
              "        \n",
              "  <svg xmlns=\"http://www.w3.org/2000/svg\" height=\"24px\"viewBox=\"0 0 24 24\"\n",
              "       width=\"24px\">\n",
              "    <path d=\"M0 0h24v24H0V0z\" fill=\"none\"/>\n",
              "    <path d=\"M18.56 5.44l.94 2.06.94-2.06 2.06-.94-2.06-.94-.94-2.06-.94 2.06-2.06.94zm-11 1L8.5 8.5l.94-2.06 2.06-.94-2.06-.94L8.5 2.5l-.94 2.06-2.06.94zm10 10l.94 2.06.94-2.06 2.06-.94-2.06-.94-.94-2.06-.94 2.06-2.06.94z\"/><path d=\"M17.41 7.96l-1.37-1.37c-.4-.4-.92-.59-1.43-.59-.52 0-1.04.2-1.43.59L10.3 9.45l-7.72 7.72c-.78.78-.78 2.05 0 2.83L4 21.41c.39.39.9.59 1.41.59.51 0 1.02-.2 1.41-.59l7.78-7.78 2.81-2.81c.8-.78.8-2.07 0-2.86zM5.41 20L4 18.59l7.72-7.72 1.47 1.35L5.41 20z\"/>\n",
              "  </svg>\n",
              "      </button>\n",
              "      \n",
              "  <style>\n",
              "    .colab-df-container {\n",
              "      display:flex;\n",
              "      flex-wrap:wrap;\n",
              "      gap: 12px;\n",
              "    }\n",
              "\n",
              "    .colab-df-convert {\n",
              "      background-color: #E8F0FE;\n",
              "      border: none;\n",
              "      border-radius: 50%;\n",
              "      cursor: pointer;\n",
              "      display: none;\n",
              "      fill: #1967D2;\n",
              "      height: 32px;\n",
              "      padding: 0 0 0 0;\n",
              "      width: 32px;\n",
              "    }\n",
              "\n",
              "    .colab-df-convert:hover {\n",
              "      background-color: #E2EBFA;\n",
              "      box-shadow: 0px 1px 2px rgba(60, 64, 67, 0.3), 0px 1px 3px 1px rgba(60, 64, 67, 0.15);\n",
              "      fill: #174EA6;\n",
              "    }\n",
              "\n",
              "    [theme=dark] .colab-df-convert {\n",
              "      background-color: #3B4455;\n",
              "      fill: #D2E3FC;\n",
              "    }\n",
              "\n",
              "    [theme=dark] .colab-df-convert:hover {\n",
              "      background-color: #434B5C;\n",
              "      box-shadow: 0px 1px 3px 1px rgba(0, 0, 0, 0.15);\n",
              "      filter: drop-shadow(0px 1px 2px rgba(0, 0, 0, 0.3));\n",
              "      fill: #FFFFFF;\n",
              "    }\n",
              "  </style>\n",
              "\n",
              "      <script>\n",
              "        const buttonEl =\n",
              "          document.querySelector('#df-79d4e472-4555-494f-8218-0d48de136b43 button.colab-df-convert');\n",
              "        buttonEl.style.display =\n",
              "          google.colab.kernel.accessAllowed ? 'block' : 'none';\n",
              "\n",
              "        async function convertToInteractive(key) {\n",
              "          const element = document.querySelector('#df-79d4e472-4555-494f-8218-0d48de136b43');\n",
              "          const dataTable =\n",
              "            await google.colab.kernel.invokeFunction('convertToInteractive',\n",
              "                                                     [key], {});\n",
              "          if (!dataTable) return;\n",
              "\n",
              "          const docLinkHtml = 'Like what you see? Visit the ' +\n",
              "            '<a target=\"_blank\" href=https://colab.research.google.com/notebooks/data_table.ipynb>data table notebook</a>'\n",
              "            + ' to learn more about interactive tables.';\n",
              "          element.innerHTML = '';\n",
              "          dataTable['output_type'] = 'display_data';\n",
              "          await google.colab.output.renderOutput(dataTable, element);\n",
              "          const docLink = document.createElement('div');\n",
              "          docLink.innerHTML = docLinkHtml;\n",
              "          element.appendChild(docLink);\n",
              "        }\n",
              "      </script>\n",
              "    </div>\n",
              "  </div>\n",
              "  "
            ],
            "text/plain": [
              "                         Type             Tenure  Floorsize  \\\n",
              "0  3I (Improved) HDB For Rent  99-year Leasehold   107 sqft   \n",
              "1        Condominium For Rent           Freehold  1711 sqft   \n",
              "2      HDB Apartment For Rent  99-year Leasehold   200 sqft   \n",
              "3      HDB Apartment For Rent  99-year Leasehold   150 sqft   \n",
              "4             3A HDB For Rent  99-year Leasehold   300 sqft   \n",
              "\n",
              "                           Developer          PSF           Furnishing  \\\n",
              "0  Housing & Development Board (HDB)  S$ 7.29 psf      Fully Furnished   \n",
              "1           City Development Limited  S$ 2.10 psf  Partially Furnished   \n",
              "2  Housing & Development Board (HDB)  S$ 3.50 psf                        \n",
              "3  Housing & Development Board (HDB)  S$ 5.33 psf                        \n",
              "4  Housing & Development Board (HDB)  S$ 1.17 psf      Fully Furnished   \n",
              "\n",
              "      TOP         Floor   ListingID listing_properties.Availability  ...  \\\n",
              "0  1970.0  Middle Floor  22083659.0                    22 Nov, 2019  ...   \n",
              "1  1997.0     Penthouse  21626289.0                    29 Dec, 2019  ...   \n",
              "2  2003.0                22083657.0                   Ready to move  ...   \n",
              "3  1979.0                22083655.0                   Ready to move  ...   \n",
              "4  2017.0                22048081.0                   Ready to move  ...   \n",
              "\n",
              "  amenities.Barbeque Area amenities.Gymnasium room  amenities.Swimming pool  \\\n",
              "0                     NaN                      NaN                      NaN   \n",
              "1                     NaN                      NaN                      NaN   \n",
              "2                     NaN                      NaN                      NaN   \n",
              "3                     NaN                      NaN                      NaN   \n",
              "4                     NaN                      NaN                      NaN   \n",
              "\n",
              "  listing_url amenities.24 hours security image_urls  contains_virtual    HDB  \\\n",
              "0         NaN                         NaN        NaN             False   True   \n",
              "1         NaN                         NaN        NaN             False  False   \n",
              "2         NaN                         NaN        NaN             False   True   \n",
              "3         NaN                         NaN        NaN             False   True   \n",
              "4         NaN                         NaN        NaN             False   True   \n",
              "\n",
              "   Condo  Apartment  \n",
              "0  False      False  \n",
              "1   True      False  \n",
              "2  False       True  \n",
              "3  False       True  \n",
              "4  False      False  \n",
              "\n",
              "[5 rows x 48 columns]"
            ]
          },
          "execution_count": 46,
          "metadata": {},
          "output_type": "execute_result"
        }
      ],
      "source": [
        "df_all.head(5)"
      ]
    },
    {
      "cell_type": "code",
      "execution_count": null,
      "metadata": {
        "colab": {
          "base_uri": "https://localhost:8080/"
        },
        "id": "_5--Y1g9rGZ2",
        "outputId": "4b9fdb98-8f10-45d2-8f91-7645f5f4d3e3"
      },
      "outputs": [
        {
          "data": {
            "text/plain": [
              "Index(['Type', 'Tenure', 'Floorsize', 'Developer', 'PSF', 'Furnishing', 'TOP',\n",
              "       'Floor', 'ListingID', 'listing_properties.Availability', 'Listed_on',\n",
              "       'properties.Type', 'properties.TOP', 'properties.Tenure',\n",
              "       'properties.url', 'properties.name', 'Total Unit(s)',\n",
              "       'free_text_description', 'address.street', 'address.postal_code',\n",
              "       'address.locality', 'latitude', 'longitude', 'rooms', 'bathrooms',\n",
              "       'floor_size', 'price', 'created_at', 'description', 'Listed_on_num',\n",
              "       'Listed_on_day', 'days_past', 'date_created_at', 'listed_date',\n",
              "       'pandemic', 'listed_year', 'agent.name',\n",
              "       'development_properties.Completion Year', 'amenities.Barbeque Area',\n",
              "       'amenities.Gymnasium room', 'amenities.Swimming pool', 'listing_url',\n",
              "       'amenities.24 hours security', 'image_urls', 'contains_virtual', 'HDB',\n",
              "       'Condo', 'Apartment'],\n",
              "      dtype='object')"
            ]
          },
          "execution_count": 47,
          "metadata": {},
          "output_type": "execute_result"
        }
      ],
      "source": [
        "df_all.columns"
      ]
    },
    {
      "cell_type": "code",
      "execution_count": null,
      "metadata": {
        "colab": {
          "base_uri": "https://localhost:8080/"
        },
        "id": "hQGmDUtUrcd1",
        "outputId": "c9c31c58-9f91-4359-b778-6173da8d237c"
      },
      "outputs": [
        {
          "data": {
            "text/plain": [
              "2020    106890\n",
              "2019     79618\n",
              "2021     72190\n",
              "Name: listed_year, dtype: int64"
            ]
          },
          "execution_count": 66,
          "metadata": {},
          "output_type": "execute_result"
        }
      ],
      "source": [
        "df_all['listed_year'].value_counts()"
      ]
    },
    {
      "cell_type": "code",
      "execution_count": null,
      "metadata": {
        "colab": {
          "base_uri": "https://localhost:8080/",
          "height": 320
        },
        "id": "NsYVSwhvrm11",
        "outputId": "9bfb5930-289a-40f1-b869-0cecd62bac81"
      },
      "outputs": [
        {
          "data": {
            "text/html": [
              "\n",
              "  <div id=\"df-2339c3e4-588b-4728-91f1-9bd44e283825\">\n",
              "    <div class=\"colab-df-container\">\n",
              "      <div>\n",
              "<style scoped>\n",
              "    .dataframe tbody tr th:only-of-type {\n",
              "        vertical-align: middle;\n",
              "    }\n",
              "\n",
              "    .dataframe tbody tr th {\n",
              "        vertical-align: top;\n",
              "    }\n",
              "\n",
              "    .dataframe thead th {\n",
              "        text-align: right;\n",
              "    }\n",
              "</style>\n",
              "<table border=\"1\" class=\"dataframe\">\n",
              "  <thead>\n",
              "    <tr style=\"text-align: right;\">\n",
              "      <th></th>\n",
              "      <th>listed_year</th>\n",
              "      <th>description</th>\n",
              "      <th>properties.Type</th>\n",
              "    </tr>\n",
              "  </thead>\n",
              "  <tbody>\n",
              "    <tr>\n",
              "      <th>0</th>\n",
              "      <td>2019</td>\n",
              "      <td>Renovated &amp; Clean Room. No owner. * Renovated and clean unit * Private as a corner unit * Air-con and furnished * Free WIFI * No landlord * No cooking * No restriction to the use of common items...</td>\n",
              "      <td>HDB Apartment</td>\n",
              "    </tr>\n",
              "    <tr>\n",
              "      <th>1</th>\n",
              "      <td>2019</td>\n",
              "      <td>View to believe. You'd be willing to pay more than the asking price! ** New Listing **  Just renovated kitchen 1 year ago!  Huge master bedroom!  Unblocked view!  City &amp; greenery view (view of the...</td>\n",
              "      <td>Condominium</td>\n",
              "    </tr>\n",
              "    <tr>\n",
              "      <th>2</th>\n",
              "      <td>2019</td>\n",
              "      <td>Near to many shops Master Room @ Punggol Dr BLK 637B!Cooking allowed! 5-room unit Staying with indian couple only! Friendly landlord Well-maintained room aircon($50/mth) Wifi available Cooking all...</td>\n",
              "      <td>HDB Apartment</td>\n",
              "    </tr>\n",
              "    <tr>\n",
              "      <th>3</th>\n",
              "      <td>2019</td>\n",
              "      <td>Near to many shops 2 x Common Room @ West Coast Road BLK 703! Single female owner 4-room unit Staying with local chinese landlady Friendly landlord Well-maintained room aircon Wifi available no co...</td>\n",
              "      <td>HDB Apartment</td>\n",
              "    </tr>\n",
              "    <tr>\n",
              "      <th>4</th>\n",
              "      <td>2019</td>\n",
              "      <td>Brand New Common Room Rent Brand New Common Room Near Punggol MRT / Sengakang Hospital  ~ Fully Furnished + Aircon + Fan ~ Spacioushi  Room ~ Wifi Available ~ Newly Painted and Renovated House ~ O...</td>\n",
              "      <td>HDB Apartment</td>\n",
              "    </tr>\n",
              "  </tbody>\n",
              "</table>\n",
              "</div>\n",
              "      <button class=\"colab-df-convert\" onclick=\"convertToInteractive('df-2339c3e4-588b-4728-91f1-9bd44e283825')\"\n",
              "              title=\"Convert this dataframe to an interactive table.\"\n",
              "              style=\"display:none;\">\n",
              "        \n",
              "  <svg xmlns=\"http://www.w3.org/2000/svg\" height=\"24px\"viewBox=\"0 0 24 24\"\n",
              "       width=\"24px\">\n",
              "    <path d=\"M0 0h24v24H0V0z\" fill=\"none\"/>\n",
              "    <path d=\"M18.56 5.44l.94 2.06.94-2.06 2.06-.94-2.06-.94-.94-2.06-.94 2.06-2.06.94zm-11 1L8.5 8.5l.94-2.06 2.06-.94-2.06-.94L8.5 2.5l-.94 2.06-2.06.94zm10 10l.94 2.06.94-2.06 2.06-.94-2.06-.94-.94-2.06-.94 2.06-2.06.94z\"/><path d=\"M17.41 7.96l-1.37-1.37c-.4-.4-.92-.59-1.43-.59-.52 0-1.04.2-1.43.59L10.3 9.45l-7.72 7.72c-.78.78-.78 2.05 0 2.83L4 21.41c.39.39.9.59 1.41.59.51 0 1.02-.2 1.41-.59l7.78-7.78 2.81-2.81c.8-.78.8-2.07 0-2.86zM5.41 20L4 18.59l7.72-7.72 1.47 1.35L5.41 20z\"/>\n",
              "  </svg>\n",
              "      </button>\n",
              "      \n",
              "  <style>\n",
              "    .colab-df-container {\n",
              "      display:flex;\n",
              "      flex-wrap:wrap;\n",
              "      gap: 12px;\n",
              "    }\n",
              "\n",
              "    .colab-df-convert {\n",
              "      background-color: #E8F0FE;\n",
              "      border: none;\n",
              "      border-radius: 50%;\n",
              "      cursor: pointer;\n",
              "      display: none;\n",
              "      fill: #1967D2;\n",
              "      height: 32px;\n",
              "      padding: 0 0 0 0;\n",
              "      width: 32px;\n",
              "    }\n",
              "\n",
              "    .colab-df-convert:hover {\n",
              "      background-color: #E2EBFA;\n",
              "      box-shadow: 0px 1px 2px rgba(60, 64, 67, 0.3), 0px 1px 3px 1px rgba(60, 64, 67, 0.15);\n",
              "      fill: #174EA6;\n",
              "    }\n",
              "\n",
              "    [theme=dark] .colab-df-convert {\n",
              "      background-color: #3B4455;\n",
              "      fill: #D2E3FC;\n",
              "    }\n",
              "\n",
              "    [theme=dark] .colab-df-convert:hover {\n",
              "      background-color: #434B5C;\n",
              "      box-shadow: 0px 1px 3px 1px rgba(0, 0, 0, 0.15);\n",
              "      filter: drop-shadow(0px 1px 2px rgba(0, 0, 0, 0.3));\n",
              "      fill: #FFFFFF;\n",
              "    }\n",
              "  </style>\n",
              "\n",
              "      <script>\n",
              "        const buttonEl =\n",
              "          document.querySelector('#df-2339c3e4-588b-4728-91f1-9bd44e283825 button.colab-df-convert');\n",
              "        buttonEl.style.display =\n",
              "          google.colab.kernel.accessAllowed ? 'block' : 'none';\n",
              "\n",
              "        async function convertToInteractive(key) {\n",
              "          const element = document.querySelector('#df-2339c3e4-588b-4728-91f1-9bd44e283825');\n",
              "          const dataTable =\n",
              "            await google.colab.kernel.invokeFunction('convertToInteractive',\n",
              "                                                     [key], {});\n",
              "          if (!dataTable) return;\n",
              "\n",
              "          const docLinkHtml = 'Like what you see? Visit the ' +\n",
              "            '<a target=\"_blank\" href=https://colab.research.google.com/notebooks/data_table.ipynb>data table notebook</a>'\n",
              "            + ' to learn more about interactive tables.';\n",
              "          element.innerHTML = '';\n",
              "          dataTable['output_type'] = 'display_data';\n",
              "          await google.colab.output.renderOutput(dataTable, element);\n",
              "          const docLink = document.createElement('div');\n",
              "          docLink.innerHTML = docLinkHtml;\n",
              "          element.appendChild(docLink);\n",
              "        }\n",
              "      </script>\n",
              "    </div>\n",
              "  </div>\n",
              "  "
            ],
            "text/plain": [
              "   listed_year  \\\n",
              "0         2019   \n",
              "1         2019   \n",
              "2         2019   \n",
              "3         2019   \n",
              "4         2019   \n",
              "\n",
              "                                                                                                                                                                                               description  \\\n",
              "0    Renovated & Clean Room. No owner. * Renovated and clean unit * Private as a corner unit * Air-con and furnished * Free WIFI * No landlord * No cooking * No restriction to the use of common items...   \n",
              "1  View to believe. You'd be willing to pay more than the asking price! ** New Listing **  Just renovated kitchen 1 year ago!  Huge master bedroom!  Unblocked view!  City & greenery view (view of the...   \n",
              "2  Near to many shops Master Room @ Punggol Dr BLK 637B!Cooking allowed! 5-room unit Staying with indian couple only! Friendly landlord Well-maintained room aircon($50/mth) Wifi available Cooking all...   \n",
              "3  Near to many shops 2 x Common Room @ West Coast Road BLK 703! Single female owner 4-room unit Staying with local chinese landlady Friendly landlord Well-maintained room aircon Wifi available no co...   \n",
              "4  Brand New Common Room Rent Brand New Common Room Near Punggol MRT / Sengakang Hospital  ~ Fully Furnished + Aircon + Fan ~ Spacioushi  Room ~ Wifi Available ~ Newly Painted and Renovated House ~ O...   \n",
              "\n",
              "  properties.Type  \n",
              "0   HDB Apartment  \n",
              "1     Condominium  \n",
              "2   HDB Apartment  \n",
              "3   HDB Apartment  \n",
              "4   HDB Apartment  "
            ]
          },
          "execution_count": 49,
          "metadata": {},
          "output_type": "execute_result"
        }
      ],
      "source": [
        "df_all[['listed_year', 'description', 'properties.Type']].head()"
      ]
    },
    {
      "cell_type": "code",
      "execution_count": null,
      "metadata": {
        "id": "apRGDxJVsXob"
      },
      "outputs": [],
      "source": []
    },
    {
      "cell_type": "code",
      "execution_count": null,
      "metadata": {
        "id": "JYgHwImlo4eH"
      },
      "outputs": [],
      "source": [
        "# 유형별, 연도별 contains_virtual 평균 나타내기"
      ]
    },
    {
      "cell_type": "code",
      "execution_count": null,
      "metadata": {
        "colab": {
          "base_uri": "https://localhost:8080/"
        },
        "id": "TBHhXUczpIh0",
        "outputId": "43884ee9-8b38-41ce-a598-339f2ba07fba"
      },
      "outputs": [
        {
          "data": {
            "text/plain": [
              "33800"
            ]
          },
          "execution_count": 57,
          "metadata": {},
          "output_type": "execute_result"
        }
      ],
      "source": [
        "mask_condo_2019 = (df_all['Condo'] == True)&(df_all['listed_year'] == 2019)\n",
        "len(df_all[mask_condo_2019])"
      ]
    },
    {
      "cell_type": "code",
      "execution_count": null,
      "metadata": {
        "colab": {
          "base_uri": "https://localhost:8080/"
        },
        "id": "N9bmUUF2zgaj",
        "outputId": "063141dd-408a-4e56-f5bf-d0d74aa2477a"
      },
      "outputs": [
        {
          "data": {
            "text/plain": [
              "62160"
            ]
          },
          "execution_count": 58,
          "metadata": {},
          "output_type": "execute_result"
        }
      ],
      "source": [
        "mask_condo_2020 = (df_all['Condo'] == True)&(df_all['listed_year'] == 2020)\n",
        "len(df_all[mask_condo_2020])"
      ]
    },
    {
      "cell_type": "code",
      "execution_count": null,
      "metadata": {
        "colab": {
          "base_uri": "https://localhost:8080/"
        },
        "id": "1WDTp0-SzmI4",
        "outputId": "48605670-bd49-4888-dc58-174c51a95354"
      },
      "outputs": [
        {
          "data": {
            "text/plain": [
              "39418"
            ]
          },
          "execution_count": 59,
          "metadata": {},
          "output_type": "execute_result"
        }
      ],
      "source": [
        "mask_condo_2021 = (df_all['Condo'] == True)&(df_all['listed_year'] == 2021)\n",
        "len(df_all[mask_condo_2021])"
      ]
    },
    {
      "cell_type": "code",
      "execution_count": null,
      "metadata": {
        "colab": {
          "base_uri": "https://localhost:8080/"
        },
        "id": "RdUF_rZjzr2U",
        "outputId": "ffc24f3a-1968-4fa4-8132-4a310e1a756f"
      },
      "outputs": [
        {
          "name": "stdout",
          "output_type": "stream",
          "text": [
            "30646 20482 15986\n"
          ]
        }
      ],
      "source": [
        "mask_hdb_2019 = (df_all['HDB'] == True)&(df_all['listed_year']==2019)\n",
        "mask_hdb_2020 = (df_all['HDB'] == True)&(df_all['listed_year']==2020)\n",
        "mask_hdb_2021 = (df_all['HDB'] == True)&(df_all['listed_year']==2021)\n",
        "print(len(df_all[mask_hdb_2019]), len(df_all[mask_hdb_2020]), len(df_all[mask_hdb_2021]))"
      ]
    },
    {
      "cell_type": "code",
      "execution_count": null,
      "metadata": {
        "colab": {
          "base_uri": "https://localhost:8080/"
        },
        "id": "sYdxcVES0hvY",
        "outputId": "0f1a7fd3-9d95-4f08-a18a-0841465b5b2e"
      },
      "outputs": [
        {
          "name": "stdout",
          "output_type": "stream",
          "text": [
            "17198 24248 16786\n"
          ]
        }
      ],
      "source": [
        "mask_apt_2019 = (df_all['Apartment'] == True)&(df_all['listed_year']==2019)\n",
        "mask_apt_2020 = (df_all['Apartment'] == True)&(df_all['listed_year']==2020)\n",
        "mask_apt_2021 = (df_all['Apartment'] == True)&(df_all['listed_year']==2021)\n",
        "print(len(df_all[mask_apt_2019]), len(df_all[mask_apt_2020]), len(df_all[mask_apt_2021]))"
      ]
    },
    {
      "cell_type": "code",
      "execution_count": null,
      "metadata": {
        "colab": {
          "base_uri": "https://localhost:8080/"
        },
        "id": "_mtriCvf0htY",
        "outputId": "7cc2d7f7-635c-45ac-dbe5-172c56dc0f38"
      },
      "outputs": [
        {
          "data": {
            "text/plain": [
              "2026"
            ]
          },
          "execution_count": 69,
          "metadata": {},
          "output_type": "execute_result"
        }
      ],
      "source": [
        "# 2019년 유형별 합계가 2019년 리스팅 갯수랑 안맞아서 확인\n",
        "mask_apt_hdb = (df_all['Apartment']==True)&(df_all['HDB']==True)\n",
        "len(df_all[mask_apt_hdb])"
      ]
    },
    {
      "cell_type": "code",
      "execution_count": null,
      "metadata": {
        "id": "Rt89sKuL1t2U"
      },
      "outputs": [],
      "source": [
        "# hdb apartment 타입인 경우 apartment 컬럼을 False로 변경\n",
        "df_all.loc[mask_apt_hdb, 'Apartment'] = False"
      ]
    },
    {
      "cell_type": "code",
      "execution_count": null,
      "metadata": {
        "colab": {
          "base_uri": "https://localhost:8080/"
        },
        "id": "uNQ5Q9Fg4ccH",
        "outputId": "bee59c61-ea3a-43df-f993-0258630fd7d9"
      },
      "outputs": [
        {
          "name": "stdout",
          "output_type": "stream",
          "text": [
            "15172 24248 16786\n"
          ]
        }
      ],
      "source": [
        "mask_apt_2019 = (df_all['Apartment'] == True)&(df_all['listed_year']==2019)\n",
        "mask_apt_2020 = (df_all['Apartment'] == True)&(df_all['listed_year']==2020)\n",
        "mask_apt_2021 = (df_all['Apartment'] == True)&(df_all['listed_year']==2021)\n",
        "print(len(df_all[mask_apt_2019]), len(df_all[mask_apt_2020]), len(df_all[mask_apt_2021]))"
      ]
    },
    {
      "cell_type": "code",
      "execution_count": null,
      "metadata": {
        "id": "wuW5n8roP7mo"
      },
      "outputs": [],
      "source": []
    },
    {
      "cell_type": "markdown",
      "metadata": {
        "id": "_eIn10jvOrlU"
      },
      "source": [
        "### condo listing 내보내기"
      ]
    },
    {
      "cell_type": "code",
      "execution_count": null,
      "metadata": {
        "id": "2Sk80xtxWxnN"
      },
      "outputs": [],
      "source": []
    },
    {
      "cell_type": "code",
      "execution_count": null,
      "metadata": {
        "id": "GAqnUEKl51Vf"
      },
      "outputs": [],
      "source": [
        "# 콘도 데이터\n",
        "df_all[df_all['Condo']==True].to_excel(\"/content/drive/MyDrive/PropertyGuru/Rent_preprocessed_1/Condo_Rent_Listings.xlsx\")"
      ]
    },
    {
      "cell_type": "code",
      "execution_count": null,
      "metadata": {
        "id": "9DoP4pqtBdhK"
      },
      "outputs": [],
      "source": [
        "# HDB 데이터\n",
        "df_all[df_all['HDB']==True].to_excel(\"/content/drive/MyDrive/PropertyGuru/Rent_preprocessed_1/HDB_Rent_Listings.xlsx\")"
      ]
    },
    {
      "cell_type": "code",
      "execution_count": null,
      "metadata": {
        "id": "NVTed2stBetg"
      },
      "outputs": [],
      "source": [
        "# APT 데이터\n",
        "df_all[df_all['Apartment']==True].to_excel(\"/content/drive/MyDrive/PropertyGuru/Rent_preprocessed_1/Apartment_Rent_Listings.xlsx\")"
      ]
    }
  ],
  "metadata": {
    "accelerator": "GPU",
    "colab": {
      "provenance": [],
      "mount_file_id": "1mESKTlBFXsb0ROQO-hgRynkaqUsFzz20",
      "authorship_tag": "ABX9TyMzF4mF3GYDJvJFcgCDq4/i",
      "include_colab_link": true
    },
    "gpuClass": "standard",
    "kernelspec": {
      "display_name": "Python 3",
      "name": "python3"
    },
    "language_info": {
      "name": "python"
    }
  },
  "nbformat": 4,
  "nbformat_minor": 0
}